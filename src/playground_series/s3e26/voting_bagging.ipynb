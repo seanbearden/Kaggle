{
 "cells": [
  {
   "cell_type": "markdown",
   "source": [
    "# <div style=\"font-family: Cambria; font-weight:bold; letter-spacing: 0px; color:white; font-size:200%; text-align:center;padding:3.0px; background: #6A1B9A; border-bottom: 8px solid #9C27B0\">S3E26 - BOOSTING (VOTING WITH BAGGING)</div>\n",
    "Notebook edited from [dreygaen/ps3e25-cirrhosis-multi-class-solution](https://www.kaggle.com/code/dreygaen/ps3e25-cirrhosis-multi-class-solution)\n",
    "#### <div style= \"font-family: Cambria; font-weight:bold; letter-spacing: 0px; color:white; font-size:150%; text-align:left;padding:3.0px; background: #6A1B9A; border-bottom: 8px solid #9C27B0\" >TABLE OF CONTENTS<br><div>\n",
    "* [IMPORTS](#1)\n",
    "* [LOAD DATA](#2)\n",
    "* [EDA AND VISUALS](#3)\n",
    "* [FEATURE ENGINEERING](#4)\n",
    "* [MODEL](#5)"
   ],
   "metadata": {
    "collapsed": false
   },
   "id": "b28ba63c6c9da87a"
  },
  {
   "cell_type": "markdown",
   "id": "dd184265",
   "metadata": {
    "papermill": {
     "duration": 0.010444,
     "end_time": "2023-12-12T23:31:16.930313",
     "exception": false,
     "start_time": "2023-12-12T23:31:16.919869",
     "status": "completed"
    },
    "tags": []
   },
   "source": [
    "<a id=\"1\"></a>\n",
    "# <div style= \"font-family: Cambria; font-weight:bold; letter-spacing: 0px; color:white; font-size:120%; text-align:left;padding:3.0px; background: #6A1B9A; border-bottom: 8px solid #9C27B0\" > IMPORTS<br><div> "
   ]
  },
  {
   "cell_type": "code",
   "execution_count": 7,
   "id": "d3a39ced",
   "metadata": {
    "papermill": {
     "duration": 18.176717,
     "end_time": "2023-12-12T23:31:35.117511",
     "exception": false,
     "start_time": "2023-12-12T23:31:16.940794",
     "status": "completed"
    },
    "tags": [],
    "ExecuteTime": {
     "end_time": "2023-12-20T23:13:14.270478Z",
     "start_time": "2023-12-20T23:13:14.267280Z"
    }
   },
   "outputs": [],
   "source": [
    "import numpy as np\n",
    "import pandas as pd\n",
    "import matplotlib.pyplot as plt\n",
    "import seaborn as sns\n",
    "from tqdm.auto import tqdm\n",
    "import time\n",
    "import zipfile\n",
    "\n",
    "from category_encoders import OneHotEncoder, MEstimateEncoder, GLMMEncoder, OrdinalEncoder, CatBoostEncoder\n",
    "from sklearn.model_selection import RepeatedStratifiedKFold, StratifiedKFold, GridSearchCV, KFold, cross_val_score\n",
    "from sklearn.ensemble import VotingClassifier, HistGradientBoostingClassifier, BaggingClassifier\n",
    "from sklearn.linear_model import Ridge, Lasso\n",
    "from sklearn.linear_model import QuantileRegressor\n",
    "from sklearn.linear_model import HuberRegressor\n",
    "from sklearn.cross_decomposition import PLSRegression\n",
    "from sklearn.neural_network import MLPRegressor\n",
    "from sklearn.metrics import (median_absolute_error, roc_auc_score, roc_curve, log_loss, ConfusionMatrixDisplay, \n",
    "                             confusion_matrix)\n",
    "from sklearn.metrics.pairwise import euclidean_distances\n",
    "from sklearn.pipeline import Pipeline, make_pipeline\n",
    "from sklearn.naive_bayes import CategoricalNB\n",
    "from sklearn.neighbors import KNeighborsClassifier\n",
    "from sklearn.svm import SVC\n",
    "from sklearn.base import BaseEstimator, TransformerMixin, RegressorMixin, clone\n",
    "from sklearn.preprocessing import FunctionTransformer, StandardScaler, MinMaxScaler, PowerTransformer, LabelEncoder, RobustScaler\n",
    "from sklearn.compose import ColumnTransformer\n",
    "from sklearn.calibration import CalibratedClassifierCV\n",
    "from scipy import stats\n",
    "from scipy.cluster import hierarchy\n",
    "from scipy.cluster.hierarchy import dendrogram, linkage\n",
    "from scipy.spatial.distance import squareform\n",
    "from xgboost import XGBRegressor, XGBClassifier\n",
    "from lightgbm import LGBMRegressor, LGBMClassifier, early_stopping\n",
    "from catboost import CatBoostRegressor, CatBoostClassifier\n",
    "from sklego.linear_model import LADRegression\n",
    "import optuna\n",
    "from itertools import combinations, permutations\n",
    "\n",
    "optuna.logging.set_verbosity(optuna.logging.ERROR)\n",
    "\n",
    "import warnings\n",
    "warnings.filterwarnings('ignore')\n",
    "\n",
    "%matplotlib inline\n",
    "tqdm.pandas()\n",
    "\n",
    "rc = {\n",
    "    'axes.facecolor': '#FFEDED',\n",
    "    'figure.facecolor': '#FFEDED',\n",
    "    'axes.edgecolor': '#000000',\n",
    "    'grid.color': '#EBEBE7',\n",
    "    'font.family': 'serif',\n",
    "    'axes.labelcolor': '#000000',\n",
    "    'xtick.color': '#000000',\n",
    "    'ytick.color': '#000000',\n",
    "    'grid.alpha': 0.4\n",
    "}\n",
    "\n",
    "font = {'family': 'serif',\n",
    "        'color':  'black',\n",
    "        'weight': 'bold',\n",
    "        'size': 16,\n",
    "        }\n",
    "\n",
    "sns.set(rc=rc)\n",
    "\n",
    "from colorama import Style, Fore\n",
    "red = Style.BRIGHT + Fore.RED\n",
    "blu = Style.BRIGHT + Fore.BLUE\n",
    "mgt = Style.BRIGHT + Fore.MAGENTA\n",
    "gld = Style.BRIGHT + Fore.YELLOW\n",
    "res = Style.RESET_ALL\n",
    "bold_start = Style.BRIGHT\n",
    "bold_end = Style.NORMAL\n",
    "\n",
    "target_col = 'Status'"
   ]
  },
  {
   "cell_type": "markdown",
   "id": "d89b97d1",
   "metadata": {
    "papermill": {
     "duration": 0.01047,
     "end_time": "2023-12-12T23:31:35.437832",
     "exception": false,
     "start_time": "2023-12-12T23:31:35.427362",
     "status": "completed"
    },
    "tags": []
   },
   "source": [
    "<a id=\"2\"></a>\n",
    "# <div style= \"font-family: Cambria; font-weight:bold; letter-spacing: 0px; color:white; font-size:120%; text-align:left;padding:3.0px; background: #6A1B9A; border-bottom: 8px solid #9C27B0\" > LOAD DATA<br><div> "
   ]
  },
  {
   "cell_type": "code",
   "execution_count": 8,
   "id": "ed981319",
   "metadata": {
    "papermill": {
     "duration": 0.098096,
     "end_time": "2023-12-12T23:31:35.546307",
     "exception": false,
     "start_time": "2023-12-12T23:31:35.448211",
     "status": "completed"
    },
    "tags": [],
    "ExecuteTime": {
     "end_time": "2023-12-20T23:13:15.266168Z",
     "start_time": "2023-12-20T23:13:15.233630Z"
    }
   },
   "outputs": [],
   "source": [
    "with zipfile.ZipFile('../../../res/data/playground-series-s3e26.zip', 'r') as z:\n",
    "    \n",
    "    with z.open('train.csv') as f:\n",
    "        train = pd.read_csv(f, index_col = 'id')        \n",
    "                \n",
    "    with z.open('test.csv') as f:\n",
    "        test = pd.read_csv(f, index_col = 'id')\n",
    "    \n",
    "    with z.open('sample_submission.csv') as f:\n",
    "        submission = pd.read_csv(f)\n",
    "        \n",
    "with zipfile.ZipFile('../../../res/data/cirrhosis-patient-survival-prediction.zip', 'r') as z:\n",
    "    with z.open('cirrhosis.csv') as f:\n",
    "        orig_data = pd.read_csv(f, index_col = 'ID') "
   ]
  },
  {
   "cell_type": "code",
   "execution_count": 9,
   "id": "338a696a",
   "metadata": {
    "papermill": {
     "duration": 0.039079,
     "end_time": "2023-12-12T23:31:53.666154",
     "exception": false,
     "start_time": "2023-12-12T23:31:53.627075",
     "status": "completed"
    },
    "tags": [],
    "ExecuteTime": {
     "end_time": "2023-12-20T23:13:15.635403Z",
     "start_time": "2023-12-20T23:13:15.627965Z"
    }
   },
   "outputs": [],
   "source": [
    "train = pd.concat([train, orig_data], axis=0, ignore_index=True)\n",
    "cat_cols = train.select_dtypes(include = ['O']).columns"
   ]
  },
  {
   "cell_type": "markdown",
   "id": "0634ffe9",
   "metadata": {
    "papermill": {
     "duration": 0.038044,
     "end_time": "2023-12-12T23:32:04.013659",
     "exception": false,
     "start_time": "2023-12-12T23:32:03.975615",
     "status": "completed"
    },
    "tags": []
   },
   "source": [
    "<a id=\"4\"></a>\n",
    "# <div style= \"font-family: Cambria; font-weight:bold; letter-spacing: 0px; color:white; font-size:120%; text-align:left;padding:3.0px; background: #6A1B9A; border-bottom: 8px solid #9C27B0\" > FEATURE ENGINEERING<br><div> "
   ]
  },
  {
   "cell_type": "code",
   "execution_count": 10,
   "id": "03da7bd7",
   "metadata": {
    "papermill": {
     "duration": 0.070034,
     "end_time": "2023-12-12T23:32:04.122811",
     "exception": false,
     "start_time": "2023-12-12T23:32:04.052777",
     "status": "completed"
    },
    "tags": [],
    "ExecuteTime": {
     "end_time": "2023-12-20T23:13:16.604612Z",
     "start_time": "2023-12-20T23:13:16.573314Z"
    }
   },
   "outputs": [],
   "source": [
    "\n",
    "# original notebook applied fit_transform on training data.\n",
    "train_cat_cols = train.select_dtypes(include=['object']).columns\n",
    "for col in train_cat_cols:\n",
    "    label_encoder = LabelEncoder()\n",
    "    train[col] = label_encoder.fit_transform(train[col])\n",
    "    if col != target_col:\n",
    "        test[col] = label_encoder.transform(test[col])"
   ]
  },
  {
   "cell_type": "code",
   "execution_count": 11,
   "id": "39882115",
   "metadata": {
    "papermill": {
     "duration": 0.050188,
     "end_time": "2023-12-12T23:32:05.341237",
     "exception": false,
     "start_time": "2023-12-12T23:32:05.291049",
     "status": "completed"
    },
    "tags": [],
    "ExecuteTime": {
     "end_time": "2023-12-20T23:13:16.976110Z",
     "start_time": "2023-12-20T23:13:16.966366Z"
    }
   },
   "outputs": [],
   "source": [
    "# train_drop = train.dropna()\n",
    "# X = train_drop.drop([target_col], axis=1)\n",
    "# y = train_drop[target_col]\n",
    "\n",
    "X = train.drop([target_col], axis=1)\n",
    "y = train[target_col]"
   ]
  },
  {
   "cell_type": "markdown",
   "id": "d9746f85",
   "metadata": {
    "papermill": {
     "duration": 0.040465,
     "end_time": "2023-12-12T23:32:05.538750",
     "exception": false,
     "start_time": "2023-12-12T23:32:05.498285",
     "status": "completed"
    },
    "tags": []
   },
   "source": [
    "<a id=\"5\"></a>\n",
    "# <div style= \"font-family: Cambria; font-weight:bold; letter-spacing: 0px; color:white; font-size:120%; text-align:left;padding:3.0px; background: #6A1B9A; border-bottom: 8px solid #9C27B0\" > MODELS<br><div> "
   ]
  },
  {
   "cell_type": "code",
   "execution_count": null,
   "outputs": [
    {
     "name": "stderr",
     "output_type": "stream",
     "text": [
      "/Users/seanbearden/PycharmProjects/Kaggle/venv/lib/python3.10/site-packages/sklearn/metrics/_classification.py:2922: UserWarning: The y_pred values do not sum to one. Starting from 1.5 thiswill result in an error.\n",
      "  warnings.warn(\n",
      "/Users/seanbearden/PycharmProjects/Kaggle/venv/lib/python3.10/site-packages/sklearn/metrics/_classification.py:2922: UserWarning: The y_pred values do not sum to one. Starting from 1.5 thiswill result in an error.\n",
      "  warnings.warn(\n",
      "/Users/seanbearden/PycharmProjects/Kaggle/venv/lib/python3.10/site-packages/sklearn/metrics/_classification.py:2922: UserWarning: The y_pred values do not sum to one. Starting from 1.5 thiswill result in an error.\n",
      "  warnings.warn(\n",
      "/Users/seanbearden/PycharmProjects/Kaggle/venv/lib/python3.10/site-packages/sklearn/metrics/_classification.py:2922: UserWarning: The y_pred values do not sum to one. Starting from 1.5 thiswill result in an error.\n",
      "  warnings.warn(\n",
      "/Users/seanbearden/PycharmProjects/Kaggle/venv/lib/python3.10/site-packages/sklearn/metrics/_classification.py:2922: UserWarning: The y_pred values do not sum to one. Starting from 1.5 thiswill result in an error.\n",
      "  warnings.warn(\n",
      "/Users/seanbearden/PycharmProjects/Kaggle/venv/lib/python3.10/site-packages/sklearn/metrics/_classification.py:2922: UserWarning: The y_pred values do not sum to one. Starting from 1.5 thiswill result in an error.\n",
      "  warnings.warn(\n",
      "/Users/seanbearden/PycharmProjects/Kaggle/venv/lib/python3.10/site-packages/sklearn/metrics/_classification.py:2922: UserWarning: The y_pred values do not sum to one. Starting from 1.5 thiswill result in an error.\n",
      "  warnings.warn(\n",
      "/Users/seanbearden/PycharmProjects/Kaggle/venv/lib/python3.10/site-packages/sklearn/metrics/_classification.py:2922: UserWarning: The y_pred values do not sum to one. Starting from 1.5 thiswill result in an error.\n",
      "  warnings.warn(\n",
      "/Users/seanbearden/PycharmProjects/Kaggle/venv/lib/python3.10/site-packages/sklearn/metrics/_classification.py:2922: UserWarning: The y_pred values do not sum to one. Starting from 1.5 thiswill result in an error.\n",
      "  warnings.warn(\n",
      "/Users/seanbearden/PycharmProjects/Kaggle/venv/lib/python3.10/site-packages/sklearn/metrics/_classification.py:2922: UserWarning: The y_pred values do not sum to one. Starting from 1.5 thiswill result in an error.\n",
      "  warnings.warn(\n",
      "/Users/seanbearden/PycharmProjects/Kaggle/venv/lib/python3.10/site-packages/sklearn/metrics/_classification.py:2922: UserWarning: The y_pred values do not sum to one. Starting from 1.5 thiswill result in an error.\n",
      "  warnings.warn(\n",
      "/Users/seanbearden/PycharmProjects/Kaggle/venv/lib/python3.10/site-packages/sklearn/metrics/_classification.py:2922: UserWarning: The y_pred values do not sum to one. Starting from 1.5 thiswill result in an error.\n",
      "  warnings.warn(\n",
      "/Users/seanbearden/PycharmProjects/Kaggle/venv/lib/python3.10/site-packages/sklearn/metrics/_classification.py:2922: UserWarning: The y_pred values do not sum to one. Starting from 1.5 thiswill result in an error.\n",
      "  warnings.warn(\n",
      "/Users/seanbearden/PycharmProjects/Kaggle/venv/lib/python3.10/site-packages/sklearn/metrics/_classification.py:2922: UserWarning: The y_pred values do not sum to one. Starting from 1.5 thiswill result in an error.\n",
      "  warnings.warn(\n",
      "/Users/seanbearden/PycharmProjects/Kaggle/venv/lib/python3.10/site-packages/sklearn/metrics/_classification.py:2922: UserWarning: The y_pred values do not sum to one. Starting from 1.5 thiswill result in an error.\n",
      "  warnings.warn(\n",
      "/Users/seanbearden/PycharmProjects/Kaggle/venv/lib/python3.10/site-packages/sklearn/metrics/_classification.py:2922: UserWarning: The y_pred values do not sum to one. Starting from 1.5 thiswill result in an error.\n",
      "  warnings.warn(\n",
      "/Users/seanbearden/PycharmProjects/Kaggle/venv/lib/python3.10/site-packages/sklearn/metrics/_classification.py:2922: UserWarning: The y_pred values do not sum to one. Starting from 1.5 thiswill result in an error.\n",
      "  warnings.warn(\n",
      "/Users/seanbearden/PycharmProjects/Kaggle/venv/lib/python3.10/site-packages/sklearn/metrics/_classification.py:2922: UserWarning: The y_pred values do not sum to one. Starting from 1.5 thiswill result in an error.\n",
      "  warnings.warn(\n",
      "/Users/seanbearden/PycharmProjects/Kaggle/venv/lib/python3.10/site-packages/sklearn/metrics/_classification.py:2922: UserWarning: The y_pred values do not sum to one. Starting from 1.5 thiswill result in an error.\n",
      "  warnings.warn(\n",
      "/Users/seanbearden/PycharmProjects/Kaggle/venv/lib/python3.10/site-packages/sklearn/metrics/_classification.py:2922: UserWarning: The y_pred values do not sum to one. Starting from 1.5 thiswill result in an error.\n",
      "  warnings.warn(\n",
      "/Users/seanbearden/PycharmProjects/Kaggle/venv/lib/python3.10/site-packages/sklearn/metrics/_classification.py:2922: UserWarning: The y_pred values do not sum to one. Starting from 1.5 thiswill result in an error.\n",
      "  warnings.warn(\n",
      "/Users/seanbearden/PycharmProjects/Kaggle/venv/lib/python3.10/site-packages/sklearn/metrics/_classification.py:2922: UserWarning: The y_pred values do not sum to one. Starting from 1.5 thiswill result in an error.\n",
      "  warnings.warn(\n",
      "/Users/seanbearden/PycharmProjects/Kaggle/venv/lib/python3.10/site-packages/sklearn/metrics/_classification.py:2922: UserWarning: The y_pred values do not sum to one. Starting from 1.5 thiswill result in an error.\n",
      "  warnings.warn(\n",
      "/Users/seanbearden/PycharmProjects/Kaggle/venv/lib/python3.10/site-packages/sklearn/metrics/_classification.py:2922: UserWarning: The y_pred values do not sum to one. Starting from 1.5 thiswill result in an error.\n",
      "  warnings.warn(\n",
      "/Users/seanbearden/PycharmProjects/Kaggle/venv/lib/python3.10/site-packages/sklearn/metrics/_classification.py:2922: UserWarning: The y_pred values do not sum to one. Starting from 1.5 thiswill result in an error.\n",
      "  warnings.warn(\n",
      "/Users/seanbearden/PycharmProjects/Kaggle/venv/lib/python3.10/site-packages/sklearn/metrics/_classification.py:2922: UserWarning: The y_pred values do not sum to one. Starting from 1.5 thiswill result in an error.\n",
      "  warnings.warn(\n",
      "/Users/seanbearden/PycharmProjects/Kaggle/venv/lib/python3.10/site-packages/sklearn/metrics/_classification.py:2922: UserWarning: The y_pred values do not sum to one. Starting from 1.5 thiswill result in an error.\n",
      "  warnings.warn(\n",
      "/Users/seanbearden/PycharmProjects/Kaggle/venv/lib/python3.10/site-packages/sklearn/metrics/_classification.py:2922: UserWarning: The y_pred values do not sum to one. Starting from 1.5 thiswill result in an error.\n",
      "  warnings.warn(\n",
      "/Users/seanbearden/PycharmProjects/Kaggle/venv/lib/python3.10/site-packages/sklearn/metrics/_classification.py:2922: UserWarning: The y_pred values do not sum to one. Starting from 1.5 thiswill result in an error.\n",
      "  warnings.warn(\n",
      "/Users/seanbearden/PycharmProjects/Kaggle/venv/lib/python3.10/site-packages/sklearn/metrics/_classification.py:2922: UserWarning: The y_pred values do not sum to one. Starting from 1.5 thiswill result in an error.\n",
      "  warnings.warn(\n",
      "/Users/seanbearden/PycharmProjects/Kaggle/venv/lib/python3.10/site-packages/sklearn/metrics/_classification.py:2922: UserWarning: The y_pred values do not sum to one. Starting from 1.5 thiswill result in an error.\n",
      "  warnings.warn(\n",
      "/Users/seanbearden/PycharmProjects/Kaggle/venv/lib/python3.10/site-packages/sklearn/metrics/_classification.py:2922: UserWarning: The y_pred values do not sum to one. Starting from 1.5 thiswill result in an error.\n",
      "  warnings.warn(\n",
      "/Users/seanbearden/PycharmProjects/Kaggle/venv/lib/python3.10/site-packages/sklearn/metrics/_classification.py:2922: UserWarning: The y_pred values do not sum to one. Starting from 1.5 thiswill result in an error.\n",
      "  warnings.warn(\n",
      "/Users/seanbearden/PycharmProjects/Kaggle/venv/lib/python3.10/site-packages/sklearn/metrics/_classification.py:2922: UserWarning: The y_pred values do not sum to one. Starting from 1.5 thiswill result in an error.\n",
      "  warnings.warn(\n",
      "/Users/seanbearden/PycharmProjects/Kaggle/venv/lib/python3.10/site-packages/sklearn/metrics/_classification.py:2922: UserWarning: The y_pred values do not sum to one. Starting from 1.5 thiswill result in an error.\n",
      "  warnings.warn(\n",
      "/Users/seanbearden/PycharmProjects/Kaggle/venv/lib/python3.10/site-packages/sklearn/metrics/_classification.py:2922: UserWarning: The y_pred values do not sum to one. Starting from 1.5 thiswill result in an error.\n",
      "  warnings.warn(\n",
      "/Users/seanbearden/PycharmProjects/Kaggle/venv/lib/python3.10/site-packages/sklearn/metrics/_classification.py:2922: UserWarning: The y_pred values do not sum to one. Starting from 1.5 thiswill result in an error.\n",
      "  warnings.warn(\n",
      "/Users/seanbearden/PycharmProjects/Kaggle/venv/lib/python3.10/site-packages/sklearn/metrics/_classification.py:2922: UserWarning: The y_pred values do not sum to one. Starting from 1.5 thiswill result in an error.\n",
      "  warnings.warn(\n",
      "/Users/seanbearden/PycharmProjects/Kaggle/venv/lib/python3.10/site-packages/sklearn/metrics/_classification.py:2922: UserWarning: The y_pred values do not sum to one. Starting from 1.5 thiswill result in an error.\n",
      "  warnings.warn(\n",
      "/Users/seanbearden/PycharmProjects/Kaggle/venv/lib/python3.10/site-packages/sklearn/metrics/_classification.py:2922: UserWarning: The y_pred values do not sum to one. Starting from 1.5 thiswill result in an error.\n",
      "  warnings.warn(\n",
      "/Users/seanbearden/PycharmProjects/Kaggle/venv/lib/python3.10/site-packages/sklearn/metrics/_classification.py:2922: UserWarning: The y_pred values do not sum to one. Starting from 1.5 thiswill result in an error.\n",
      "  warnings.warn(\n",
      "/Users/seanbearden/PycharmProjects/Kaggle/venv/lib/python3.10/site-packages/sklearn/metrics/_classification.py:2922: UserWarning: The y_pred values do not sum to one. Starting from 1.5 thiswill result in an error.\n",
      "  warnings.warn(\n",
      "/Users/seanbearden/PycharmProjects/Kaggle/venv/lib/python3.10/site-packages/sklearn/metrics/_classification.py:2922: UserWarning: The y_pred values do not sum to one. Starting from 1.5 thiswill result in an error.\n",
      "  warnings.warn(\n",
      "/Users/seanbearden/PycharmProjects/Kaggle/venv/lib/python3.10/site-packages/sklearn/metrics/_classification.py:2922: UserWarning: The y_pred values do not sum to one. Starting from 1.5 thiswill result in an error.\n",
      "  warnings.warn(\n",
      "/Users/seanbearden/PycharmProjects/Kaggle/venv/lib/python3.10/site-packages/sklearn/metrics/_classification.py:2922: UserWarning: The y_pred values do not sum to one. Starting from 1.5 thiswill result in an error.\n",
      "  warnings.warn(\n",
      "/Users/seanbearden/PycharmProjects/Kaggle/venv/lib/python3.10/site-packages/sklearn/metrics/_classification.py:2922: UserWarning: The y_pred values do not sum to one. Starting from 1.5 thiswill result in an error.\n",
      "  warnings.warn(\n",
      "/Users/seanbearden/PycharmProjects/Kaggle/venv/lib/python3.10/site-packages/sklearn/metrics/_classification.py:2922: UserWarning: The y_pred values do not sum to one. Starting from 1.5 thiswill result in an error.\n",
      "  warnings.warn(\n",
      "/Users/seanbearden/PycharmProjects/Kaggle/venv/lib/python3.10/site-packages/sklearn/metrics/_classification.py:2922: UserWarning: The y_pred values do not sum to one. Starting from 1.5 thiswill result in an error.\n",
      "  warnings.warn(\n",
      "/Users/seanbearden/PycharmProjects/Kaggle/venv/lib/python3.10/site-packages/sklearn/metrics/_classification.py:2922: UserWarning: The y_pred values do not sum to one. Starting from 1.5 thiswill result in an error.\n",
      "  warnings.warn(\n",
      "/Users/seanbearden/PycharmProjects/Kaggle/venv/lib/python3.10/site-packages/sklearn/metrics/_classification.py:2922: UserWarning: The y_pred values do not sum to one. Starting from 1.5 thiswill result in an error.\n",
      "  warnings.warn(\n",
      "/Users/seanbearden/PycharmProjects/Kaggle/venv/lib/python3.10/site-packages/sklearn/metrics/_classification.py:2922: UserWarning: The y_pred values do not sum to one. Starting from 1.5 thiswill result in an error.\n",
      "  warnings.warn(\n",
      "/Users/seanbearden/PycharmProjects/Kaggle/venv/lib/python3.10/site-packages/sklearn/metrics/_classification.py:2922: UserWarning: The y_pred values do not sum to one. Starting from 1.5 thiswill result in an error.\n",
      "  warnings.warn(\n",
      "/Users/seanbearden/PycharmProjects/Kaggle/venv/lib/python3.10/site-packages/sklearn/metrics/_classification.py:2922: UserWarning: The y_pred values do not sum to one. Starting from 1.5 thiswill result in an error.\n",
      "  warnings.warn(\n",
      "/Users/seanbearden/PycharmProjects/Kaggle/venv/lib/python3.10/site-packages/sklearn/metrics/_classification.py:2922: UserWarning: The y_pred values do not sum to one. Starting from 1.5 thiswill result in an error.\n",
      "  warnings.warn(\n",
      "/Users/seanbearden/PycharmProjects/Kaggle/venv/lib/python3.10/site-packages/sklearn/metrics/_classification.py:2922: UserWarning: The y_pred values do not sum to one. Starting from 1.5 thiswill result in an error.\n",
      "  warnings.warn(\n",
      "/Users/seanbearden/PycharmProjects/Kaggle/venv/lib/python3.10/site-packages/sklearn/metrics/_classification.py:2922: UserWarning: The y_pred values do not sum to one. Starting from 1.5 thiswill result in an error.\n",
      "  warnings.warn(\n",
      "/Users/seanbearden/PycharmProjects/Kaggle/venv/lib/python3.10/site-packages/sklearn/metrics/_classification.py:2922: UserWarning: The y_pred values do not sum to one. Starting from 1.5 thiswill result in an error.\n",
      "  warnings.warn(\n",
      "/Users/seanbearden/PycharmProjects/Kaggle/venv/lib/python3.10/site-packages/sklearn/metrics/_classification.py:2922: UserWarning: The y_pred values do not sum to one. Starting from 1.5 thiswill result in an error.\n",
      "  warnings.warn(\n",
      "/Users/seanbearden/PycharmProjects/Kaggle/venv/lib/python3.10/site-packages/sklearn/metrics/_classification.py:2922: UserWarning: The y_pred values do not sum to one. Starting from 1.5 thiswill result in an error.\n",
      "  warnings.warn(\n",
      "/Users/seanbearden/PycharmProjects/Kaggle/venv/lib/python3.10/site-packages/sklearn/metrics/_classification.py:2922: UserWarning: The y_pred values do not sum to one. Starting from 1.5 thiswill result in an error.\n",
      "  warnings.warn(\n",
      "/Users/seanbearden/PycharmProjects/Kaggle/venv/lib/python3.10/site-packages/sklearn/metrics/_classification.py:2922: UserWarning: The y_pred values do not sum to one. Starting from 1.5 thiswill result in an error.\n",
      "  warnings.warn(\n",
      "/Users/seanbearden/PycharmProjects/Kaggle/venv/lib/python3.10/site-packages/sklearn/metrics/_classification.py:2922: UserWarning: The y_pred values do not sum to one. Starting from 1.5 thiswill result in an error.\n",
      "  warnings.warn(\n",
      "/Users/seanbearden/PycharmProjects/Kaggle/venv/lib/python3.10/site-packages/sklearn/metrics/_classification.py:2922: UserWarning: The y_pred values do not sum to one. Starting from 1.5 thiswill result in an error.\n",
      "  warnings.warn(\n",
      "/Users/seanbearden/PycharmProjects/Kaggle/venv/lib/python3.10/site-packages/sklearn/metrics/_classification.py:2922: UserWarning: The y_pred values do not sum to one. Starting from 1.5 thiswill result in an error.\n",
      "  warnings.warn(\n",
      "/Users/seanbearden/PycharmProjects/Kaggle/venv/lib/python3.10/site-packages/sklearn/metrics/_classification.py:2922: UserWarning: The y_pred values do not sum to one. Starting from 1.5 thiswill result in an error.\n",
      "  warnings.warn(\n",
      "/Users/seanbearden/PycharmProjects/Kaggle/venv/lib/python3.10/site-packages/sklearn/metrics/_classification.py:2922: UserWarning: The y_pred values do not sum to one. Starting from 1.5 thiswill result in an error.\n",
      "  warnings.warn(\n",
      "/Users/seanbearden/PycharmProjects/Kaggle/venv/lib/python3.10/site-packages/sklearn/metrics/_classification.py:2922: UserWarning: The y_pred values do not sum to one. Starting from 1.5 thiswill result in an error.\n",
      "  warnings.warn(\n",
      "/Users/seanbearden/PycharmProjects/Kaggle/venv/lib/python3.10/site-packages/sklearn/metrics/_classification.py:2922: UserWarning: The y_pred values do not sum to one. Starting from 1.5 thiswill result in an error.\n",
      "  warnings.warn(\n",
      "/Users/seanbearden/PycharmProjects/Kaggle/venv/lib/python3.10/site-packages/sklearn/metrics/_classification.py:2922: UserWarning: The y_pred values do not sum to one. Starting from 1.5 thiswill result in an error.\n",
      "  warnings.warn(\n",
      "/Users/seanbearden/PycharmProjects/Kaggle/venv/lib/python3.10/site-packages/sklearn/metrics/_classification.py:2922: UserWarning: The y_pred values do not sum to one. Starting from 1.5 thiswill result in an error.\n",
      "  warnings.warn(\n",
      "/Users/seanbearden/PycharmProjects/Kaggle/venv/lib/python3.10/site-packages/sklearn/metrics/_classification.py:2922: UserWarning: The y_pred values do not sum to one. Starting from 1.5 thiswill result in an error.\n",
      "  warnings.warn(\n",
      "/Users/seanbearden/PycharmProjects/Kaggle/venv/lib/python3.10/site-packages/sklearn/metrics/_classification.py:2922: UserWarning: The y_pred values do not sum to one. Starting from 1.5 thiswill result in an error.\n",
      "  warnings.warn(\n",
      "/Users/seanbearden/PycharmProjects/Kaggle/venv/lib/python3.10/site-packages/sklearn/metrics/_classification.py:2922: UserWarning: The y_pred values do not sum to one. Starting from 1.5 thiswill result in an error.\n",
      "  warnings.warn(\n",
      "/Users/seanbearden/PycharmProjects/Kaggle/venv/lib/python3.10/site-packages/sklearn/metrics/_classification.py:2922: UserWarning: The y_pred values do not sum to one. Starting from 1.5 thiswill result in an error.\n",
      "  warnings.warn(\n",
      "/Users/seanbearden/PycharmProjects/Kaggle/venv/lib/python3.10/site-packages/sklearn/metrics/_classification.py:2922: UserWarning: The y_pred values do not sum to one. Starting from 1.5 thiswill result in an error.\n",
      "  warnings.warn(\n",
      "/Users/seanbearden/PycharmProjects/Kaggle/venv/lib/python3.10/site-packages/sklearn/metrics/_classification.py:2922: UserWarning: The y_pred values do not sum to one. Starting from 1.5 thiswill result in an error.\n",
      "  warnings.warn(\n",
      "/Users/seanbearden/PycharmProjects/Kaggle/venv/lib/python3.10/site-packages/sklearn/metrics/_classification.py:2922: UserWarning: The y_pred values do not sum to one. Starting from 1.5 thiswill result in an error.\n",
      "  warnings.warn(\n",
      "/Users/seanbearden/PycharmProjects/Kaggle/venv/lib/python3.10/site-packages/sklearn/metrics/_classification.py:2922: UserWarning: The y_pred values do not sum to one. Starting from 1.5 thiswill result in an error.\n",
      "  warnings.warn(\n",
      "/Users/seanbearden/PycharmProjects/Kaggle/venv/lib/python3.10/site-packages/sklearn/metrics/_classification.py:2922: UserWarning: The y_pred values do not sum to one. Starting from 1.5 thiswill result in an error.\n",
      "  warnings.warn(\n",
      "/Users/seanbearden/PycharmProjects/Kaggle/venv/lib/python3.10/site-packages/sklearn/metrics/_classification.py:2922: UserWarning: The y_pred values do not sum to one. Starting from 1.5 thiswill result in an error.\n",
      "  warnings.warn(\n",
      "/Users/seanbearden/PycharmProjects/Kaggle/venv/lib/python3.10/site-packages/sklearn/metrics/_classification.py:2922: UserWarning: The y_pred values do not sum to one. Starting from 1.5 thiswill result in an error.\n",
      "  warnings.warn(\n",
      "/Users/seanbearden/PycharmProjects/Kaggle/venv/lib/python3.10/site-packages/sklearn/metrics/_classification.py:2922: UserWarning: The y_pred values do not sum to one. Starting from 1.5 thiswill result in an error.\n",
      "  warnings.warn(\n",
      "/Users/seanbearden/PycharmProjects/Kaggle/venv/lib/python3.10/site-packages/sklearn/metrics/_classification.py:2922: UserWarning: The y_pred values do not sum to one. Starting from 1.5 thiswill result in an error.\n",
      "  warnings.warn(\n",
      "/Users/seanbearden/PycharmProjects/Kaggle/venv/lib/python3.10/site-packages/sklearn/metrics/_classification.py:2922: UserWarning: The y_pred values do not sum to one. Starting from 1.5 thiswill result in an error.\n",
      "  warnings.warn(\n",
      "/Users/seanbearden/PycharmProjects/Kaggle/venv/lib/python3.10/site-packages/sklearn/metrics/_classification.py:2922: UserWarning: The y_pred values do not sum to one. Starting from 1.5 thiswill result in an error.\n",
      "  warnings.warn(\n",
      "/Users/seanbearden/PycharmProjects/Kaggle/venv/lib/python3.10/site-packages/sklearn/metrics/_classification.py:2922: UserWarning: The y_pred values do not sum to one. Starting from 1.5 thiswill result in an error.\n",
      "  warnings.warn(\n",
      "/Users/seanbearden/PycharmProjects/Kaggle/venv/lib/python3.10/site-packages/sklearn/metrics/_classification.py:2922: UserWarning: The y_pred values do not sum to one. Starting from 1.5 thiswill result in an error.\n",
      "  warnings.warn(\n",
      "/Users/seanbearden/PycharmProjects/Kaggle/venv/lib/python3.10/site-packages/sklearn/metrics/_classification.py:2922: UserWarning: The y_pred values do not sum to one. Starting from 1.5 thiswill result in an error.\n",
      "  warnings.warn(\n",
      "/Users/seanbearden/PycharmProjects/Kaggle/venv/lib/python3.10/site-packages/sklearn/metrics/_classification.py:2922: UserWarning: The y_pred values do not sum to one. Starting from 1.5 thiswill result in an error.\n",
      "  warnings.warn(\n",
      "/Users/seanbearden/PycharmProjects/Kaggle/venv/lib/python3.10/site-packages/sklearn/metrics/_classification.py:2922: UserWarning: The y_pred values do not sum to one. Starting from 1.5 thiswill result in an error.\n",
      "  warnings.warn(\n",
      "/Users/seanbearden/PycharmProjects/Kaggle/venv/lib/python3.10/site-packages/sklearn/metrics/_classification.py:2922: UserWarning: The y_pred values do not sum to one. Starting from 1.5 thiswill result in an error.\n",
      "  warnings.warn(\n",
      "/Users/seanbearden/PycharmProjects/Kaggle/venv/lib/python3.10/site-packages/sklearn/metrics/_classification.py:2922: UserWarning: The y_pred values do not sum to one. Starting from 1.5 thiswill result in an error.\n",
      "  warnings.warn(\n",
      "/Users/seanbearden/PycharmProjects/Kaggle/venv/lib/python3.10/site-packages/sklearn/metrics/_classification.py:2922: UserWarning: The y_pred values do not sum to one. Starting from 1.5 thiswill result in an error.\n",
      "  warnings.warn(\n",
      "/Users/seanbearden/PycharmProjects/Kaggle/venv/lib/python3.10/site-packages/sklearn/metrics/_classification.py:2922: UserWarning: The y_pred values do not sum to one. Starting from 1.5 thiswill result in an error.\n",
      "  warnings.warn(\n",
      "/Users/seanbearden/PycharmProjects/Kaggle/venv/lib/python3.10/site-packages/sklearn/metrics/_classification.py:2922: UserWarning: The y_pred values do not sum to one. Starting from 1.5 thiswill result in an error.\n",
      "  warnings.warn(\n",
      "/Users/seanbearden/PycharmProjects/Kaggle/venv/lib/python3.10/site-packages/sklearn/metrics/_classification.py:2922: UserWarning: The y_pred values do not sum to one. Starting from 1.5 thiswill result in an error.\n",
      "  warnings.warn(\n",
      "/Users/seanbearden/PycharmProjects/Kaggle/venv/lib/python3.10/site-packages/sklearn/metrics/_classification.py:2922: UserWarning: The y_pred values do not sum to one. Starting from 1.5 thiswill result in an error.\n",
      "  warnings.warn(\n",
      "/Users/seanbearden/PycharmProjects/Kaggle/venv/lib/python3.10/site-packages/sklearn/metrics/_classification.py:2922: UserWarning: The y_pred values do not sum to one. Starting from 1.5 thiswill result in an error.\n",
      "  warnings.warn(\n",
      "/Users/seanbearden/PycharmProjects/Kaggle/venv/lib/python3.10/site-packages/sklearn/metrics/_classification.py:2922: UserWarning: The y_pred values do not sum to one. Starting from 1.5 thiswill result in an error.\n",
      "  warnings.warn(\n",
      "/Users/seanbearden/PycharmProjects/Kaggle/venv/lib/python3.10/site-packages/sklearn/metrics/_classification.py:2922: UserWarning: The y_pred values do not sum to one. Starting from 1.5 thiswill result in an error.\n",
      "  warnings.warn(\n",
      "/Users/seanbearden/PycharmProjects/Kaggle/venv/lib/python3.10/site-packages/sklearn/metrics/_classification.py:2922: UserWarning: The y_pred values do not sum to one. Starting from 1.5 thiswill result in an error.\n",
      "  warnings.warn(\n",
      "/Users/seanbearden/PycharmProjects/Kaggle/venv/lib/python3.10/site-packages/sklearn/metrics/_classification.py:2922: UserWarning: The y_pred values do not sum to one. Starting from 1.5 thiswill result in an error.\n",
      "  warnings.warn(\n",
      "/Users/seanbearden/PycharmProjects/Kaggle/venv/lib/python3.10/site-packages/sklearn/metrics/_classification.py:2922: UserWarning: The y_pred values do not sum to one. Starting from 1.5 thiswill result in an error.\n",
      "  warnings.warn(\n",
      "/Users/seanbearden/PycharmProjects/Kaggle/venv/lib/python3.10/site-packages/sklearn/metrics/_classification.py:2922: UserWarning: The y_pred values do not sum to one. Starting from 1.5 thiswill result in an error.\n",
      "  warnings.warn(\n",
      "/Users/seanbearden/PycharmProjects/Kaggle/venv/lib/python3.10/site-packages/sklearn/metrics/_classification.py:2922: UserWarning: The y_pred values do not sum to one. Starting from 1.5 thiswill result in an error.\n",
      "  warnings.warn(\n",
      "/Users/seanbearden/PycharmProjects/Kaggle/venv/lib/python3.10/site-packages/sklearn/metrics/_classification.py:2922: UserWarning: The y_pred values do not sum to one. Starting from 1.5 thiswill result in an error.\n",
      "  warnings.warn(\n",
      "/Users/seanbearden/PycharmProjects/Kaggle/venv/lib/python3.10/site-packages/sklearn/metrics/_classification.py:2922: UserWarning: The y_pred values do not sum to one. Starting from 1.5 thiswill result in an error.\n",
      "  warnings.warn(\n",
      "/Users/seanbearden/PycharmProjects/Kaggle/venv/lib/python3.10/site-packages/sklearn/metrics/_classification.py:2922: UserWarning: The y_pred values do not sum to one. Starting from 1.5 thiswill result in an error.\n",
      "  warnings.warn(\n",
      "/Users/seanbearden/PycharmProjects/Kaggle/venv/lib/python3.10/site-packages/sklearn/metrics/_classification.py:2922: UserWarning: The y_pred values do not sum to one. Starting from 1.5 thiswill result in an error.\n",
      "  warnings.warn(\n",
      "/Users/seanbearden/PycharmProjects/Kaggle/venv/lib/python3.10/site-packages/sklearn/metrics/_classification.py:2922: UserWarning: The y_pred values do not sum to one. Starting from 1.5 thiswill result in an error.\n",
      "  warnings.warn(\n",
      "/Users/seanbearden/PycharmProjects/Kaggle/venv/lib/python3.10/site-packages/sklearn/metrics/_classification.py:2922: UserWarning: The y_pred values do not sum to one. Starting from 1.5 thiswill result in an error.\n",
      "  warnings.warn(\n",
      "/Users/seanbearden/PycharmProjects/Kaggle/venv/lib/python3.10/site-packages/sklearn/metrics/_classification.py:2922: UserWarning: The y_pred values do not sum to one. Starting from 1.5 thiswill result in an error.\n",
      "  warnings.warn(\n",
      "/Users/seanbearden/PycharmProjects/Kaggle/venv/lib/python3.10/site-packages/sklearn/metrics/_classification.py:2922: UserWarning: The y_pred values do not sum to one. Starting from 1.5 thiswill result in an error.\n",
      "  warnings.warn(\n",
      "/Users/seanbearden/PycharmProjects/Kaggle/venv/lib/python3.10/site-packages/sklearn/metrics/_classification.py:2922: UserWarning: The y_pred values do not sum to one. Starting from 1.5 thiswill result in an error.\n",
      "  warnings.warn(\n",
      "/Users/seanbearden/PycharmProjects/Kaggle/venv/lib/python3.10/site-packages/sklearn/metrics/_classification.py:2922: UserWarning: The y_pred values do not sum to one. Starting from 1.5 thiswill result in an error.\n",
      "  warnings.warn(\n",
      "/Users/seanbearden/PycharmProjects/Kaggle/venv/lib/python3.10/site-packages/sklearn/metrics/_classification.py:2922: UserWarning: The y_pred values do not sum to one. Starting from 1.5 thiswill result in an error.\n",
      "  warnings.warn(\n",
      "/Users/seanbearden/PycharmProjects/Kaggle/venv/lib/python3.10/site-packages/sklearn/metrics/_classification.py:2922: UserWarning: The y_pred values do not sum to one. Starting from 1.5 thiswill result in an error.\n",
      "  warnings.warn(\n",
      "/Users/seanbearden/PycharmProjects/Kaggle/venv/lib/python3.10/site-packages/sklearn/metrics/_classification.py:2922: UserWarning: The y_pred values do not sum to one. Starting from 1.5 thiswill result in an error.\n",
      "  warnings.warn(\n",
      "/Users/seanbearden/PycharmProjects/Kaggle/venv/lib/python3.10/site-packages/sklearn/metrics/_classification.py:2922: UserWarning: The y_pred values do not sum to one. Starting from 1.5 thiswill result in an error.\n",
      "  warnings.warn(\n",
      "/Users/seanbearden/PycharmProjects/Kaggle/venv/lib/python3.10/site-packages/sklearn/metrics/_classification.py:2922: UserWarning: The y_pred values do not sum to one. Starting from 1.5 thiswill result in an error.\n",
      "  warnings.warn(\n"
     ]
    }
   ],
   "source": [
    "\n",
    "xgb_params = {\n",
    "    'objective': 'multi_logloss', \n",
    "    'max_depth': 3, \n",
    "    'learning_rate': 0.010009541152584345, \n",
    "    'n_estimators': 2600,\n",
    "    'min_child_weight': 9, \n",
    "    # 'colsample_bytree': 0.3292032860985591, \n",
    "    # 'reg_alpha': 0.10626128775335533, \n",
    "    # 'reg_lambda': 0.624196407787772, \n",
    "    'tree_method': 'hist', \n",
    "    'eval_metric': 'mlogloss',\n",
    "    # 'subsample': 0.47524425009347593\n",
    "}\n",
    "\n",
    "cat_params = {\n",
    "    'iterations':1000,\n",
    "    'depth': 20,\n",
    "    'learning_rate': 0.138112945166,\n",
    "    'l2_leaf_reg': 4.0368544113430485,\n",
    "    'random_strength': 0.1279482215776108,\n",
    "    'max_bin': 238,\n",
    "    'od_wait': 49,\n",
    "    'one_hot_max_size': 39,\n",
    "    'grow_policy': 'Lossguide',\n",
    "    'bootstrap_type': 'Bernoulli',\n",
    "    'od_type': 'IncToDec', #'Iter',    \n",
    "    'min_data_in_leaf': 6,\n",
    "    'loss_function': 'MultiClass',\n",
    "    'verbose': False,\n",
    "}\n",
    "\n",
    "lgbm_params = {\n",
    "    'objective': 'multiclass', #'multi_logloss', \n",
    "    'num_class': 3,\n",
    "    'metric': 'multi_logloss',\n",
    "    'max_depth': 21, \n",
    "    'min_child_samples': 14, \n",
    "    'learning_rate': 0.034869481921747415, \n",
    "    'n_estimators': 250, \n",
    "    'min_child_weight': 9, \n",
    "    'colsample_bytree': 0.1702910221565107, \n",
    "    'reg_alpha': 0.10626128775335533, \n",
    "    'reg_lambda': 0.624196407787772, \n",
    "    'verbose': -1,\n",
    "\n",
    "}\n",
    "\n",
    "hgb_params = {\n",
    "    # 'learning_rate': 1,\n",
    "    'max_iter': 100,\n",
    "    'max_leaf_nodes': 31,\n",
    "    'max_depth': None,\n",
    "    'min_samples_leaf': 20,\n",
    "    'l2_regularization': 0,\n",
    "    'max_bins': 255,\n",
    "    'categorical_features': [col for col in cat_cols if col != 'Status'],\n",
    "    'monotonic_cst': None,\n",
    "    'interaction_cst': None,\n",
    "    'scoring': 'log_loss',\n",
    "    'validation_fraction': 0.1,\n",
    "    'class_weight': None,\n",
    "}\n",
    "N_FOLDS = 5\n",
    "N_REPEATS = 3\n",
    "random_state = 5425\n",
    "k_fold = RepeatedStratifiedKFold(n_splits=N_FOLDS, n_repeats=N_REPEATS, random_state=random_state)\n",
    "\n",
    "def objective(trial):\n",
    "    \n",
    "    # lgbm_max_depth=trial.suggest_int(\"lgbm_max_depth_uni\", 15, 25, log=False)\n",
    "    lgbm_max_depth = lgbm_params['max_depth']\n",
    "    # List of classifiers\n",
    "    estimators = [\n",
    "        # ('HistGradientBoostingClassifier', HistGradientBoostingClassifier(\n",
    "        #     learning_rate=trial.suggest_float(\"hgb_learning_rate\", 0.01, 0.25, log=False),\n",
    "        #     random_state=random_state,\n",
    "        #     **hgb_params\n",
    "        #     )),\n",
    "        (\"XGBClassifier\", XGBClassifier(\n",
    "            # max_depth=trial.suggest_int(\"xgb_max_depth_uni\", 3, 7, log=False),\n",
    "            # min_child_weight=trial.suggest_int(\"xgb_min_child_weight_uni\", 1, 20, log=False),\n",
    "            # learning_rate=trial.suggest_float(\"xgb_learning_rate_uni\", 0.005, 0.015, log=False),\n",
    "            # n_estimators=trial.suggest_int(\"xgb_n_estimators_uni\", 2500, 4000, step=100),\n",
    "            reg_alpha=trial.suggest_loguniform(\"xgb_reg_alpha\", 0.01, 1),\n",
    "            reg_lambda=trial.suggest_loguniform(\"xgb_reg_lambda\", 0.01, 1),    \n",
    "            subsample=trial.suggest_float(\"xgb_subsample\", 0.4, 0.45, log=False),\n",
    "            colsample_bytree=trial.suggest_float(\"xgb_colsample_bytree\", 0.4, 0.5, log=False),\n",
    "            random_state=random_state,\n",
    "            **xgb_params\n",
    "            )),\n",
    "        (\"CatBoostClassifier\", CatBoostClassifier(\n",
    "            # depth=trial.suggest_int(\"cat_depth_uni\", 15, 25, step=5),\n",
    "            # max_depth=trial.suggest_int(\"cat_max_depth_uni\", 8, 12,  log=False),\n",
    "            # max_bin=trial.suggest_int(\"cat_max_bin_uni\", 50, 500, log=False),\n",
    "            # learning_rate=trial.suggest_float(\"cat_learning_rate_uni\", 0.1, 0.5, log=False),\n",
    "            # iterations=trial.suggest_int(\"cat_iterations_uni\", 300, 600, log=False),\n",
    "            # min_data_in_leaf=trial.suggest_int(\"cat_min_data_in_leaf_uni\", 5, 15, log=False),\n",
    "            random_seed=random_state,\n",
    "            **cat_params\n",
    "            )),\n",
    "        (\"LGBMClassifier\", LGBMClassifier(\n",
    "            # max_depth=lgbm_max_depth,\n",
    "            num_leaves=2**lgbm_max_depth - 1 if 2**lgbm_max_depth - 1 <= 131072 else 131072,\n",
    "            # min_child_samples=trial.suggest_int(\"lgbm_min_child_samples_uni\", 10, 30, log=False),\n",
    "            # min_gain_to_split=trial.suggest_float(\"lgbm_min_gain_to_split\", 0.0, 0.1, step=0.01),\n",
    "            # learning_rate=trial.suggest_float(\"lgbm_learning_rate_uni\", 0.02, 0.04, log=False),\n",
    "            # n_estimators=trial.suggest_int(\"lgbm_n_estimators_uni\", 250, 300, step=5),\n",
    "            # colsample_bytree=trial.suggest_float(\"lgbm_colsample_bytree\", 2/18, 4/18, log=False),\n",
    "            random_state=random_state,\n",
    "            **lgbm_params\n",
    "            )),\n",
    "\n",
    "    ]\n",
    "    # voting = trial.suggest_categorical(\"voting\", ['soft', 'hard'])\n",
    "    # hgb_weight = trial.suggest_float(\"hgb_weight_log\", 0.5, 2.5, log=True)\n",
    "    xgb_weight = trial.suggest_float(\"xgb_weight\", 1, 5, log=True)\n",
    "    cat_weight = trial.suggest_float(\"cat_weight\", 1, 5, log=True)\n",
    "    lgbm_weight = trial.suggest_float(\"lgbm_weight\", 7.5, 10, log=True)\n",
    "\n",
    "    classifier = BaggingClassifier(VotingClassifier(estimators=estimators, voting='soft', weights=[\n",
    "        # hgb_weight, \n",
    "        xgb_weight, cat_weight, lgbm_weight, ]), n_estimators=trial.suggest_int('bag_n_estimators', 8, 25, log=False))\n",
    "    \n",
    "    score = cross_val_score(classifier, X, y, n_jobs=-1, cv=k_fold, scoring='neg_log_loss', verbose=False)\n",
    "    accuracy = score.mean()\n",
    "    return accuracy\n",
    "\n",
    "study = optuna.create_study(\n",
    "    storage=\"sqlite:///db.sqlite3\",\n",
    "    study_name=\"voting-bagging-v1-1\",\n",
    "    direction='maximize',\n",
    "    load_if_exists=True,\n",
    ")\n",
    "study.optimize(objective, n_trials=100)\n",
    "\n",
    "print(study.best_trial)\n"
   ],
   "metadata": {
    "collapsed": false,
    "is_executing": true,
    "ExecuteTime": {
     "start_time": "2023-12-21T14:20:17.940082Z"
    }
   },
   "id": "e132a5f518fdcd42"
  },
  {
   "cell_type": "code",
   "execution_count": 15,
   "outputs": [
    {
     "data": {
      "text/plain": "<Figure size 500x500 with 1 Axes>",
      "image/png": "[encoded data removed]"
     },
     "metadata": {},
     "output_type": "display_data"
    }
   ],
   "source": [
    "random_state = random_state\n",
    "\n",
    "best_params = study.best_params\n",
    "\n",
    "# lgbm_max_depth = best_params['lgbm_max_depth_uni']\n",
    "lgbm_max_depth = lgbm_params['max_depth']\n",
    "\n",
    "# List of classifiers\n",
    "estimators = [\n",
    "    # ('HistGradientBoostingClassifier', HistGradientBoostingClassifier(\n",
    "    #         learning_rate=best_params[\"hgb_learning_rate\"],\n",
    "    #         random_state=random_state,\n",
    "    #         **hgb_params\n",
    "    #         )),\n",
    "    (\"XGBClassifier\", XGBClassifier(\n",
    "            # max_depth=best_params[\"xgb_max_depth_uni\"],\n",
    "            # min_child_weight=best_params[\"xgb_min_child_weight_uni\"],\n",
    "            # learning_rate=best_params[\"xgb_learning_rate_uni\"],\n",
    "            # n_estimators=best_params[\"xgb_n_estimators_uni\"],\n",
    "            reg_alpha=best_params[\"xgb_reg_alpha\"],\n",
    "            reg_lambda=best_params[\"xgb_reg_lambda\"], \n",
    "            subsample=best_params[\"xgb_subsample\"],\n",
    "            colsample_bytree=best_params[\"xgb_colsample_bytree\"],\n",
    "            random_state=random_state,\n",
    "            **xgb_params\n",
    "        )),\n",
    "    (\"CatBoostClassifier\", CatBoostClassifier(\n",
    "            # depth=best_params[\"cat_depth_uni\"],\n",
    "            # max_depth=best_params[\"cat_max_depth_uni\"],\n",
    "            # max_bin=best_params[\"cat_max_bin_uni\"],\n",
    "            # learning_rate=best_params[\"cat_learning_rate_uni\"],\n",
    "            # iterations=best_params[\"cat_iterations_uni\"],\n",
    "            # min_data_in_leaf=best_params['cat_min_data_in_leaf_uni'],\n",
    "            random_seed=random_state,\n",
    "            **cat_params\n",
    "        )),\n",
    "    (\"LGBMClassifier\", LGBMClassifier(\n",
    "            # max_depth=lgbm_max_depth,\n",
    "            num_leaves=2**lgbm_max_depth - 1 if 2**lgbm_max_depth - 1 <= 131072 else 131072,\n",
    "            # min_child_samples=best_params[\"lgbm_min_child_samples_uni\"],\n",
    "            # min_gain_to_split=best_params[\"lgbm_min_gain_to_split\"],\n",
    "            # learning_rate=best_params[\"lgbm_learning_rate_uni\"],\n",
    "            # n_estimators=best_params[\"lgbm_n_estimators_uni\"],\n",
    "            # colsample_bytree=best_params[\"lgbm_colsample_bytree\"],\n",
    "            random_state=random_state,\n",
    "            **lgbm_params\n",
    "        )),\n",
    "]\n",
    "\n",
    "# hgb_weight = best_params[\"hgb_weight_log\"]\n",
    "xgb_weight = best_params[\"xgb_weight\"]\n",
    "cat_weight = best_params[\"cat_weight\"]\n",
    "lgbm_weight = best_params[\"lgbm_weight\"]\n",
    "\n",
    "classifier = BaggingClassifier(VotingClassifier(estimators=estimators, voting='soft', weights=[#hgb_weight, \n",
    "    xgb_weight, cat_weight, lgbm_weight]), n_estimators=best_params['bag_n_estimators'])\n",
    "\n",
    "classifier.fit(X, y)\n",
    "\n",
    "y_pred_cm = classifier.predict(X)\n",
    "\n",
    "fig, ax = plt.subplots(figsize=(5, 5))\n",
    "cm = confusion_matrix(y, y_pred_cm, labels=classifier.classes_)\n",
    "\n",
    "disp = ConfusionMatrixDisplay(\n",
    "    confusion_matrix=cm, display_labels=classifier.classes_)\n",
    "disp.plot(cmap=plt.cm.Reds, ax= ax, \n",
    "colorbar=False, text_kw={\"fontsize\":12})\n",
    "plt.show()"
   ],
   "metadata": {
    "collapsed": false,
    "ExecuteTime": {
     "end_time": "2023-12-21T14:17:08.799118Z",
     "start_time": "2023-12-21T14:12:40.768438Z"
    }
   },
   "id": "f1047bca47e79e34"
  },
  {
   "cell_type": "code",
   "execution_count": 16,
   "outputs": [
    {
     "name": "stdout",
     "output_type": "stream",
     "text": [
      "log loss: 0.22966190879702414\n"
     ]
    }
   ],
   "source": [
    "y_pred = classifier.predict_proba(X)\n",
    "print(f'log loss: {log_loss(y, y_pred)}')"
   ],
   "metadata": {
    "collapsed": false,
    "ExecuteTime": {
     "end_time": "2023-12-21T14:17:10.807687Z",
     "start_time": "2023-12-21T14:17:08.785904Z"
    }
   },
   "id": "812e02e1da8e76f"
  },
  {
   "cell_type": "markdown",
   "source": [
    "<table style=\"border: 2px solid purple;\">\n",
    "  <tr>\n",
    "    <th style=\"border: 2px solid purple;\">Version</th>\n",
    "    <th style=\"border: 2px solid purple;\">Log Loss</th>\n",
    "    <th style=\"border: 2px solid purple;\">Public Score</th>\n",
    "    <th style=\"border: 2px solid purple;\">Note</th>\n",
    "  </tr>\n",
    "  <tr>\n",
    "    <td style=\"border: 2px solid purple;\">v1-0</td>\n",
    "    <td style=\"border: 2px solid purple;\">0.22966190879702414</td>\n",
    "    <td style=\"border: 2px solid purple;\">0.39754</td>\n",
    "    <td style=\"border: 2px solid purple;\"></td>\n",
    "  </tr>\n",
    "</table>\n",
    "\n"
   ],
   "metadata": {
    "collapsed": false
   },
   "id": "990eabcf22a30cf1"
  },
  {
   "cell_type": "markdown",
   "id": "de15184e",
   "metadata": {
    "papermill": {
     "duration": 0.040391,
     "end_time": "2023-12-12T23:36:14.447401",
     "exception": false,
     "start_time": "2023-12-12T23:36:14.407010",
     "status": "completed"
    },
    "tags": []
   },
   "source": [
    "<a id=\"6\"></a>\n",
    "# <div style= \"font-family: Cambria; font-weight:bold; letter-spacing: 0px; color:white; font-size:120%; text-align:left;padding:3.0px; background: #6A1B9A; border-bottom: 8px solid #9C27B0\" > SUBMISSION<br><div> "
   ]
  },
  {
   "cell_type": "code",
   "execution_count": 17,
   "outputs": [],
   "source": [
    "pred = classifier.predict_proba(test)\n",
    "\n",
    "submission['Status_C'] =  pred[:, 0]\n",
    "submission['Status_CL'] = pred[:, 1]\n",
    "submission['Status_D'] =  pred[:, 2]\n",
    "\n",
    "submission.to_csv('submission.csv', index = False)"
   ],
   "metadata": {
    "collapsed": false,
    "ExecuteTime": {
     "end_time": "2023-12-21T14:17:12.230062Z",
     "start_time": "2023-12-21T14:17:10.804505Z"
    }
   },
   "id": "b8163a000a98eaca"
  },
  {
   "cell_type": "code",
   "execution_count": 18,
   "outputs": [
    {
     "name": "stderr",
     "output_type": "stream",
     "text": [
      "100%|██████████| 337k/337k [00:03<00:00, 87.3kB/s] \n"
     ]
    },
    {
     "name": "stdout",
     "output_type": "stream",
     "text": [
      "Successfully submitted to Multi-Class Prediction of Cirrhosis OutcomesfileName        date                 description                                            status    publicScore  privateScore  \n",
      "--------------  -------------------  -----------------------------------------------------  --------  -----------  ------------  \n",
      "submission.csv  2023-12-21 14:17:17  Voting w Baggging v1-0                                 complete  0.39754                    \n",
      "submission.csv  2023-12-20 22:44:55  Stacking v2                                            complete  0.4095                     \n",
      "submission.csv  2023-12-20 16:15:37  Voting v4-1                                            complete  0.39475                    \n",
      "submission.csv  2023-12-20 13:35:34  Voting v4                                              complete  0.3944                     \n",
      "submission.csv  2023-12-20 01:41:35  Voting v3-1                                            complete  0.396                      \n",
      "submission.csv  2023-12-19 10:58:53  Voting v3-0                                            complete  0.39554                    \n",
      "submission.csv  2023-12-19 09:53:50  Voting v2                                              complete  0.39293                    \n",
      "submission.csv  2023-12-19 08:11:55  Voting v2                                              complete  0.39499                    \n",
      "submission.csv  2023-12-19 05:50:16  Voting v1                                              complete  0.39451                    \n",
      "submission.csv  2023-12-19 00:31:51  Individual boosting: LGBM                              complete  0.40173                    \n",
      "submission.csv  2023-12-13 00:05:36                                                         complete  0.39544                    \n",
      "submission.csv  2023-12-13 00:04:45                                                         complete  0.39541                    \n",
      "submission.csv  2023-12-13 00:00:19                                                         complete  0.39527                    \n",
      "submission.csv  2023-12-12 23:47:24  Initial attempt after correcting the copied notebook.  complete  0.3954                     \n"
     ]
    }
   ],
   "source": [
    "%%bash\n",
    "kaggle competitions submit playground-series-s3e26 -f submission.csv -m \"Voting w Baggging v1-0\"\n",
    "kaggle competitions submissions playground-series-s3e26\n",
    "\n"
   ],
   "metadata": {
    "collapsed": false,
    "ExecuteTime": {
     "end_time": "2023-12-21T14:17:19.048883Z",
     "start_time": "2023-12-21T14:17:12.234624Z"
    }
   },
   "id": "e0b4f26022ae86a4"
  },
  {
   "cell_type": "code",
   "execution_count": 54,
   "outputs": [],
   "source": [
    "cat_cols = train.select_dtypes(include = ['O']).columns"
   ],
   "metadata": {
    "collapsed": false,
    "ExecuteTime": {
     "end_time": "2023-12-20T02:33:25.014258Z",
     "start_time": "2023-12-20T02:33:24.995897Z"
    }
   },
   "id": "2587cbb591432d2a"
  },
  {
   "cell_type": "code",
   "execution_count": 55,
   "outputs": [
    {
     "data": {
      "text/plain": "Index([], dtype='object')"
     },
     "execution_count": 55,
     "metadata": {},
     "output_type": "execute_result"
    }
   ],
   "source": [
    "cat_cols"
   ],
   "metadata": {
    "collapsed": false,
    "ExecuteTime": {
     "end_time": "2023-12-20T02:33:34.376609Z",
     "start_time": "2023-12-20T02:33:34.360204Z"
    }
   },
   "id": "389f5dbc0284174"
  },
  {
   "cell_type": "code",
   "execution_count": 30,
   "outputs": [
    {
     "data": {
      "text/plain": "{'hgb_learning_rate': 0.14492597629134282,\n 'xgb_reg_alpha': 0.05983200541050737,\n 'xgb_reg_lambda': 0.694269793885504,\n 'xgb_subsample_uni': 0.4413647849271459,\n 'xgb_colsample_bytree': 0.4393563229309064,\n 'hgb_weight_log': 0.9079050821894012,\n 'xgb_weight_log': 1.364715199455147,\n 'lgbm_weight_log': 9.930772277901552}"
     },
     "execution_count": 30,
     "metadata": {},
     "output_type": "execute_result"
    }
   ],
   "source": [
    "best_params"
   ],
   "metadata": {
    "collapsed": false,
    "ExecuteTime": {
     "end_time": "2023-12-20T22:30:48.859788Z",
     "start_time": "2023-12-20T22:30:48.852339Z"
    }
   },
   "id": "6100dbfa1047fe57"
  },
  {
   "cell_type": "code",
   "execution_count": 33,
   "outputs": [
    {
     "data": {
      "text/plain": "{'reg_alpha': 0.05983200541050737,\n 'reg_lambda': 0.694269793885504,\n 'subsample_uni': 0.4413647849271459,\n 'colsample_bytree': 0.4393563229309064,\n 'weight_log': 1.364715199455147}"
     },
     "execution_count": 33,
     "metadata": {},
     "output_type": "execute_result"
    }
   ],
   "source": [
    "{k[4:]:v for k, v in best_params.items() if 'xgb_' in k}"
   ],
   "metadata": {
    "collapsed": false,
    "ExecuteTime": {
     "end_time": "2023-12-20T22:32:30.709657Z",
     "start_time": "2023-12-20T22:32:30.674736Z"
    }
   },
   "id": "f14217b108be411d"
  },
  {
   "cell_type": "code",
   "execution_count": null,
   "outputs": [],
   "source": [],
   "metadata": {
    "collapsed": false
   },
   "id": "f95126e52bc1abcb"
  }
 ],
 "metadata": {
  "kaggle": {
   "accelerator": "none",
   "dataSources": [
    {
     "databundleVersionId": 7000181,
     "sourceId": 60893,
     "sourceType": "competition"
    },
    {
     "datasetId": 3873965,
     "sourceId": 6724823,
     "sourceType": "datasetVersion"
    }
   ],
   "dockerImageVersionId": 30587,
   "isGpuEnabled": false,
   "isInternetEnabled": true,
   "language": "python",
   "sourceType": "notebook"
  },
  "kernelspec": {
   "display_name": "Python 3",
   "language": "python",
   "name": "python3"
  },
  "language_info": {
   "codemirror_mode": {
    "name": "ipython",
    "version": 3
   },
   "file_extension": ".py",
   "mimetype": "text/x-python",
   "name": "python",
   "nbconvert_exporter": "python",
   "pygments_lexer": "ipython3",
   "version": "3.10.12"
  },
  "papermill": {
   "default_parameters": {},
   "duration": 305.567899,
   "end_time": "2023-12-12T23:36:18.661086",
   "environment_variables": {},
   "exception": null,
   "input_path": "__notebook__.ipynb",
   "output_path": "__notebook__.ipynb",
   "parameters": {},
   "start_time": "2023-12-12T23:31:13.093187",
   "version": "2.4.0"
  }
 },
 "nbformat": 4,
 "nbformat_minor": 5
}
