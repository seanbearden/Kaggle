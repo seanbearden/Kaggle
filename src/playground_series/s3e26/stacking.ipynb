{
 "cells": [
  {
   "cell_type": "markdown",
   "source": [
    "# <div style=\"font-family: Cambria; font-weight:bold; letter-spacing: 0px; color:white; font-size:200%; text-align:center;padding:3.0px; background: #6A1B9A; border-bottom: 8px solid #9C27B0\">S3E26 - STACKING CLASSIFIER</div>\n",
    "Notebook edited from [dreygaen/ps3e25-cirrhosis-multi-class-solution](https://www.kaggle.com/code/dreygaen/ps3e25-cirrhosis-multi-class-solution)\n",
    "#### <div style= \"font-family: Cambria; font-weight:bold; letter-spacing: 0px; color:white; font-size:150%; text-align:left;padding:3.0px; background: #6A1B9A; border-bottom: 8px solid #9C27B0\" >TABLE OF CONTENTS<br><div>\n",
    "* [IMPORTS](#1)\n",
    "* [LOAD DATA](#2)"
   ],
   "metadata": {
    "collapsed": false
   },
   "id": "b28ba63c6c9da87a"
  },
  {
   "cell_type": "markdown",
   "id": "dd184265",
   "metadata": {
    "papermill": {
     "duration": 0.010444,
     "end_time": "2023-12-12T23:31:16.930313",
     "exception": false,
     "start_time": "2023-12-12T23:31:16.919869",
     "status": "completed"
    },
    "tags": []
   },
   "source": [
    "<a id=\"1\"></a>\n",
    "# <div style= \"font-family: Cambria; font-weight:bold; letter-spacing: 0px; color:white; font-size:120%; text-align:left;padding:3.0px; background: #6A1B9A; border-bottom: 8px solid #9C27B0\" > IMPORTS<br><div> "
   ]
  },
  {
   "cell_type": "code",
   "execution_count": 11,
   "id": "d3a39ced",
   "metadata": {
    "papermill": {
     "duration": 18.176717,
     "end_time": "2023-12-12T23:31:35.117511",
     "exception": false,
     "start_time": "2023-12-12T23:31:16.940794",
     "status": "completed"
    },
    "tags": [],
    "ExecuteTime": {
     "end_time": "2023-12-20T22:41:40.440757Z",
     "start_time": "2023-12-20T22:41:40.433636Z"
    }
   },
   "outputs": [],
   "source": [
    "import numpy as np\n",
    "import pandas as pd\n",
    "import matplotlib.pyplot as plt\n",
    "import seaborn as sns\n",
    "from tqdm.auto import tqdm\n",
    "import time\n",
    "import zipfile\n",
    "\n",
    "from category_encoders import OneHotEncoder, MEstimateEncoder, GLMMEncoder, OrdinalEncoder, CatBoostEncoder\n",
    "from sklearn.model_selection import RepeatedStratifiedKFold, StratifiedKFold, GridSearchCV, KFold, cross_val_score\n",
    "from sklearn.ensemble import (ExtraTreesRegressor, RandomForestRegressor, GradientBoostingRegressor, \n",
    "                              RandomForestClassifier, GradientBoostingClassifier, HistGradientBoostingClassifier, \n",
    "                              HistGradientBoostingRegressor, VotingRegressor, StackingRegressor, AdaBoostRegressor, StackingClassifier)\n",
    "from sklearn.linear_model import Ridge, Lasso\n",
    "from sklearn.linear_model import QuantileRegressor\n",
    "from sklearn.linear_model import HuberRegressor\n",
    "from sklearn.cross_decomposition import PLSRegression\n",
    "from sklearn.neural_network import MLPRegressor\n",
    "from sklearn.metrics import (median_absolute_error, roc_auc_score, roc_curve, log_loss, ConfusionMatrixDisplay,\n",
    "                              confusion_matrix)\n",
    "from sklearn.metrics.pairwise import euclidean_distances\n",
    "from sklearn.pipeline import Pipeline, make_pipeline\n",
    "from sklearn.neighbors import KNeighborsClassifier\n",
    "from sklearn.svm import SVC\n",
    "from sklearn.base import BaseEstimator, TransformerMixin, RegressorMixin, clone\n",
    "from sklearn.preprocessing import FunctionTransformer, StandardScaler, MinMaxScaler, PowerTransformer, LabelEncoder, RobustScaler\n",
    "from sklearn.compose import ColumnTransformer\n",
    "from sklearn.calibration import CalibratedClassifierCV\n",
    "from scipy import stats\n",
    "from scipy.cluster import hierarchy\n",
    "from scipy.cluster.hierarchy import dendrogram, linkage\n",
    "from scipy.spatial.distance import squareform\n",
    "from xgboost import XGBRegressor, XGBClassifier\n",
    "from lightgbm import LGBMRegressor, LGBMClassifier, early_stopping\n",
    "from catboost import CatBoostRegressor, CatBoostClassifier\n",
    "from sklego.linear_model import LADRegression\n",
    "import optuna\n",
    "from itertools import combinations, permutations\n",
    "\n",
    "optuna.logging.set_verbosity(optuna.logging.WARNING)\n",
    "\n",
    "import warnings\n",
    "warnings.filterwarnings('ignore')\n",
    "\n",
    "%matplotlib inline\n",
    "tqdm.pandas()\n",
    "\n",
    "rc = {\n",
    "    'axes.facecolor': '#FFEDED',\n",
    "    'figure.facecolor': '#FFEDED',\n",
    "    'axes.edgecolor': '#000000',\n",
    "    'grid.color': '#EBEBE7',\n",
    "    'font.family': 'serif',\n",
    "    'axes.labelcolor': '#000000',\n",
    "    'xtick.color': '#000000',\n",
    "    'ytick.color': '#000000',\n",
    "    'grid.alpha': 0.4\n",
    "}\n",
    "\n",
    "font = {'family': 'serif',\n",
    "        'color':  'black',\n",
    "        'weight': 'bold',\n",
    "        'size': 16,\n",
    "        }\n",
    "\n",
    "sns.set(rc=rc)\n",
    "\n",
    "from colorama import Style, Fore\n",
    "red = Style.BRIGHT + Fore.RED\n",
    "blu = Style.BRIGHT + Fore.BLUE\n",
    "mgt = Style.BRIGHT + Fore.MAGENTA\n",
    "gld = Style.BRIGHT + Fore.YELLOW\n",
    "res = Style.RESET_ALL\n",
    "bold_start = Style.BRIGHT\n",
    "bold_end = Style.NORMAL\n",
    "\n",
    "target_col = 'Status'"
   ]
  },
  {
   "cell_type": "markdown",
   "id": "d89b97d1",
   "metadata": {
    "papermill": {
     "duration": 0.01047,
     "end_time": "2023-12-12T23:31:35.437832",
     "exception": false,
     "start_time": "2023-12-12T23:31:35.427362",
     "status": "completed"
    },
    "tags": []
   },
   "source": [
    "<a id=\"2\"></a>\n",
    "# <div style= \"font-family: Cambria; font-weight:bold; letter-spacing: 0px; color:white; font-size:120%; text-align:left;padding:3.0px; background: #6A1B9A; border-bottom: 8px solid #9C27B0\" > LOAD DATA<br><div> "
   ]
  },
  {
   "cell_type": "code",
   "execution_count": 2,
   "id": "ed981319",
   "metadata": {
    "papermill": {
     "duration": 0.098096,
     "end_time": "2023-12-12T23:31:35.546307",
     "exception": false,
     "start_time": "2023-12-12T23:31:35.448211",
     "status": "completed"
    },
    "tags": [],
    "ExecuteTime": {
     "end_time": "2023-12-20T17:04:14.151841Z",
     "start_time": "2023-12-20T17:04:14.116458Z"
    }
   },
   "outputs": [],
   "source": [
    "with zipfile.ZipFile('../../../res/data/playground-series-s3e26.zip', 'r') as z:\n",
    "    \n",
    "    with z.open('train.csv') as f:\n",
    "        train = pd.read_csv(f, index_col = 'id')        \n",
    "                \n",
    "    with z.open('test.csv') as f:\n",
    "        test = pd.read_csv(f, index_col = 'id')\n",
    "    \n",
    "    with z.open('sample_submission.csv') as f:\n",
    "        submission = pd.read_csv(f)\n",
    "        \n",
    "with zipfile.ZipFile('../../../res/data/cirrhosis-patient-survival-prediction.zip', 'r') as z:\n",
    "    with z.open('cirrhosis.csv') as f:\n",
    "        orig_data = pd.read_csv(f, index_col = 'ID') "
   ]
  },
  {
   "cell_type": "code",
   "execution_count": 3,
   "outputs": [],
   "source": [
    "train = pd.concat([train, orig_data], axis=0, ignore_index=True)\n",
    "cat_cols = train.select_dtypes(include = ['O']).columns"
   ],
   "metadata": {
    "collapsed": false,
    "ExecuteTime": {
     "end_time": "2023-12-20T17:04:15.022228Z",
     "start_time": "2023-12-20T17:04:14.939920Z"
    }
   },
   "id": "bd58d7996b020449"
  },
  {
   "cell_type": "markdown",
   "id": "0634ffe9",
   "metadata": {
    "papermill": {
     "duration": 0.038044,
     "end_time": "2023-12-12T23:32:04.013659",
     "exception": false,
     "start_time": "2023-12-12T23:32:03.975615",
     "status": "completed"
    },
    "tags": []
   },
   "source": [
    "<a id=\"3\"></a>\n",
    "# <div style= \"font-family: Cambria; font-weight:bold; letter-spacing: 0px; color:white; font-size:120%; text-align:left;padding:3.0px; background: #6A1B9A; border-bottom: 8px solid #9C27B0\" >Feature Engineering<br><div> "
   ]
  },
  {
   "cell_type": "code",
   "execution_count": 4,
   "id": "03da7bd7",
   "metadata": {
    "papermill": {
     "duration": 0.070034,
     "end_time": "2023-12-12T23:32:04.122811",
     "exception": false,
     "start_time": "2023-12-12T23:32:04.052777",
     "status": "completed"
    },
    "tags": [],
    "ExecuteTime": {
     "end_time": "2023-12-20T17:04:17.389387Z",
     "start_time": "2023-12-20T17:04:17.369411Z"
    }
   },
   "outputs": [],
   "source": [
    "# original notebook applied fit_transform on training data.\n",
    "train_cat_cols = train.select_dtypes(include=['object']).columns\n",
    "for col in train_cat_cols:\n",
    "    label_encoder = LabelEncoder()\n",
    "    train[col] = label_encoder.fit_transform(train[col])\n",
    "    if col != target_col:\n",
    "        test[col] = label_encoder.transform(test[col])"
   ]
  },
  {
   "cell_type": "code",
   "execution_count": 5,
   "id": "39882115",
   "metadata": {
    "papermill": {
     "duration": 0.050188,
     "end_time": "2023-12-12T23:32:05.341237",
     "exception": false,
     "start_time": "2023-12-12T23:32:05.291049",
     "status": "completed"
    },
    "tags": [],
    "ExecuteTime": {
     "end_time": "2023-12-20T17:04:19.578518Z",
     "start_time": "2023-12-20T17:04:19.491914Z"
    }
   },
   "outputs": [],
   "source": [
    "# train_drop = train.dropna()\n",
    "# X = train_drop.drop([target_col], axis=1)\n",
    "# y = train_drop[target_col]\n",
    "\n",
    "X = train.drop([target_col], axis=1)\n",
    "y = train[target_col]"
   ]
  },
  {
   "cell_type": "markdown",
   "id": "d9746f85",
   "metadata": {
    "papermill": {
     "duration": 0.040465,
     "end_time": "2023-12-12T23:32:05.538750",
     "exception": false,
     "start_time": "2023-12-12T23:32:05.498285",
     "status": "completed"
    },
    "tags": []
   },
   "source": [
    "<a id=\"5\"></a>\n",
    "# <div style= \"font-family: Cambria; font-weight:bold; letter-spacing: 0px; color:white; font-size:120%; text-align:left;padding:3.0px; background: #6A1B9A; border-bottom: 8px solid #9C27B0\" > MODELS<br><div> "
   ]
  },
  {
   "cell_type": "code",
   "execution_count": 17,
   "outputs": [
    {
     "data": {
      "text/plain": "  0%|          | 0/10 [00:00<?, ?it/s]",
      "application/vnd.jupyter.widget-view+json": {
       "version_major": 2,
       "version_minor": 0,
       "model_id": "8f4d9aa0863c43879470949b0fd597e4"
      }
     },
     "metadata": {},
     "output_type": "display_data"
    },
    {
     "name": "stdout",
     "output_type": "stream",
     "text": [
      "[W 2023-12-20 15:13:34,561] Trial 4 failed with parameters: {'xgb_reg_alpha': 0.061219871150917, 'xgb_reg_lambda': 0.6708875473734291, 'xgb_subsample': 0.44906092204815207, 'xgb_colsample_bytree': 0.4419172917142154, 'cat_max_depth': 19, 'lgbm_min_gain_to_split': 0.02, 'lgbm_class_weight': 'balanced'} because of the following error: KeyboardInterrupt().\n",
      "Traceback (most recent call last):\n",
      "  File \"/Users/seanbearden/PycharmProjects/Kaggle/venv/lib/python3.10/site-packages/optuna/study/_optimize.py\", line 200, in _run_trial\n",
      "    value_or_values = func(trial)\n",
      "  File \"/var/folders/4z/1z6hg6gd23q9cdgl0sgrry8c0000gn/T/ipykernel_70187/3392608880.py\", line 175, in objective\n",
      "    score = cross_val_score(classifier, X, y, n_jobs=-1, cv=k_fold, scoring='neg_log_loss')\n",
      "  File \"/Users/seanbearden/PycharmProjects/Kaggle/venv/lib/python3.10/site-packages/sklearn/model_selection/_validation.py\", line 562, in cross_val_score\n",
      "    cv_results = cross_validate(\n",
      "  File \"/Users/seanbearden/PycharmProjects/Kaggle/venv/lib/python3.10/site-packages/sklearn/utils/_param_validation.py\", line 214, in wrapper\n",
      "    return func(*args, **kwargs)\n",
      "  File \"/Users/seanbearden/PycharmProjects/Kaggle/venv/lib/python3.10/site-packages/sklearn/model_selection/_validation.py\", line 309, in cross_validate\n",
      "    results = parallel(\n",
      "  File \"/Users/seanbearden/PycharmProjects/Kaggle/venv/lib/python3.10/site-packages/sklearn/utils/parallel.py\", line 65, in __call__\n",
      "    return super().__call__(iterable_with_config)\n",
      "  File \"/Users/seanbearden/PycharmProjects/Kaggle/venv/lib/python3.10/site-packages/joblib/parallel.py\", line 1952, in __call__\n",
      "    return output if self.return_generator else list(output)\n",
      "  File \"/Users/seanbearden/PycharmProjects/Kaggle/venv/lib/python3.10/site-packages/joblib/parallel.py\", line 1595, in _get_outputs\n",
      "    yield from self._retrieve()\n",
      "  File \"/Users/seanbearden/PycharmProjects/Kaggle/venv/lib/python3.10/site-packages/joblib/parallel.py\", line 1707, in _retrieve\n",
      "    time.sleep(0.01)\n",
      "KeyboardInterrupt\n",
      "[W 2023-12-20 15:13:34,564] Trial 4 failed with value None.\n"
     ]
    },
    {
     "ename": "KeyboardInterrupt",
     "evalue": "",
     "output_type": "error",
     "traceback": [
      "\u001B[0;31m---------------------------------------------------------------------------\u001B[0m",
      "\u001B[0;31mKeyboardInterrupt\u001B[0m                         Traceback (most recent call last)",
      "Cell \u001B[0;32mIn[17], line 185\u001B[0m\n\u001B[1;32m    177\u001B[0m     \u001B[38;5;28;01mreturn\u001B[39;00m accuracy\n\u001B[1;32m    179\u001B[0m study \u001B[38;5;241m=\u001B[39m optuna\u001B[38;5;241m.\u001B[39mcreate_study(\n\u001B[1;32m    180\u001B[0m     storage\u001B[38;5;241m=\u001B[39m\u001B[38;5;124m\"\u001B[39m\u001B[38;5;124msqlite:///db.sqlite3\u001B[39m\u001B[38;5;124m\"\u001B[39m,  \u001B[38;5;66;03m# Specify the storage URL here.\u001B[39;00m\n\u001B[1;32m    181\u001B[0m     study_name\u001B[38;5;241m=\u001B[39m\u001B[38;5;124m\"\u001B[39m\u001B[38;5;124mstacking-v2-1\u001B[39m\u001B[38;5;124m\"\u001B[39m,\n\u001B[1;32m    182\u001B[0m     direction\u001B[38;5;241m=\u001B[39m\u001B[38;5;124m'\u001B[39m\u001B[38;5;124mmaximize\u001B[39m\u001B[38;5;124m'\u001B[39m,\n\u001B[1;32m    183\u001B[0m     load_if_exists\u001B[38;5;241m=\u001B[39m\u001B[38;5;28;01mTrue\u001B[39;00m,\n\u001B[1;32m    184\u001B[0m )\n\u001B[0;32m--> 185\u001B[0m \u001B[43mstudy\u001B[49m\u001B[38;5;241;43m.\u001B[39;49m\u001B[43moptimize\u001B[49m\u001B[43m(\u001B[49m\u001B[43mobjective\u001B[49m\u001B[43m,\u001B[49m\u001B[43m \u001B[49m\u001B[43mn_trials\u001B[49m\u001B[38;5;241;43m=\u001B[39;49m\u001B[38;5;241;43m10\u001B[39;49m\u001B[43m,\u001B[49m\u001B[43m \u001B[49m\u001B[43mshow_progress_bar\u001B[49m\u001B[38;5;241;43m=\u001B[39;49m\u001B[38;5;28;43;01mTrue\u001B[39;49;00m\u001B[43m)\u001B[49m\n\u001B[1;32m    187\u001B[0m \u001B[38;5;28mprint\u001B[39m(study\u001B[38;5;241m.\u001B[39mbest_trial)\n",
      "File \u001B[0;32m~/PycharmProjects/Kaggle/venv/lib/python3.10/site-packages/optuna/study/study.py:451\u001B[0m, in \u001B[0;36mStudy.optimize\u001B[0;34m(self, func, n_trials, timeout, n_jobs, catch, callbacks, gc_after_trial, show_progress_bar)\u001B[0m\n\u001B[1;32m    348\u001B[0m \u001B[38;5;28;01mdef\u001B[39;00m \u001B[38;5;21moptimize\u001B[39m(\n\u001B[1;32m    349\u001B[0m     \u001B[38;5;28mself\u001B[39m,\n\u001B[1;32m    350\u001B[0m     func: ObjectiveFuncType,\n\u001B[0;32m   (...)\u001B[0m\n\u001B[1;32m    357\u001B[0m     show_progress_bar: \u001B[38;5;28mbool\u001B[39m \u001B[38;5;241m=\u001B[39m \u001B[38;5;28;01mFalse\u001B[39;00m,\n\u001B[1;32m    358\u001B[0m ) \u001B[38;5;241m-\u001B[39m\u001B[38;5;241m>\u001B[39m \u001B[38;5;28;01mNone\u001B[39;00m:\n\u001B[1;32m    359\u001B[0m \u001B[38;5;250m    \u001B[39m\u001B[38;5;124;03m\"\"\"Optimize an objective function.\u001B[39;00m\n\u001B[1;32m    360\u001B[0m \n\u001B[1;32m    361\u001B[0m \u001B[38;5;124;03m    Optimization is done by choosing a suitable set of hyperparameter values from a given\u001B[39;00m\n\u001B[0;32m   (...)\u001B[0m\n\u001B[1;32m    449\u001B[0m \u001B[38;5;124;03m            If nested invocation of this method occurs.\u001B[39;00m\n\u001B[1;32m    450\u001B[0m \u001B[38;5;124;03m    \"\"\"\u001B[39;00m\n\u001B[0;32m--> 451\u001B[0m     \u001B[43m_optimize\u001B[49m\u001B[43m(\u001B[49m\n\u001B[1;32m    452\u001B[0m \u001B[43m        \u001B[49m\u001B[43mstudy\u001B[49m\u001B[38;5;241;43m=\u001B[39;49m\u001B[38;5;28;43mself\u001B[39;49m\u001B[43m,\u001B[49m\n\u001B[1;32m    453\u001B[0m \u001B[43m        \u001B[49m\u001B[43mfunc\u001B[49m\u001B[38;5;241;43m=\u001B[39;49m\u001B[43mfunc\u001B[49m\u001B[43m,\u001B[49m\n\u001B[1;32m    454\u001B[0m \u001B[43m        \u001B[49m\u001B[43mn_trials\u001B[49m\u001B[38;5;241;43m=\u001B[39;49m\u001B[43mn_trials\u001B[49m\u001B[43m,\u001B[49m\n\u001B[1;32m    455\u001B[0m \u001B[43m        \u001B[49m\u001B[43mtimeout\u001B[49m\u001B[38;5;241;43m=\u001B[39;49m\u001B[43mtimeout\u001B[49m\u001B[43m,\u001B[49m\n\u001B[1;32m    456\u001B[0m \u001B[43m        \u001B[49m\u001B[43mn_jobs\u001B[49m\u001B[38;5;241;43m=\u001B[39;49m\u001B[43mn_jobs\u001B[49m\u001B[43m,\u001B[49m\n\u001B[1;32m    457\u001B[0m \u001B[43m        \u001B[49m\u001B[43mcatch\u001B[49m\u001B[38;5;241;43m=\u001B[39;49m\u001B[38;5;28;43mtuple\u001B[39;49m\u001B[43m(\u001B[49m\u001B[43mcatch\u001B[49m\u001B[43m)\u001B[49m\u001B[43m \u001B[49m\u001B[38;5;28;43;01mif\u001B[39;49;00m\u001B[43m \u001B[49m\u001B[38;5;28;43misinstance\u001B[39;49m\u001B[43m(\u001B[49m\u001B[43mcatch\u001B[49m\u001B[43m,\u001B[49m\u001B[43m \u001B[49m\u001B[43mIterable\u001B[49m\u001B[43m)\u001B[49m\u001B[43m \u001B[49m\u001B[38;5;28;43;01melse\u001B[39;49;00m\u001B[43m \u001B[49m\u001B[43m(\u001B[49m\u001B[43mcatch\u001B[49m\u001B[43m,\u001B[49m\u001B[43m)\u001B[49m\u001B[43m,\u001B[49m\n\u001B[1;32m    458\u001B[0m \u001B[43m        \u001B[49m\u001B[43mcallbacks\u001B[49m\u001B[38;5;241;43m=\u001B[39;49m\u001B[43mcallbacks\u001B[49m\u001B[43m,\u001B[49m\n\u001B[1;32m    459\u001B[0m \u001B[43m        \u001B[49m\u001B[43mgc_after_trial\u001B[49m\u001B[38;5;241;43m=\u001B[39;49m\u001B[43mgc_after_trial\u001B[49m\u001B[43m,\u001B[49m\n\u001B[1;32m    460\u001B[0m \u001B[43m        \u001B[49m\u001B[43mshow_progress_bar\u001B[49m\u001B[38;5;241;43m=\u001B[39;49m\u001B[43mshow_progress_bar\u001B[49m\u001B[43m,\u001B[49m\n\u001B[1;32m    461\u001B[0m \u001B[43m    \u001B[49m\u001B[43m)\u001B[49m\n",
      "File \u001B[0;32m~/PycharmProjects/Kaggle/venv/lib/python3.10/site-packages/optuna/study/_optimize.py:66\u001B[0m, in \u001B[0;36m_optimize\u001B[0;34m(study, func, n_trials, timeout, n_jobs, catch, callbacks, gc_after_trial, show_progress_bar)\u001B[0m\n\u001B[1;32m     64\u001B[0m \u001B[38;5;28;01mtry\u001B[39;00m:\n\u001B[1;32m     65\u001B[0m     \u001B[38;5;28;01mif\u001B[39;00m n_jobs \u001B[38;5;241m==\u001B[39m \u001B[38;5;241m1\u001B[39m:\n\u001B[0;32m---> 66\u001B[0m         \u001B[43m_optimize_sequential\u001B[49m\u001B[43m(\u001B[49m\n\u001B[1;32m     67\u001B[0m \u001B[43m            \u001B[49m\u001B[43mstudy\u001B[49m\u001B[43m,\u001B[49m\n\u001B[1;32m     68\u001B[0m \u001B[43m            \u001B[49m\u001B[43mfunc\u001B[49m\u001B[43m,\u001B[49m\n\u001B[1;32m     69\u001B[0m \u001B[43m            \u001B[49m\u001B[43mn_trials\u001B[49m\u001B[43m,\u001B[49m\n\u001B[1;32m     70\u001B[0m \u001B[43m            \u001B[49m\u001B[43mtimeout\u001B[49m\u001B[43m,\u001B[49m\n\u001B[1;32m     71\u001B[0m \u001B[43m            \u001B[49m\u001B[43mcatch\u001B[49m\u001B[43m,\u001B[49m\n\u001B[1;32m     72\u001B[0m \u001B[43m            \u001B[49m\u001B[43mcallbacks\u001B[49m\u001B[43m,\u001B[49m\n\u001B[1;32m     73\u001B[0m \u001B[43m            \u001B[49m\u001B[43mgc_after_trial\u001B[49m\u001B[43m,\u001B[49m\n\u001B[1;32m     74\u001B[0m \u001B[43m            \u001B[49m\u001B[43mreseed_sampler_rng\u001B[49m\u001B[38;5;241;43m=\u001B[39;49m\u001B[38;5;28;43;01mFalse\u001B[39;49;00m\u001B[43m,\u001B[49m\n\u001B[1;32m     75\u001B[0m \u001B[43m            \u001B[49m\u001B[43mtime_start\u001B[49m\u001B[38;5;241;43m=\u001B[39;49m\u001B[38;5;28;43;01mNone\u001B[39;49;00m\u001B[43m,\u001B[49m\n\u001B[1;32m     76\u001B[0m \u001B[43m            \u001B[49m\u001B[43mprogress_bar\u001B[49m\u001B[38;5;241;43m=\u001B[39;49m\u001B[43mprogress_bar\u001B[49m\u001B[43m,\u001B[49m\n\u001B[1;32m     77\u001B[0m \u001B[43m        \u001B[49m\u001B[43m)\u001B[49m\n\u001B[1;32m     78\u001B[0m     \u001B[38;5;28;01melse\u001B[39;00m:\n\u001B[1;32m     79\u001B[0m         \u001B[38;5;28;01mif\u001B[39;00m n_jobs \u001B[38;5;241m==\u001B[39m \u001B[38;5;241m-\u001B[39m\u001B[38;5;241m1\u001B[39m:\n",
      "File \u001B[0;32m~/PycharmProjects/Kaggle/venv/lib/python3.10/site-packages/optuna/study/_optimize.py:163\u001B[0m, in \u001B[0;36m_optimize_sequential\u001B[0;34m(study, func, n_trials, timeout, catch, callbacks, gc_after_trial, reseed_sampler_rng, time_start, progress_bar)\u001B[0m\n\u001B[1;32m    160\u001B[0m         \u001B[38;5;28;01mbreak\u001B[39;00m\n\u001B[1;32m    162\u001B[0m \u001B[38;5;28;01mtry\u001B[39;00m:\n\u001B[0;32m--> 163\u001B[0m     frozen_trial \u001B[38;5;241m=\u001B[39m \u001B[43m_run_trial\u001B[49m\u001B[43m(\u001B[49m\u001B[43mstudy\u001B[49m\u001B[43m,\u001B[49m\u001B[43m \u001B[49m\u001B[43mfunc\u001B[49m\u001B[43m,\u001B[49m\u001B[43m \u001B[49m\u001B[43mcatch\u001B[49m\u001B[43m)\u001B[49m\n\u001B[1;32m    164\u001B[0m \u001B[38;5;28;01mfinally\u001B[39;00m:\n\u001B[1;32m    165\u001B[0m     \u001B[38;5;66;03m# The following line mitigates memory problems that can be occurred in some\u001B[39;00m\n\u001B[1;32m    166\u001B[0m     \u001B[38;5;66;03m# environments (e.g., services that use computing containers such as GitHub Actions).\u001B[39;00m\n\u001B[1;32m    167\u001B[0m     \u001B[38;5;66;03m# Please refer to the following PR for further details:\u001B[39;00m\n\u001B[1;32m    168\u001B[0m     \u001B[38;5;66;03m# https://github.com/optuna/optuna/pull/325.\u001B[39;00m\n\u001B[1;32m    169\u001B[0m     \u001B[38;5;28;01mif\u001B[39;00m gc_after_trial:\n",
      "File \u001B[0;32m~/PycharmProjects/Kaggle/venv/lib/python3.10/site-packages/optuna/study/_optimize.py:251\u001B[0m, in \u001B[0;36m_run_trial\u001B[0;34m(study, func, catch)\u001B[0m\n\u001B[1;32m    244\u001B[0m         \u001B[38;5;28;01massert\u001B[39;00m \u001B[38;5;28;01mFalse\u001B[39;00m, \u001B[38;5;124m\"\u001B[39m\u001B[38;5;124mShould not reach.\u001B[39m\u001B[38;5;124m\"\u001B[39m\n\u001B[1;32m    246\u001B[0m \u001B[38;5;28;01mif\u001B[39;00m (\n\u001B[1;32m    247\u001B[0m     frozen_trial\u001B[38;5;241m.\u001B[39mstate \u001B[38;5;241m==\u001B[39m TrialState\u001B[38;5;241m.\u001B[39mFAIL\n\u001B[1;32m    248\u001B[0m     \u001B[38;5;129;01mand\u001B[39;00m func_err \u001B[38;5;129;01mis\u001B[39;00m \u001B[38;5;129;01mnot\u001B[39;00m \u001B[38;5;28;01mNone\u001B[39;00m\n\u001B[1;32m    249\u001B[0m     \u001B[38;5;129;01mand\u001B[39;00m \u001B[38;5;129;01mnot\u001B[39;00m \u001B[38;5;28misinstance\u001B[39m(func_err, catch)\n\u001B[1;32m    250\u001B[0m ):\n\u001B[0;32m--> 251\u001B[0m     \u001B[38;5;28;01mraise\u001B[39;00m func_err\n\u001B[1;32m    252\u001B[0m \u001B[38;5;28;01mreturn\u001B[39;00m frozen_trial\n",
      "File \u001B[0;32m~/PycharmProjects/Kaggle/venv/lib/python3.10/site-packages/optuna/study/_optimize.py:200\u001B[0m, in \u001B[0;36m_run_trial\u001B[0;34m(study, func, catch)\u001B[0m\n\u001B[1;32m    198\u001B[0m \u001B[38;5;28;01mwith\u001B[39;00m get_heartbeat_thread(trial\u001B[38;5;241m.\u001B[39m_trial_id, study\u001B[38;5;241m.\u001B[39m_storage):\n\u001B[1;32m    199\u001B[0m     \u001B[38;5;28;01mtry\u001B[39;00m:\n\u001B[0;32m--> 200\u001B[0m         value_or_values \u001B[38;5;241m=\u001B[39m \u001B[43mfunc\u001B[49m\u001B[43m(\u001B[49m\u001B[43mtrial\u001B[49m\u001B[43m)\u001B[49m\n\u001B[1;32m    201\u001B[0m     \u001B[38;5;28;01mexcept\u001B[39;00m exceptions\u001B[38;5;241m.\u001B[39mTrialPruned \u001B[38;5;28;01mas\u001B[39;00m e:\n\u001B[1;32m    202\u001B[0m         \u001B[38;5;66;03m# TODO(mamu): Handle multi-objective cases.\u001B[39;00m\n\u001B[1;32m    203\u001B[0m         state \u001B[38;5;241m=\u001B[39m TrialState\u001B[38;5;241m.\u001B[39mPRUNED\n",
      "Cell \u001B[0;32mIn[17], line 175\u001B[0m, in \u001B[0;36mobjective\u001B[0;34m(trial)\u001B[0m\n\u001B[1;32m    166\u001B[0m \u001B[38;5;66;03m# Stacking Classifier\u001B[39;00m\n\u001B[1;32m    167\u001B[0m classifier \u001B[38;5;241m=\u001B[39m StackingClassifier(\n\u001B[1;32m    168\u001B[0m     estimators\u001B[38;5;241m=\u001B[39mbase_classifiers, \n\u001B[1;32m    169\u001B[0m     final_estimator\u001B[38;5;241m=\u001B[39mLGBMClassifier(\u001B[38;5;241m*\u001B[39m\u001B[38;5;241m*\u001B[39mlgbm_params),\n\u001B[0;32m   (...)\u001B[0m\n\u001B[1;32m    172\u001B[0m     \u001B[38;5;241m*\u001B[39m\u001B[38;5;241m*\u001B[39mstack_params\n\u001B[1;32m    173\u001B[0m )\n\u001B[0;32m--> 175\u001B[0m score \u001B[38;5;241m=\u001B[39m \u001B[43mcross_val_score\u001B[49m\u001B[43m(\u001B[49m\u001B[43mclassifier\u001B[49m\u001B[43m,\u001B[49m\u001B[43m \u001B[49m\u001B[43mX\u001B[49m\u001B[43m,\u001B[49m\u001B[43m \u001B[49m\u001B[43my\u001B[49m\u001B[43m,\u001B[49m\u001B[43m \u001B[49m\u001B[43mn_jobs\u001B[49m\u001B[38;5;241;43m=\u001B[39;49m\u001B[38;5;241;43m-\u001B[39;49m\u001B[38;5;241;43m1\u001B[39;49m\u001B[43m,\u001B[49m\u001B[43m \u001B[49m\u001B[43mcv\u001B[49m\u001B[38;5;241;43m=\u001B[39;49m\u001B[43mk_fold\u001B[49m\u001B[43m,\u001B[49m\u001B[43m \u001B[49m\u001B[43mscoring\u001B[49m\u001B[38;5;241;43m=\u001B[39;49m\u001B[38;5;124;43m'\u001B[39;49m\u001B[38;5;124;43mneg_log_loss\u001B[39;49m\u001B[38;5;124;43m'\u001B[39;49m\u001B[43m)\u001B[49m\n\u001B[1;32m    176\u001B[0m accuracy \u001B[38;5;241m=\u001B[39m score\u001B[38;5;241m.\u001B[39mmean()\n\u001B[1;32m    177\u001B[0m \u001B[38;5;28;01mreturn\u001B[39;00m accuracy\n",
      "File \u001B[0;32m~/PycharmProjects/Kaggle/venv/lib/python3.10/site-packages/sklearn/model_selection/_validation.py:562\u001B[0m, in \u001B[0;36mcross_val_score\u001B[0;34m(estimator, X, y, groups, scoring, cv, n_jobs, verbose, fit_params, pre_dispatch, error_score)\u001B[0m\n\u001B[1;32m    559\u001B[0m \u001B[38;5;66;03m# To ensure multimetric format is not supported\u001B[39;00m\n\u001B[1;32m    560\u001B[0m scorer \u001B[38;5;241m=\u001B[39m check_scoring(estimator, scoring\u001B[38;5;241m=\u001B[39mscoring)\n\u001B[0;32m--> 562\u001B[0m cv_results \u001B[38;5;241m=\u001B[39m \u001B[43mcross_validate\u001B[49m\u001B[43m(\u001B[49m\n\u001B[1;32m    563\u001B[0m \u001B[43m    \u001B[49m\u001B[43mestimator\u001B[49m\u001B[38;5;241;43m=\u001B[39;49m\u001B[43mestimator\u001B[49m\u001B[43m,\u001B[49m\n\u001B[1;32m    564\u001B[0m \u001B[43m    \u001B[49m\u001B[43mX\u001B[49m\u001B[38;5;241;43m=\u001B[39;49m\u001B[43mX\u001B[49m\u001B[43m,\u001B[49m\n\u001B[1;32m    565\u001B[0m \u001B[43m    \u001B[49m\u001B[43my\u001B[49m\u001B[38;5;241;43m=\u001B[39;49m\u001B[43my\u001B[49m\u001B[43m,\u001B[49m\n\u001B[1;32m    566\u001B[0m \u001B[43m    \u001B[49m\u001B[43mgroups\u001B[49m\u001B[38;5;241;43m=\u001B[39;49m\u001B[43mgroups\u001B[49m\u001B[43m,\u001B[49m\n\u001B[1;32m    567\u001B[0m \u001B[43m    \u001B[49m\u001B[43mscoring\u001B[49m\u001B[38;5;241;43m=\u001B[39;49m\u001B[43m{\u001B[49m\u001B[38;5;124;43m\"\u001B[39;49m\u001B[38;5;124;43mscore\u001B[39;49m\u001B[38;5;124;43m\"\u001B[39;49m\u001B[43m:\u001B[49m\u001B[43m \u001B[49m\u001B[43mscorer\u001B[49m\u001B[43m}\u001B[49m\u001B[43m,\u001B[49m\n\u001B[1;32m    568\u001B[0m \u001B[43m    \u001B[49m\u001B[43mcv\u001B[49m\u001B[38;5;241;43m=\u001B[39;49m\u001B[43mcv\u001B[49m\u001B[43m,\u001B[49m\n\u001B[1;32m    569\u001B[0m \u001B[43m    \u001B[49m\u001B[43mn_jobs\u001B[49m\u001B[38;5;241;43m=\u001B[39;49m\u001B[43mn_jobs\u001B[49m\u001B[43m,\u001B[49m\n\u001B[1;32m    570\u001B[0m \u001B[43m    \u001B[49m\u001B[43mverbose\u001B[49m\u001B[38;5;241;43m=\u001B[39;49m\u001B[43mverbose\u001B[49m\u001B[43m,\u001B[49m\n\u001B[1;32m    571\u001B[0m \u001B[43m    \u001B[49m\u001B[43mfit_params\u001B[49m\u001B[38;5;241;43m=\u001B[39;49m\u001B[43mfit_params\u001B[49m\u001B[43m,\u001B[49m\n\u001B[1;32m    572\u001B[0m \u001B[43m    \u001B[49m\u001B[43mpre_dispatch\u001B[49m\u001B[38;5;241;43m=\u001B[39;49m\u001B[43mpre_dispatch\u001B[49m\u001B[43m,\u001B[49m\n\u001B[1;32m    573\u001B[0m \u001B[43m    \u001B[49m\u001B[43merror_score\u001B[49m\u001B[38;5;241;43m=\u001B[39;49m\u001B[43merror_score\u001B[49m\u001B[43m,\u001B[49m\n\u001B[1;32m    574\u001B[0m \u001B[43m\u001B[49m\u001B[43m)\u001B[49m\n\u001B[1;32m    575\u001B[0m \u001B[38;5;28;01mreturn\u001B[39;00m cv_results[\u001B[38;5;124m\"\u001B[39m\u001B[38;5;124mtest_score\u001B[39m\u001B[38;5;124m\"\u001B[39m]\n",
      "File \u001B[0;32m~/PycharmProjects/Kaggle/venv/lib/python3.10/site-packages/sklearn/utils/_param_validation.py:214\u001B[0m, in \u001B[0;36mvalidate_params.<locals>.decorator.<locals>.wrapper\u001B[0;34m(*args, **kwargs)\u001B[0m\n\u001B[1;32m    208\u001B[0m \u001B[38;5;28;01mtry\u001B[39;00m:\n\u001B[1;32m    209\u001B[0m     \u001B[38;5;28;01mwith\u001B[39;00m config_context(\n\u001B[1;32m    210\u001B[0m         skip_parameter_validation\u001B[38;5;241m=\u001B[39m(\n\u001B[1;32m    211\u001B[0m             prefer_skip_nested_validation \u001B[38;5;129;01mor\u001B[39;00m global_skip_validation\n\u001B[1;32m    212\u001B[0m         )\n\u001B[1;32m    213\u001B[0m     ):\n\u001B[0;32m--> 214\u001B[0m         \u001B[38;5;28;01mreturn\u001B[39;00m \u001B[43mfunc\u001B[49m\u001B[43m(\u001B[49m\u001B[38;5;241;43m*\u001B[39;49m\u001B[43margs\u001B[49m\u001B[43m,\u001B[49m\u001B[43m \u001B[49m\u001B[38;5;241;43m*\u001B[39;49m\u001B[38;5;241;43m*\u001B[39;49m\u001B[43mkwargs\u001B[49m\u001B[43m)\u001B[49m\n\u001B[1;32m    215\u001B[0m \u001B[38;5;28;01mexcept\u001B[39;00m InvalidParameterError \u001B[38;5;28;01mas\u001B[39;00m e:\n\u001B[1;32m    216\u001B[0m     \u001B[38;5;66;03m# When the function is just a wrapper around an estimator, we allow\u001B[39;00m\n\u001B[1;32m    217\u001B[0m     \u001B[38;5;66;03m# the function to delegate validation to the estimator, but we replace\u001B[39;00m\n\u001B[1;32m    218\u001B[0m     \u001B[38;5;66;03m# the name of the estimator by the name of the function in the error\u001B[39;00m\n\u001B[1;32m    219\u001B[0m     \u001B[38;5;66;03m# message to avoid confusion.\u001B[39;00m\n\u001B[1;32m    220\u001B[0m     msg \u001B[38;5;241m=\u001B[39m re\u001B[38;5;241m.\u001B[39msub(\n\u001B[1;32m    221\u001B[0m         \u001B[38;5;124mr\u001B[39m\u001B[38;5;124m\"\u001B[39m\u001B[38;5;124mparameter of \u001B[39m\u001B[38;5;124m\\\u001B[39m\u001B[38;5;124mw+ must be\u001B[39m\u001B[38;5;124m\"\u001B[39m,\n\u001B[1;32m    222\u001B[0m         \u001B[38;5;124mf\u001B[39m\u001B[38;5;124m\"\u001B[39m\u001B[38;5;124mparameter of \u001B[39m\u001B[38;5;132;01m{\u001B[39;00mfunc\u001B[38;5;241m.\u001B[39m\u001B[38;5;18m__qualname__\u001B[39m\u001B[38;5;132;01m}\u001B[39;00m\u001B[38;5;124m must be\u001B[39m\u001B[38;5;124m\"\u001B[39m,\n\u001B[1;32m    223\u001B[0m         \u001B[38;5;28mstr\u001B[39m(e),\n\u001B[1;32m    224\u001B[0m     )\n",
      "File \u001B[0;32m~/PycharmProjects/Kaggle/venv/lib/python3.10/site-packages/sklearn/model_selection/_validation.py:309\u001B[0m, in \u001B[0;36mcross_validate\u001B[0;34m(estimator, X, y, groups, scoring, cv, n_jobs, verbose, fit_params, pre_dispatch, return_train_score, return_estimator, return_indices, error_score)\u001B[0m\n\u001B[1;32m    306\u001B[0m \u001B[38;5;66;03m# We clone the estimator to make sure that all the folds are\u001B[39;00m\n\u001B[1;32m    307\u001B[0m \u001B[38;5;66;03m# independent, and that it is pickle-able.\u001B[39;00m\n\u001B[1;32m    308\u001B[0m parallel \u001B[38;5;241m=\u001B[39m Parallel(n_jobs\u001B[38;5;241m=\u001B[39mn_jobs, verbose\u001B[38;5;241m=\u001B[39mverbose, pre_dispatch\u001B[38;5;241m=\u001B[39mpre_dispatch)\n\u001B[0;32m--> 309\u001B[0m results \u001B[38;5;241m=\u001B[39m \u001B[43mparallel\u001B[49m\u001B[43m(\u001B[49m\n\u001B[1;32m    310\u001B[0m \u001B[43m    \u001B[49m\u001B[43mdelayed\u001B[49m\u001B[43m(\u001B[49m\u001B[43m_fit_and_score\u001B[49m\u001B[43m)\u001B[49m\u001B[43m(\u001B[49m\n\u001B[1;32m    311\u001B[0m \u001B[43m        \u001B[49m\u001B[43mclone\u001B[49m\u001B[43m(\u001B[49m\u001B[43mestimator\u001B[49m\u001B[43m)\u001B[49m\u001B[43m,\u001B[49m\n\u001B[1;32m    312\u001B[0m \u001B[43m        \u001B[49m\u001B[43mX\u001B[49m\u001B[43m,\u001B[49m\n\u001B[1;32m    313\u001B[0m \u001B[43m        \u001B[49m\u001B[43my\u001B[49m\u001B[43m,\u001B[49m\n\u001B[1;32m    314\u001B[0m \u001B[43m        \u001B[49m\u001B[43mscorers\u001B[49m\u001B[43m,\u001B[49m\n\u001B[1;32m    315\u001B[0m \u001B[43m        \u001B[49m\u001B[43mtrain\u001B[49m\u001B[43m,\u001B[49m\n\u001B[1;32m    316\u001B[0m \u001B[43m        \u001B[49m\u001B[43mtest\u001B[49m\u001B[43m,\u001B[49m\n\u001B[1;32m    317\u001B[0m \u001B[43m        \u001B[49m\u001B[43mverbose\u001B[49m\u001B[43m,\u001B[49m\n\u001B[1;32m    318\u001B[0m \u001B[43m        \u001B[49m\u001B[38;5;28;43;01mNone\u001B[39;49;00m\u001B[43m,\u001B[49m\n\u001B[1;32m    319\u001B[0m \u001B[43m        \u001B[49m\u001B[43mfit_params\u001B[49m\u001B[43m,\u001B[49m\n\u001B[1;32m    320\u001B[0m \u001B[43m        \u001B[49m\u001B[43mreturn_train_score\u001B[49m\u001B[38;5;241;43m=\u001B[39;49m\u001B[43mreturn_train_score\u001B[49m\u001B[43m,\u001B[49m\n\u001B[1;32m    321\u001B[0m \u001B[43m        \u001B[49m\u001B[43mreturn_times\u001B[49m\u001B[38;5;241;43m=\u001B[39;49m\u001B[38;5;28;43;01mTrue\u001B[39;49;00m\u001B[43m,\u001B[49m\n\u001B[1;32m    322\u001B[0m \u001B[43m        \u001B[49m\u001B[43mreturn_estimator\u001B[49m\u001B[38;5;241;43m=\u001B[39;49m\u001B[43mreturn_estimator\u001B[49m\u001B[43m,\u001B[49m\n\u001B[1;32m    323\u001B[0m \u001B[43m        \u001B[49m\u001B[43merror_score\u001B[49m\u001B[38;5;241;43m=\u001B[39;49m\u001B[43merror_score\u001B[49m\u001B[43m,\u001B[49m\n\u001B[1;32m    324\u001B[0m \u001B[43m    \u001B[49m\u001B[43m)\u001B[49m\n\u001B[1;32m    325\u001B[0m \u001B[43m    \u001B[49m\u001B[38;5;28;43;01mfor\u001B[39;49;00m\u001B[43m \u001B[49m\u001B[43mtrain\u001B[49m\u001B[43m,\u001B[49m\u001B[43m \u001B[49m\u001B[43mtest\u001B[49m\u001B[43m \u001B[49m\u001B[38;5;129;43;01min\u001B[39;49;00m\u001B[43m \u001B[49m\u001B[43mindices\u001B[49m\n\u001B[1;32m    326\u001B[0m \u001B[43m\u001B[49m\u001B[43m)\u001B[49m\n\u001B[1;32m    328\u001B[0m _warn_or_raise_about_fit_failures(results, error_score)\n\u001B[1;32m    330\u001B[0m \u001B[38;5;66;03m# For callable scoring, the return type is only know after calling. If the\u001B[39;00m\n\u001B[1;32m    331\u001B[0m \u001B[38;5;66;03m# return type is a dictionary, the error scores can now be inserted with\u001B[39;00m\n\u001B[1;32m    332\u001B[0m \u001B[38;5;66;03m# the correct key.\u001B[39;00m\n",
      "File \u001B[0;32m~/PycharmProjects/Kaggle/venv/lib/python3.10/site-packages/sklearn/utils/parallel.py:65\u001B[0m, in \u001B[0;36mParallel.__call__\u001B[0;34m(self, iterable)\u001B[0m\n\u001B[1;32m     60\u001B[0m config \u001B[38;5;241m=\u001B[39m get_config()\n\u001B[1;32m     61\u001B[0m iterable_with_config \u001B[38;5;241m=\u001B[39m (\n\u001B[1;32m     62\u001B[0m     (_with_config(delayed_func, config), args, kwargs)\n\u001B[1;32m     63\u001B[0m     \u001B[38;5;28;01mfor\u001B[39;00m delayed_func, args, kwargs \u001B[38;5;129;01min\u001B[39;00m iterable\n\u001B[1;32m     64\u001B[0m )\n\u001B[0;32m---> 65\u001B[0m \u001B[38;5;28;01mreturn\u001B[39;00m \u001B[38;5;28;43msuper\u001B[39;49m\u001B[43m(\u001B[49m\u001B[43m)\u001B[49m\u001B[38;5;241;43m.\u001B[39;49m\u001B[38;5;21;43m__call__\u001B[39;49m\u001B[43m(\u001B[49m\u001B[43miterable_with_config\u001B[49m\u001B[43m)\u001B[49m\n",
      "File \u001B[0;32m~/PycharmProjects/Kaggle/venv/lib/python3.10/site-packages/joblib/parallel.py:1952\u001B[0m, in \u001B[0;36mParallel.__call__\u001B[0;34m(self, iterable)\u001B[0m\n\u001B[1;32m   1946\u001B[0m \u001B[38;5;66;03m# The first item from the output is blank, but it makes the interpreter\u001B[39;00m\n\u001B[1;32m   1947\u001B[0m \u001B[38;5;66;03m# progress until it enters the Try/Except block of the generator and\u001B[39;00m\n\u001B[1;32m   1948\u001B[0m \u001B[38;5;66;03m# reach the first `yield` statement. This starts the aynchronous\u001B[39;00m\n\u001B[1;32m   1949\u001B[0m \u001B[38;5;66;03m# dispatch of the tasks to the workers.\u001B[39;00m\n\u001B[1;32m   1950\u001B[0m \u001B[38;5;28mnext\u001B[39m(output)\n\u001B[0;32m-> 1952\u001B[0m \u001B[38;5;28;01mreturn\u001B[39;00m output \u001B[38;5;28;01mif\u001B[39;00m \u001B[38;5;28mself\u001B[39m\u001B[38;5;241m.\u001B[39mreturn_generator \u001B[38;5;28;01melse\u001B[39;00m \u001B[38;5;28;43mlist\u001B[39;49m\u001B[43m(\u001B[49m\u001B[43moutput\u001B[49m\u001B[43m)\u001B[49m\n",
      "File \u001B[0;32m~/PycharmProjects/Kaggle/venv/lib/python3.10/site-packages/joblib/parallel.py:1595\u001B[0m, in \u001B[0;36mParallel._get_outputs\u001B[0;34m(self, iterator, pre_dispatch)\u001B[0m\n\u001B[1;32m   1592\u001B[0m     \u001B[38;5;28;01myield\u001B[39;00m\n\u001B[1;32m   1594\u001B[0m     \u001B[38;5;28;01mwith\u001B[39;00m \u001B[38;5;28mself\u001B[39m\u001B[38;5;241m.\u001B[39m_backend\u001B[38;5;241m.\u001B[39mretrieval_context():\n\u001B[0;32m-> 1595\u001B[0m         \u001B[38;5;28;01myield from\u001B[39;00m \u001B[38;5;28mself\u001B[39m\u001B[38;5;241m.\u001B[39m_retrieve()\n\u001B[1;32m   1597\u001B[0m \u001B[38;5;28;01mexcept\u001B[39;00m \u001B[38;5;167;01mGeneratorExit\u001B[39;00m:\n\u001B[1;32m   1598\u001B[0m     \u001B[38;5;66;03m# The generator has been garbage collected before being fully\u001B[39;00m\n\u001B[1;32m   1599\u001B[0m     \u001B[38;5;66;03m# consumed. This aborts the remaining tasks if possible and warn\u001B[39;00m\n\u001B[1;32m   1600\u001B[0m     \u001B[38;5;66;03m# the user if necessary.\u001B[39;00m\n\u001B[1;32m   1601\u001B[0m     \u001B[38;5;28mself\u001B[39m\u001B[38;5;241m.\u001B[39m_exception \u001B[38;5;241m=\u001B[39m \u001B[38;5;28;01mTrue\u001B[39;00m\n",
      "File \u001B[0;32m~/PycharmProjects/Kaggle/venv/lib/python3.10/site-packages/joblib/parallel.py:1707\u001B[0m, in \u001B[0;36mParallel._retrieve\u001B[0;34m(self)\u001B[0m\n\u001B[1;32m   1702\u001B[0m \u001B[38;5;66;03m# If the next job is not ready for retrieval yet, we just wait for\u001B[39;00m\n\u001B[1;32m   1703\u001B[0m \u001B[38;5;66;03m# async callbacks to progress.\u001B[39;00m\n\u001B[1;32m   1704\u001B[0m \u001B[38;5;28;01mif\u001B[39;00m ((\u001B[38;5;28mlen\u001B[39m(\u001B[38;5;28mself\u001B[39m\u001B[38;5;241m.\u001B[39m_jobs) \u001B[38;5;241m==\u001B[39m \u001B[38;5;241m0\u001B[39m) \u001B[38;5;129;01mor\u001B[39;00m\n\u001B[1;32m   1705\u001B[0m     (\u001B[38;5;28mself\u001B[39m\u001B[38;5;241m.\u001B[39m_jobs[\u001B[38;5;241m0\u001B[39m]\u001B[38;5;241m.\u001B[39mget_status(\n\u001B[1;32m   1706\u001B[0m         timeout\u001B[38;5;241m=\u001B[39m\u001B[38;5;28mself\u001B[39m\u001B[38;5;241m.\u001B[39mtimeout) \u001B[38;5;241m==\u001B[39m TASK_PENDING)):\n\u001B[0;32m-> 1707\u001B[0m     \u001B[43mtime\u001B[49m\u001B[38;5;241;43m.\u001B[39;49m\u001B[43msleep\u001B[49m\u001B[43m(\u001B[49m\u001B[38;5;241;43m0.01\u001B[39;49m\u001B[43m)\u001B[49m\n\u001B[1;32m   1708\u001B[0m     \u001B[38;5;28;01mcontinue\u001B[39;00m\n\u001B[1;32m   1710\u001B[0m \u001B[38;5;66;03m# We need to be careful: the job list can be filling up as\u001B[39;00m\n\u001B[1;32m   1711\u001B[0m \u001B[38;5;66;03m# we empty it and Python list are not thread-safe by\u001B[39;00m\n\u001B[1;32m   1712\u001B[0m \u001B[38;5;66;03m# default hence the use of the lock\u001B[39;00m\n",
      "\u001B[0;31mKeyboardInterrupt\u001B[0m: "
     ]
    }
   ],
   "source": [
    "N_FOLDS = 5\n",
    "N_REPEATS = 1\n",
    "random_state = 24424422\n",
    "k_fold = RepeatedStratifiedKFold(n_splits=N_FOLDS, n_repeats=N_REPEATS, random_state=random_state)\n",
    "\n",
    "\n",
    "xgb_set_params = {\n",
    "    'objective': 'multi_logloss', \n",
    "    'max_depth': 3, \n",
    "    'learning_rate': 0.010009541152584345, \n",
    "    'n_estimators': 2600,\n",
    "    'min_child_weight': 9, \n",
    "    # 'colsample_bytree': 0.3292032860985591, \n",
    "    # 'reg_alpha': 0.10626128775335533, \n",
    "    # 'reg_lambda': 0.624196407787772, \n",
    "    'tree_method': 'hist', \n",
    "    'eval_metric': 'mlogloss',\n",
    "    # 'subsample': 0.47524425009347593\n",
    "    'random_state': random_state,\n",
    "}\n",
    "\n",
    "cat_set_params = {\n",
    "    'iterations':1000,\n",
    "    # 'depth': 20,\n",
    "    'learning_rate': 0.138112945166,\n",
    "    'l2_leaf_reg': 4.0368544113430485,\n",
    "    'random_strength': 0.1279482215776108,\n",
    "    'max_bin': 238,\n",
    "    'od_wait': 49,\n",
    "    'one_hot_max_size': 39,\n",
    "    'grow_policy': 'Lossguide',\n",
    "    'bootstrap_type': 'Bernoulli',\n",
    "    'od_type': 'IncToDec', #'Iter',    \n",
    "    'min_data_in_leaf': 6,\n",
    "    'loss_function': 'MultiClass',\n",
    "    'verbose': False,\n",
    "}\n",
    "\n",
    "lgbm_set_params = {\n",
    "    'objective': 'multiclass', #'multi_logloss', \n",
    "    'num_class': 3,\n",
    "    'metric': 'multi_logloss',\n",
    "    'max_depth': 21, \n",
    "    'min_child_samples': 14, \n",
    "    'learning_rate': 0.034869481921747415, \n",
    "    'n_estimators': 250, \n",
    "    'min_child_weight': 9, \n",
    "    'colsample_bytree': 0.1702910221565107, \n",
    "    'reg_alpha': 0.10626128775335533, \n",
    "    'reg_lambda': 0.624196407787772, \n",
    "    'verbose': -1,\n",
    "    'random_state': random_state,\n",
    "}\n",
    "\n",
    "# hgb_set_params = {\n",
    "#     # 'learning_rate': 1,\n",
    "#     # 'max_iter': 100,\n",
    "#     'max_leaf_nodes': 31,\n",
    "#     'max_depth': None,\n",
    "#     'min_samples_leaf': 20,\n",
    "#     'l2_regularization': 0,\n",
    "#     'max_bins': 255,\n",
    "#     'categorical_features': [col for col in cat_cols if col != target_col],\n",
    "#     'monotonic_cst': None,\n",
    "#     'interaction_cst': None,\n",
    "#     'scoring': 'log_loss',\n",
    "#     'validation_fraction': 0.1,\n",
    "#     # 'class_weight': None,\n",
    "# }\n",
    "\n",
    "\n",
    "\n",
    "def objective(trial):\n",
    "    xgb_params = (\n",
    "        xgb_set_params | \n",
    "        {  \n",
    "            'reg_alpha': trial.suggest_float(\"xgb_reg_alpha\", 0.025, 0.075, log=False),\n",
    "            'reg_lambda': trial.suggest_float(\"xgb_reg_lambda\", 0.65, 0.8, log=False),    \n",
    "            'subsample': trial.suggest_float(\"xgb_subsample\", 0.4, 0.45, log=False),\n",
    "            'colsample_bytree': trial.suggest_float(\"xgb_colsample_bytree\", 0.4, 0.5, log=False),\n",
    "        })\n",
    "    \n",
    "    cat_params = (\n",
    "        cat_set_params | \n",
    "        {  \n",
    "            'max_depth': trial.suggest_int(\"cat_max_depth\", 10, 25, log=False),\n",
    "        })\n",
    "    \n",
    "    lgbm_max_depth = lgbm_set_params['max_depth']\n",
    "    \n",
    "    lgbm_params = (lgbm_set_params | \n",
    "        {\n",
    "            'num_leaves': 2**lgbm_max_depth - 1 if 2**lgbm_max_depth - 1 <= 131072 else 131072,\n",
    "            # 'min_child_samples': trial.suggest_int(\"lgbm_min_child_samples\", 10, 15, log=False), \n",
    "            'min_gain_to_split': trial.suggest_float(\"lgbm_min_gain_to_split\", 0.0, 0.1, step=0.01),\n",
    "            # 'learning_rate':trial.suggest_float(\"lgbm_learning_rate\", 0.02, 0.04, log=False), \n",
    "            # 'n_estimators': trial.suggest_int(\"lgbm_n_estimators\", 250, 300, step=5), \n",
    "            # 'colsample_bytree': trial.suggest_uniform(\"lgbm_colsample_bytree\", 2/18, 5/18), \n",
    "            'class_weight': trial.suggest_categorical(\"lgbm_class_weight\", ['balanced', None]),            \n",
    "            \n",
    "        })\n",
    "    \n",
    "    # hgb_params = (hgb_set_params | \n",
    "    #     {\n",
    "    #         'learning_rate': trial.suggest_loguniform(\"hgb_learning_rate\", 0.025, 0.25),\n",
    "    #         'max_iter': trial.suggest_int(\"hgb_max_iter\", 100, 500, step=50),\n",
    "    #         # 'max_leaf_nodes': 31,\n",
    "    #         # 'max_depth': None,\n",
    "    #         # 'min_samples_leaf': 20,\n",
    "    #         # 'l2_regularization': 0,\n",
    "    #         # 'max_bins': 255,\n",
    "    #         # 'monotonic_cst': None,\n",
    "    #         # 'interaction_cst': None,\n",
    "    #         # 'scoring': 'log_loss',\n",
    "    #         # 'validation_fraction': 0.1,\n",
    "    #         'class_weight': trial.suggest_categorical(\"hgb_class_weight\", ['balanced', None]),            \n",
    "    #     })\n",
    "    # List of potential classifiers\n",
    "    classifier_options = {\n",
    "        \"XGBClassifier\": XGBClassifier(**xgb_params),\n",
    "        # 'HistGradientBoostingClassifier': HistGradientBoostingClassifier(**hgb_params),\n",
    "        \"CatBoostClassifier\": CatBoostClassifier(**cat_params),\n",
    "        # \"LGBMClassifier\": LGBMClassifier(**lgbm_params),\n",
    "    }\n",
    "    base_classifiers=[(k, v) for k, v in classifier_options.items()]\n",
    "\n",
    "    # # Select two classifiers\n",
    "    # selected_classifier_1 = trial.suggest_categorical(\"base_classifier_1\", list(classifier_options.keys()))\n",
    "    # # c1 = classifier_options.pop(selected_classifier_1)\n",
    "    # selected_classifier_2 = trial.suggest_categorical(\"base_classifier_2\", list(classifier_options.keys()))\n",
    "    # \n",
    "    # if selected_classifier_1 == selected_classifier_2:\n",
    "    #     base_classifiers = [\n",
    "    #         (selected_classifier_1, classifier_options[selected_classifier_1]),         \n",
    "    #     ]\n",
    "    # else:\n",
    "    #     base_classifiers = [\n",
    "    #         (selected_classifier_1, classifier_options[selected_classifier_1]),\n",
    "    #         (selected_classifier_2, classifier_options[selected_classifier_2])\n",
    "    #     ]\n",
    "    \n",
    "    # selected_classifiers = trial.suggest_categorical(\"base_classifiers\", list(classifier_options.keys()))\n",
    "    # base_classifiers = [(selected_classifiers, classifier_options[selected_classifiers])]\n",
    "    \n",
    "    # List of potential meta classifiers\n",
    "    # meta_classifier_options = {\n",
    "    #     \"XGBClassifier\": XGBClassifier(\n",
    "    #         max_depth=trial.suggest_int(\"xgb_max_depth\", 4, 10, log=True),\n",
    "    #         **xgb_params),\n",
    "    #     \"CatBoostClassifier\": CatBoostClassifier(\n",
    "    #         depth=trial.suggest_int(\"cat_depth\", 2, 32, log=True),\n",
    "    #         **cat_params),\n",
    "    #     # \"LGBMClassifier\": LGBMClassifier(\n",
    "    #     #     max_depth=trial.suggest_int(\"lgbm_max_depth\", 6, 9, log=True),\n",
    "    #     #     **lgbm_params),\n",
    "    # }\n",
    "    #     # Select two classifiers\n",
    "    # selected_meta_classifier = trial.suggest_categorical(\"meta_classifier\", list(meta_classifier_options.keys()))\n",
    "    # \n",
    "    # # Meta-classifier\n",
    "    # meta_classifier = meta_classifier_options[selected_meta_classifier]\n",
    "    stack_params = {\n",
    "        'stack_method': 'predict_proba', #trial.suggest_categorical(\"stack_method\", ['predict_proba']),\n",
    "        'passthrough': True #trial.suggest_categorical(\"passthrough\", [True, False])\n",
    "    }\n",
    "    # Stacking Classifier\n",
    "    classifier = StackingClassifier(\n",
    "        estimators=base_classifiers, \n",
    "        final_estimator=LGBMClassifier(**lgbm_params),\n",
    "        # stack_method = 'predict_proba',\n",
    "        # passthrough=True, # final estimator trained on predictions and data\n",
    "        **stack_params\n",
    "    )\n",
    "\n",
    "    score = cross_val_score(classifier, X, y, n_jobs=-1, cv=k_fold, scoring='neg_log_loss')\n",
    "    accuracy = score.mean()\n",
    "    return accuracy\n",
    "\n",
    "study = optuna.create_study(\n",
    "    storage=\"sqlite:///db.sqlite3\",  # Specify the storage URL here.\n",
    "    study_name=\"stacking-v2-1\",\n",
    "    direction='maximize',\n",
    "    load_if_exists=True,\n",
    ")\n",
    "study.optimize(objective, n_trials=10, show_progress_bar=True)\n",
    "\n",
    "print(study.best_trial)\n"
   ],
   "metadata": {
    "collapsed": false,
    "ExecuteTime": {
     "end_time": "2023-12-20T23:13:34.871364Z",
     "start_time": "2023-12-20T22:52:43.748652Z"
    }
   },
   "id": "e132a5f518fdcd42"
  },
  {
   "cell_type": "code",
   "execution_count": 13,
   "outputs": [
    {
     "data": {
      "text/plain": "<Figure size 500x500 with 1 Axes>",
      "image/png": "[encoded data removed]"
     },
     "metadata": {},
     "output_type": "display_data"
    }
   ],
   "source": [
    "best_params = study.best_params\n",
    "\n",
    "lgbm_max_depth = lgbm_set_params['max_depth']\n",
    "\n",
    "classifier_options = {\n",
    "        \"XGBClassifier\": XGBClassifier(**(\n",
    "                xgb_set_params | \n",
    "                {k[4:]:v for k, v in best_params.items() if 'xgb_' in k}\n",
    "        )),\n",
    "        'HistGradientBoostingClassifier': HistGradientBoostingClassifier(**(\n",
    "            hgb_set_params | {k[4:]:v for k, v in best_params.items() if 'hgb_' in k}\n",
    "        )),\n",
    "        # \"CatBoostClassifier\": CatBoostClassifier(**cat_params),\n",
    "        # \"LGBMClassifier\": LGBMClassifier(**lgbm_params),\n",
    "    }\n",
    "base_classifiers=[(k, v) for k, v in classifier_options.items()]\n",
    "\n",
    "classifier = StackingClassifier(\n",
    "        estimators=base_classifiers, \n",
    "        final_estimator=LGBMClassifier(\n",
    "            num_leaves=2**lgbm_max_depth - 1 if 2**lgbm_max_depth - 1 <= 131072 else 131072,\n",
    "            **(\n",
    "                lgbm_set_params | {k[4:]:v for k, v in best_params.items() if 'lgbm_' in k}\n",
    "            )\n",
    "        ),\n",
    "        stack_method=best_params['stack_method'],\n",
    "        passthrough=best_params['passthrough'], # final estimator trained on predictions and data\n",
    "    )\n",
    "\n",
    "classifier.fit(X, y)\n",
    "\n",
    "y_pred_cm = classifier.predict(X)\n",
    "\n",
    "fig, ax = plt.subplots(figsize=(5, 5))\n",
    "cm = confusion_matrix(y, y_pred_cm, labels=classifier.classes_)\n",
    "\n",
    "disp = ConfusionMatrixDisplay(\n",
    "    confusion_matrix=cm, display_labels=classifier.classes_)\n",
    "disp.plot(cmap=plt.cm.Reds, ax= ax, \n",
    "colorbar=False, text_kw={\"fontsize\":12})\n",
    "plt.show()"
   ],
   "metadata": {
    "collapsed": false,
    "ExecuteTime": {
     "end_time": "2023-12-20T22:43:27.463564Z",
     "start_time": "2023-12-20T22:42:06.800910Z"
    }
   },
   "id": "2fe6b07b9347f05a"
  },
  {
   "cell_type": "code",
   "execution_count": 14,
   "outputs": [
    {
     "name": "stdout",
     "output_type": "stream",
     "text": [
      "log loss: 0.20772688822558116\n"
     ]
    }
   ],
   "source": [
    "y_pred = classifier.predict_proba(X)\n",
    "print(f'log loss: {log_loss(y, y_pred)}')"
   ],
   "metadata": {
    "collapsed": false,
    "ExecuteTime": {
     "end_time": "2023-12-20T22:43:27.898562Z",
     "start_time": "2023-12-20T22:43:27.469615Z"
    }
   },
   "id": "2eb5a47f647cfee2"
  },
  {
   "cell_type": "markdown",
   "source": [
    "<table style=\"border: 2px solid purple;\">\n",
    "  <tr>\n",
    "    <th style=\"border: 2px solid purple;\">Version</th>\n",
    "    <th style=\"border: 2px solid purple;\">Log Loss</th>\n",
    "    <th style=\"border: 2px solid purple;\">Public Score</th>\n",
    "    <th style=\"border: 2px solid purple;\">Note</th>\n",
    "  </tr>\n",
    "  <tr>\n",
    "    <td style=\"border: 2px solid purple;\">v2</td>\n",
    "    <td style=\"border: 2px solid purple;\">0.20772688822558116</td>\n",
    "    <td style=\"border: 2px solid purple;\"></td>\n",
    "    <td style=\"border: 2px solid purple;\"></td>\n",
    "  </tr>\n",
    "\n",
    "</table>\n",
    "\n"
   ],
   "metadata": {
    "collapsed": false
   },
   "id": "3e8b60f88184672c"
  },
  {
   "cell_type": "markdown",
   "id": "de15184e",
   "metadata": {
    "papermill": {
     "duration": 0.040391,
     "end_time": "2023-12-12T23:36:14.447401",
     "exception": false,
     "start_time": "2023-12-12T23:36:14.407010",
     "status": "completed"
    },
    "tags": []
   },
   "source": [
    "<a id=\"6\"></a>\n",
    "# <div style= \"font-family: Cambria; font-weight:bold; letter-spacing: 0px; color:white; font-size:120%; text-align:left;padding:3.0px; background: #6A1B9A; border-bottom: 8px solid #9C27B0\" > SUBMISSION<br><div> "
   ]
  },
  {
   "cell_type": "code",
   "execution_count": 15,
   "outputs": [],
   "source": [
    "pred = classifier.predict_proba(test)\n",
    "\n",
    "submission['Status_C'] =  pred[:, 0]\n",
    "submission['Status_CL'] = pred[:, 1]\n",
    "submission['Status_D'] =  pred[:, 2]\n",
    "\n",
    "submission.to_csv('submission.csv', index = False)"
   ],
   "metadata": {
    "collapsed": false,
    "ExecuteTime": {
     "end_time": "2023-12-20T22:44:47.167360Z",
     "start_time": "2023-12-20T22:44:46.859957Z"
    }
   },
   "id": "77dd311f879aecf6"
  },
  {
   "cell_type": "code",
   "execution_count": 16,
   "outputs": [
    {
     "name": "stderr",
     "output_type": "stream",
     "text": [
      "100%|██████████| 337k/337k [00:02<00:00, 127kB/s] \n"
     ]
    },
    {
     "name": "stdout",
     "output_type": "stream",
     "text": [
      "Successfully submitted to Multi-Class Prediction of Cirrhosis OutcomesfileName        date                 description                                            status    publicScore  privateScore  \n",
      "--------------  -------------------  -----------------------------------------------------  --------  -----------  ------------  \n",
      "submission.csv  2023-12-20 22:44:55  Stacking v2                                            complete  0.4095                     \n",
      "submission.csv  2023-12-20 16:15:37  Voting v4-1                                            complete  0.39475                    \n",
      "submission.csv  2023-12-20 13:35:34  Voting v4                                              complete  0.3944                     \n",
      "submission.csv  2023-12-20 01:41:35  Voting v3-1                                            complete  0.396                      \n",
      "submission.csv  2023-12-19 10:58:53  Voting v3-0                                            complete  0.39554                    \n",
      "submission.csv  2023-12-19 09:53:50  Voting v2                                              complete  0.39293                    \n",
      "submission.csv  2023-12-19 08:11:55  Voting v2                                              complete  0.39499                    \n",
      "submission.csv  2023-12-19 05:50:16  Voting v1                                              complete  0.39451                    \n",
      "submission.csv  2023-12-19 00:31:51  Individual boosting: LGBM                              complete  0.40173                    \n",
      "submission.csv  2023-12-13 00:05:36                                                         complete  0.39544                    \n",
      "submission.csv  2023-12-13 00:04:45                                                         complete  0.39541                    \n",
      "submission.csv  2023-12-13 00:00:19                                                         complete  0.39527                    \n",
      "submission.csv  2023-12-12 23:47:24  Initial attempt after correcting the copied notebook.  complete  0.3954                     \n"
     ]
    }
   ],
   "source": [
    "%%bash\n",
    "kaggle competitions submit playground-series-s3e26 -f submission.csv -m \"Stacking v2\"\n",
    "kaggle competitions submissions playground-series-s3e26"
   ],
   "metadata": {
    "collapsed": false,
    "ExecuteTime": {
     "end_time": "2023-12-20T22:44:56.984533Z",
     "start_time": "2023-12-20T22:44:49.855509Z"
    }
   },
   "id": "4106a6bcdb2f9bb9"
  },
  {
   "cell_type": "code",
   "execution_count": null,
   "outputs": [],
   "source": [],
   "metadata": {
    "collapsed": false
   },
   "id": "dad56e6086a7105e"
  }
 ],
 "metadata": {
  "kaggle": {
   "accelerator": "none",
   "dataSources": [
    {
     "databundleVersionId": 7000181,
     "sourceId": 60893,
     "sourceType": "competition"
    },
    {
     "datasetId": 3873965,
     "sourceId": 6724823,
     "sourceType": "datasetVersion"
    }
   ],
   "dockerImageVersionId": 30587,
   "isGpuEnabled": false,
   "isInternetEnabled": true,
   "language": "python",
   "sourceType": "notebook"
  },
  "kernelspec": {
   "display_name": "Python 3",
   "language": "python",
   "name": "python3"
  },
  "language_info": {
   "codemirror_mode": {
    "name": "ipython",
    "version": 3
   },
   "file_extension": ".py",
   "mimetype": "text/x-python",
   "name": "python",
   "nbconvert_exporter": "python",
   "pygments_lexer": "ipython3",
   "version": "3.10.12"
  },
  "papermill": {
   "default_parameters": {},
   "duration": 305.567899,
   "end_time": "2023-12-12T23:36:18.661086",
   "environment_variables": {},
   "exception": null,
   "input_path": "__notebook__.ipynb",
   "output_path": "__notebook__.ipynb",
   "parameters": {},
   "start_time": "2023-12-12T23:31:13.093187",
   "version": "2.4.0"
  }
 },
 "nbformat": 4,
 "nbformat_minor": 5
}
