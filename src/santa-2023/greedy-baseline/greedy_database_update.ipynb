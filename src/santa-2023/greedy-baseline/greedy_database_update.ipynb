{
 "cells": [
  {
   "cell_type": "markdown",
   "source": [
    "# <div style=\"font-family: Cambria; font-weight:bold; letter-spacing: 0px; color:white; font-size:200%; text-align:center;padding:3.0px; background: #6A1B9A; border-bottom: 8px solid #9C27B0\">Santa 2023 - Greedy Baseline</div>\n",
    "#### <div style= \"font-family: Cambria; font-weight:bold; letter-spacing: 0px; color:white; font-size:150%; text-align:left;padding:3.0px; background: #6A1B9A; border-bottom: 8px solid #9C27B0\" >TABLE OF CONTENTS<br><div>\n",
    "* [IMPORTS](#1)\n",
    "* [LOAD DATA](#2)\n",
    "* [FUNCTIONS](#3)\n",
    "* [SOLVE](#4)\n",
    "\n",
    "Code modified from: https://www.kaggle.com/code/crodoc/1-187-898-greedy-baseline-improvement"
   ],
   "metadata": {
    "collapsed": false
   },
   "id": "3f9b3d33a851f8c2"
  },
  {
   "cell_type": "markdown",
   "source": [
    "<a id=\"1\"></a>\n",
    "# <div style= \"font-family: Cambria; font-weight:bold; letter-spacing: 0px; color:white; font-size:120%; text-align:left;padding:3.0px; background: #6A1B9A; border-bottom: 8px solid #9C27B0\" > IMPORTS<br><div> "
   ],
   "metadata": {
    "collapsed": false
   },
   "id": "927a75c9caab4626"
  },
  {
   "cell_type": "code",
   "outputs": [],
   "source": [
    "from tqdm import tqdm\n",
    "\n",
    "\n",
    "import pandas as pd\n",
    "from ast import literal_eval\n",
    "from dataclasses import dataclass\n",
    "import random\n",
    "from sympy.combinatorics import Permutation\n",
    "from typing import Dict, List\n",
    "import zipfile\n",
    "import numpy as np\n",
    "import sqlite3"
   ],
   "metadata": {
    "collapsed": false,
    "ExecuteTime": {
     "end_time": "2023-12-25T15:26:34.600887Z",
     "start_time": "2023-12-25T15:26:33.349974Z"
    }
   },
   "id": "b4a1d9fc3e7d4f99",
   "execution_count": 1
  },
  {
   "cell_type": "code",
   "outputs": [],
   "source": [
    "database_file = '../solutions.db'\n",
    "solution_method = 'greedy database update'"
   ],
   "metadata": {
    "collapsed": false,
    "ExecuteTime": {
     "end_time": "2023-12-25T15:26:34.601838Z",
     "start_time": "2023-12-25T15:26:34.174263Z"
    }
   },
   "id": "60c4a99c6b191523",
   "execution_count": 2
  },
  {
   "cell_type": "markdown",
   "source": [
    "<a id=\"2\"></a>\n",
    "# <div style= \"font-family: Cambria; font-weight:bold; letter-spacing: 0px; color:white; font-size:120%; text-align:left;padding:3.0px; background: #6A1B9A; border-bottom: 8px solid #9C27B0\" >LOAD DATA<br><div> "
   ],
   "metadata": {
    "collapsed": false
   },
   "id": "4be3d027b56234bb"
  },
  {
   "cell_type": "code",
   "outputs": [],
   "source": [
    "with zipfile.ZipFile('../../../res/data/santa-2023.zip', 'r') as z:\n",
    "    \n",
    "    with z.open('puzzle_info.csv') as f:\n",
    "        puzzle_info = pd.read_csv(f, index_col = 'puzzle_type')        \n",
    "                \n",
    "    with z.open('puzzles.csv') as f:\n",
    "        puzzles = pd.read_csv(f, index_col = 'id')\n",
    "    \n",
    "    with z.open('sample_submission.csv') as f:\n",
    "        submission = pd.read_csv(f)"
   ],
   "metadata": {
    "collapsed": false,
    "ExecuteTime": {
     "end_time": "2023-12-25T15:26:34.604922Z",
     "start_time": "2023-12-25T15:26:34.179036Z"
    }
   },
   "id": "42e6380d8e779c22",
   "execution_count": 3
  },
  {
   "cell_type": "code",
   "outputs": [],
   "source": [
    "allowed_moves = {}\n",
    "\n",
    "for idx, row in puzzle_info.iterrows():\n",
    "    allowed_moves[idx] = eval(row['allowed_moves'])"
   ],
   "metadata": {
    "collapsed": false,
    "ExecuteTime": {
     "end_time": "2023-12-25T15:26:35.614724Z",
     "start_time": "2023-12-25T15:26:34.354949Z"
    }
   },
   "id": "1b3a29e1aa2c8727",
   "execution_count": 4
  },
  {
   "cell_type": "code",
   "outputs": [],
   "source": [],
   "metadata": {
    "collapsed": false,
    "ExecuteTime": {
     "end_time": "2023-12-25T15:26:35.617890Z",
     "start_time": "2023-12-25T15:26:35.615263Z"
    }
   },
   "id": "d44c5c3d42fc1f95",
   "execution_count": 4
  },
  {
   "cell_type": "markdown",
   "source": [
    "<a id=\"3\"></a>\n",
    "# <div style= \"font-family: Cambria; font-weight:bold; letter-spacing: 0px; color:white; font-size:120%; text-align:left;padding:3.0px; background: #6A1B9A; border-bottom: 8px solid #9C27B0\" >FUNCTIONS<br><div> "
   ],
   "metadata": {
    "collapsed": false
   },
   "id": "9784e86482d58ff4"
  },
  {
   "cell_type": "code",
   "outputs": [],
   "source": [
    "def move_state(state, move, moves_pool):\n",
    "    \n",
    "    if '-' in move:\n",
    "        move = move[1:]\n",
    "        rev = True\n",
    "    else:\n",
    "        rev = False\n",
    "\n",
    "    move = moves_pool[move]\n",
    "\n",
    "    if rev:\n",
    "        new_state = state[:]\n",
    "        for i in range(len(move)):\n",
    "            new_state[move[i]] = state[i]\n",
    "        state = new_state\n",
    "    else:\n",
    "        state = [state[idx] for idx in move]\n",
    "    \n",
    "    return state\n",
    "\n",
    "def solve_puzzle(puzzle_id, database_file):\n",
    "    \n",
    "    current_puzzle = puzzles.loc[puzzle_id]\n",
    "    puzzle_type = current_puzzle['puzzle_type']\n",
    "    initial_state = current_puzzle['initial_state']\n",
    "    solution_state = current_puzzle['solution_state']\n",
    "    \n",
    "    moves_pool = allowed_moves[puzzle_type]\n",
    "    \n",
    "    # Connect to the SQLite database\n",
    "    conn = sqlite3.connect(database_file)\n",
    "    cursor = conn.cursor()\n",
    "    \n",
    "    select_query = \"SELECT moves FROM solutions WHERE id = ?\"\n",
    "            \n",
    "    # Execute the query\n",
    "    cursor.execute(select_query, (game_id,))\n",
    "    moves = cursor.fetchone()[0].split('.')\n",
    "    \n",
    "    # moves = submission.loc[puzzle_id]['moves'].split('.')\n",
    "    \n",
    "    \n",
    "    state = initial_state.split(';')\n",
    "    \n",
    "    state_list = []\n",
    "    state_list.append(state)\n",
    "    \n",
    "    for move in moves:\n",
    "        state = move_state(state, move, moves_pool)\n",
    "        state_list.append(state)\n",
    "    \n",
    "    state_to_idx = {}\n",
    "    for idx in range(len(state_list)):\n",
    "        state_to_idx[';'.join(state_list[idx])] = idx\n",
    "    \n",
    "    res = []\n",
    "    idx = 0\n",
    "    \n",
    "    # ignore last state\n",
    "    for curr_idx in tqdm(list(range(len(state_list)-1))):\n",
    "        \n",
    "        if curr_idx != idx:\n",
    "            continue\n",
    "        \n",
    "        state = state_list[idx]\n",
    "        \n",
    "        new_idx = -1\n",
    "        new_move = ''\n",
    "        \n",
    "        for move in moves_pool:\n",
    "            for reversed_move in ['', '-']:\n",
    "                move = reversed_move + move\n",
    "                \n",
    "                new_state = ';'.join(move_state(state, move, moves_pool))\n",
    "                \n",
    "                if new_state in state_to_idx:\n",
    "                    tmp_idx = state_to_idx[new_state]\n",
    "\n",
    "                    if tmp_idx > new_idx:\n",
    "                        new_idx = tmp_idx\n",
    "                        new_move = move\n",
    "        \n",
    "        idx = new_idx\n",
    "        res.append(new_move)\n",
    "            \n",
    "    print('PUZZLE_ID:', puzzle_id)\n",
    "    print('MOVES BEFORE:', len(state_list)-1)\n",
    "    print('MOVES AFTER:', len(res))\n",
    "    print()\n",
    "    \n",
    "    return '.'.join(res)"
   ],
   "metadata": {
    "collapsed": false,
    "ExecuteTime": {
     "end_time": "2023-12-25T15:26:35.631466Z",
     "start_time": "2023-12-25T15:26:35.628109Z"
    }
   },
   "id": "87cc688dfa4b7b1d",
   "execution_count": 5
  },
  {
   "cell_type": "markdown",
   "source": [
    "<a id=\"4\"></a>\n",
    "# <div style= \"font-family: Cambria; font-weight:bold; letter-spacing: 0px; color:white; font-size:120%; text-align:left;padding:3.0px; background: #6A1B9A; border-bottom: 8px solid #9C27B0\" >SOLVE<br><div> "
   ],
   "metadata": {
    "collapsed": false
   },
   "id": "580cda3cf75e39aa"
  },
  {
   "cell_type": "code",
   "outputs": [
    {
     "name": "stderr",
     "output_type": "stream",
     "text": [
      "100%|██████████| 84619/84619 [1:50:13<00:00, 12.79it/s]  \n"
     ]
    },
    {
     "name": "stdout",
     "output_type": "stream",
     "text": [
      "PUZZLE_ID: 281\n",
      "MOVES BEFORE: 84619\n",
      "MOVES AFTER: 83567\n"
     ]
    }
   ],
   "source": [
    "database_file = '../solutions.db'\n",
    "solution_method = 'greedy baseline'\n",
    "\n",
    "# Connect to the SQLite database\n",
    "conn = sqlite3.connect(database_file)\n",
    "cursor = conn.cursor()\n",
    "for game_id in puzzles.index:\n",
    "    \n",
    "    if game_id not in range(281, 282):\n",
    "        continue\n",
    "    \n",
    "    solution = solve_puzzle(game_id, database_file)\n",
    "    move_count = len(solution.split('.'))\n",
    "    \n",
    "    select_query = \"SELECT count, solution_method FROM solutions WHERE id = ?\"\n",
    "        \n",
    "    # Execute the query\n",
    "    cursor.execute(select_query, (game_id,))\n",
    "    response = cursor.fetchone()\n",
    "    \n",
    "    best_move_count = response[0]\n",
    "    best_solution_method = response[1]\n",
    "    \n",
    "    if best_move_count > move_count:\n",
    "        # Insert the moves into the database\n",
    "        insert_query = \"INSERT OR REPLACE INTO solutions (id, moves, count, solution_method) VALUES (?, ?, ?, ?)\"\n",
    "        cursor.execute(insert_query, (game_id, solution, move_count, f'{solution_method}: {best_solution_method}'))\n",
    "        conn.commit()\n",
    "\n",
    "# Commit the changes and close the connection\n",
    "conn.commit()\n",
    "conn.close()"
   ],
   "metadata": {
    "collapsed": false,
    "ExecuteTime": {
     "end_time": "2023-12-27T07:45:47.505003Z",
     "start_time": "2023-12-27T05:54:44.671633Z"
    }
   },
   "id": "7aa9b7d7563df1e7",
   "execution_count": 13
  },
  {
   "cell_type": "code",
   "outputs": [],
   "source": [],
   "metadata": {
    "collapsed": false,
    "ExecuteTime": {
     "end_time": "2023-12-25T16:08:24.776356Z",
     "start_time": "2023-12-25T16:08:24.586537Z"
    }
   },
   "id": "792eeed4bc92aa7",
   "execution_count": 6
  }
 ],
 "metadata": {
  "kernelspec": {
   "display_name": "Python 3",
   "language": "python",
   "name": "python3"
  },
  "language_info": {
   "codemirror_mode": {
    "name": "ipython",
    "version": 2
   },
   "file_extension": ".py",
   "mimetype": "text/x-python",
   "name": "python",
   "nbconvert_exporter": "python",
   "pygments_lexer": "ipython2",
   "version": "2.7.6"
  }
 },
 "nbformat": 4,
 "nbformat_minor": 5
}
