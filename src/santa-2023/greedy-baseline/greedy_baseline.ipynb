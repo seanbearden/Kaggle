{
 "cells": [
  {
   "cell_type": "markdown",
   "source": [
    "# <div style=\"font-family: Cambria; font-weight:bold; letter-spacing: 0px; color:white; font-size:200%; text-align:center;padding:3.0px; background: #6A1B9A; border-bottom: 8px solid #9C27B0\">Santa 2023 - Greedy Baseline</div>\n",
    "#### <div style= \"font-family: Cambria; font-weight:bold; letter-spacing: 0px; color:white; font-size:150%; text-align:left;padding:3.0px; background: #6A1B9A; border-bottom: 8px solid #9C27B0\" >TABLE OF CONTENTS<br><div>\n",
    "* [IMPORTS](#1)\n",
    "* [LOAD DATA](#2)\n",
    "* [FUNCTIONS](#3)\n",
    "* [SOLVE](#4)\n",
    "\n",
    "Code modified from: https://www.kaggle.com/code/crodoc/1-187-898-greedy-baseline-improvement"
   ],
   "metadata": {
    "collapsed": false
   },
   "id": "3f9b3d33a851f8c2"
  },
  {
   "cell_type": "markdown",
   "source": [
    "<a id=\"1\"></a>\n",
    "# <div style= \"font-family: Cambria; font-weight:bold; letter-spacing: 0px; color:white; font-size:120%; text-align:left;padding:3.0px; background: #6A1B9A; border-bottom: 8px solid #9C27B0\" > IMPORTS<br><div> "
   ],
   "metadata": {
    "collapsed": false
   },
   "id": "927a75c9caab4626"
  },
  {
   "cell_type": "code",
   "outputs": [],
   "source": [
    "from tqdm import tqdm\n",
    "\n",
    "\n",
    "import pandas as pd\n",
    "from ast import literal_eval\n",
    "from dataclasses import dataclass\n",
    "import random\n",
    "from sympy.combinatorics import Permutation\n",
    "from typing import Dict, List\n",
    "import zipfile\n",
    "import numpy as np\n",
    "import sqlite3"
   ],
   "metadata": {
    "collapsed": false,
    "ExecuteTime": {
     "end_time": "2023-12-24T17:52:39.544218Z",
     "start_time": "2023-12-24T17:52:39.310735Z"
    }
   },
   "id": "b4a1d9fc3e7d4f99",
   "execution_count": 1
  },
  {
   "cell_type": "markdown",
   "source": [
    "<a id=\"2\"></a>\n",
    "# <div style= \"font-family: Cambria; font-weight:bold; letter-spacing: 0px; color:white; font-size:120%; text-align:left;padding:3.0px; background: #6A1B9A; border-bottom: 8px solid #9C27B0\" >LOAD DATA<br><div> "
   ],
   "metadata": {
    "collapsed": false
   },
   "id": "4be3d027b56234bb"
  },
  {
   "cell_type": "code",
   "outputs": [],
   "source": [
    "with zipfile.ZipFile('../../../res/data/santa-2023.zip', 'r') as z:\n",
    "    \n",
    "    with z.open('puzzle_info.csv') as f:\n",
    "        puzzle_info = pd.read_csv(f, index_col = 'puzzle_type')        \n",
    "                \n",
    "    with z.open('puzzles.csv') as f:\n",
    "        puzzles = pd.read_csv(f, index_col = 'id')\n",
    "    \n",
    "    with z.open('sample_submission.csv') as f:\n",
    "        submission = pd.read_csv(f)"
   ],
   "metadata": {
    "collapsed": false,
    "ExecuteTime": {
     "end_time": "2023-12-24T17:52:39.649107Z",
     "start_time": "2023-12-24T17:52:39.547015Z"
    }
   },
   "id": "42e6380d8e779c22",
   "execution_count": 2
  },
  {
   "cell_type": "code",
   "outputs": [],
   "source": [
    "allowed_moves = {}\n",
    "\n",
    "for idx, row in puzzle_info.iterrows():\n",
    "    allowed_moves[idx] = eval(row['allowed_moves'])"
   ],
   "metadata": {
    "collapsed": false,
    "ExecuteTime": {
     "end_time": "2023-12-24T17:52:40.727779Z",
     "start_time": "2023-12-24T17:52:39.711480Z"
    }
   },
   "id": "1b3a29e1aa2c8727",
   "execution_count": 3
  },
  {
   "cell_type": "code",
   "outputs": [],
   "source": [],
   "metadata": {
    "collapsed": false,
    "ExecuteTime": {
     "end_time": "2023-12-24T17:52:40.732194Z",
     "start_time": "2023-12-24T17:52:40.728665Z"
    }
   },
   "id": "d44c5c3d42fc1f95",
   "execution_count": 3
  },
  {
   "cell_type": "markdown",
   "source": [
    "<a id=\"3\"></a>\n",
    "# <div style= \"font-family: Cambria; font-weight:bold; letter-spacing: 0px; color:white; font-size:120%; text-align:left;padding:3.0px; background: #6A1B9A; border-bottom: 8px solid #9C27B0\" >FUNCTIONS<br><div> "
   ],
   "metadata": {
    "collapsed": false
   },
   "id": "9784e86482d58ff4"
  },
  {
   "cell_type": "code",
   "outputs": [],
   "source": [
    "def move_state(state, move, moves_pool):\n",
    "    \n",
    "    if '-' in move:\n",
    "        move = move[1:]\n",
    "        rev = True\n",
    "    else:\n",
    "        rev = False\n",
    "\n",
    "    move = moves_pool[move]\n",
    "\n",
    "    if rev:\n",
    "        new_state = state[:]\n",
    "        for i in range(len(move)):\n",
    "            new_state[move[i]] = state[i]\n",
    "        state = new_state\n",
    "    else:\n",
    "        state = [state[idx] for idx in move]\n",
    "    \n",
    "    return state\n",
    "\n",
    "def solve_puzzle(puzzle_id):\n",
    "    \n",
    "    current_puzzle = puzzles.loc[puzzle_id]\n",
    "    puzzle_type = current_puzzle['puzzle_type']\n",
    "    initial_state = current_puzzle['initial_state']\n",
    "    solution_state = current_puzzle['solution_state']\n",
    "    \n",
    "    moves = submission.loc[puzzle_id]['moves'].split('.')\n",
    "    moves_pool = allowed_moves[puzzle_type]\n",
    "    \n",
    "    state = initial_state.split(';')\n",
    "    \n",
    "    state_list = []\n",
    "    state_list.append(state)\n",
    "    \n",
    "    for move in moves:\n",
    "        state = move_state(state, move, moves_pool)\n",
    "        state_list.append(state)\n",
    "    \n",
    "    state_to_idx = {}\n",
    "    for idx in range(len(state_list)):\n",
    "        state_to_idx[';'.join(state_list[idx])] = idx\n",
    "    \n",
    "    res = []\n",
    "    idx = 0\n",
    "    \n",
    "    # ignore last state\n",
    "    for curr_idx in tqdm(list(range(len(state_list)-1))):\n",
    "        \n",
    "        if curr_idx != idx:\n",
    "            continue\n",
    "        \n",
    "        state = state_list[idx]\n",
    "        \n",
    "        new_idx = -1\n",
    "        new_move = ''\n",
    "        \n",
    "        for move in moves_pool:\n",
    "            for reversed_move in ['', '-']:\n",
    "                move = reversed_move + move\n",
    "                \n",
    "                new_state = ';'.join(move_state(state, move, moves_pool))\n",
    "                \n",
    "                if new_state in state_to_idx:\n",
    "                    tmp_idx = state_to_idx[new_state]\n",
    "\n",
    "                    if tmp_idx > new_idx:\n",
    "                        new_idx = tmp_idx\n",
    "                        new_move = move\n",
    "        \n",
    "        idx = new_idx\n",
    "        res.append(new_move)\n",
    "            \n",
    "    print('PUZZLE_ID:', puzzle_id)\n",
    "    print('MOVES BEFORE:', len(state_list)-1)\n",
    "    print('MOVES AFTER:', len(res))\n",
    "    print()\n",
    "    \n",
    "    return '.'.join(res)"
   ],
   "metadata": {
    "collapsed": false,
    "ExecuteTime": {
     "end_time": "2023-12-24T17:52:40.748261Z",
     "start_time": "2023-12-24T17:52:40.743951Z"
    }
   },
   "id": "87cc688dfa4b7b1d",
   "execution_count": 4
  },
  {
   "cell_type": "markdown",
   "source": [
    "<a id=\"4\"></a>\n",
    "# <div style= \"font-family: Cambria; font-weight:bold; letter-spacing: 0px; color:white; font-size:120%; text-align:left;padding:3.0px; background: #6A1B9A; border-bottom: 8px solid #9C27B0\" >SOLVE<br><div> "
   ],
   "metadata": {
    "collapsed": false
   },
   "id": "580cda3cf75e39aa"
  },
  {
   "cell_type": "code",
   "outputs": [
    {
     "name": "stderr",
     "output_type": "stream",
     "text": [
      "100%|██████████| 123431/123431 [2:30:12<00:00, 13.70it/s] \n"
     ]
    },
    {
     "name": "stdout",
     "output_type": "stream",
     "text": [
      "PUZZLE_ID: 281\n",
      "MOVES BEFORE: 123431\n",
      "MOVES AFTER: 120225\n"
     ]
    },
    {
     "name": "stderr",
     "output_type": "stream",
     "text": [
      "100%|██████████| 139629/139629 [3:00:24<00:00, 12.90it/s]  \n"
     ]
    },
    {
     "name": "stdout",
     "output_type": "stream",
     "text": [
      "PUZZLE_ID: 282\n",
      "MOVES BEFORE: 139629\n",
      "MOVES AFTER: 139589\n"
     ]
    },
    {
     "name": "stderr",
     "output_type": "stream",
     "text": [
      "100%|██████████| 109140/109140 [2:43:41<00:00, 11.11it/s] \n"
     ]
    },
    {
     "name": "stdout",
     "output_type": "stream",
     "text": [
      "PUZZLE_ID: 283\n",
      "MOVES BEFORE: 109140\n",
      "MOVES AFTER: 108708\n"
     ]
    }
   ],
   "source": [
    "database_file = '../solutions.db'\n",
    "solution_method = 'greedy baseline'\n",
    "\n",
    "# Connect to the SQLite database\n",
    "conn = sqlite3.connect(database_file)\n",
    "cursor = conn.cursor()\n",
    "for game_id in puzzles.index:\n",
    "    \n",
    "    if game_id not in [281, 282, 283]:\n",
    "        continue\n",
    "    \n",
    "    solution = solve_puzzle(game_id)\n",
    "    move_count = len(solution.split('.'))\n",
    "    \n",
    "    select_query = \"SELECT count FROM solutions WHERE id = ?\"\n",
    "        \n",
    "    # Execute the query\n",
    "    cursor.execute(select_query, (game_id,))\n",
    "    best_move_count = cursor.fetchone()\n",
    "    \n",
    "    if best_move_count[0] >= move_count:\n",
    "        # Insert the moves into the database\n",
    "        insert_query = \"INSERT OR REPLACE INTO solutions (id, moves, count, solution_method) VALUES (?, ?, ?, ?)\"\n",
    "        cursor.execute(insert_query, (game_id, solution, move_count, solution_method))\n",
    "        conn.commit()\n",
    "\n",
    "# Commit the changes and close the connection\n",
    "conn.commit()\n",
    "conn.close()"
   ],
   "metadata": {
    "collapsed": false,
    "ExecuteTime": {
     "end_time": "2023-12-25T02:58:51.234280Z",
     "start_time": "2023-12-24T18:41:16.299772Z"
    }
   },
   "id": "7aa9b7d7563df1e7",
   "execution_count": 7
  },
  {
   "cell_type": "code",
   "outputs": [],
   "source": [],
   "metadata": {
    "collapsed": false,
    "ExecuteTime": {
     "end_time": "2023-12-24T18:33:32.158542Z",
     "start_time": "2023-12-24T18:33:32.153283Z"
    }
   },
   "id": "792eeed4bc92aa7",
   "execution_count": 5
  },
  {
   "cell_type": "code",
   "outputs": [
    {
     "data": {
      "text/plain": "(20693,)"
     },
     "execution_count": 6,
     "metadata": {},
     "output_type": "execute_result"
    }
   ],
   "source": [
    "best_move_count"
   ],
   "metadata": {
    "collapsed": false,
    "ExecuteTime": {
     "end_time": "2023-12-24T18:33:32.159528Z",
     "start_time": "2023-12-24T18:33:32.153784Z"
    }
   },
   "id": "3465b0af853276bf",
   "execution_count": 6
  },
  {
   "cell_type": "code",
   "outputs": [],
   "source": [],
   "metadata": {
    "collapsed": false,
    "ExecuteTime": {
     "end_time": "2023-12-24T18:33:32.159776Z",
     "start_time": "2023-12-24T18:33:32.153981Z"
    }
   },
   "id": "bdea8852ff1e0828",
   "execution_count": 6
  }
 ],
 "metadata": {
  "kernelspec": {
   "display_name": "Python 3",
   "language": "python",
   "name": "python3"
  },
  "language_info": {
   "codemirror_mode": {
    "name": "ipython",
    "version": 2
   },
   "file_extension": ".py",
   "mimetype": "text/x-python",
   "name": "python",
   "nbconvert_exporter": "python",
   "pygments_lexer": "ipython2",
   "version": "2.7.6"
  }
 },
 "nbformat": 4,
 "nbformat_minor": 5
}
