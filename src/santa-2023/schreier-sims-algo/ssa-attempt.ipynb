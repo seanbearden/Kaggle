{
 "cells": [
  {
   "cell_type": "markdown",
   "source": [
    "# <div style=\"font-family: Cambria; font-weight:bold; letter-spacing: 0px; color:white; font-size:200%; text-align:center;padding:3.0px; background: #6A1B9A; border-bottom: 8px solid #9C27B0\">Santa 2023 - Schreier-Sims Algorithm</div>\n",
    "#### <div style= \"font-family: Cambria; font-weight:bold; letter-spacing: 0px; color:white; font-size:150%; text-align:left;padding:3.0px; background: #6A1B9A; border-bottom: 8px solid #9C27B0\" >TABLE OF CONTENTS<br><div>\n",
    "* [IMPORTS](#1)\n",
    "* [LOAD DATA](#2)\n",
    "* [FUNCTIONS](#3)\n",
    "* [SOLVE](#4)\n",
    "\n",
    "Attempt at implementing Schreier-Sims Algorithm on the cube puzzles\n",
    "\n",
    "Using GitHub code from https://github.com/jix/permutation_group_experiments\n"
   ],
   "metadata": {
    "collapsed": false
   },
   "id": "c7cd5d12c1014b0b"
  },
  {
   "cell_type": "markdown",
   "source": [
    "<a id=\"1\"></a>\n",
    "# <div style= \"font-family: Cambria; font-weight:bold; letter-spacing: 0px; color:white; font-size:120%; text-align:left;padding:3.0px; background: #6A1B9A; border-bottom: 8px solid #9C27B0\" > IMPORTS<br><div> "
   ],
   "metadata": {
    "collapsed": false
   },
   "id": "2f24bb3ba90a6bc3"
  },
  {
   "cell_type": "code",
   "outputs": [],
   "source": [
    "import numpy as np\n",
    "import os\n",
    "import pandas as pd\n",
    "from sympy.combinatorics import Permutation, PermutationGroup\n",
    "import zipfile\n",
    "\n",
    "from permutation_group_experiments.schreiersims import *\n",
    "\n",
    "os.chdir('rubiks-cube-NxNxN-solver')\n",
    "# Print the current working directory\n",
    "# print(\"Current Working Directory: \", os.getcwd())\n",
    "\n",
    "database_file = '../../solutions.db'\n",
    "solution_method = \"dwalton76 NxNxN w/ Schreier-Sim\""
   ],
   "metadata": {
    "collapsed": false,
    "ExecuteTime": {
     "end_time": "2024-01-06T21:07:41.297217Z",
     "start_time": "2024-01-06T21:07:40.708131Z"
    }
   },
   "id": "a1523e843240f2a0",
   "execution_count": 1
  },
  {
   "cell_type": "markdown",
   "source": [
    "<a id=\"2\"></a>\n",
    "# <div style= \"font-family: Cambria; font-weight:bold; letter-spacing: 0px; color:white; font-size:120%; text-align:left;padding:3.0px; background: #6A1B9A; border-bottom: 8px solid #9C27B0\" >LOAD DATA<br><div> "
   ],
   "metadata": {
    "collapsed": false
   },
   "id": "7c586a8bc40a92f"
  },
  {
   "cell_type": "code",
   "outputs": [],
   "source": [
    "with zipfile.ZipFile('../../../../res/data/santa-2023.zip', 'r') as z:\n",
    "    \n",
    "    with z.open('puzzle_info.csv') as f:\n",
    "        puzzle_info = pd.read_csv(f, index_col = 'puzzle_type')        \n",
    "                \n",
    "    with z.open('puzzles.csv') as f:\n",
    "        puzzles = pd.read_csv(f, index_col='id')\n",
    "    \n",
    "    with z.open('sample_submission.csv') as f:\n",
    "        submission = pd.read_csv(f)"
   ],
   "metadata": {
    "collapsed": false,
    "ExecuteTime": {
     "end_time": "2024-01-06T21:07:41.389493Z",
     "start_time": "2024-01-06T21:07:41.289189Z"
    }
   },
   "id": "de794a0d1ffacbb8",
   "execution_count": 2
  },
  {
   "cell_type": "markdown",
   "source": [
    "<a id=\"3\"></a>\n",
    "# <div style= \"font-family: Cambria; font-weight:bold; letter-spacing: 0px; color:white; font-size:120%; text-align:left;padding:3.0px; background: #6A1B9A; border-bottom: 8px solid #9C27B0\" >FUNCTIONS<br><div>\n",
    " "
   ],
   "metadata": {
    "collapsed": false
   },
   "id": "1eeba20bd35f6e74"
  },
  {
   "cell_type": "code",
   "outputs": [],
   "source": [
    "def fmt_large_num(x):\n",
    "    return re.subn(r'(?<=\\d)(?=(\\d{3})+$)', ',', str(x))[0]\n",
    "\n",
    "\n",
    "def add_rubiks_gens(grp, generators):\n",
    "    for gen in generators:\n",
    "        grp.add_gen(gen)\n",
    "\n",
    "\n",
    "def print_all_stats(grp):\n",
    "    print_sgs_stats(grp)\n",
    "    print_performance_stats(grp)\n",
    "\n",
    "\n",
    "def print_sgs_stats(grp):\n",
    "    print(f\"  group order = {fmt_large_num(grp.order())}\")\n",
    "    print(f\"  strong generating set base = {grp.base()}\")\n",
    "    print(f\"  strong generating set size = {len(grp.generators())}\")\n",
    "\n",
    "\n",
    "def print_performance_stats(grp):\n",
    "    print(f\"  took {fmt_large_num(grp.cfg.stats.products)} group products\")\n",
    "    if grp.cfg.stats.rounds:\n",
    "        print(f\"  took {grp.cfg.stats.rounds} sifting rounds\")\n"
   ],
   "metadata": {
    "collapsed": false,
    "ExecuteTime": {
     "end_time": "2024-01-06T21:07:41.394719Z",
     "start_time": "2024-01-06T21:07:41.392756Z"
    }
   },
   "id": "177c2e56551f52c8",
   "execution_count": 3
  },
  {
   "cell_type": "code",
   "outputs": [],
   "source": [
    "def state2ubl(state):\n",
    "    U_dict = {\n",
    "        'A': 'U',\n",
    "        'B': 'F',\n",
    "        'C': 'R',\n",
    "        'D': 'B',\n",
    "        'E': 'L',\n",
    "        'F': 'D',\n",
    "    }\n",
    "    state_split = state.split(';')\n",
    "    dim = int(np.sqrt(len(state_split) // 6))\n",
    "    dim_2 = dim**2\n",
    "    \n",
    "    s = ''.join([U_dict[f] for f in state_split])\n",
    "    \n",
    "    return s[:dim_2] + s[2*dim_2:3*dim_2] + s[dim_2:2*dim_2] + s[5*dim_2:] + s[4*dim_2:5*dim_2] + s[3*dim_2:4*dim_2]\n",
    "\n",
    "\n",
    "def relabel_NxNxN_index(state):\n",
    "    # Split the string into individual elements.\n",
    "    if type(state) != list:\n",
    "        state_list = state.split(';')\n",
    "    else:\n",
    "        state_list = state.copy()\n",
    "    \n",
    "    dim = int(np.sqrt(len(state_list) // 6))\n",
    "    dim_2 = dim**2\n",
    "    \n",
    "    for i, num in enumerate(state_list):\n",
    "        # Replace based on the given criteria.\n",
    "        if 0 <= num < dim_2:\n",
    "            state_list[i] = 'A'\n",
    "        elif dim_2 <= num < 2*dim_2:\n",
    "            state_list[i] = 'B'\n",
    "        elif 2*dim_2 <= num < 3*dim_2:\n",
    "            state_list[i] = 'C'\n",
    "        elif 3*dim_2 <= num < 4*dim_2:\n",
    "            state_list[i] = 'D'\n",
    "        elif 4*dim_2 <= num < 5*dim_2:\n",
    "            state_list[i] = 'E'\n",
    "        elif 5*dim_2 <= num < 6*dim_2:\n",
    "            state_list[i] = 'F'\n",
    "\n",
    "    return ';'.join(state_list)  "
   ],
   "metadata": {
    "collapsed": false,
    "ExecuteTime": {
     "end_time": "2024-01-06T21:07:41.404432Z",
     "start_time": "2024-01-06T21:07:41.400178Z"
    }
   },
   "id": "7505458e3ba4e9af",
   "execution_count": 4
  },
  {
   "cell_type": "code",
   "outputs": [],
   "source": [
    "def get_moves(allowed_moves):\n",
    "    if type(allowed_moves) == str:\n",
    "        moves = eval(allowed_moves)\n",
    "    else:\n",
    "        moves = allowed_moves\n",
    "        \n",
    "    for move in list(moves):\n",
    "        moves['-'+move] = np.argsort(moves[move]).tolist()\n",
    "    return moves\n",
    "\n",
    "def apply_moves(initial_state, moves, mmoves):\n",
    "    state = initial_state.split(\";\")\n",
    "    for move_name in mmoves.split('.'):\n",
    "        # print(move_name)\n",
    "        state = [state[i] for i in moves[move_name]]\n",
    "    \n",
    "    return ';'.join(state)"
   ],
   "metadata": {
    "collapsed": false,
    "ExecuteTime": {
     "end_time": "2024-01-06T21:07:41.408889Z",
     "start_time": "2024-01-06T21:07:41.404237Z"
    }
   },
   "id": "e542e734f79a38de",
   "execution_count": 5
  },
  {
   "cell_type": "code",
   "outputs": [],
   "source": [
    "def sym_rotations(dim, mmoves, new_state, sol_state, num_wildcards, wildcard=False):\n",
    "    I = ['.'.join([f'{j}{i}' for i in range(dim)]) for j in ['r', 'd', 'f']]\n",
    "    manipulations = (\n",
    "            [''] + \n",
    "            I + \n",
    "            [i1 + '.' + i2 for i1 in I for i2 in I] +\n",
    "            [i1 + '.' + i2+ '.' + i3 for i1 in I for i2 in I for i3 in I] +\n",
    "            [i1 + '.' + i2+ '.' + i3 + '.' + i4 for i1 in I for i2 in I for i3 in I for i4 in I]\n",
    "    )\n",
    "    \n",
    "    for rotation in manipulations:\n",
    "        temp_state = new_state\n",
    "        if len(rotation) > 0:\n",
    "            for move in rotation.split('.'):\n",
    "                temp_state = ';'.join(list(np.asarray(temp_state.split(';'))[np.array(moves[move])]))\n",
    "        \n",
    "        if wildcard: \n",
    "            total_correct = np.sum([sol_state[i] == ns for i, ns in enumerate(temp_state.split(';'))])\n",
    "            if total_correct >= 6*(dim**2) - num_wildcards:\n",
    "                # print(f'solved id: {id}')\n",
    "                if len(rotation) > 0:\n",
    "                    mmoves += '.' + rotation\n",
    "                break\n",
    "        else:\n",
    "            if temp_state == sol_state:\n",
    "                # print(f'solved id: {id}')\n",
    "                if len(rotation) > 0:\n",
    "                    mmoves += '.' + rotation\n",
    "                break\n",
    "                \n",
    "    return temp_state, mmoves"
   ],
   "metadata": {
    "collapsed": false,
    "ExecuteTime": {
     "end_time": "2024-01-06T21:07:41.417735Z",
     "start_time": "2024-01-06T21:07:41.410868Z"
    }
   },
   "id": "b85d05fc0b98d853",
   "execution_count": 6
  },
  {
   "cell_type": "code",
   "outputs": [],
   "source": [
    "def move_translation(dim):\n",
    "    M = {}\n",
    "    M[\"U\"] = f'-d{dim-1}'\n",
    "    M[\"R\"] = \"r0\"\n",
    "    M[\"B\"] = f\"-f{dim-1}\"\n",
    "    M[\"F\"] = \"f0\"\n",
    "    M[\"L\"] = f\"-r{dim-1}\"\n",
    "    M[\"D\"] = \"d0\"\n",
    "    \n",
    "    \n",
    "    I = ['.'.join([f'{j}{i}' for i in range(dim)]) for j in ['r', 'f', 'd']]\n",
    "    for i, j in enumerate(['x', 'y', 'z']):\n",
    "        M[j] = I[i]\n",
    "\n",
    "    if dim > 3:\n",
    "        M[\"Uw\"] = f'-d{dim-2}.-d{dim-1}'\n",
    "        M[\"Rw\"] = f\"r0.r1\"\n",
    "        M[\"Bw\"] = f'-f{dim-2}.-f{dim-1}'\n",
    "        M[\"Fw\"] = f\"f0.f1\"\n",
    "        M[\"Lw\"] = f'-r{dim-2}.-r{dim-1}'\n",
    "        M[\"Dw\"] = f\"d0.d1\"\n",
    "        \n",
    "    if dim >= 6:\n",
    "        M[\"2Uw\"] = f'-d{dim-2}.-d{dim-1}'\n",
    "        M[\"2Rw\"] = f\"r0.r1\"\n",
    "        M[\"2Bw\"] = f'-f{dim-2}.-f{dim-1}'\n",
    "        M[\"2Fw\"] = f\"f0.f1\"\n",
    "        M[\"2Lw\"] = f'-r{dim-2}.-r{dim-1}'\n",
    "        M[\"2Dw\"] = f\"d0.d1\"\n",
    "\n",
    "        width_max = dim // 2\n",
    "        for i in range(3, width_max + 1):\n",
    "            M[f\"{i}Uw\"] = f'-d{dim-i}.' + M[f\"{i-1}Uw\"]\n",
    "            M[f\"{i}Rw\"] = M[f\"{i-1}Rw\"] + f'.r{i-1}'\n",
    "            M[f\"{i}Bw\"] = f'-f{dim-i}.' + M[f\"{i-1}Bw\"]\n",
    "            M[f\"{i}Fw\"] = M[f\"{i-1}Fw\"] + f'.f{i-1}'\n",
    "            M[f\"{i}Lw\"] = f'-r{dim-i}.' + M[f\"{i-1}Lw\"]\n",
    "            M[f\"{i}Dw\"] = M[f\"{i-1}Dw\"] + f'.d{i-1}'\n",
    "\n",
    "\n",
    "    for m in list(M):\n",
    "        M[m+\"2\"] = M[m] + '.' + M[m]\n",
    "        if \"-\" in M[m]:\n",
    "            M[m+\"'\"] = M[m].replace(\"-\",\"\")\n",
    "        else:\n",
    "            M[m+\"'\"] = '.'.join([\"-\"+i for i in M[m].split('.')])\n",
    "    \n",
    "    return M\n",
    "\n",
    "def reverse_moves(move_seq):\n",
    "    moves = move_seq.split('.')\n",
    "    rev_moves = []\n",
    "    for m in moves[::-1]:\n",
    "        if m[0] == '-':\n",
    "            rev_moves.append(m[1:])\n",
    "        else:\n",
    "            rev_moves.append(f'-{m}')\n",
    "    return '.'.join(rev_moves)"
   ],
   "metadata": {
    "collapsed": false,
    "ExecuteTime": {
     "end_time": "2024-01-06T21:07:41.423930Z",
     "start_time": "2024-01-06T21:07:41.418590Z"
    }
   },
   "id": "298b71db1036fba1",
   "execution_count": 7
  },
  {
   "cell_type": "code",
   "outputs": [],
   "source": [
    "def solve(initial_state, solution_state, num_wildcards, moves, verbose=False):\n",
    "    init_state = relabel_NxNxN_index(initial_state)\n",
    "    sol_state = relabel_NxNxN_index(solution_state)\n",
    "    state = state2ubl(init_state)\n",
    "    # state = ''.join(init_state.split(';'))\n",
    "\n",
    "    # print(f'Starting {id}')\n",
    "    output = !./rubiks-cube-solver.py --state $state\n",
    "    # return output\n",
    "    print(output[-1])\n",
    "    sol = None\n",
    "    if output[-1][:9] == 'Solution:':\n",
    "        # print(output[-1])\n",
    "        sol = output[-1].split(': ')[1]\n",
    "    else:\n",
    "        for n in range(1, 21):\n",
    "            if 'Solution:' in output[-n]:\n",
    "                sol = output[-n].split('Solution: ')[1].split('2023-')[0]\n",
    "                break\n",
    "    if sol is None:\n",
    "        print(output[-1])\n",
    "        return output\n",
    "                \n",
    "    mmoves = '.'.join([M[m] for m in sol.split(' ')])\n",
    "    \n",
    "    new_state = apply_moves(init_state, moves, mmoves)\n",
    "    \n",
    "    temp_state, mmoves = sym_rotations(dim, mmoves, new_state, sol_state, num_wildcards, wildcard=False)\n",
    "    \n",
    "    return mmoves, temp_state"
   ],
   "metadata": {
    "collapsed": false,
    "ExecuteTime": {
     "end_time": "2024-01-06T21:07:41.429363Z",
     "start_time": "2024-01-06T21:07:41.425008Z"
    }
   },
   "id": "cf87d721e820345f",
   "execution_count": 8
  },
  {
   "cell_type": "markdown",
   "source": [
    "<a id=\"4\"></a>\n",
    "# <div style= \"font-family: Cambria; font-weight:bold; letter-spacing: 0px; color:white; font-size:120%; text-align:left;padding:3.0px; background: #6A1B9A; border-bottom: 8px solid #9C27B0\" >SOLVE<br><div> \n",
    "\n",
    "\n",
    "### Outline\n",
    "1. Create base and SGS\n",
    "2. Use sift to find solution\n",
    "3. Interpret solution as moves from competition"
   ],
   "metadata": {
    "collapsed": false
   },
   "id": "53eff822af4aa61d"
  },
  {
   "cell_type": "markdown",
   "source": [
    "<a id=\"4.1\"></a>\n",
    "## <div style=\"font-family: Cambria; font-weight:bold; letter-spacing: 0px; color:#6A1B9A; font-size:100%; text-align:left; padding:3.0px; background: white; border-bottom: 8px solid #9C27B0\">JIX REPO<br><div>"
   ],
   "metadata": {
    "collapsed": false
   },
   "id": "9bff4c971ab7cc52"
  },
  {
   "cell_type": "code",
   "outputs": [],
   "source": [
    "# X = [\n",
    "#    9, 10, 11, 12, 13, 14, 15, 16, 17,\n",
    "#   45, 46, 47, 48, 49, 50, 51, 52, 53,\n",
    "#   24, 21, 18, 25, 22, 19, 26, 23, 20,\n",
    "#    8,  7,  6,  5,  4,  3,  2,  1,  0,\n",
    "#   38, 41, 44, 37, 40, 43, 36, 39, 42,\n",
    "#   35, 34, 33, 32, 31, 30, 29, 28, 27,\n",
    "# ]\n",
    "# Y = [\n",
    "#   20, 23, 26, 19, 22, 25, 18, 21, 24,\n",
    "#   11, 14, 17, 10, 13, 16,  9, 12, 15,\n",
    "#   47, 50, 53, 46, 49, 52, 45, 48, 51,\n",
    "#   33, 30, 27, 34, 31, 28, 35, 32, 29,\n",
    "#    2,  5,  8,  1,  4,  7,  0,  3,  6,\n",
    "#   38, 41, 44, 37, 40, 43, 36, 39, 42,\n",
    "# ]\n",
    "# R = [\n",
    "#    0,  1, 11,  3,  4, 14,  6,  7, 17,\n",
    "#    9, 10, 47, 12, 13, 50, 15, 16, 53,\n",
    "#   24, 21, 18, 25, 22, 19, 26, 23, 20,\n",
    "#    8, 28, 29,  5, 31, 32,  2, 34, 35,\n",
    "#   36, 37, 38, 39, 40, 41, 42, 43, 44,\n",
    "#   45, 46, 33, 48, 49, 30, 51, 52, 27,\n",
    "# ]\n",
    "# \n",
    "# xyr_gens = [X, Y, R]\n",
    "# \n",
    "# # TODO: needs to be translated for puzzle representation for competition\n",
    "# center_cubelet_faces = list(range(4, 54, 9))"
   ],
   "metadata": {
    "collapsed": false,
    "ExecuteTime": {
     "end_time": "2024-01-06T21:07:41.430580Z",
     "start_time": "2024-01-06T21:07:41.427908Z"
    }
   },
   "id": "d25818bae8c2ab2a",
   "execution_count": 9
  },
  {
   "cell_type": "code",
   "outputs": [],
   "source": [
    "\n",
    "\n",
    "# grp = Group(Config(monte_carlo=False, schreier_tree='deep'))\n",
    "# add_rubiks_gens(grp, xyr_gens)\n",
    "# print_all_stats(grp)\n",
    "# \n",
    "# known_group_order = grp.order()\n",
    "# \n",
    "# print('\\n')\n",
    "# grp = Group(base=center_cubelet_faces)\n",
    "# print(f'  base perfix = {grp.base()}')\n",
    "# add_rubiks_gens(grp, xyr_gens)\n",
    "# grp.build(known_group_order)\n",
    "# grp.verify()\n",
    "# print_sgs_stats(grp)"
   ],
   "metadata": {
    "collapsed": false,
    "ExecuteTime": {
     "end_time": "2024-01-06T21:07:41.435086Z",
     "start_time": "2024-01-06T21:07:41.432800Z"
    }
   },
   "id": "4e9bcd8e2219fd2e",
   "execution_count": 10
  },
  {
   "cell_type": "code",
   "outputs": [],
   "source": [
    "# # interpret generators as allowed moves from competition\n",
    "# \n",
    "# base = grp.base()\n",
    "# sgs = grp.generators()\n",
    "# \n",
    "# init_state = sgs[0][0]\n",
    "# sol_state = list(range(len(init_state)))\n",
    "# \n",
    "# \n",
    "# id = 205\n",
    "# row = puzzles.loc[id]\n",
    "# \n",
    "# dim = int(row['puzzle_type'].split('/')[-1])\n",
    "# moves = get_moves(puzzle_info.loc[row['puzzle_type'], 'allowed_moves'])\n",
    "# M = move_translation(dim)\n",
    "\n",
    "# init_moves, solver_moves = solve(init_state, sol_state, 0, moves) \n",
    "# \n",
    "# init_moves"
   ],
   "metadata": {
    "collapsed": false,
    "ExecuteTime": {
     "end_time": "2024-01-06T21:07:41.439259Z",
     "start_time": "2024-01-06T21:07:41.435422Z"
    }
   },
   "id": "237b2fbfae35ef7a",
   "execution_count": 11
  },
  {
   "cell_type": "markdown",
   "source": [
    "<a id=\"4.2\"></a>\n",
    "## <div style=\"font-family: Cambria; font-weight:bold; letter-spacing: 0px; color:#6A1B9A; font-size:100%; text-align:left; padding:3.0px; background: white; border-bottom: 8px solid #9C27B0\">My Attempt<br><div>"
   ],
   "metadata": {
    "collapsed": false
   },
   "id": "6a46d05d0689d214"
  },
  {
   "cell_type": "code",
   "outputs": [
    {
     "data": {
      "text/plain": "dict_keys(['f0', 'f1', 'f2', 'r0', 'r1', 'r2', 'd0', 'd1', 'd2'])"
     },
     "execution_count": 12,
     "metadata": {},
     "output_type": "execute_result"
    }
   ],
   "source": [
    "N = 3\n",
    "center_cubelet_faces = list(range(((N-1)//2)*(N+1), 6*N**2, N**2))\n",
    "# allowed moves\n",
    "move_dict = eval(puzzle_info.loc[f'cube_{N}/{N}/{N}', 'allowed_moves'])\n",
    "# perm_dict = {k: Permutation(v) for k, v in move_dict.items()}\n",
    "# cube_group = PermutationGroup(list(perm_dict.values()))\n",
    "move_dict.keys()"
   ],
   "metadata": {
    "collapsed": false,
    "ExecuteTime": {
     "end_time": "2024-01-06T21:07:41.450548Z",
     "start_time": "2024-01-06T21:07:41.442370Z"
    }
   },
   "id": "9121ef63638498db",
   "execution_count": 12
  },
  {
   "cell_type": "code",
   "outputs": [
    {
     "name": "stdout",
     "output_type": "stream",
     "text": [
      "  group order = 1,038,048,078,587,756,544,000\n",
      "  strong generating set base = [6, 3, 0, 2, 1, 8, 14, 17, 5, 26, 23, 25, 32, 34, 4, 7, 12, 16, 15, 13]\n",
      "  strong generating set size = 42\n",
      "  took 297,934 group products\n"
     ]
    }
   ],
   "source": [
    "# apply deep tree to get group order\n",
    "grp = Group(Config(monte_carlo=False, schreier_tree='deep'))\n",
    "add_rubiks_gens(grp, list(move_dict.values()))\n",
    "print_all_stats(grp)\n",
    "known_group_order = grp.order()"
   ],
   "metadata": {
    "collapsed": false,
    "ExecuteTime": {
     "end_time": "2024-01-06T21:07:42.736228Z",
     "start_time": "2024-01-06T21:07:41.445549Z"
    }
   },
   "id": "a2efce5da5725637",
   "execution_count": 13
  },
  {
   "cell_type": "code",
   "outputs": [
    {
     "name": "stdout",
     "output_type": "stream",
     "text": [
      "  base perfix = [4, 13, 22, 31, 40, 49]\n",
      "  group order = 1,038,048,078,587,756,544,000\n",
      "  strong generating set base = [4, 13, 22, 31, 40, 49, 6, 0, 2, 15, 1, 3, 5, 7, 8, 12, 14, 16, 17, 23, 25, 26, 32, 34]\n",
      "  strong generating set size = 33\n"
     ]
    }
   ],
   "source": [
    "\n",
    "# supply start to base for cube faces\n",
    "grp = Group(base=center_cubelet_faces)\n",
    "print(f'  base perfix = {grp.base()}')\n",
    "add_rubiks_gens(grp, list(move_dict.values()))\n",
    "grp.build(known_group_order)\n",
    "grp.verify()\n",
    "print_sgs_stats(grp)\n",
    "\n"
   ],
   "metadata": {
    "collapsed": false,
    "ExecuteTime": {
     "end_time": "2024-01-06T21:07:42.864194Z",
     "start_time": "2024-01-06T21:07:42.734132Z"
    }
   },
   "id": "2e6f1bdb5d540ed7",
   "execution_count": 14
  },
  {
   "cell_type": "code",
   "outputs": [
    {
     "name": "stdout",
     "output_type": "stream",
     "text": [
      "[3, 33, 20, 0, 50, 85, 53, 72, 7, 22, 41, 66, 83, 91, 87, 47, 31, 46, 45, 95, 43, 37, 38, 55, 39, 25, 73, 36, 16, 4, 40, 19, 60, 8, 59, 51, 68, 6, 70, 62, 23, 54, 10, 18, 15, 61, 30, 28, 64, 71, 11, 35, 93, 74, 69, 78, 14, 89, 90, 13, 80, 77, 49, 76, 48, 1, 34, 44, 84, 57, 21, 56, 17, 58, 42, 52, 92, 29, 24, 12, 67, 65, 27, 32, 75, 26, 9, 94, 81, 86, 5, 82, 63, 2, 88, 79]\n",
      "[3, 33, 20, 0, 50, 85, 53, 72, 7, 22, 41, 66, 83, 91, 87, 47, 31, 46, 45, 95, 43, 37, 38, 55, 39, 25, 73, 36, 16, 4, 40, 19, 60, 8, 59, 51, 68, 6, 70, 62, 23, 54, 10, 18, 15, 61, 30, 28, 64, 71, 11, 35, 93, 74, 69, 78, 14, 89, 90, 13, 80, 77, 49, 76, 48, 1, 34, 44, 84, 57, 21, 56, 17, 58, 42, 52, 92, 29, 24, 12, 67, 65, 27, 32, 75, 26, 9, 94, 81, 86, 5, 82, 63, 2, 88, 79]\n"
     ]
    }
   ],
   "source": [
    "base = grp.base()\n",
    "sgs = grp.generators()\n",
    "\n",
    "id = 205\n",
    "row = puzzles.loc[id]\n",
    "\n",
    "perm = [int(i) for i in row['initial_state'].replace(\"N\", \"\").split(\";\")]\n",
    "p_sifted, history = grp.sift_history(perm.copy())\n",
    "# history[::1]\n",
    "temp_perm = perm.copy()\n",
    "print(temp_perm)\n",
    "for g, inv in history[::-1]:\n",
    "    temp_perm = [temp_perm[i] for i in sgs[g][inv]]\n",
    "    \n",
    "    \n",
    "print(temp_perm)"
   ],
   "metadata": {
    "collapsed": false,
    "ExecuteTime": {
     "end_time": "2024-01-06T21:07:42.866156Z",
     "start_time": "2024-01-06T21:07:42.863898Z"
    }
   },
   "id": "3c909dbdf2387e43",
   "execution_count": 15
  },
  {
   "cell_type": "code",
   "outputs": [],
   "source": [
    "# sgs_translated = []\n",
    "# moves = get_moves(move_dict)\n",
    "# # print(moves)\n",
    "# for g in sgs:\n",
    "#     # print(g[0])\n",
    "#     \n",
    "#     init_state = g[0]\n",
    "#     sol_state = list(range(len(init_state)))\n",
    "#     \n",
    "#     dim = N\n",
    "#     \n",
    "#     M = move_translation(dim)\n",
    "#     \n",
    "#     init_moves, transformed_state = solve(init_state, sol_state, 0, moves) \n",
    "#     \n",
    "#     print(init_moves)\n",
    "#     # print(reverse_moves(init_moves))\n",
    "#     sgs_translated.append((init_moves, reverse_moves(init_moves)))\n",
    "#     # print(transformed_state)\n",
    "#     # break"
   ],
   "metadata": {
    "collapsed": false,
    "ExecuteTime": {
     "end_time": "2024-01-06T21:07:42.870514Z",
     "start_time": "2024-01-06T21:07:42.867588Z"
    }
   },
   "id": "47dc605dba78a2b5",
   "execution_count": 16
  },
  {
   "cell_type": "code",
   "outputs": [],
   "source": [
    "# sol_moves = []\n",
    "# for g, inv in history[::-1]:\n",
    "#     sol_moves.extend(sgs_translated[g][inv].split('.'))\n",
    "# '.'.join(sol_moves)"
   ],
   "metadata": {
    "collapsed": false,
    "ExecuteTime": {
     "end_time": "2024-01-06T21:07:42.871787Z",
     "start_time": "2024-01-06T21:07:42.870293Z"
    }
   },
   "id": "2c3484d2a03b45e3",
   "execution_count": 17
  },
  {
   "cell_type": "code",
   "outputs": [
    {
     "data": {
      "text/plain": "dict_keys(['f0', 'f1', 'f2', 'r0', 'r1', 'r2', 'd0', 'd1', 'd2'])"
     },
     "execution_count": 18,
     "metadata": {},
     "output_type": "execute_result"
    }
   ],
   "source": [
    "move_dict.keys()"
   ],
   "metadata": {
    "collapsed": false,
    "ExecuteTime": {
     "end_time": "2024-01-06T21:07:42.876318Z",
     "start_time": "2024-01-06T21:07:42.873172Z"
    }
   },
   "id": "e5b15c64d51b7cf8",
   "execution_count": 18
  },
  {
   "cell_type": "code",
   "outputs": [],
   "source": [
    "# print(moves)"
   ],
   "metadata": {
    "collapsed": false,
    "ExecuteTime": {
     "end_time": "2024-01-06T21:07:42.880486Z",
     "start_time": "2024-01-06T21:07:42.876676Z"
    }
   },
   "id": "4350c4225eb4aa36",
   "execution_count": 19
  },
  {
   "cell_type": "code",
   "outputs": [
    {
     "name": "stdout",
     "output_type": "stream",
     "text": [
      "  base perfix = [4, 13, 22, 31, 40, 49]\n"
     ]
    },
    {
     "data": {
      "text/plain": "[([(0, False)], [(0, True)]),\n ([(1, False)], [(1, True)]),\n ([(2, False)], [(2, True)]),\n ([(3, False)], [(3, True)]),\n ([(4, False)], [(4, True)]),\n ([(5, False)], [(5, True)]),\n ([(6, False)], [(6, True)]),\n ([(7, False)], [(7, True)]),\n ([(8, False)], [(8, True)])]"
     },
     "execution_count": 23,
     "metadata": {},
     "output_type": "execute_result"
    }
   ],
   "source": [
    "# supply start to base for cube faces\n",
    "grp = Group(base=center_cubelet_faces)\n",
    "print(f'  base perfix = {grp.base()}')\n",
    "add_rubiks_gens(grp, list(move_dict.values()))\n",
    "grp.rebuild_schreier_tree()\n",
    "grp.tree_expand"
   ],
   "metadata": {
    "collapsed": false,
    "ExecuteTime": {
     "end_time": "2024-01-06T21:10:00.884940Z",
     "start_time": "2024-01-06T21:08:57.065763Z"
    }
   },
   "id": "6c1fd797b3534517",
   "execution_count": 23
  },
  {
   "cell_type": "code",
   "outputs": [],
   "source": [
    "# grp.build(known_group_order)\n",
    "# grp.verify()\n",
    "# print_sgs_stats(grp)"
   ],
   "metadata": {
    "collapsed": false,
    "ExecuteTime": {
     "end_time": "2024-01-06T21:07:42.898260Z",
     "start_time": "2024-01-06T21:07:42.885817Z"
    }
   },
   "id": "6be6e4937d573701",
   "execution_count": 21
  },
  {
   "cell_type": "code",
   "outputs": [],
   "source": [],
   "metadata": {
    "collapsed": false,
    "ExecuteTime": {
     "end_time": "2024-01-06T21:07:42.898665Z",
     "start_time": "2024-01-06T21:07:42.888136Z"
    }
   },
   "id": "dd249daa25fbd43a",
   "execution_count": 21
  }
 ],
 "metadata": {
  "kernelspec": {
   "display_name": "Python 3",
   "language": "python",
   "name": "python3"
  },
  "language_info": {
   "codemirror_mode": {
    "name": "ipython",
    "version": 2
   },
   "file_extension": ".py",
   "mimetype": "text/x-python",
   "name": "python",
   "nbconvert_exporter": "python",
   "pygments_lexer": "ipython2",
   "version": "2.7.6"
  }
 },
 "nbformat": 4,
 "nbformat_minor": 5
}
