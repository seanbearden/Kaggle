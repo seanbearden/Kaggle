{
 "cells": [
  {
   "cell_type": "markdown",
   "source": [
    "# <div style=\"font-family: Cambria; font-weight:bold; letter-spacing: 0px; color:white; font-size:200%; text-align:center;padding:3.0px; background: #6A1B9A; border-bottom: 8px solid #9C27B0\">Santa 2023 - Bidirectional Brute Force with Wildcards</div>\n",
    "#### <div style= \"font-family: Cambria; font-weight:bold; letter-spacing: 0px; color:white; font-size:150%; text-align:left;padding:3.0px; background: #6A1B9A; border-bottom: 8px solid #9C27B0\" >TABLE OF CONTENTS<br><div>\n",
    "* [IMPORTS](#1)\n",
    "* [LOAD DATA](#2)\n",
    "* [FUNCTIONS](#3)\n",
    "* [SOLVE](#4)\n",
    "\n",
    "Code modified from: https://www.kaggle.com/code/dinhttrandrise/bidirectional-brute-force-w-wildcards"
   ],
   "metadata": {
    "collapsed": false
   },
   "id": "3f9b3d33a851f8c2"
  },
  {
   "cell_type": "markdown",
   "source": [
    "<a id=\"1\"></a>\n",
    "# <div style= \"font-family: Cambria; font-weight:bold; letter-spacing: 0px; color:white; font-size:120%; text-align:left;padding:3.0px; background: #6A1B9A; border-bottom: 8px solid #9C27B0\" > IMPORTS<br><div> "
   ],
   "metadata": {
    "collapsed": false
   },
   "id": "927a75c9caab4626"
  },
  {
   "cell_type": "code",
   "outputs": [],
   "source": [
    "import os\n",
    "import time\n",
    "\n",
    "\n",
    "import pandas as pd\n",
    "from ast import literal_eval\n",
    "from dataclasses import dataclass\n",
    "import random\n",
    "from sympy.combinatorics import Permutation\n",
    "from typing import Dict, List\n",
    "import zipfile\n",
    "import numpy as np\n",
    "import sqlite3"
   ],
   "metadata": {
    "collapsed": false,
    "ExecuteTime": {
     "end_time": "2023-12-26T19:18:11.669417Z",
     "start_time": "2023-12-26T19:18:10.967939Z"
    }
   },
   "id": "b4a1d9fc3e7d4f99",
   "execution_count": 1
  },
  {
   "cell_type": "code",
   "outputs": [],
   "source": [
    "database_file = '../solutions.db'\n",
    "solution_method = 'bidirectional brute force w/ wildcards'\n",
    "# Connect to the SQLite database\n",
    "conn = sqlite3.connect(database_file)\n",
    "cursor = conn.cursor()\n",
    "\n",
    "select_query = \"SELECT id FROM solutions WHERE solution_method <> ? ORDER BY count\"\n",
    "    \n",
    "# Execute the query\n",
    "cursor.execute(select_query, (solution_method,))\n",
    "unsolved_ids = cursor.fetchall()\n",
    "\n",
    "\n",
    "# Commit the changes and close the connection\n",
    "conn.commit()\n",
    "conn.close()\n",
    "\n",
    "\n",
    "\n",
    "RUN_TIME = 60 * 60 * 24 * 7\n",
    "START_TIME = time.time()\n",
    "TIMEOUT = RUN_TIME\n",
    "\n",
    "INCLUDES = [id[0] for id in unsolved_ids]\n",
    "INCLUDES\n",
    "\n",
    "\n",
    "INCLUDES = list(range(333, 338))\n",
    "\n",
    "EXCLUDES = []\n",
    "MIN_SIZE = None\n",
    "MAX_SIZE = None\n",
    "\n",
    "DEBUG = False\n"
   ],
   "metadata": {
    "collapsed": false,
    "ExecuteTime": {
     "end_time": "2023-12-26T19:18:11.678711Z",
     "start_time": "2023-12-26T19:18:11.673988Z"
    }
   },
   "id": "3389968265ae759",
   "execution_count": 2
  },
  {
   "cell_type": "markdown",
   "source": [
    "<a id=\"2\"></a>\n",
    "# <div style= \"font-family: Cambria; font-weight:bold; letter-spacing: 0px; color:white; font-size:120%; text-align:left;padding:3.0px; background: #6A1B9A; border-bottom: 8px solid #9C27B0\" >LOAD DATA<br><div> "
   ],
   "metadata": {
    "collapsed": false
   },
   "id": "4be3d027b56234bb"
  },
  {
   "cell_type": "code",
   "outputs": [],
   "source": [
    "with zipfile.ZipFile('../../../res/data/santa-2023.zip', 'r') as z:\n",
    "    \n",
    "    with z.open('puzzle_info.csv') as f:\n",
    "        puzzle_info = pd.read_csv(f, index_col = 'puzzle_type')        \n",
    "                \n",
    "    with z.open('puzzles.csv') as f:\n",
    "        puzzles = pd.read_csv(f, index_col = 'id')\n",
    "    \n",
    "    with z.open('sample_submission.csv') as f:\n",
    "        submission = pd.read_csv(f)"
   ],
   "metadata": {
    "collapsed": false,
    "ExecuteTime": {
     "end_time": "2023-12-26T19:18:11.796165Z",
     "start_time": "2023-12-26T19:18:11.682237Z"
    }
   },
   "id": "42e6380d8e779c22",
   "execution_count": 3
  },
  {
   "cell_type": "markdown",
   "source": [
    "<a id=\"3\"></a>\n",
    "# <div style= \"font-family: Cambria; font-weight:bold; letter-spacing: 0px; color:white; font-size:120%; text-align:left;padding:3.0px; background: #6A1B9A; border-bottom: 8px solid #9C27B0\" >FUNCTIONS<br><div> "
   ],
   "metadata": {
    "collapsed": false
   },
   "id": "9784e86482d58ff4"
  },
  {
   "cell_type": "code",
   "outputs": [],
   "source": [
    "def init_reverse_moves(moves):\n",
    "    new_moves = {}\n",
    "    \n",
    "    for m in moves.keys():\n",
    "        new_moves[m] = moves[m]\n",
    "        xform = moves[m]\n",
    "        m_inv = '-' + m\n",
    "        xform_inv = len(xform) * [0]\n",
    "        for i in range(len(xform)):\n",
    "            xform_inv[xform[i]] = i\n",
    "        new_moves[m_inv] = xform_inv\n",
    "\n",
    "    return new_moves\n",
    "\n",
    "def apply_move(move, state):\n",
    "\n",
    "    m = move\n",
    "    s = state.split(';')\n",
    "\n",
    "    move_list = moves[m]\n",
    "    new_state = []\n",
    "    for i in move_list:\n",
    "        new_state.append(s[i])\n",
    "    s = new_state\n",
    "\n",
    "    return ';'.join(s)\n",
    "\n",
    "def reverse_move(move, state):\n",
    "    m = move[1:] if move[0] == '-' else '-' + move\n",
    "    return apply_move(m, state)\n",
    "\n",
    "def expand(paths, reverse=False):\n",
    "    states = list(paths.keys())\n",
    "    for s in states:\n",
    "        for m in moves:\n",
    "            if reverse:\n",
    "                next_s = reverse_move(m, s)\n",
    "                if not next_s in paths:\n",
    "                    paths[next_s] = paths[s] + [m]\n",
    "            else:\n",
    "                next_s = apply_move(m, s)\n",
    "                if not next_s in paths:\n",
    "                    paths[next_s] = paths[s] + [m]"
   ],
   "metadata": {
    "collapsed": false
   },
   "id": "87cc688dfa4b7b1d",
   "execution_count": 4
  },
  {
   "cell_type": "code",
   "outputs": [],
   "source": [
    "def solve(pid):\n",
    "    global moves, source_paths, dest_paths\n",
    "    \n",
    "    ddf = puzzles.loc[pid]\n",
    "    puzzle_type = ddf['puzzle_type']\n",
    "    solution_state = ddf['solution_state']\n",
    "    initial_state = ddf['initial_state']\n",
    "    num_wildcards = ddf['num_wildcards']\n",
    "\n",
    "    idf = puzzle_info.loc[puzzle_type]\n",
    "    allowed_moves = idf['allowed_moves']  \n",
    "    moves = literal_eval(allowed_moves)\n",
    "\n",
    "    moves = init_reverse_moves(moves)\n",
    "    \n",
    "    if num_wildcards < 2:    \n",
    "        source_paths = {\n",
    "            initial_state: []\n",
    "        }\n",
    "        \n",
    "        dest_paths = {\n",
    "            solution_state: []\n",
    "        }\n",
    "\n",
    "        start_time = time.time()\n",
    "        solution = None\n",
    "        count = 0\n",
    "        while time.time() - START_TIME < RUN_TIME and time.time() - start_time < TIMEOUT:\n",
    "            count += 1\n",
    "\n",
    "            if count % 2:\n",
    "                expand(source_paths)\n",
    "            else:\n",
    "                expand(dest_paths, reverse=True)\n",
    "\n",
    "            overlap = list(set(source_paths.keys()).intersection(set(dest_paths.keys())))\n",
    "            if len(overlap) > 0:\n",
    "                mnsc = 10000000\n",
    "                mnsl = None\n",
    "                for oi in range(len(overlap)):\n",
    "                    ol = overlap[oi]\n",
    "                    sl = '.'.join(source_paths[ol] + list(reversed(dest_paths[ol])))\n",
    "                    sz = len(sl.split('.'))\n",
    "                    if sz < mnsc:\n",
    "                        mnsc = sz\n",
    "                        mnsl = sl\n",
    "                solution = mnsl\n",
    "                break\n",
    "    else:\n",
    "        ssl = solution_state.split(';')\n",
    "        mn_score = 10000000\n",
    "        mn_sol = None\n",
    "        for i in range(len(ssl)):\n",
    "            for j in range(len(ssl)):\n",
    "                if j <= i:\n",
    "                    continue\n",
    "              \n",
    "                sol = None\n",
    "                \n",
    "                ssln = ssl.copy()\n",
    "                # swap two values in solution state. Could this be performed more deliberately?\n",
    "                t = ssln[i]\n",
    "                ssln[i] = ssln[j]\n",
    "                ssln[j] = t\n",
    "                ss = ';'.join(ssln)\n",
    "                \n",
    "                source_paths = {\n",
    "                    initial_state: []\n",
    "                }\n",
    "\n",
    "                dest_paths = {\n",
    "                    ss: []\n",
    "                }\n",
    "\n",
    "                start_time = time.time()\n",
    "                solution = None\n",
    "                count = 0\n",
    "                while time.time() - START_TIME < RUN_TIME and time.time() - start_time < TIMEOUT:\n",
    "                    count += 1\n",
    "\n",
    "                    if count % 2:\n",
    "                        expand(source_paths)\n",
    "                    else:\n",
    "                        expand(dest_paths, reverse=True)\n",
    "\n",
    "                    overlap = list(set(source_paths.keys()).intersection(set(dest_paths.keys())))\n",
    "                    if len(overlap) > 0:\n",
    "                        mnsc = 10000000\n",
    "                        mnsl = None\n",
    "                        for oi in range(len(overlap)):\n",
    "                            ol = overlap[oi]\n",
    "                            sl = '.'.join(source_paths[ol] + list(reversed(dest_paths[ol])))\n",
    "                            sz = len(sl.split('.'))\n",
    "                            if sz < mnsc:\n",
    "                                mnsc = sz\n",
    "                                mnsl = sl\n",
    "                                if DEBUG:\n",
    "                                    print('=> [A] ' + str(sz) + ' : ' + sl)\n",
    "                        sol = mnsl\n",
    "                        break\n",
    "\n",
    "                if sol is not None:\n",
    "                    sz = len(sol.split('.'))\n",
    "                    if sz < mn_score:\n",
    "                        mn_score = sz\n",
    "                        mn_sol = sol\n",
    "                        \n",
    "                        if DEBUG:\n",
    "                            print('=> {' + str(sz) + '} ' + str(sol))\n",
    "                        \n",
    "        solution = mn_sol\n",
    "        \n",
    "    return solution"
   ],
   "metadata": {
    "collapsed": false
   },
   "id": "1f8d0eca780d0ebf",
   "execution_count": 5
  },
  {
   "cell_type": "markdown",
   "source": [
    "<a id=\"4\"></a>\n",
    "# <div style= \"font-family: Cambria; font-weight:bold; letter-spacing: 0px; color:white; font-size:120%; text-align:left;padding:3.0px; background: #6A1B9A; border-bottom: 8px solid #9C27B0\" >SOLVE<br><div> "
   ],
   "metadata": {
    "collapsed": false
   },
   "id": "580cda3cf75e39aa"
  },
  {
   "cell_type": "code",
   "outputs": [],
   "source": [
    "moves = None\n",
    "source_paths = None\n",
    "dest_paths = None\n",
    "\n",
    "database_file = '../solutions.db'\n",
    "# Connect to the SQLite database\n",
    "conn = sqlite3.connect(database_file)\n",
    "cursor = conn.cursor()\n",
    "\n",
    "grows = []\n",
    "all_ids = submission['id'].unique()\n",
    "for pid in INCLUDES:\n",
    "    if INCLUDES is not None and pid not in INCLUDES:\n",
    "        print('=> [' + str(pid) + '] Not included!')\n",
    "        continue\n",
    "    if EXCLUDES is not None and pid in EXCLUDES:\n",
    "        print('=> [' + str(pid) + '] Excluded!')\n",
    "        continue\n",
    "        \n",
    "    df = puzzles.loc[pid]\n",
    "    solution_state = df['solution_state']\n",
    "    size = len(solution_state.split(';'))\n",
    "        \n",
    "    if MIN_SIZE is not None and size <= MIN_SIZE:\n",
    "        print('=> [' + str(pid) + '] Skipped by lower size!')\n",
    "        continue\n",
    "\n",
    "    if MAX_SIZE is not None and size >= MAX_SIZE:\n",
    "        print('=> [' + str(pid) + '] Skipped by upper size!')\n",
    "        continue\n",
    "\n",
    "    solution = solve(pid)\n",
    "    if solution is None:\n",
    "        print('=> [' + str(pid) + '] Failed!')        \n",
    "    else:\n",
    "        print('=> [' + str(pid) + '] Success!')        \n",
    "        \n",
    "        grows.append({'id': pid, 'moves': solution})\n",
    "        \n",
    "        \n",
    "        game_id = int(pid)\n",
    "        moves = solution\n",
    "        move_count = len(moves.split('.'))\n",
    "        \n",
    "        select_query = \"SELECT count FROM solutions WHERE id = ?\"\n",
    "            \n",
    "        # Execute the query\n",
    "        cursor.execute(select_query, (game_id,))\n",
    "        best_move_count = cursor.fetchone()\n",
    "        \n",
    "        if best_move_count[0] > move_count:\n",
    "            print(f'Improvement to {game_id}')\n",
    "            # Insert the moves into the database\n",
    "            insert_query = \"INSERT OR REPLACE INTO solutions (id, moves, count, solution_method) VALUES (?, ?, ?, ?)\"\n",
    "            cursor.execute(insert_query, (game_id, moves, move_count, solution_method))\n",
    "            conn.commit()\n",
    "        \n",
    "\n",
    "# Commit the changes and close the connection\n",
    "conn.commit()\n",
    "conn.close()"
   ],
   "metadata": {
    "collapsed": false,
    "ExecuteTime": {
     "start_time": "2023-12-26T19:18:11.835983Z"
    }
   },
   "id": "c0688112d713f1e2",
   "execution_count": null
  },
  {
   "cell_type": "code",
   "outputs": [],
   "source": [],
   "metadata": {
    "collapsed": false
   },
   "id": "8a6f124f5ab428a8"
  }
 ],
 "metadata": {
  "kernelspec": {
   "display_name": "Python 3",
   "language": "python",
   "name": "python3"
  },
  "language_info": {
   "codemirror_mode": {
    "name": "ipython",
    "version": 2
   },
   "file_extension": ".py",
   "mimetype": "text/x-python",
   "name": "python",
   "nbconvert_exporter": "python",
   "pygments_lexer": "ipython2",
   "version": "2.7.6"
  }
 },
 "nbformat": 4,
 "nbformat_minor": 5
}
