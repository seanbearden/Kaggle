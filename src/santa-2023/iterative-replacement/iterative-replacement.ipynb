{
 "cells": [
  {
   "cell_type": "markdown",
   "source": [
    "# <div style=\"font-family: Cambria; font-weight:bold; letter-spacing: 0px; color:white; font-size:200%; text-align:center;padding:3.0px; background: #6A1B9A; border-bottom: 8px solid #9C27B0\">Santa 2023 - Iterative replacement of K successive moves</div>\n",
    "#### <div style= \"font-family: Cambria; font-weight:bold; letter-spacing: 0px; color:white; font-size:150%; text-align:left;padding:3.0px; background: #6A1B9A; border-bottom: 8px solid #9C27B0\" >TABLE OF CONTENTS<br><div>\n",
    "* [IMPORTS](#1)\n",
    "* [LOAD DATA](#2)\n",
    "* [FUNCTIONS](#3)\n",
    "* [SOLVE](#4)\n",
    "\n",
    "Code modified from: https://www.kaggle.com/code/zaburo/iterative-replacement-of-k-successive-moves"
   ],
   "metadata": {
    "collapsed": false
   },
   "id": "3f9b3d33a851f8c2"
  },
  {
   "cell_type": "markdown",
   "source": [
    "<a id=\"1\"></a>\n",
    "# <div style= \"font-family: Cambria; font-weight:bold; letter-spacing: 0px; color:white; font-size:120%; text-align:left;padding:3.0px; background: #6A1B9A; border-bottom: 8px solid #9C27B0\" > IMPORTS<br><div> "
   ],
   "metadata": {
    "collapsed": false
   },
   "id": "927a75c9caab4626"
  },
  {
   "cell_type": "code",
   "outputs": [],
   "source": [
    "import argparse\n",
    "import time\n",
    "\n",
    "import numpy as np\n",
    "import pandas as pd\n",
    "from tqdm import tqdm\n",
    "import zipfile\n",
    "import sqlite3"
   ],
   "metadata": {
    "collapsed": false,
    "ExecuteTime": {
     "end_time": "2024-01-01T03:12:23.148821Z",
     "start_time": "2024-01-01T03:12:22.824210Z"
    }
   },
   "id": "b4a1d9fc3e7d4f99",
   "execution_count": 1
  },
  {
   "cell_type": "markdown",
   "source": [
    "<a id=\"2\"></a>\n",
    "# <div style= \"font-family: Cambria; font-weight:bold; letter-spacing: 0px; color:white; font-size:120%; text-align:left;padding:3.0px; background: #6A1B9A; border-bottom: 8px solid #9C27B0\" >LOAD DATA<br><div> "
   ],
   "metadata": {
    "collapsed": false
   },
   "id": "4be3d027b56234bb"
  },
  {
   "cell_type": "code",
   "outputs": [],
   "source": [
    "with zipfile.ZipFile('../../../res/data/santa-2023.zip', 'r') as z:\n",
    "    \n",
    "    with z.open('puzzle_info.csv') as f:\n",
    "        puzzle_info = pd.read_csv(f, index_col = 'puzzle_type')        \n",
    "                \n",
    "    with z.open('puzzles.csv') as f:\n",
    "        puzzles = pd.read_csv(f, index_col = 'id')\n",
    "    \n",
    "    with z.open('sample_submission.csv') as f:\n",
    "        submission = pd.read_csv(f)"
   ],
   "metadata": {
    "collapsed": false,
    "ExecuteTime": {
     "end_time": "2024-01-01T03:12:23.253025Z",
     "start_time": "2024-01-01T03:12:23.151266Z"
    }
   },
   "id": "42e6380d8e779c22",
   "execution_count": 2
  },
  {
   "cell_type": "code",
   "outputs": [],
   "source": [
    "allowed_moves = {}\n",
    "\n",
    "for idx, row in puzzle_info.iterrows():\n",
    "    allowed_moves[idx] = eval(row['allowed_moves'])"
   ],
   "metadata": {
    "collapsed": false,
    "ExecuteTime": {
     "end_time": "2024-01-01T03:12:24.243538Z",
     "start_time": "2024-01-01T03:12:24.241869Z"
    }
   },
   "id": "1b3a29e1aa2c8727",
   "execution_count": 3
  },
  {
   "cell_type": "code",
   "outputs": [],
   "source": [],
   "metadata": {
    "collapsed": false,
    "ExecuteTime": {
     "end_time": "2024-01-01T03:12:24.246343Z",
     "start_time": "2024-01-01T03:12:24.243830Z"
    }
   },
   "id": "d44c5c3d42fc1f95",
   "execution_count": 3
  },
  {
   "cell_type": "markdown",
   "source": [
    "<a id=\"3\"></a>\n",
    "# <div style= \"font-family: Cambria; font-weight:bold; letter-spacing: 0px; color:white; font-size:120%; text-align:left;padding:3.0px; background: #6A1B9A; border-bottom: 8px solid #9C27B0\" >FUNCTIONS<br><div> "
   ],
   "metadata": {
    "collapsed": false
   },
   "id": "9784e86482d58ff4"
  },
  {
   "cell_type": "code",
   "outputs": [],
   "source": [
    "class ExceedMaxSizeError(RuntimeError):\n",
    "    pass\n",
    "\n",
    "\n",
    "def get_shortest_path(\n",
    "    moves: dict[str, tuple[int, ...]], K: int, max_size: int | None\n",
    ") -> dict[tuple[int, ...], list[str]]:\n",
    "    n = len(next(iter(moves.values())))\n",
    "\n",
    "    state = tuple(range(n))\n",
    "    cur_states = [state]\n",
    "\n",
    "    shortest_path: dict[tuple[int, ...], list[str]] = {}\n",
    "    shortest_path[state] = []\n",
    "\n",
    "    for _ in range(100 if K is None else K):\n",
    "        next_states = []\n",
    "        for state in cur_states:\n",
    "            for move_name, perm in moves.items():\n",
    "                next_state = tuple(state[i] for i in perm)\n",
    "                if next_state in shortest_path:\n",
    "                    continue\n",
    "                shortest_path[next_state] = shortest_path[state] + [move_name]\n",
    "\n",
    "                if max_size is not None and len(shortest_path) > max_size:\n",
    "                    raise ExceedMaxSizeError\n",
    "\n",
    "                next_states.append(next_state)\n",
    "        cur_states = next_states\n",
    "\n",
    "    return shortest_path\n",
    "\n",
    "\n",
    "def get_moves(puzzle_type: str) -> dict[str, tuple[int, ...]]:\n",
    "    moves = eval(puzzle_info.loc[puzzle_type, \"allowed_moves\"])\n",
    "    for key in list(moves.keys()):\n",
    "        moves[\"-\" + key] = list(np.argsort(moves[key]))\n",
    "    return moves\n",
    "\n"
   ],
   "metadata": {
    "collapsed": false,
    "ExecuteTime": {
     "end_time": "2024-01-01T03:12:24.257809Z",
     "start_time": "2024-01-01T03:12:24.253694Z"
    }
   },
   "id": "87cc688dfa4b7b1d",
   "execution_count": 4
  },
  {
   "cell_type": "markdown",
   "source": [
    "<a id=\"4\"></a>\n",
    "# <div style= \"font-family: Cambria; font-weight:bold; letter-spacing: 0px; color:white; font-size:120%; text-align:left;padding:3.0px; background: #6A1B9A; border-bottom: 8px solid #9C27B0\" >SOLVE<br><div> "
   ],
   "metadata": {
    "collapsed": false
   },
   "id": "580cda3cf75e39aa"
  },
  {
   "cell_type": "code",
   "outputs": [
    {
     "name": "stdout",
     "output_type": "stream",
     "text": [
      "puzzle_type                                               globe_6/8\n",
      "solution_state    A;A;D;D;G;G;J;J;M;M;P;P;S;S;V;V;A;A;D;D;G;G;J;...\n",
      "initial_state     V;X;J;G;V;C;C;I;L;F;X;A;A;D;R;O;C;D;O;X;S;V;I;...\n",
      "num_wildcards                                                    12\n",
      "Name: 381, dtype: object\n",
      "Sample score: 2783\n",
      "Number of moves: 46\n",
      "K: 6\n",
      "Number of shortest_path: 9138736\n"
     ]
    },
    {
     "name": "stderr",
     "output_type": "stream",
     "text": [
      "Score: 2697 (-86): 100%|██████████| 2777/2777 [2:52:00<00:00,  3.72s/it]  \n"
     ]
    },
    {
     "name": "stdout",
     "output_type": "stream",
     "text": [
      "Improvement to 381\n",
      "puzzle_type                                               globe_6/8\n",
      "solution_state    A;A;D;D;G;G;J;J;M;M;P;P;S;S;V;V;A;A;D;D;G;G;J;...\n",
      "initial_state     X;D;F;P;J;I;S;R;L;C;O;V;G;U;J;G;D;I;P;G;L;C;C;...\n",
      "num_wildcards                                                     0\n",
      "Name: 382, dtype: object\n",
      "Sample score: 3073\n",
      "Number of moves: 46\n",
      "K: 6\n",
      "Number of shortest_path: 9138736\n"
     ]
    },
    {
     "name": "stderr",
     "output_type": "stream",
     "text": [
      "Score: 3049 (-24): 100%|██████████| 3067/3067 [3:10:02<00:00,  3.72s/it]  \n"
     ]
    },
    {
     "name": "stdout",
     "output_type": "stream",
     "text": [
      "Improvement to 382\n",
      "puzzle_type                                              globe_6/10\n",
      "solution_state    A;A;A;A;D;D;D;D;G;G;G;G;J;J;J;J;M;M;M;M;A;A;A;...\n",
      "initial_state     G;I;L;I;J;D;L;O;A;G;A;O;C;M;D;F;F;C;M;C;J;D;A;...\n",
      "num_wildcards                                                     8\n",
      "Name: 383, dtype: object\n",
      "Sample score: 3293\n",
      "Number of moves: 54\n",
      "K: 5\n",
      "Number of shortest_path: 768080\n"
     ]
    },
    {
     "name": "stderr",
     "output_type": "stream",
     "text": [
      "Score: 3241 (-52): 100%|██████████| 3288/3288 [16:42<00:00,  3.28it/s]\n"
     ]
    },
    {
     "name": "stdout",
     "output_type": "stream",
     "text": [
      "Improvement to 383\n",
      "puzzle_type                                              globe_6/10\n",
      "solution_state    A;A;A;A;D;D;D;D;G;G;G;G;J;J;J;J;M;M;M;M;A;A;A;...\n",
      "initial_state     F;L;D;M;O;L;A;L;I;D;A;A;C;O;O;I;F;C;I;D;O;M;L;...\n",
      "num_wildcards                                                     0\n",
      "Name: 384, dtype: object\n",
      "Sample score: 3425\n",
      "Number of moves: 54\n",
      "K: 5\n",
      "Number of shortest_path: 768080\n"
     ]
    },
    {
     "name": "stderr",
     "output_type": "stream",
     "text": [
      "Score: 3403 (-22): 100%|██████████| 3420/3420 [17:13<00:00,  3.31it/s]\n"
     ]
    },
    {
     "name": "stdout",
     "output_type": "stream",
     "text": [
      "Improvement to 384\n",
      "puzzle_type                                              globe_6/10\n",
      "solution_state    A;A;A;A;D;D;D;D;G;G;G;G;J;J;J;J;M;M;M;M;A;A;A;...\n",
      "initial_state     G;I;M;M;C;O;F;J;G;M;D;F;D;C;L;I;L;I;J;F;C;O;I;...\n",
      "num_wildcards                                                     8\n",
      "Name: 385, dtype: object\n",
      "Sample score: 2607\n",
      "Number of moves: 54\n",
      "K: 5\n",
      "Number of shortest_path: 768080\n"
     ]
    },
    {
     "name": "stderr",
     "output_type": "stream",
     "text": [
      "Score: 2553 (-54): 100%|██████████| 2602/2602 [13:18<00:00,  3.26it/s]\n"
     ]
    },
    {
     "name": "stdout",
     "output_type": "stream",
     "text": [
      "Improvement to 385\n",
      "puzzle_type                                              globe_6/10\n",
      "solution_state    A;A;A;A;D;D;D;D;G;G;G;G;J;J;J;J;M;M;M;M;A;A;A;...\n",
      "initial_state     F;G;F;M;C;A;I;J;D;A;G;J;M;I;O;M;O;L;A;F;J;G;F;...\n",
      "num_wildcards                                                     6\n",
      "Name: 386, dtype: object\n",
      "Sample score: 2568\n",
      "Number of moves: 54\n",
      "K: 5\n",
      "Number of shortest_path: 768080\n"
     ]
    },
    {
     "name": "stderr",
     "output_type": "stream",
     "text": [
      "Score: 2546 (-22): 100%|██████████| 2563/2563 [12:55<00:00,  3.30it/s]\n"
     ]
    },
    {
     "name": "stdout",
     "output_type": "stream",
     "text": [
      "Improvement to 386\n",
      "puzzle_type                                              globe_6/10\n",
      "solution_state    A;A;A;A;D;D;D;D;G;G;G;G;J;J;J;J;M;M;M;M;A;A;A;...\n",
      "initial_state     G;C;I;A;M;M;L;G;D;J;O;J;J;I;F;G;O;L;C;O;M;C;O;...\n",
      "num_wildcards                                                     2\n",
      "Name: 387, dtype: object\n",
      "Sample score: 2244\n",
      "Number of moves: 54\n",
      "K: 5\n",
      "Number of shortest_path: 768080\n"
     ]
    },
    {
     "name": "stderr",
     "output_type": "stream",
     "text": [
      "Score: 2210 (-34): 100%|██████████| 2239/2239 [11:21<00:00,  3.28it/s]\n"
     ]
    },
    {
     "name": "stdout",
     "output_type": "stream",
     "text": [
      "Improvement to 387\n",
      "puzzle_type                                              globe_3/33\n",
      "solution_state    A;A;A;A;A;A;C;C;C;C;C;C;E;E;E;E;E;E;G;G;G;G;G;...\n",
      "initial_state     G;Q;G;D;E;T;E;N;U;H;H;U;O;F;T;B;S;M;A;N;D;V;V;...\n",
      "num_wildcards                                                     6\n",
      "Name: 388, dtype: object\n",
      "Sample score: 26592\n",
      "Number of moves: 140\n",
      "K: 4\n",
      "Number of shortest_path: 384348\n"
     ]
    },
    {
     "name": "stderr",
     "output_type": "stream",
     "text": [
      "Score: 26522 (-70): 100%|██████████| 26588/26588 [1:07:12<00:00,  6.59it/s]\n"
     ]
    },
    {
     "name": "stdout",
     "output_type": "stream",
     "text": [
      "Improvement to 388\n",
      "puzzle_type                                              globe_3/33\n",
      "solution_state    A;A;A;A;A;A;C;C;C;C;C;C;E;E;E;E;E;E;G;G;G;G;G;...\n",
      "initial_state     H;A;P;K;G;N;U;G;D;V;E;L;D;O;E;Q;D;A;A;H;L;J;A;...\n",
      "num_wildcards                                                     0\n",
      "Name: 389, dtype: object\n",
      "Sample score: 32410\n",
      "Number of moves: 140\n",
      "K: 4\n",
      "Number of shortest_path: 384348\n"
     ]
    },
    {
     "name": "stderr",
     "output_type": "stream",
     "text": [
      "Score: 32408 (-2): 100%|██████████| 32406/32406 [1:20:46<00:00,  6.69it/s]\n"
     ]
    },
    {
     "name": "stdout",
     "output_type": "stream",
     "text": [
      "Improvement to 389\n",
      "puzzle_type                                              globe_3/33\n",
      "solution_state    A;A;A;A;A;A;C;C;C;C;C;C;E;E;E;E;E;E;G;G;G;G;G;...\n",
      "initial_state     F;O;N;B;B;D;V;E;B;J;F;L;S;G;U;E;O;P;U;F;R;R;J;...\n",
      "num_wildcards                                                     0\n",
      "Name: 390, dtype: object\n",
      "Sample score: 24879\n",
      "Number of moves: 140\n",
      "K: 4\n",
      "Number of shortest_path: 384348\n"
     ]
    },
    {
     "name": "stderr",
     "output_type": "stream",
     "text": [
      "Score: 24767 (-112): 100%|██████████| 24875/24875 [1:04:20<00:00,  6.44it/s]\n"
     ]
    },
    {
     "name": "stdout",
     "output_type": "stream",
     "text": [
      "Improvement to 390\n",
      "puzzle_type                                              globe_3/33\n",
      "solution_state    N0;N1;N2;N3;N4;N5;N6;N7;N8;N9;N10;N11;N12;N13;...\n",
      "initial_state     N237;N257;N199;N215;N54;N261;N50;N6;N57;N32;N2...\n",
      "num_wildcards                                                     0\n",
      "Name: 391, dtype: object\n",
      "Sample score: 29863\n",
      "Number of moves: 140\n",
      "K: 4\n",
      "Number of shortest_path: 384348\n"
     ]
    },
    {
     "name": "stderr",
     "output_type": "stream",
     "text": [
      "Score: 29591 (-272): 100%|██████████| 29859/29859 [1:17:04<00:00,  6.46it/s]\n"
     ]
    },
    {
     "name": "stdout",
     "output_type": "stream",
     "text": [
      "Improvement to 391\n",
      "puzzle_type                                              globe_3/33\n",
      "solution_state    A;A;A;A;A;A;C;C;C;C;C;C;E;E;E;E;E;E;G;G;G;G;G;...\n",
      "initial_state     L;A;O;U;T;Q;F;P;B;V;H;T;O;C;J;P;V;P;N;C;T;V;G;...\n",
      "num_wildcards                                                     0\n",
      "Name: 392, dtype: object\n",
      "Sample score: 22311\n",
      "Number of moves: 140\n",
      "K: 4\n",
      "Number of shortest_path: 384348\n"
     ]
    },
    {
     "name": "stderr",
     "output_type": "stream",
     "text": [
      "Score: 22293 (-18): 100%|██████████| 22307/22307 [56:46<00:00,  6.55it/s]\n"
     ]
    },
    {
     "name": "stdout",
     "output_type": "stream",
     "text": [
      "Improvement to 392\n",
      "puzzle_type                                              globe_3/33\n",
      "solution_state    A;A;A;A;A;A;C;C;C;C;C;C;E;E;E;E;E;E;G;G;G;G;G;...\n",
      "initial_state     D;D;L;A;P;E;R;U;U;C;S;R;J;B;E;G;O;J;F;Q;R;E;D;...\n",
      "num_wildcards                                                     0\n",
      "Name: 393, dtype: object\n",
      "Sample score: 29808\n",
      "Number of moves: 140\n",
      "K: 4\n",
      "Number of shortest_path: 384348\n"
     ]
    },
    {
     "name": "stderr",
     "output_type": "stream",
     "text": [
      "Score: 29462 (-346): 100%|██████████| 29804/29804 [1:19:13<00:00,  6.27it/s]\n"
     ]
    },
    {
     "name": "stdout",
     "output_type": "stream",
     "text": [
      "Improvement to 393\n",
      "puzzle_type                                              globe_3/33\n",
      "solution_state    A;A;A;A;A;A;C;C;C;C;C;C;E;E;E;E;E;E;G;G;G;G;G;...\n",
      "initial_state     V;L;N;G;B;V;R;E;H;A;K;S;I;N;G;E;V;C;L;G;S;M;P;...\n",
      "num_wildcards                                                     0\n",
      "Name: 394, dtype: object\n",
      "Sample score: 28659\n",
      "Number of moves: 140\n",
      "K: 4\n",
      "Number of shortest_path: 384348\n"
     ]
    },
    {
     "name": "stderr",
     "output_type": "stream",
     "text": [
      "Score: 28653 (-6): 100%|██████████| 28655/28655 [1:14:16<00:00,  6.43it/s]\n"
     ]
    },
    {
     "name": "stdout",
     "output_type": "stream",
     "text": [
      "Improvement to 394\n",
      "puzzle_type                                              globe_3/33\n",
      "solution_state    N0;N1;N2;N3;N4;N5;N6;N7;N8;N9;N10;N11;N12;N13;...\n",
      "initial_state     N12;N219;N227;N198;N4;N208;N214;N245;N56;N55;N...\n",
      "num_wildcards                                                     0\n",
      "Name: 395, dtype: object\n",
      "Sample score: 28758\n",
      "Number of moves: 140\n",
      "K: 4\n",
      "Number of shortest_path: 384348\n"
     ]
    },
    {
     "name": "stderr",
     "output_type": "stream",
     "text": [
      "Score: 28758 (-0): 100%|██████████| 28754/28754 [1:13:16<00:00,  6.54it/s]\n"
     ]
    },
    {
     "name": "stdout",
     "output_type": "stream",
     "text": [
      "puzzle_type                                              globe_8/25\n",
      "solution_state    A;A;A;A;A;D;D;D;D;D;G;G;G;G;G;J;J;J;J;J;M;M;M;...\n",
      "initial_state     V;P;F;L;P;X;O;A;J;b;V;Y;D;Y;C;X;J;F;U;G;d;L;b;...\n",
      "num_wildcards                                                     0\n",
      "Name: 396, dtype: object\n",
      "Sample score: 26362\n",
      "Number of moves: 118\n",
      "K: 4\n",
      "Number of shortest_path: 269484\n"
     ]
    },
    {
     "name": "stderr",
     "output_type": "stream",
     "text": [
      "Score: 26314 (-48): 100%|██████████| 26358/26358 [35:21<00:00, 12.43it/s]\n"
     ]
    },
    {
     "name": "stdout",
     "output_type": "stream",
     "text": [
      "Improvement to 396\n",
      "puzzle_type                                              globe_8/25\n",
      "solution_state    A;A;A;A;A;D;D;D;D;D;G;G;G;G;G;J;J;J;J;J;M;M;M;...\n",
      "initial_state     V;O;a;I;a;F;C;D;C;d;I;O;U;F;F;G;L;I;Y;Y;X;X;a;...\n",
      "num_wildcards                                                     0\n",
      "Name: 397, dtype: object\n",
      "Sample score: 20689\n",
      "Number of moves: 118\n",
      "K: 4\n",
      "Number of shortest_path: 269484\n"
     ]
    },
    {
     "name": "stderr",
     "output_type": "stream",
     "text": [
      "Score: 20663 (-26): 100%|██████████| 20685/20685 [29:15<00:00, 11.78it/s]\n"
     ]
    },
    {
     "name": "stdout",
     "output_type": "stream",
     "text": [
      "Improvement to 397\n"
     ]
    }
   ],
   "source": [
    "database_file = '../solutions.db'\n",
    "solution_method = 'iterative replacement of K successive moves'\n",
    "\n",
    "\n",
    "conn = sqlite3.connect(database_file)\n",
    "cursor = conn.cursor()\n",
    "\n",
    "for game_id in range(381, 398):# range(187, 281):\n",
    "    # game_id = 1\n",
    "    puzzle = puzzles.loc[game_id]\n",
    "    time_limit = 72 * 60 * 60\n",
    "    \n",
    "    select_query = \"SELECT moves, solution_method FROM solutions WHERE id = ?\"\n",
    "            \n",
    "    # Execute the query\n",
    "    cursor.execute(select_query, (game_id,))\n",
    "    response = cursor.fetchone()\n",
    "    \n",
    "    sample_moves = response[0].split(\".\")\n",
    "    best_solution_method = response[1]\n",
    "    \n",
    "    # sample_submission = pd.read_csv(\"data/sample_submission.csv\").set_index(\"id\").loc[game_id]\n",
    "    # sample_moves = sample_submission[\"moves\"].split(\".\")\n",
    "    print(puzzle)\n",
    "    print(f\"Sample score: {len(sample_moves)}\")\n",
    "    \n",
    "    moves = get_moves(puzzle[\"puzzle_type\"])\n",
    "    print(f\"Number of moves: {len(moves)}\")\n",
    "    \n",
    "    K = 2\n",
    "    while True:\n",
    "        try:\n",
    "            shortest_path = get_shortest_path(moves, K, None if K == 2 else 10000000)\n",
    "        except ExceedMaxSizeError:\n",
    "            break\n",
    "        K += 1\n",
    "    print(f\"K: {K}\")\n",
    "    print(f\"Number of shortest_path: {len(shortest_path)}\")\n",
    "    \n",
    "    current_state = puzzle[\"initial_state\"].split(\";\")\n",
    "    current_solution = list(sample_moves)\n",
    "    initial_score = len(current_solution)\n",
    "    start_time = time.time()\n",
    "    \n",
    "    with tqdm(total=len(current_solution) - K, desc=f\"Score: {len(current_solution)} (-0)\") as pbar:\n",
    "        step = 0\n",
    "        while step + K < len(current_solution) and time.time() - start_time < time_limit:\n",
    "            replaced_moves = current_solution[step : step + K + 1]\n",
    "            state_before = current_state\n",
    "            state_after = current_state\n",
    "            for move_name in replaced_moves:\n",
    "                state_after = [state_after[i] for i in moves[move_name]]\n",
    "    \n",
    "            found_moves = None\n",
    "            for perm, move_names in shortest_path.items():\n",
    "                for i, j in enumerate(perm):\n",
    "                    if state_after[i] != state_before[j]:\n",
    "                        break\n",
    "                else:\n",
    "                    found_moves = move_names\n",
    "                    break\n",
    "    \n",
    "            if found_moves is not None:\n",
    "                length_before = len(current_solution)\n",
    "                current_solution = current_solution[:step] + list(found_moves) + current_solution[step + K + 1 :]\n",
    "                pbar.update(length_before - len(current_solution))\n",
    "                pbar.set_description(f\"Score: {len(current_solution)} ({len(current_solution) - initial_score})\")\n",
    "                for _ in range(K):\n",
    "                    if step == 0:\n",
    "                        break\n",
    "                    step -= 1\n",
    "                    pbar.update(-1)\n",
    "                    move_name = current_solution[step]\n",
    "                    move_name = move_name[1:] if move_name.startswith(\"-\") else f\"-{move_name}\"\n",
    "                    current_state = [current_state[i] for i in moves[move_name]]\n",
    "            else:\n",
    "                current_state = [current_state[i] for i in moves[current_solution[step]]]\n",
    "                step += 1\n",
    "                pbar.update(1)\n",
    "    \n",
    "    # validation\n",
    "    state = puzzle[\"initial_state\"].split(\";\")\n",
    "    for move_name in current_solution:\n",
    "        state = [state[i] for i in moves[move_name]]\n",
    "    # print(puzzle[\"solution_state\"])\n",
    "    # print(state)\n",
    "    assert puzzle[\"solution_state\"].split(\";\") == state\n",
    "    current_solution_length = len(current_solution)\n",
    "    if current_solution_length < len(sample_moves):\n",
    "        # print('.'.join(current_solution))\n",
    "        print(f'Improvement to {game_id}')\n",
    "        # Insert the moves into the database\n",
    "        insert_query = \"INSERT OR REPLACE INTO solutions (id, moves, count, solution_method) VALUES (?, ?, ?, ?)\"\n",
    "        cursor.execute(insert_query, (game_id, '.'.join(current_solution), current_solution_length, f'{solution_method}: {best_solution_method}'))\n",
    "        conn.commit()\n",
    "# Commit the changes and close the connection\n",
    "conn.commit()\n",
    "conn.close()"
   ],
   "metadata": {
    "collapsed": false,
    "ExecuteTime": {
     "end_time": "2024-01-01T22:43:14.377015Z",
     "start_time": "2024-01-01T03:12:24.271928Z"
    }
   },
   "id": "b3edd31a93989ca5",
   "execution_count": 5
  },
  {
   "cell_type": "code",
   "outputs": [
    {
     "data": {
      "text/plain": "['-r1',\n 'f23',\n 'f24',\n '-r2',\n 'f38',\n 'f19',\n 'f24',\n 'f19',\n 'f18',\n 'f29',\n 'f48',\n 'f2',\n 'f49',\n 'f0',\n 'f43',\n 'f7',\n 'f11',\n 'f5',\n 'f16',\n 'f4',\n 'f12',\n 'f48',\n 'f29',\n 'f18',\n 'f42',\n 'f5',\n 'f3',\n 'f49',\n 'f41',\n 'f43',\n 'f7',\n 'f11',\n 'f4',\n 'r8',\n 'f18',\n 'f32',\n 'f2',\n 'f48',\n 'f28',\n 'f4',\n 'f23',\n '-r3',\n 'f22',\n 'f15',\n 'f28',\n 'f48',\n 'f35',\n 'f28',\n 'f22',\n 'f15',\n 'f22',\n 'r3',\n 'f23',\n 'f4',\n 'f2',\n 'f29',\n 'f24',\n 'f25',\n 'f2',\n '-r0',\n 'f48',\n 'f28',\n 'f7',\n 'f1',\n 'f11',\n 'f7',\n 'f43',\n '-r0',\n 'f12',\n 'f48',\n 'f29',\n 'f18',\n 'f19',\n 'f44',\n 'r2',\n 'f21',\n 'r6',\n 'f4',\n 'f9',\n 'f23',\n 'f8',\n 'f5',\n 'f29',\n 'f48',\n 'f12',\n 'f44',\n 'f23',\n '-r3',\n 'f40',\n 'f25',\n 'f27',\n 'f14',\n 'f2',\n 'f28',\n 'f10',\n '-r1',\n 'f24',\n 'f29',\n 'f2',\n 'f5',\n 'f36',\n 'f12',\n 'f7',\n 'f20',\n 'f27',\n 'f25',\n 'f40',\n 'r3',\n 'f23',\n 'f44',\n 'f12',\n 'f48',\n 'f29',\n 'f5',\n 'f8',\n 'f23',\n 'f9',\n 'f4',\n '-r6',\n 'f21',\n 'f2',\n 'f49',\n 'f48',\n 'f12',\n 'f23',\n 'f8',\n 'f5',\n 'f18',\n 'f32',\n 'f2',\n 'f48',\n 'f28',\n 'f4',\n 'f23',\n '-r3',\n 'f22',\n 'f15',\n 'f28',\n 'f48',\n 'f35',\n 'f28',\n 'f22',\n 'f23',\n 'r1',\n 'f21',\n 'f25',\n 'f1',\n 'f37',\n 'f24',\n 'f29',\n 'f2',\n 'f18',\n 'f32',\n 'f2',\n 'f29',\n 'f47',\n 'f11',\n 'f29',\n 'f48',\n 'f12',\n 'f5',\n 'f8',\n 'r7',\n 'f2',\n 'f29',\n 'f24',\n 'f25',\n 'f2',\n '-r1',\n 'f24',\n 'f29',\n 'f2',\n 'f5',\n 'f36',\n 'f12',\n 'f7',\n 'f4',\n 'r8',\n 'f18',\n 'f32',\n 'f2',\n 'f48',\n 'f28',\n 'f45',\n 'f5',\n 'f41',\n 'f4',\n 'f24',\n 'f29',\n 'f2',\n 'f31',\n 'f49',\n 'f2',\n 'f12',\n 'f13',\n 'f19',\n 'f18',\n 'f29',\n 'f48',\n 'f12',\n 'f10',\n 'r4',\n 'f45',\n 'f5',\n 'f41',\n 'f4',\n 'f24',\n 'f29',\n 'f2',\n 'f31',\n 'f49',\n 'f2',\n 'f12',\n 'f45',\n 'f5',\n 'f41',\n 'f4',\n 'f24',\n 'f29',\n 'f2',\n 'f31',\n 'f49',\n 'f2',\n 'f12',\n 'f13',\n 'f19',\n 'f18',\n 'f29',\n 'f48',\n 'f12',\n 'f11',\n 'f7',\n 'f43',\n 'f0',\n 'f49',\n 'f2',\n 'f12',\n 'f31',\n 'f10',\n 'f30',\n '-r8',\n 'f12',\n 'f2',\n 'f49',\n 'f31',\n '-r2',\n 'f25',\n 'f1',\n 'f37',\n 'f24',\n 'f29',\n 'f2',\n 'f18',\n 'f32',\n 'f2',\n 'f12',\n 'f2',\n 'f49',\n 'f31',\n 'f48',\n 'f12',\n 'f21',\n 'f28',\n 'f48',\n 'f7',\n 'f1',\n 'r2',\n 'f7',\n 'f28',\n 'f48',\n 'r0',\n 'f2',\n 'f25',\n 'f24',\n 'f29',\n 'f2',\n 'r2',\n 'f7',\n 'f28',\n 'f48',\n 'r0',\n 'f2',\n 'f25',\n 'f24',\n 'f29',\n 'f32',\n 'f18',\n 'f2',\n 'f29',\n 'f24',\n 'f37',\n 'f1',\n 'f25',\n 'r2',\n 'f26',\n 'f40',\n 'f24',\n 'f27',\n 'f25',\n 'f26',\n 'f45',\n 'f5',\n 'f41',\n 'f4',\n 'f27',\n 'f25',\n 'f41',\n 'f4',\n 'f12',\n 'f48',\n 'f29',\n 'f18',\n 'f19',\n 'f24',\n 'f19',\n 'f38',\n 'f3',\n 'f37',\n 'f22',\n 'f28',\n 'f35',\n 'f48',\n 'f28',\n 'f15',\n 'f22',\n 'r3',\n 'f23',\n 'f4',\n 'r5',\n 'f28',\n 'f48',\n 'f2',\n 'f32',\n 'f18',\n 'f5',\n 'f8',\n 'f23',\n 'f12',\n 'f48',\n 'f49',\n 'f2',\n '-r1',\n 'f24',\n 'f29',\n 'f2',\n 'f5',\n 'f36',\n 'f12',\n 'f7',\n '-r6',\n 'r7',\n 'f25',\n 'f1',\n 'f37',\n 'f24',\n 'f29',\n 'f2',\n 'f46',\n 'f39',\n 'f49',\n 'r4',\n 'f28',\n 'f48',\n 'f2',\n 'f32',\n 'f18',\n 'f19',\n 'f20',\n 'f17',\n 'f5',\n 'f18',\n 'f32',\n 'f2',\n 'f48',\n 'f28',\n 'f12',\n 'f48',\n 'f29',\n 'f18',\n 'f19',\n 'f13',\n 'f12',\n 'f2',\n 'f49',\n 'f31',\n 'f2',\n 'f29',\n 'f24',\n 'f4',\n 'f41',\n 'f5',\n 'f45',\n 'f31',\n 'r5',\n '-r1',\n 'f23',\n 'f7',\n 'f1',\n 'f11',\n 'f7',\n 'f43',\n '-r0',\n 'f40',\n 'f26',\n '-r2',\n 'f25',\n 'f1',\n 'f37',\n 'f24',\n 'f29',\n 'f2',\n 'f18',\n 'f32',\n 'f2',\n 'f18',\n 'f32',\n 'f19',\n 'f18',\n 'f29',\n 'f48',\n 'f12',\n 'r8',\n 'f30',\n 'f10',\n 'f2',\n 'f49',\n 'f48',\n 'f12',\n 'f23',\n 'f8',\n 'f5',\n 'f18',\n 'f32',\n 'f2',\n 'f48',\n 'f2',\n 'f11',\n 'f7',\n 'f43',\n '-r0',\n 'f38',\n 'f5',\n 'f12',\n 'f2',\n 'f49',\n 'f0',\n 'f43',\n 'f7',\n 'f11',\n 'f12',\n 'f48',\n 'f29',\n 'f18',\n 'f42',\n 'f25',\n 'f1',\n 'f37',\n 'f19',\n 'f34',\n '-r5',\n 'f26',\n 'f31',\n 'f4',\n 'f23',\n '-r3',\n 'f22',\n 'f15',\n 'f22',\n 'f28',\n 'f35',\n 'f48',\n 'f28',\n 'f15',\n 'f22',\n 'r3',\n 'f23',\n 'f4',\n 'f28',\n 'f48',\n 'f2',\n 'f32',\n 'f18',\n '-r8',\n 'f4',\n 'f11',\n 'f7',\n 'f43',\n 'f41',\n 'f49',\n 'f3',\n 'f5',\n 'f2',\n 'f10',\n 'f19',\n 'f4',\n 'f16',\n 'f6',\n 'f0',\n 'f12',\n 'f36',\n 'f12',\n 'f7',\n 'f15',\n 'f14',\n 'f23',\n 'r1',\n 'f37',\n 'f28',\n 'f48',\n 'f2',\n 'f32',\n 'f18',\n '-r8',\n 'f4',\n 'f11',\n 'f7',\n 'f43',\n 'f0',\n 'f49',\n 'f2',\n 'f48',\n 'f29',\n 'f18',\n 'f19',\n 'f24',\n 'f19',\n 'f38',\n 'r2',\n 'f24',\n 'f23',\n 'r1',\n 'f28',\n 'f2',\n 'f11',\n 'f7',\n 'f43',\n '-r0',\n 'f38',\n 'f5',\n 'f12',\n 'f2',\n 'f49',\n 'f0',\n 'f43',\n 'f7',\n 'f11',\n '-r2',\n 'f44',\n 'f19',\n 'f18',\n 'f29',\n 'f48',\n 'f12',\n 'r0',\n 'f43',\n 'f7',\n 'f11',\n 'f1',\n 'f7',\n 'f28',\n 'f48',\n 'r0',\n 'f2',\n 'f25',\n 'f24',\n 'f29',\n 'f49',\n 'f48',\n 'f12',\n 'f23',\n 'f8',\n 'f5',\n 'f18',\n 'f32',\n 'f2',\n 'f48',\n 'f28',\n 'f41',\n 'f4',\n 'f12',\n 'f48',\n 'f29',\n 'f18',\n 'f19',\n 'f24',\n 'f19',\n 'f38',\n 'f11',\n 'f7',\n 'f43',\n 'f41',\n 'f49',\n 'f3',\n 'f5',\n 'r2',\n 'f24',\n 'f43',\n 'f31',\n 'f12',\n 'f2',\n 'f49',\n 'f0',\n 'f43',\n 'f7',\n 'f11',\n 'f13',\n 'f26',\n 'f49',\n 'f2',\n 'f15',\n 'f13',\n 'f18',\n 'f32',\n 'f2',\n 'f48',\n 'f28',\n 'f9',\n 'f25',\n 'f1',\n 'f37',\n 'f24',\n 'f29',\n 'f2',\n 'f18',\n 'f32',\n 'f5',\n 'f16',\n 'f4',\n 'f12',\n 'f48',\n 'f29',\n 'f18',\n 'f19',\n 'f13',\n 'f37',\n 'f18',\n 'f32',\n 'f19',\n 'f18',\n 'f29',\n 'f48',\n 'f12',\n 'r8',\n 'f30',\n 'f10',\n 'f2',\n 'f49',\n 'f48',\n 'f12',\n 'f23',\n 'f8',\n 'f5',\n 'f18',\n 'f32',\n 'f2',\n 'f48',\n 'f28',\n 'f12',\n 'f48',\n 'f29',\n 'f18',\n 'f19',\n 'f44',\n 'r2',\n 'f22',\n 'f28',\n 'f35',\n 'f48',\n 'f28',\n 'f15',\n 'f22',\n 'r3',\n 'f23',\n 'f4',\n 'f12',\n 'f48',\n 'f29',\n 'f18',\n 'f19',\n 'f15',\n 'f5',\n 'f17',\n 'f5',\n 'f45',\n 'f15',\n 'f13',\n 'f5',\n 'f7',\n 'f1',\n 'f11',\n 'f7',\n 'f43',\n 'f41',\n 'f49',\n 'f3',\n 'f5',\n 'f45',\n 'f5',\n 'f41',\n 'f4',\n 'f24',\n 'f29',\n 'f2',\n 'f31',\n 'f49',\n 'f2',\n 'f12',\n 'f13',\n 'f19',\n 'f18',\n 'f29',\n 'f48',\n 'f12',\n 'f28',\n 'f48',\n 'f2',\n 'f32',\n 'f18',\n 'f5',\n 'f17',\n 'f20',\n 'f19',\n 'f18',\n 'f32',\n 'f2',\n 'f48',\n 'f28',\n '-r4',\n 'f49',\n 'f39',\n 'f46',\n 'f2',\n 'f29',\n 'f24',\n 'f37',\n 'f1',\n 'f25',\n '-r7',\n 'r6',\n 'f7',\n 'f12',\n 'f36',\n 'f5',\n 'f2',\n 'f29',\n 'f24',\n 'r1',\n 'f2',\n 'f49',\n 'f48',\n 'f12',\n 'f23',\n 'f8',\n 'f5',\n 'f18',\n 'f32',\n 'f2',\n 'f48',\n 'f28',\n '-r5',\n 'f2',\n 'f32',\n 'f18',\n 'f2',\n 'f29',\n 'f24',\n 'f37',\n 'f1',\n 'f25',\n 'r2',\n 'f3',\n 'f37',\n 'f12',\n 'f2',\n 'f49',\n 'f31',\n 'f48',\n 'f12',\n 'f21',\n 'f28',\n 'f48',\n 'f7',\n 'f1',\n 'r8',\n 'f30',\n 'f10',\n 'f8',\n 'f28',\n 'f48',\n 'f2',\n 'f32',\n 'f18',\n 'f5',\n 'f17',\n 'f20',\n 'f19',\n 'f16',\n 'f48',\n 'f28',\n 'f21',\n 'f12',\n 'f48',\n 'f2',\n 'f32',\n 'f18',\n 'f2',\n 'f29',\n 'f24',\n 'f37',\n 'f1',\n 'f25',\n 'r2',\n 'f26',\n 'f40',\n 'r0',\n 'f43',\n 'f7',\n 'f11',\n 'f1',\n 'f7',\n 'f10',\n 'r4',\n 'f45',\n 'f5',\n 'f41',\n 'f4',\n 'f24',\n 'f29',\n 'f2',\n 'f31',\n 'f49',\n 'f2',\n 'f48',\n 'f29',\n 'f18',\n 'f19',\n 'f44',\n 'r2',\n 'f22',\n 'f28',\n 'f35',\n 'f48',\n 'f28',\n 'f15',\n 'f22',\n 'r3',\n 'f23',\n 'f4',\n 'f12',\n 'f48',\n 'f29',\n 'f18',\n 'f19',\n 'f15',\n 'f5',\n 'f17',\n 'f5',\n 'f45',\n 'f15',\n 'f13',\n 'f5',\n 'f31',\n 'f6',\n 'f12',\n 'f48',\n 'f25',\n 'f1',\n 'f37',\n 'f24',\n 'f29',\n 'f2',\n 'f18',\n 'f32',\n 'f2',\n 'f29',\n 'f47',\n 'f19',\n 'f20',\n 'f23',\n 'r1',\n '-r5',\n 'f31',\n 'f19',\n 'f20',\n 'f17',\n 'f5',\n 'f18',\n 'f32',\n 'f2',\n 'f48',\n 'f28',\n 'f8',\n 'f10',\n 'f30',\n '-r8',\n 'f1',\n 'f7',\n 'f48',\n 'f28',\n 'f21',\n 'f12',\n 'f48',\n 'f31',\n 'f49',\n 'f2',\n 'f12',\n 'r6',\n 'f12',\n 'f48',\n 'f29',\n 'f18',\n 'f42',\n 'f1',\n 'f32',\n 'f43',\n 'f19',\n 'f24',\n 'f19',\n 'f38',\n 'f24',\n 'f28',\n 'f2',\n 'f14',\n 'f18',\n 'f28',\n 'f48',\n 'f2',\n 'f32',\n 'f18',\n 'f5',\n 'f10',\n 'f2',\n 'f31',\n 'f18',\n 'f32',\n 'f2',\n 'f48',\n 'f28',\n '-r4',\n 'f2',\n 'f38',\n 'f19',\n 'f24',\n 'f19',\n 'f18',\n 'f29',\n 'f48',\n 'f12',\n 'f25',\n 'f1',\n 'f37',\n 'f24',\n 'f29',\n 'f2',\n 'f18',\n 'f32',\n 'f2',\n 'f29',\n 'f47',\n 'f11',\n 'f29',\n 'f48',\n 'f12',\n 'f25',\n 'f1',\n 'f37',\n 'f24',\n 'f29',\n 'f2',\n 'f18',\n 'f32',\n 'f2',\n 'f29',\n 'f47',\n 'f11',\n 'f29',\n 'f48',\n 'f12',\n '-r5',\n 'f11',\n 'f7',\n 'f43',\n 'f10',\n 'f23',\n '-r3',\n 'f40',\n 'f25',\n 'f27',\n 'f9',\n 'f11',\n 'f7',\n 'f43',\n '-r0',\n 'f28',\n 'f48',\n 'f2',\n 'f32',\n 'f18',\n '-r8',\n 'f7',\n ...]"
     },
     "execution_count": 6,
     "metadata": {},
     "output_type": "execute_result"
    }
   ],
   "source": [
    "current_solution"
   ],
   "metadata": {
    "collapsed": false,
    "ExecuteTime": {
     "end_time": "2024-01-01T22:43:14.397987Z",
     "start_time": "2024-01-01T22:43:14.384929Z"
    }
   },
   "id": "b794a200b4d8a89b",
   "execution_count": 6
  },
  {
   "cell_type": "markdown",
   "source": [],
   "metadata": {
    "collapsed": false
   },
   "id": "a91481293e87f763"
  },
  {
   "cell_type": "code",
   "outputs": [],
   "source": [],
   "metadata": {
    "collapsed": false,
    "ExecuteTime": {
     "end_time": "2024-01-01T22:43:14.398458Z",
     "start_time": "2024-01-01T22:43:14.387880Z"
    }
   },
   "id": "7aa9b7d7563df1e7",
   "execution_count": 6
  },
  {
   "cell_type": "code",
   "outputs": [],
   "source": [],
   "metadata": {
    "collapsed": false,
    "ExecuteTime": {
     "end_time": "2024-01-01T22:43:14.399376Z",
     "start_time": "2024-01-01T22:43:14.390297Z"
    }
   },
   "id": "792eeed4bc92aa7",
   "execution_count": 6
  },
  {
   "cell_type": "markdown",
   "source": [
    "Something to consider if you try to extrapolate the relabeling process for cubes with N > 3:\n",
    "\n",
    "For N=3, the solution state given can have only one representation as 6 sided cube which each face has the same color (excluding rotational symmetries because they are not valid solutions in this competition). It is for this reason my relabeling scheme works. \n",
    "\n",
    "However, consider N=4. There are 4 inner squares now, and they cannot be uniquely identified in the initial state like the N=3 case. I can confirm that the NxNxN solvers will solve cubes in terms of the faces being uniform in \"color,\" but those states are not necessarily solutions to the puzzle. (Close but not quite.)\n",
    "\n",
    "For N=5, the issue becomes slightly different because 5 is odd. There are now 9 inner squares6"
   ],
   "metadata": {
    "collapsed": false
   },
   "id": "b6173f48913c4a54"
  }
 ],
 "metadata": {
  "kernelspec": {
   "display_name": "Python 3",
   "language": "python",
   "name": "python3"
  },
  "language_info": {
   "codemirror_mode": {
    "name": "ipython",
    "version": 2
   },
   "file_extension": ".py",
   "mimetype": "text/x-python",
   "name": "python",
   "nbconvert_exporter": "python",
   "pygments_lexer": "ipython2",
   "version": "2.7.6"
  }
 },
 "nbformat": 4,
 "nbformat_minor": 5
}
