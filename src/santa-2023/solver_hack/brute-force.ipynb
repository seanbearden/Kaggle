{
 "cells": [
  {
   "cell_type": "markdown",
   "source": [
    "# <div style=\"font-family: Cambria; font-weight:bold; letter-spacing: 0px; color:white; font-size:200%; text-align:center;padding:3.0px; background: #6A1B9A; border-bottom: 8px solid #9C27B0\">Santa 2023 - Bidirectional Brute Force with Wildcards</div>\n",
    "#### <div style= \"font-family: Cambria; font-weight:bold; letter-spacing: 0px; color:white; font-size:150%; text-align:left;padding:3.0px; background: #6A1B9A; border-bottom: 8px solid #9C27B0\" >TABLE OF CONTENTS<br><div>\n",
    "* [IMPORTS](#1)\n",
    "* [LOAD DATA](#2)\n",
    "* [FUNCTIONS](#3)\n",
    "* [SOLVE](#4)\n",
    "\n",
    "Code modified from: https://www.kaggle.com/code/dinhttrandrise/bidirectional-brute-force-w-wildcards"
   ],
   "metadata": {
    "collapsed": false
   },
   "id": "3f9b3d33a851f8c2"
  },
  {
   "cell_type": "markdown",
   "source": [
    "<a id=\"1\"></a>\n",
    "# <div style= \"font-family: Cambria; font-weight:bold; letter-spacing: 0px; color:white; font-size:120%; text-align:left;padding:3.0px; background: #6A1B9A; border-bottom: 8px solid #9C27B0\" > IMPORTS<br><div> "
   ],
   "metadata": {
    "collapsed": false
   },
   "id": "927a75c9caab4626"
  },
  {
   "cell_type": "code",
   "outputs": [],
   "source": [
    "import os\n",
    "import time\n",
    "\n",
    "\n",
    "import pandas as pd\n",
    "from ast import literal_eval\n",
    "from dataclasses import dataclass\n",
    "import random\n",
    "from sympy.combinatorics import Permutation\n",
    "from typing import Dict, List\n",
    "import zipfile\n",
    "import numpy as np\n",
    "import sqlite3"
   ],
   "metadata": {
    "collapsed": false,
    "ExecuteTime": {
     "end_time": "2024-01-03T17:14:30.920061Z",
     "start_time": "2024-01-03T17:14:29.539261Z"
    }
   },
   "id": "b4a1d9fc3e7d4f99",
   "execution_count": 1
  },
  {
   "cell_type": "code",
   "outputs": [],
   "source": [
    "database_file = '../solutions.db'\n",
    "solution_method = 'bidirectional brute force w/ wildcards'\n",
    "# Connect to the SQLite database\n",
    "conn = sqlite3.connect(database_file)\n",
    "cursor = conn.cursor()\n",
    "\n",
    "select_query = \"SELECT id FROM solutions WHERE solution_method <> ? ORDER BY count\"\n",
    "    \n",
    "# Execute the query\n",
    "cursor.execute(select_query, (solution_method,))\n",
    "unsolved_ids = cursor.fetchall()\n",
    "\n",
    "\n",
    "# Commit the changes and close the connection\n",
    "conn.commit()\n",
    "conn.close()\n",
    "\n",
    "\n",
    "\n",
    "RUN_TIME = 1 #60 * 60 * 24 * 7\n",
    "START_TIME = time.time()\n",
    "TIMEOUT = RUN_TIME\n",
    "\n",
    "INCLUDES = [id[0] for id in unsolved_ids]\n",
    "INCLUDES = [206]\n",
    "\n",
    "\n",
    "# INCLUDES = list(range(333, 338))\n",
    "\n",
    "EXCLUDES = []\n",
    "MIN_SIZE = None\n",
    "MAX_SIZE = None\n",
    "\n",
    "DEBUG = False\n"
   ],
   "metadata": {
    "collapsed": false,
    "ExecuteTime": {
     "end_time": "2024-01-03T17:14:30.928197Z",
     "start_time": "2024-01-03T17:14:30.923199Z"
    }
   },
   "id": "3389968265ae759",
   "execution_count": 2
  },
  {
   "cell_type": "markdown",
   "source": [
    "<a id=\"2\"></a>\n",
    "# <div style= \"font-family: Cambria; font-weight:bold; letter-spacing: 0px; color:white; font-size:120%; text-align:left;padding:3.0px; background: #6A1B9A; border-bottom: 8px solid #9C27B0\" >LOAD DATA<br><div> "
   ],
   "metadata": {
    "collapsed": false
   },
   "id": "4be3d027b56234bb"
  },
  {
   "cell_type": "code",
   "outputs": [],
   "source": [
    "with zipfile.ZipFile('../../../res/data/santa-2023.zip', 'r') as z:\n",
    "    \n",
    "    with z.open('puzzle_info.csv') as f:\n",
    "        puzzle_info = pd.read_csv(f, index_col = 'puzzle_type')        \n",
    "                \n",
    "    with z.open('puzzles.csv') as f:\n",
    "        puzzles = pd.read_csv(f, index_col = 'id')\n",
    "    \n",
    "    with z.open('sample_submission.csv') as f:\n",
    "        submission = pd.read_csv(f)"
   ],
   "metadata": {
    "collapsed": false,
    "ExecuteTime": {
     "end_time": "2024-01-03T17:14:31.039242Z",
     "start_time": "2024-01-03T17:14:30.930466Z"
    }
   },
   "id": "42e6380d8e779c22",
   "execution_count": 3
  },
  {
   "cell_type": "markdown",
   "source": [
    "<a id=\"3\"></a>\n",
    "# <div style= \"font-family: Cambria; font-weight:bold; letter-spacing: 0px; color:white; font-size:120%; text-align:left;padding:3.0px; background: #6A1B9A; border-bottom: 8px solid #9C27B0\" >FUNCTIONS<br><div> "
   ],
   "metadata": {
    "collapsed": false
   },
   "id": "9784e86482d58ff4"
  },
  {
   "cell_type": "code",
   "outputs": [],
   "source": [
    "\n",
    "\n",
    "# puzzle = puzzles.loc[id]\n",
    "# sol = brute_force.solve(puzzle, puzzle_info, ';'.join(state))\n",
    "# sol"
   ],
   "metadata": {
    "collapsed": false,
    "ExecuteTime": {
     "end_time": "2024-01-03T17:14:31.047807Z",
     "start_time": "2024-01-03T17:14:31.041462Z"
    }
   },
   "id": "7c7d9a905533c5b0",
   "execution_count": 4
  },
  {
   "cell_type": "markdown",
   "source": [
    "<a id=\"4\"></a>\n",
    "# <div style= \"font-family: Cambria; font-weight:bold; letter-spacing: 0px; color:white; font-size:120%; text-align:left;padding:3.0px; background: #6A1B9A; border-bottom: 8px solid #9C27B0\" >SOLVE<br><div> "
   ],
   "metadata": {
    "collapsed": false
   },
   "id": "580cda3cf75e39aa"
  },
  {
   "cell_type": "code",
   "outputs": [
    {
     "name": "stdout",
     "output_type": "stream",
     "text": [
      "1\n",
      "2\n",
      "3\n",
      "4\n",
      "5\n",
      "6\n",
      "7\n",
      "8\n",
      "9\n",
      "10\n",
      "11\n"
     ]
    },
    {
     "ename": "KeyboardInterrupt",
     "evalue": "",
     "output_type": "error",
     "traceback": [
      "\u001B[0;31m---------------------------------------------------------------------------\u001B[0m",
      "\u001B[0;31mKeyboardInterrupt\u001B[0m                         Traceback (most recent call last)",
      "Cell \u001B[0;32mIn[5], line 26\u001B[0m\n\u001B[1;32m     24\u001B[0m num_wildcards \u001B[38;5;241m=\u001B[39m df[\u001B[38;5;124m'\u001B[39m\u001B[38;5;124mnum_wildcards\u001B[39m\u001B[38;5;124m'\u001B[39m]\n\u001B[1;32m     25\u001B[0m allowed_moves \u001B[38;5;241m=\u001B[39m puzzle_info\u001B[38;5;241m.\u001B[39mloc[puzzle_type, \u001B[38;5;124m'\u001B[39m\u001B[38;5;124mallowed_moves\u001B[39m\u001B[38;5;124m'\u001B[39m]\n\u001B[0;32m---> 26\u001B[0m solution \u001B[38;5;241m=\u001B[39m \u001B[43mbrute_force\u001B[49m\u001B[38;5;241;43m.\u001B[39;49m\u001B[43msolve\u001B[49m\u001B[43m(\u001B[49m\n\u001B[1;32m     27\u001B[0m \u001B[43m    \u001B[49m\u001B[43mnum_wildcards\u001B[49m\u001B[43m,\u001B[49m\n\u001B[1;32m     28\u001B[0m \u001B[43m    \u001B[49m\u001B[43mallowed_moves\u001B[49m\u001B[43m,\u001B[49m\n\u001B[1;32m     29\u001B[0m \u001B[43m    \u001B[49m\u001B[38;5;124;43m'\u001B[39;49m\u001B[38;5;124;43m;\u001B[39;49m\u001B[38;5;124;43m'\u001B[39;49m\u001B[38;5;241;43m.\u001B[39;49m\u001B[43mjoin\u001B[49m\u001B[43m(\u001B[49m\u001B[43minitial_state\u001B[49m\u001B[43m)\u001B[49m\u001B[43m,\u001B[49m\n\u001B[1;32m     30\u001B[0m \u001B[43m    \u001B[49m\u001B[38;5;124;43m'\u001B[39;49m\u001B[38;5;124;43m;\u001B[39;49m\u001B[38;5;124;43m'\u001B[39;49m\u001B[38;5;241;43m.\u001B[39;49m\u001B[43mjoin\u001B[49m\u001B[43m(\u001B[49m\u001B[43msolution_state\u001B[49m\u001B[43m)\u001B[49m\u001B[43m)\u001B[49m\n\u001B[1;32m     33\u001B[0m \u001B[38;5;28;01mif\u001B[39;00m solution \u001B[38;5;129;01mis\u001B[39;00m \u001B[38;5;28;01mNone\u001B[39;00m:\n\u001B[1;32m     34\u001B[0m     \u001B[38;5;28mprint\u001B[39m(\u001B[38;5;124m'\u001B[39m\u001B[38;5;124m=> [\u001B[39m\u001B[38;5;124m'\u001B[39m \u001B[38;5;241m+\u001B[39m \u001B[38;5;28mstr\u001B[39m(pid) \u001B[38;5;241m+\u001B[39m \u001B[38;5;124m'\u001B[39m\u001B[38;5;124m] Failed!\u001B[39m\u001B[38;5;124m'\u001B[39m)        \n",
      "File \u001B[0;32m~/PycharmProjects/Kaggle/src/santa-2023/solver_hack/brute_force.py:140\u001B[0m, in \u001B[0;36msolve\u001B[0;34m(num_wildcards, allowed_moves, initial_state, solution_state, debug)\u001B[0m\n\u001B[1;32m    137\u001B[0m \u001B[38;5;28mprint\u001B[39m(count)\n\u001B[1;32m    139\u001B[0m \u001B[38;5;28;01mif\u001B[39;00m count \u001B[38;5;241m%\u001B[39m \u001B[38;5;241m2\u001B[39m:\n\u001B[0;32m--> 140\u001B[0m     \u001B[43mexpand\u001B[49m\u001B[43m(\u001B[49m\u001B[43msource_paths\u001B[49m\u001B[43m)\u001B[49m\n\u001B[1;32m    141\u001B[0m \u001B[38;5;28;01melse\u001B[39;00m:\n\u001B[1;32m    142\u001B[0m     expand(dest_paths, reverse\u001B[38;5;241m=\u001B[39m\u001B[38;5;28;01mTrue\u001B[39;00m)\n",
      "File \u001B[0;32m~/PycharmProjects/Kaggle/src/santa-2023/solver_hack/brute_force.py:47\u001B[0m, in \u001B[0;36mexpand\u001B[0;34m(paths, reverse)\u001B[0m\n\u001B[1;32m     45\u001B[0m         paths[next_s] \u001B[38;5;241m=\u001B[39m paths[s] \u001B[38;5;241m+\u001B[39m [m]\n\u001B[1;32m     46\u001B[0m \u001B[38;5;28;01melse\u001B[39;00m:\n\u001B[0;32m---> 47\u001B[0m     next_s \u001B[38;5;241m=\u001B[39m \u001B[43mapply_move\u001B[49m\u001B[43m(\u001B[49m\u001B[43mm\u001B[49m\u001B[43m,\u001B[49m\u001B[43m \u001B[49m\u001B[43ms\u001B[49m\u001B[43m)\u001B[49m\n\u001B[1;32m     48\u001B[0m     \u001B[38;5;28;01mif\u001B[39;00m \u001B[38;5;129;01mnot\u001B[39;00m next_s \u001B[38;5;129;01min\u001B[39;00m paths:\n\u001B[1;32m     49\u001B[0m         paths[next_s] \u001B[38;5;241m=\u001B[39m paths[s] \u001B[38;5;241m+\u001B[39m [m]\n",
      "File \u001B[0;32m~/PycharmProjects/Kaggle/src/santa-2023/solver_hack/brute_force.py:27\u001B[0m, in \u001B[0;36mapply_move\u001B[0;34m(move, state)\u001B[0m\n\u001B[1;32m     25\u001B[0m new_state \u001B[38;5;241m=\u001B[39m []\n\u001B[1;32m     26\u001B[0m \u001B[38;5;28;01mfor\u001B[39;00m i \u001B[38;5;129;01min\u001B[39;00m move_list:\n\u001B[0;32m---> 27\u001B[0m     \u001B[43mnew_state\u001B[49m\u001B[38;5;241;43m.\u001B[39;49m\u001B[43mappend\u001B[49m\u001B[43m(\u001B[49m\u001B[43ms\u001B[49m\u001B[43m[\u001B[49m\u001B[43mi\u001B[49m\u001B[43m]\u001B[49m\u001B[43m)\u001B[49m\n\u001B[1;32m     28\u001B[0m s \u001B[38;5;241m=\u001B[39m new_state\n\u001B[1;32m     30\u001B[0m \u001B[38;5;28;01mreturn\u001B[39;00m \u001B[38;5;124m'\u001B[39m\u001B[38;5;124m;\u001B[39m\u001B[38;5;124m'\u001B[39m\u001B[38;5;241m.\u001B[39mjoin(s)\n",
      "\u001B[0;31mKeyboardInterrupt\u001B[0m: "
     ]
    }
   ],
   "source": [
    "import importlib\n",
    "import brute_force\n",
    "importlib.reload(brute_force);\n",
    "\n",
    "moves = None\n",
    "source_paths = None\n",
    "dest_paths = None\n",
    "\n",
    "database_file = '../solutions.db'\n",
    "# Connect to the SQLite database\n",
    "conn = sqlite3.connect(database_file)\n",
    "cursor = conn.cursor()\n",
    "\n",
    "grows = []\n",
    "all_ids = submission['id'].unique()\n",
    "for pid in INCLUDES:\n",
    "        \n",
    "    df = puzzles.loc[pid]\n",
    "    initial_state = df['initial_state']\n",
    "    solution_state = df['solution_state']\n",
    "    size = len(solution_state.split(';'))\n",
    "    \n",
    "    puzzle_type = df['puzzle_type']\n",
    "    num_wildcards = df['num_wildcards']\n",
    "    allowed_moves = puzzle_info.loc[puzzle_type, 'allowed_moves']\n",
    "    solution = brute_force.solve(\n",
    "        num_wildcards,\n",
    "        allowed_moves,\n",
    "        ';'.join(initial_state),\n",
    "        ';'.join(solution_state))\n",
    "\n",
    "\n",
    "    if solution is None:\n",
    "        print('=> [' + str(pid) + '] Failed!')        \n",
    "    else:\n",
    "        print('=> [' + str(pid) + '] Success!')        \n",
    "        \n",
    "        grows.append({'id': pid, 'moves': solution})\n",
    "        \n",
    "        \n",
    "        game_id = int(pid)\n",
    "        moves = solution\n",
    "        move_count = len(moves.split('.'))\n",
    "        \n",
    "        select_query = \"SELECT count FROM solutions WHERE id = ?\"\n",
    "            \n",
    "        # Execute the query\n",
    "        cursor.execute(select_query, (game_id,))\n",
    "        best_move_count = cursor.fetchone()\n",
    "        \n",
    "        if best_move_count[0] > move_count:\n",
    "            print(f'Improvement to {game_id}')\n",
    "            # Insert the moves into the database\n",
    "            insert_query = \"INSERT OR REPLACE INTO solutions (id, moves, count, solution_method) VALUES (?, ?, ?, ?)\"\n",
    "            cursor.execute(insert_query, (game_id, moves, move_count, solution_method))\n",
    "            conn.commit()\n",
    "        \n",
    "\n",
    "# Commit the changes and close the connection\n",
    "conn.commit()\n",
    "conn.close()"
   ],
   "metadata": {
    "collapsed": false,
    "ExecuteTime": {
     "end_time": "2024-01-03T17:16:55.295485Z",
     "start_time": "2024-01-03T17:14:31.049999Z"
    }
   },
   "id": "c0688112d713f1e2",
   "execution_count": 5
  },
  {
   "cell_type": "code",
   "outputs": [],
   "source": [
    "# counter clockwise\n",
    "corners_2x2x2 = [\n",
    "    (0, 13, 16),\n",
    "    (1, 9, 12),\n",
    "    (2, 17, 4),\n",
    "    (3, 5, 8),\n",
    "    (20, 6, 19),\n",
    "    (21, 10, 7),\n",
    "    (22, 18, 15),\n",
    "    (23, 14, 11),\n",
    "]"
   ],
   "metadata": {
    "collapsed": false,
    "ExecuteTime": {
     "end_time": "2024-01-03T17:17:01.789443Z",
     "start_time": "2024-01-03T17:17:01.777038Z"
    }
   },
   "id": "8a6f124f5ab428a8",
   "execution_count": 6
  },
  {
   "cell_type": "code",
   "outputs": [
    {
     "name": "stdout",
     "output_type": "stream",
     "text": [
      "[0, 13, 16]\n",
      "[1, 9, 12]\n",
      "[2, 17, 4]\n",
      "[3, 5, 8]\n",
      "[20, 6, 19]\n",
      "[21, 10, 7]\n",
      "[22, 18, 15]\n",
      "[23, 14, 11]\n"
     ]
    }
   ],
   "source": [
    "initial_state = df['initial_state']\n",
    "s = df['initial_state'].split(';')\n",
    "staging_moves = (\"-f2.-f3.-f2.-f3.-d2.-d3.-d2.-d3.-f3.-f3.d0.d1.r0.-f2.-f3.-f2.-f3.-d0.-f0.-f1.-d3.r2.r3.-r0.d0.d1.d0\"\n",
    "                 \".d1.r0.r1.r0.r1.-d3.r3.d0.d1.d0.d1.d2.d3.f0.f1.f0.f1.-f2.-f3.-f2.-f3.d0.d1.r0.r1.r0.r1.-d3.d0.d1.d0\"\n",
    "                 \".d1.f0.d0.f0.f1.f0.f1.r0.r1.r0.r1.f3.-r3.-r3.d0.-f3.-f3.-d0.-r3.-r3.r0.r1.r0.r1.d3.f0.f1.f0.f1\"\n",
    "                 \".-d3.f3.f3.r3\"\n",
    "                 \".f0.f0.r0\"\n",
    "                 \".-r3\"\n",
    "                 \".d1.d1.r0.r0.f1.f1.r3.d2.d2.r3.d2.d2.r0.r0.f2.f2\"\n",
    "                 # \".r3.r3\"\n",
    "                 \".-r3\"\n",
    "                 \".d1.d1.r0.r0.f1.f1.r3.d2.d2.r3.d2.d2.r0.r0.f2.f2\"\n",
    "                 \".r3.r3\"\n",
    "                 # # \".-d0\"\n",
    "                 # \".f1.f1.d3.d3.r2.r2.-d0.f2.f2.-d0.f2.f2.d3.d3.r2.r2\"\n",
    "                 # # \".-d0.-d0\"\n",
    "                 # \".-f0.-f0\"\n",
    "                 \".d1.d1.f0.f0.r2.r2.f3.d2.d2.f3.d2.d2.f3.f3.r2.r2\"\n",
    "                 \".-f0\"\n",
    "                 \".d1.d1.f0.f0.r2.r2.f3.d2.d2.f3.d2.d2.f3.f3.r2.r2\"\n",
    "                 \".-f0\"\n",
    "                 \".-d0\"\n",
    "                 # \".f1.f1.d0.d0.r1.r1.d3.f2.f2.d3.f2.f2.d0.d0.r1.r1\" # switch faces\n",
    "                 # \".f1.f1.d0.d0.r1.r1.d3.f2.f2.d3.f2.f2.d0.d0.r1.r1\" # switch faces\n",
    "                 \".f1.f1.d0.d0.r1.r1.d3.f2.f2.d3.f2.f2.d0.d0.r2.r2\" # no switch faces\n",
    "                 \".-d3.d0\"\n",
    "                 \".f1.f1.d0.d0.r1.r1.d3.f2.f2.d3.f2.f2.d0.d0.r2.r2\" # no switch faces\n",
    "                 \".d0.d0\"\n",
    "                 )\n",
    "moves = literal_eval(puzzle_info.loc[puzzle_type, 'allowed_moves'])\n",
    "moves = brute_force.init_reverse_moves(moves)\n",
    "for idx, move in enumerate(staging_moves.split('.')):\n",
    "    s = list(np.asarray(s)[np.array(moves[move])])\n",
    "\n",
    "\n",
    "ss = solution_state.split(';')\n",
    "\n",
    "# find all corners\n",
    "for c in corners_2x2x2:\n",
    "    print([int(ss[f][1:]) for f in c])\n",
    "        "
   ],
   "metadata": {
    "collapsed": false,
    "ExecuteTime": {
     "end_time": "2024-01-03T17:32:28.767128Z",
     "start_time": "2024-01-03T17:32:28.758927Z"
    }
   },
   "id": "2538d28f12441ac6",
   "execution_count": 79
  },
  {
   "cell_type": "code",
   "outputs": [
    {
     "data": {
      "text/plain": "'N5;N6;N9;N10;N21;N22;N25;N26;N37;N38;N41;N42;N53;N54;N57;N58;N69;N70;N73;N74;N85;N86;N89;N90'"
     },
     "execution_count": 80,
     "metadata": {},
     "output_type": "execute_result"
    }
   ],
   "source": [
    "dim = 4\n",
    "dim_2 = dim * dim\n",
    "ins = s #initial_state.split(';')\n",
    "ss = solution_state.split(';')\n",
    "ins_2x2x2 = []\n",
    "ss_2x2x2 = []\n",
    "map = {}\n",
    "inverse_map = {}\n",
    "count = 0\n",
    "\n",
    "for f in range(6):\n",
    "    for i in range(dim - 2):\n",
    "        for j in range(dim - 2):\n",
    "            init_value = ins[f * dim_2 + (i + 1) * dim + j + 1]\n",
    "            value = ss[f * dim_2 + (i + 1) * dim + j + 1]\n",
    "            map[value] = f'N{count}'\n",
    "            inverse_map[count] = value\n",
    "            \n",
    "            ins_2x2x2.append(init_value)\n",
    "            ss_2x2x2.append(value)\n",
    "            \n",
    "            # print(f'N{count}')\n",
    "            count += 1\n",
    "\n",
    "';'.join(ss_2x2x2)\n",
    "';'.join(ins_2x2x2)"
   ],
   "metadata": {
    "collapsed": false,
    "ExecuteTime": {
     "end_time": "2024-01-03T17:32:28.981297Z",
     "start_time": "2024-01-03T17:32:28.974344Z"
    }
   },
   "id": "efbd0d9c7ed01482",
   "execution_count": 80
  },
  {
   "cell_type": "code",
   "outputs": [
    {
     "name": "stdout",
     "output_type": "stream",
     "text": [
      "['N37', 'N38', 'N41', 'N42']\n",
      "['N69', 'N70', 'N73', 'N74']\n",
      "['N21', 'N22', 'N25', 'N26']\n",
      "['N53', 'N54', 'N57', 'N58']\n"
     ]
    }
   ],
   "source": [
    "# # verify corners\n",
    "# # c = corners_2x2x2[5]\n",
    "# # print(inverse_map[c[0]], inverse_map[c[1]], inverse_map[c[2]])\n",
    "# for c in corners_2x2x2:\n",
    "#     # for idx in c:\n",
    "#     #     print(f'N{idx}')\n",
    "#     #     print(inverse_map[idx])\n",
    "#        \n",
    "#     # print(c[0], c[1], c[2]) \n",
    "#     print(inverse_map[c[0]], inverse_map[c[1]], inverse_map[c[2]])\n",
    "#     print(ins_2x2x2[c[0]], ins_2x2x2[c[1]], ins_2x2x2[c[2]])\n",
    "#     print('---')\n",
    "    \n",
    "print(ins_2x2x2[8:12])\n",
    "print(ins_2x2x2[16:20])\n",
    "ins_2x2x2[:4]\n",
    "ins_2x2x2[20:]\n",
    "print(ins_2x2x2[4:8])\n",
    "print(ins_2x2x2[12:16])"
   ],
   "metadata": {
    "collapsed": false,
    "ExecuteTime": {
     "end_time": "2024-01-03T17:32:29.183698Z",
     "start_time": "2024-01-03T17:32:29.174350Z"
    }
   },
   "id": "167b9927065c1426",
   "execution_count": 81
  },
  {
   "cell_type": "code",
   "outputs": [
    {
     "name": "stdout",
     "output_type": "stream",
     "text": [
      "['N5', 'N6', 'N9', 'N10']\n",
      "['N85', 'N86', 'N89', 'N90']\n"
     ]
    }
   ],
   "source": [
    "print(ins_2x2x2[:4])\n",
    "print(ins_2x2x2[20:])"
   ],
   "metadata": {
    "collapsed": false,
    "ExecuteTime": {
     "end_time": "2024-01-03T17:32:29.346907Z",
     "start_time": "2024-01-03T17:32:29.337064Z"
    }
   },
   "id": "68d50c8f1393bb8",
   "execution_count": 82
  },
  {
   "cell_type": "code",
   "outputs": [],
   "source": [],
   "metadata": {
    "collapsed": false,
    "ExecuteTime": {
     "end_time": "2024-01-03T17:18:32.465530Z",
     "start_time": "2024-01-03T17:18:32.455312Z"
    }
   },
   "id": "55d6d64e2fee1935",
   "execution_count": 10
  },
  {
   "cell_type": "code",
   "outputs": [],
   "source": [],
   "metadata": {
    "collapsed": false,
    "ExecuteTime": {
     "end_time": "2024-01-03T17:18:32.692139Z",
     "start_time": "2024-01-03T17:18:32.671802Z"
    }
   },
   "id": "aecfd6b0f0331513",
   "execution_count": 10
  },
  {
   "cell_type": "code",
   "outputs": [],
   "source": [],
   "metadata": {
    "collapsed": false
   },
   "id": "d0eb03fb4e5588c9"
  }
 ],
 "metadata": {
  "kernelspec": {
   "display_name": "Python 3",
   "language": "python",
   "name": "python3"
  },
  "language_info": {
   "codemirror_mode": {
    "name": "ipython",
    "version": 2
   },
   "file_extension": ".py",
   "mimetype": "text/x-python",
   "name": "python",
   "nbconvert_exporter": "python",
   "pygments_lexer": "ipython2",
   "version": "2.7.6"
  }
 },
 "nbformat": 4,
 "nbformat_minor": 5
}
