{
 "cells": [
  {
   "cell_type": "markdown",
   "source": [
    "# <div style=\"font-family: Cambria; font-weight:bold; letter-spacing: 0px; color:white; font-size:200%; text-align:center;padding:3.0px; background: #6A1B9A; border-bottom: 8px solid #9C27B0\">Santa 2023 - NxNxN Cube Monte Carlo</div>\n",
    "#### <div style= \"font-family: Cambria; font-weight:bold; letter-spacing: 0px; color:white; font-size:150%; text-align:left;padding:3.0px; background: #6A1B9A; border-bottom: 8px solid #9C27B0\" >TABLE OF CONTENTS<br><div>\n",
    "* [IMPORTS](#1)\n",
    "* [LOAD DATA](#2)\n",
    "* [FUNCTIONS](#3)\n",
    "* [SOLVE](#4)\n",
    "\n",
    "Using repo from dwalton76: https://github.com/dwalton76/rubiks-cube-NxNxN-solver/tree/master\n",
    "\n",
    "I want to explore solving the cube after manipulating the initial state of N-labled soltuions. Modifying the initial \n",
    "state may generate a path to the solution"
   ],
   "metadata": {
    "collapsed": false
   },
   "id": "cb27f145f4a21c60"
  },
  {
   "cell_type": "markdown",
   "source": [
    "<a id=\"1\"></a>\n",
    "# <div style= \"font-family: Cambria; font-weight:bold; letter-spacing: 0px; color:white; font-size:120%; text-align:left;padding:3.0px; background: #6A1B9A; border-bottom: 8px solid #9C27B0\" > IMPORTS<br><div> "
   ],
   "metadata": {
    "collapsed": false
   },
   "id": "16cc31f3532a971e"
  },
  {
   "cell_type": "code",
   "outputs": [
    {
     "name": "stdout",
     "output_type": "stream",
     "text": [
      "Current Working Directory:  /Users/seanbearden/PycharmProjects/Kaggle/src/santa-2023/solver_hack/rubiks-cube-NxNxN-solver\n"
     ]
    }
   ],
   "source": [
    "import zipfile\n",
    "import sqlite3\n",
    "import random\n",
    "import pandas as pd\n",
    "import numpy as np\n",
    "\n",
    "import os\n",
    "import itertools\n",
    "\n",
    "os.chdir('rubiks-cube-NxNxN-solver')\n",
    "# Print the current working directory\n",
    "print(\"Current Working Directory: \", os.getcwd())\n",
    "\n",
    "database_file = '../../solutions.db'\n",
    "solution_method = \"dwalton76 NxNxN algo\""
   ],
   "metadata": {
    "collapsed": false,
    "ExecuteTime": {
     "end_time": "2024-01-03T17:34:08.406491Z",
     "start_time": "2024-01-03T17:34:07.908745Z"
    }
   },
   "id": "9f4f9b29f3fbe6d1",
   "execution_count": 1
  },
  {
   "cell_type": "markdown",
   "source": [
    "<a id=\"2\"></a>\n",
    "# <div style= \"font-family: Cambria; font-weight:bold; letter-spacing: 0px; color:white; font-size:120%; text-align:left;padding:3.0px; background: #6A1B9A; border-bottom: 8px solid #9C27B0\" >LOAD DATA<br><div> "
   ],
   "metadata": {
    "collapsed": false
   },
   "id": "4ec6c1faceb9c933"
  },
  {
   "cell_type": "code",
   "outputs": [],
   "source": [
    "with zipfile.ZipFile('../../../../res/data/santa-2023.zip', 'r') as z:\n",
    "    \n",
    "    with z.open('puzzle_info.csv') as f:\n",
    "        puzzle_info = pd.read_csv(f, index_col = 'puzzle_type')        \n",
    "                \n",
    "    with z.open('puzzles.csv') as f:\n",
    "        puzzles = pd.read_csv(f, index_col='id')\n",
    "    \n",
    "    with z.open('sample_submission.csv') as f:\n",
    "        submission = pd.read_csv(f)"
   ],
   "metadata": {
    "collapsed": false,
    "ExecuteTime": {
     "end_time": "2024-01-03T17:34:08.508757Z",
     "start_time": "2024-01-03T17:34:08.406363Z"
    }
   },
   "id": "cba80e81c4a78136",
   "execution_count": 2
  },
  {
   "cell_type": "markdown",
   "source": [
    "<a id=\"3\"></a>\n",
    "# <div style= \"font-family: Cambria; font-weight:bold; letter-spacing: 0px; color:white; font-size:120%; text-align:left;padding:3.0px; background: #6A1B9A; border-bottom: 8px solid #9C27B0\" >FUNCTIONS<br><div>\n",
    " "
   ],
   "metadata": {
    "collapsed": false
   },
   "id": "3c749950ebd6005e"
  },
  {
   "cell_type": "code",
   "execution_count": 3,
   "id": "initial_id",
   "metadata": {
    "collapsed": true,
    "ExecuteTime": {
     "end_time": "2024-01-03T17:34:08.513447Z",
     "start_time": "2024-01-03T17:34:08.510381Z"
    }
   },
   "outputs": [],
   "source": [
    "# U = ['U', 'F', 'R', 'B', 'L', 'D']\n",
    "\n",
    "def state2ubl(state):\n",
    "    \n",
    "    U_dict = {\n",
    "        'A': 'U',\n",
    "        'C': 'R',\n",
    "        'B': 'F',\n",
    "        'F': 'D',\n",
    "        'E': 'L',\n",
    "        'D': 'B',\n",
    "        \n",
    "    }\n",
    "    state_split = state.split(';')\n",
    "    dim = int(np.sqrt(len(state_split) // 6))\n",
    "    dim_2 = dim**2\n",
    "    \n",
    "    s = ''.join([U_dict[f] for f in state_split])\n",
    "    \n",
    "    return s[:dim_2] + s[2*dim_2:3*dim_2] + s[dim_2:2*dim_2] + s[5*dim_2:] + s[4*dim_2:5*dim_2] + s[3*dim_2:4*dim_2]\n"
   ]
  },
  {
   "cell_type": "code",
   "outputs": [
    {
     "name": "stdout",
     "output_type": "stream",
     "text": [
      "['B', 'C', 'D', 'E', 'F', 'A']\n"
     ]
    }
   ],
   "source": [
    "def cyclic_letters(start='A'):\n",
    "    count = 6\n",
    "    # Define the alphabet letters from A to F\n",
    "    letters = ['A', 'B', 'C', 'D', 'E', 'F']\n",
    "    # letters = ['D', 'E', 'A', 'C', 'F', 'B']\n",
    "    # letters = ['D', 'A', 'C', 'F', 'E', 'B']\n",
    "    # letters = ['F', 'D', 'C', 'B', 'E', 'A']\n",
    "    \n",
    "    # Find the index of the starting letter\n",
    "    start_index = letters.index(start)\n",
    "    \n",
    "    # Reorder the list so that it starts with the desired letter\n",
    "    ordered_letters = letters[start_index:] + letters[:start_index]\n",
    "    \n",
    "    # Create a cyclic iterator from the ordered letters\n",
    "    cyclic_iterator = itertools.cycle(ordered_letters)\n",
    "    \n",
    "    # Select the first 'count' elements from the iterator\n",
    "    selected_letters = [next(cyclic_iterator) for _ in range(count)]\n",
    "    \n",
    "    return selected_letters\n",
    "\n",
    "# Example usage:\n",
    "print(cyclic_letters(start='B'))"
   ],
   "metadata": {
    "collapsed": false,
    "ExecuteTime": {
     "end_time": "2024-01-03T17:34:08.521827Z",
     "start_time": "2024-01-03T17:34:08.516888Z"
    }
   },
   "id": "63dea249be37100c",
   "execution_count": 4
  },
  {
   "cell_type": "code",
   "outputs": [],
   "source": [
    "def relabel_NxNxN_N_state(state, start='A'):\n",
    "    # Split the string into individual elements.\n",
    "    state_list = state.split(';')\n",
    "    \n",
    "    dim = int(np.sqrt(len(state_list) // 6))\n",
    "    dim_2 = dim**2\n",
    "    letters = cyclic_letters(start=start)\n",
    "    if state[0] == 'N':\n",
    "        for i, val in enumerate(state_list):\n",
    "            # Extract the number part from the string like 'N33' -> 33.\n",
    "            num = int(val[1:])\n",
    "            # Replace based on the given criteria.\n",
    "            if 0 <= num < dim_2:\n",
    "                state_list[i] = letters[0]\n",
    "            elif dim_2 <= num < 2*dim_2:\n",
    "                state_list[i] = letters[1]\n",
    "            elif 2*dim_2 <= num < 3*dim_2:\n",
    "                state_list[i] = letters[2]\n",
    "            elif 3*dim_2 <= num < 4*dim_2:\n",
    "                state_list[i] = letters[3]\n",
    "            elif 4*dim_2 <= num < 5*dim_2:\n",
    "                state_list[i] = letters[4]\n",
    "            elif 5*dim_2 <= num < 6*dim_2:\n",
    "                state_list[i] = letters[5]\n",
    "    \n",
    "    return ';'.join(state_list)  "
   ],
   "metadata": {
    "collapsed": false,
    "ExecuteTime": {
     "end_time": "2024-01-03T17:34:08.526483Z",
     "start_time": "2024-01-03T17:34:08.522416Z"
    }
   },
   "id": "ba03e72cb4bddffd",
   "execution_count": 5
  },
  {
   "cell_type": "code",
   "outputs": [],
   "source": [
    "def apply_moves(initial_state, moves, mmoves):\n",
    "    state = initial_state.split(\";\")\n",
    "    for move_name in mmoves.split('.'):\n",
    "        state = [state[i] for i in moves[move_name]]\n",
    "    \n",
    "    return ';'.join(state)\n",
    "\n"
   ],
   "metadata": {
    "collapsed": false,
    "ExecuteTime": {
     "end_time": "2024-01-03T17:34:08.527556Z",
     "start_time": "2024-01-03T17:34:08.525668Z"
    }
   },
   "id": "d2e5f319c3d1ad1b",
   "execution_count": 6
  },
  {
   "cell_type": "code",
   "outputs": [],
   "source": [
    "def sym_rotations(dim, mmoves, new_state, sol_state, num_wildcards, wildcard=False):\n",
    "    I = ['.'.join([f'{j}{i}' for i in range(dim)]) for j in ['r', 'd', 'f']]\n",
    "    manipulations = (\n",
    "            [''] + \n",
    "            I + \n",
    "            [i1 + '.' + i2 for i1 in I for i2 in I] +\n",
    "            [i1 + '.' + i2+ '.' + i3 for i1 in I for i2 in I for i3 in I] +\n",
    "            [i1 + '.' + i2+ '.' + i3 + '.' + i4 for i1 in I for i2 in I for i3 in I for i4 in I]\n",
    "    )\n",
    "    \n",
    "    for rotation in manipulations:\n",
    "        temp_state = new_state\n",
    "        if len(rotation) > 0:\n",
    "            for move in rotation.split('.'):\n",
    "                temp_state = ';'.join(list(np.asarray(temp_state.split(';'))[np.array(moves[move])]))\n",
    "        \n",
    "        if wildcard: \n",
    "            total_correct = np.sum([sol_state[i] == ns for i, ns in enumerate(temp_state.split(';'))])\n",
    "            if total_correct >= 6*(dim**2) - num_wildcards:\n",
    "                print(f'solved id: {id}')\n",
    "                if len(rotation) > 0:\n",
    "                    mmoves += '.' + rotation\n",
    "                break\n",
    "        else:\n",
    "            if temp_state == sol_state:\n",
    "                print(f'solved id: {id}')\n",
    "                if len(rotation) > 0:\n",
    "                    mmoves += '.' + rotation\n",
    "                break\n",
    "                \n",
    "    return temp_state, mmoves"
   ],
   "metadata": {
    "collapsed": false,
    "ExecuteTime": {
     "end_time": "2024-01-03T17:34:08.542031Z",
     "start_time": "2024-01-03T17:34:08.531787Z"
    }
   },
   "id": "f4213a36fc61f1c",
   "execution_count": 7
  },
  {
   "cell_type": "code",
   "outputs": [],
   "source": [
    "def move_translation(dim):\n",
    "    M = {}\n",
    "    M[\"U\"] = f'-d{dim-1}'\n",
    "    M[\"R\"] = \"r0\"\n",
    "    M[\"B\"] = f\"-f{dim-1}\"\n",
    "    M[\"F\"] = \"f0\"\n",
    "    M[\"L\"] = f\"-r{dim-1}\"\n",
    "    M[\"D\"] = \"d0\"\n",
    "    \n",
    "    \n",
    "    I = ['.'.join([f'{j}{i}' for i in range(dim)]) for j in ['r', 'f', 'd']]\n",
    "    for i, j in enumerate(['x', 'y', 'z']):\n",
    "        M[j] = I[i]\n",
    "\n",
    "    if dim > 3:\n",
    "        M[\"Uw\"] = f'-d{dim-2}.-d{dim-1}'\n",
    "        M[\"Rw\"] = f\"r0.r1\"\n",
    "        M[\"Bw\"] = f'-f{dim-2}.-f{dim-1}'\n",
    "        M[\"Fw\"] = f\"f0.f1\"\n",
    "        M[\"Lw\"] = f'-r{dim-2}.-r{dim-1}'\n",
    "        M[\"Dw\"] = f\"d0.d1\"\n",
    "        \n",
    "    if dim >= 6:\n",
    "        M[\"2Uw\"] = f'-d{dim-2}.-d{dim-1}'\n",
    "        M[\"2Rw\"] = f\"r0.r1\"\n",
    "        M[\"2Bw\"] = f'-f{dim-2}.-f{dim-1}'\n",
    "        M[\"2Fw\"] = f\"f0.f1\"\n",
    "        M[\"2Lw\"] = f'-r{dim-2}.-r{dim-1}'\n",
    "        M[\"2Dw\"] = f\"d0.d1\"\n",
    "\n",
    "        width_max = dim // 2\n",
    "        for i in range(3, width_max + 1):\n",
    "            M[f\"{i}Uw\"] = f'-d{dim-i}.' + M[f\"{i-1}Uw\"]\n",
    "            M[f\"{i}Rw\"] = M[f\"{i-1}Rw\"] + f'.r{i-1}'\n",
    "            M[f\"{i}Bw\"] = f'-f{dim-i}.' + M[f\"{i-1}Bw\"]\n",
    "            M[f\"{i}Fw\"] = M[f\"{i-1}Fw\"] + f'.f{i-1}'\n",
    "            M[f\"{i}Lw\"] = f'-r{dim-i}.' + M[f\"{i-1}Lw\"]\n",
    "            M[f\"{i}Dw\"] = M[f\"{i-1}Dw\"] + f'.d{i-1}'\n",
    "\n",
    "\n",
    "    for m in list(M):\n",
    "        M[m+\"2\"] = M[m] + '.' + M[m]\n",
    "        if \"-\" in M[m]:\n",
    "            M[m+\"'\"] = M[m].replace(\"-\",\"\")\n",
    "        else:\n",
    "            M[m+\"'\"] = '.'.join([\"-\"+i for i in M[m].split('.')])\n",
    "    \n",
    "    return M"
   ],
   "metadata": {
    "collapsed": false,
    "ExecuteTime": {
     "end_time": "2024-01-03T17:34:08.542703Z",
     "start_time": "2024-01-03T17:34:08.538924Z"
    }
   },
   "id": "8b1ab47b0ed61c4f",
   "execution_count": 8
  },
  {
   "cell_type": "code",
   "outputs": [],
   "source": [
    "def get_moves(allowed_moves):\n",
    "    moves = eval(allowed_moves)\n",
    "    for move in list(moves):\n",
    "        moves['-'+move] = np.argsort(moves[move]).tolist()\n",
    "    return moves\n",
    "\n",
    "def flip_diag_faces(M):\n",
    "    # flip_diag_faces = \"x' y Rw U Rw' U' F F U Rw U' Rw' F\" # F\"\n",
    "    flip_diag_faces = \"Rw U2 Rw' U2 Rw' F Rw2 U2 Rw' U2 Rw U Rw' F'\"\n",
    "    mm = '.'.join([M[m] for m in flip_diag_faces.split(' ')])\n",
    "    return mm\n",
    "\n",
    "\n",
    "def swap_faces(M):\n",
    "    moves = \"U F2 D Rw U2 Rw' U2 Rw' F Rw2 U2 Rw' U2 Rw U Rw' F' D' F2 U'\"\n",
    "    mm = '.'.join([M[m] for m in moves.split(' ')])\n",
    "    return mm\n",
    "\n",
    "\n",
    "def rotate_90(matrix):\n",
    "    # Zip combines the elements from each of the sublists\n",
    "    # The * operator unpacks the original list\n",
    "    # The reversed() function is used to rotate it clockwise\n",
    "    return [list(reversed(col)) for col in zip(*matrix)]\n",
    "        "
   ],
   "metadata": {
    "collapsed": false,
    "ExecuteTime": {
     "end_time": "2024-01-03T17:34:08.549308Z",
     "start_time": "2024-01-03T17:34:08.543493Z"
    }
   },
   "id": "b0a70c99a7361dbc",
   "execution_count": 9
  },
  {
   "cell_type": "code",
   "outputs": [],
   "source": [
    "def solve(initial_state, solution_state, num_wildcards, moves, verbose=False):\n",
    "    start='A'\n",
    "    init_state = relabel_NxNxN_N_state(initial_state, start=start)\n",
    "    sol_state = relabel_NxNxN_N_state(solution_state, start=start)\n",
    "        \n",
    "    # new_moves = random.choices(list(moves.keys()), k=1)\n",
    "    \n",
    "    # init_state = apply_moves(init_state, moves, '.'.join(new_moves))\n",
    "    # print(init_state)\n",
    "    state = state2ubl(init_state)\n",
    "    print(f'Starting {id}')\n",
    "    output = !./rubiks-cube-solver.py --state $state\n",
    "    # return output\n",
    "    sol = None\n",
    "    if output[-1][:9] == 'Solution:':\n",
    "        # print(output[-1])\n",
    "        sol = output[-1].split(': ')[1]\n",
    "    else:\n",
    "        for n in range(1, 21):\n",
    "            if 'Solution:' in output[-n]:\n",
    "                sol = output[-n].split('Solution: ')[1].split('2023-')[0]\n",
    "                break\n",
    "    if sol is None:\n",
    "        print(output[-1])\n",
    "        return output\n",
    "                \n",
    "    mmoves = '.'.join([M[m] for m in sol.split(' ')])\n",
    "    # # new_moves_str = '.'.join(new_moves)\n",
    "    # \n",
    "    # new_state = init_state\n",
    "    # \n",
    "    # original_init = row['initial_state']\n",
    "    # original_sol = row['solution_state'].split(';')\n",
    "    # \n",
    "    # if num_wildcards >= 2:\n",
    "    #     for idx, move in enumerate(mmoves.split('.')):\n",
    "    #         new_state = ';'.join(list(np.asarray(new_state.split(';'))[np.array(moves[move])]))\n",
    "    #         original_init = ';'.join(list(np.asarray(original_init.split(';'))[np.array(moves[move])]))\n",
    "    #         original_init, mmoves = sym_rotations(dim, mmoves, original_init, original_sol, num_wildcards)\n",
    "    #         total_correct = np.sum([original_sol[i] == ns for i, ns in enumerate(original_init.split(';'))])\n",
    "    #         if total_correct >= 6*dim**2 - num_wildcards:\n",
    "    #             print('WILDCARD SOLUTION FOUND')\n",
    "    #             mmoves = '.'.join(mmoves.split('.')[:idx+1])\n",
    "    #             break\n",
    "    #         \n",
    "    # check rotations\n",
    "    \n",
    "    new_state = apply_moves(initial_state, moves, mmoves)\n",
    "    temp_state, mmoves = sym_rotations(dim, mmoves, new_state, solution_state.split(';'), num_wildcards, wildcard=False)\n",
    "\n",
    "    return mmoves, sol, output"
   ],
   "metadata": {
    "collapsed": false,
    "ExecuteTime": {
     "end_time": "2024-01-03T17:34:08.556991Z",
     "start_time": "2024-01-03T17:34:08.552509Z"
    }
   },
   "id": "dbfa1d3112ad97e2",
   "execution_count": 10
  },
  {
   "cell_type": "markdown",
   "source": [
    "<a id=\"4\"></a>\n",
    "# <div style= \"font-family: Cambria; font-weight:bold; letter-spacing: 0px; color:white; font-size:120%; text-align:left;padding:3.0px; background: #6A1B9A; border-bottom: 8px solid #9C27B0\" >SOLVE<br><div> "
   ],
   "metadata": {
    "collapsed": false
   },
   "id": "2e5d33b72ccc37d9"
  },
  {
   "cell_type": "code",
   "outputs": [
    {
     "name": "stdout",
     "output_type": "stream",
     "text": [
      "Starting 206\n",
      "['N0', 'N1', 'N2', 'N3', 'N4', 'N9', 'N6', 'N7', 'N8', 'N10', 'N5', 'N11', 'N12', 'N13', 'N14', 'N15', 'N16', 'N17', 'N18', 'N19', 'N20', 'N25', 'N26', 'N23', 'N24', 'N21', 'N22', 'N27', 'N28', 'N29', 'N30', 'N31', 'N32', 'N33', 'N34', 'N35', 'N36', 'N42', 'N38', 'N39', 'N40', 'N41', 'N37', 'N43', 'N44', 'N45', 'N46', 'N47', 'N48', 'N49', 'N50', 'N51', 'N52', 'N53', 'N57', 'N55', 'N56', 'N54', 'N58', 'N59', 'N60', 'N61', 'N62', 'N63', 'N64', 'N65', 'N66', 'N67', 'N68', 'N70', 'N69', 'N71', 'N72', 'N74', 'N73', 'N75', 'N76', 'N77', 'N78', 'N79', 'N80', 'N81', 'N82', 'N83', 'N84', 'N86', 'N89', 'N87', 'N88', 'N85', 'N90', 'N91', 'N92', 'N93', 'N94', 'N95']\n",
      "assertion error for 206\n"
     ]
    }
   ],
   "source": [
    "# Connect to the SQLite database\n",
    "conn = sqlite3.connect(database_file)\n",
    "cursor = conn.cursor()\n",
    "\n",
    "for id in range(206, 207):\n",
    "    row = puzzles.loc[id]\n",
    "    if row['puzzle_type'][:4] == 'cube' and row['solution_state'][0] == 'N':\n",
    "        dim = int(row['puzzle_type'].split('/')[-1])\n",
    "        moves = get_moves(puzzle_info.loc[row['puzzle_type'], 'allowed_moves'])\n",
    "        M = move_translation(dim)\n",
    "        \n",
    "        s = row['initial_state'].split(';')\n",
    "        # staging_moves = \"Bw2 Uw2\"\n",
    "        # staging_moves = \"Bw2 Uw2\" + \" \" + \"B2 Dw R Bw2 D' Fw' U Lw' R' Dw2 Rw2 U L'\" + \" Dw2 Uw' Fw2 Bw2 Dw\" + \" Rw2 U Dw2 F D Fw2 Rw2 B' L2 D B2 D' L2 Rw2 U' Fw2\"\n",
    "        # \n",
    "        # staging_moves = '.'.join([M[i] for i in staging_moves.split()])\n",
    "        \n",
    "        staging_moves = \\\n",
    "            (\"-f2.-f3.-f2.-f3.-d2.-d3.-d2.-d3.-f3.-f3.d0.d1.r0.-f2.-f3.-f2.-f3.-d0.-f0.-f1.-d3.r2.r3.-r0.d0.d1.d0\"\n",
    "             \".d1.r0.r1.r0.r1.-d3.r3.d0.d1.d0.d1.d2.d3.f0.f1.f0.f1.-f2.-f3.-f2.-f3.d0.d1.r0.r1.r0.r1.-d3.d0.d1.d0\"\n",
    "             \".d1.f0.d0.f0.f1.f0.f1.r0.r1.r0.r1.f3.-r3.-r3.d0.-f3.-f3.-d0.-r3.-r3.r0.r1.r0.r1.d3.f0.f1.f0.f1\"\n",
    "             \".-d3.f3.f3.r3\"\n",
    "             \".f0.f0.r0\"\n",
    "             \".-r3\"\n",
    "             \".d1.d1.r0.r0.f1.f1.r3.d2.d2.r3.d2.d2.r0.r0.f2.f2\"\n",
    "             # \".r3.r3\"\n",
    "             \".-r3\"\n",
    "             \".d1.d1.r0.r0.f1.f1.r3.d2.d2.r3.d2.d2.r0.r0.f2.f2\"\n",
    "             \".r3.r3\"\n",
    "             # # \".-d0\"\n",
    "             # \".f1.f1.d3.d3.r2.r2.-d0.f2.f2.-d0.f2.f2.d3.d3.r2.r2\"\n",
    "             # # \".-d0.-d0\"\n",
    "             # \".-f0.-f0\"\n",
    "             \".d1.d1.f0.f0.r2.r2.f3.d2.d2.f3.d2.d2.f3.f3.r2.r2\"\n",
    "             \".-f0\"\n",
    "             \".d1.d1.f0.f0.r2.r2.f3.d2.d2.f3.d2.d2.f3.f3.r2.r2\"\n",
    "             \".-f0\"\n",
    "             \".-d0\"\n",
    "             # \".f1.f1.d0.d0.r1.r1.d3.f2.f2.d3.f2.f2.d0.d0.r1.r1\" # switch faces\n",
    "             # \".f1.f1.d0.d0.r1.r1.d3.f2.f2.d3.f2.f2.d0.d0.r1.r1\" # switch faces\n",
    "             \".f1.f1.d0.d0.r1.r1.d3.f2.f2.d3.f2.f2.d0.d0.r2.r2\" # no switch faces\n",
    "             \".-d3.d0\"\n",
    "             \".f1.f1.d0.d0.r1.r1.d3.f2.f2.d3.f2.f2.d0.d0.r2.r2\" # no switch faces\n",
    "             \".d0.d0\"\n",
    "             )\n",
    "        \n",
    "        for idx, move in enumerate(staging_moves.split('.')):\n",
    "            s = list(np.asarray(s)[np.array(moves[move])])\n",
    "        mmoves, sol, output = solve(';'.join(s), row['solution_state'], row['num_wildcards'], moves) \n",
    "\n",
    "        # mmoves, sol, output = solve(row['initial_state'], row['solution_state'], row['num_wildcards'], moves, verbose=False) \n",
    "        # validation\n",
    "        state = s #row['initial_state'].split(\";\")\n",
    "        # mmoves = f'{new_moves_str}.{mmoves}'\n",
    "        for move_name in mmoves.split('.'):\n",
    "            state = [state[i] for i in moves[move_name]]\n",
    "        \n",
    "        \n",
    "        while True:\n",
    "            # state = apply_moves(row['initial_state'], moves, mmoves)\n",
    "            print(state)\n",
    "            try:\n",
    "                assert row['solution_state'].split(\";\") == state\n",
    "                print('SOLVED\"')\n",
    "                # mmoves_length = len(mmoves.split('.'))\n",
    "                \n",
    "                select_query = \"SELECT count FROM solutions WHERE id = ?\"\n",
    "    \n",
    "                # Execute the query\n",
    "                cursor.execute(select_query, (id,))\n",
    "                response = cursor.fetchone()\n",
    "                best_moves_length = response[0]\n",
    "                \n",
    "                # if mmoves_length < best_moves_length:\n",
    "                #     # Insert the moves into the database\n",
    "                #     insert_query = (\"INSERT OR REPLACE INTO solutions (id, moves, count, solution_method) VALUES (?, ?, ?, ?)\")\n",
    "                #     cursor.execute(insert_query, (id, mmoves, mmoves_length, solution_method))\n",
    "                #     conn.commit()\n",
    "                break\n",
    "            except AssertionError:\n",
    "                print(f\"assertion error for {id}\")\n",
    "                # print(state)\n",
    "                break\n",
    "        \n",
    "                \n",
    "\n",
    "# Commit the changes and close the connection\n",
    "conn.commit()\n",
    "conn.close()\n"
   ],
   "metadata": {
    "collapsed": false,
    "ExecuteTime": {
     "end_time": "2024-01-03T17:34:13.660605Z",
     "start_time": "2024-01-03T17:34:08.559948Z"
    }
   },
   "id": "eb38dc28d0e5b28c",
   "execution_count": 11
  },
  {
   "cell_type": "code",
   "outputs": [
    {
     "name": "stdout",
     "output_type": "stream",
     "text": [
      "Solution before phase 3: [\"D'\", 'B2', \"R'\", 'COMMENT_centers_staged,_edges_EOed_into_high/low_groups_(3_steps)']\n"
     ]
    },
    {
     "data": {
      "text/plain": "[\"D'\", 'B2', \"R'\"]"
     },
     "execution_count": 12,
     "metadata": {},
     "output_type": "execute_result"
    }
   ],
   "source": [
    "phase1_sol = None\n",
    "phase2_sol = None\n",
    "phase34_sols = []\n",
    "\n",
    "for line in output:\n",
    "    if 'phase34_solution' in line:\n",
    "        sol34 = eval(line.split('phase34_solution: ')[-1])\n",
    "        sol3 = '.'.join([M[m] for m in sol34[0]])\n",
    "        sol4 = '.'.join([M[m] for m in sol34[1]])\n",
    "        phase34_sols.append(f'{sol3}.{sol4}')\n",
    "        # break\n",
    "    elif 'phase 1 solutions: ' in line:\n",
    "        sol1 = eval(line.split('phase 1 solutions: ')[-1])\n",
    "\n",
    "    elif 'phase 2 solutions: ' in line:\n",
    "        sol2 = eval(line.split('phase 2 solutions: ')[-1])\n",
    "        # sol3 = '.'.join([M[m] for m in sol34[0]])\n",
    "        # sol4 = '.'.join([M[m] for m in sol34[1]])\n",
    "        # phase34_sols.append(f'{sol3}.{sol4}')\n",
    "        # break\n",
    "    elif 'Solution before phase 2: ' in line:\n",
    "        phase1_sol = eval(line.split('Solution before phase 2: ')[-1])\n",
    "        phase1_sol = [m for m in phase1_sol if not m.startswith('COMMENT')]\n",
    "    elif 'Solution before phase 3: ' in line:\n",
    "        print(line)\n",
    "        phase2_sol = eval(line.split('Solution before phase 3: ')[-1])\n",
    "        phase2_sol = [m for m in phase2_sol if not m.startswith('COMMENT')]\n",
    "\n",
    "# print(phase1_sol)\n",
    "# print(phase2_sol)\n",
    "# # line[0]\n",
    "# print(sol34[0])\n",
    "phase2_sol"
   ],
   "metadata": {
    "collapsed": false,
    "ExecuteTime": {
     "end_time": "2024-01-03T17:34:13.670997Z",
     "start_time": "2024-01-03T17:34:13.666053Z"
    }
   },
   "id": "6d6177272727a04a",
   "execution_count": 12
  },
  {
   "cell_type": "code",
   "outputs": [
    {
     "name": "stdout",
     "output_type": "stream",
     "text": [
      "[['N5', 'N6'], ['N9', 'N10']]\n",
      "[['N5', 'N6'], ['N9', 'N10']]\n",
      "\n",
      "[['N21', 'N22'], ['N25', 'N26']]\n",
      "[['N21', 'N22'], ['N25', 'N26']]\n",
      "\n",
      "[['N37', 'N38'], ['N41', 'N42']]\n",
      "[['N37', 'N38'], ['N41', 'N42']]\n",
      "\n",
      "[['N53', 'N54'], ['N57', 'N58']]\n",
      "[['N53', 'N54'], ['N57', 'N58']]\n",
      "\n",
      "[['N69', 'N70'], ['N73', 'N74']]\n",
      "[['N69', 'N70'], ['N73', 'N74']]\n",
      "\n",
      "[['N85', 'N86'], ['N89', 'N90']]\n",
      "[['N85', 'N86'], ['N89', 'N90']]\n"
     ]
    }
   ],
   "source": [
    "# mm = '.'.join([M[m] for m in phase1_sol])\n",
    "# mm = '.'.join([M[m] for m in phase2_sol])\n",
    "mm = ''\n",
    "# for idx, move in enumerate(staging_moves.split('.')):\n",
    "#     s = list(np.asarray(s)[np.array(moves[move])])\n",
    "\n",
    "for i, sol34 in enumerate([0]):\n",
    "    if mm:\n",
    "        mm_att = f'{mm}.{sol34}'\n",
    "    else:\n",
    "        mm_att = sol34\n",
    "    \n",
    "    # mm_att = mm\n",
    "    # temp = row['initial_state'].split(';').copy()\n",
    "    temp = s.copy()\n",
    "    dim_2 = 4**2\n",
    "    \n",
    "    # print(state[dim_2 * face + 5:dim_2 * face + 7])\n",
    "    # print(state[dim_2 * face + 9:dim_2 * face + 11])\n",
    "    # for idx, move in enumerate(mm_att.split('.')):\n",
    "    #     temp = list(np.asarray(temp)[np.array(moves[move])])\n",
    "    \n",
    "    correct_faces = 0\n",
    "    for face in range(6):\n",
    "        center = [\n",
    "            temp[dim_2 * face + 5:dim_2 * face + 7],\n",
    "            temp[dim_2 * face + 9:dim_2 * face + 11]\n",
    "        ]\n",
    "\n",
    "        center_ideal = [[f'N{idx}' for idx in range(dim_2 * face + 5, dim_2 * face + 7)],\n",
    "                  [f'N{idx}' for idx in range(dim_2 * face + 9, dim_2 * face + 11)]]\n",
    "\n",
    "        print(center)\n",
    "        # print()\n",
    "        print(center_ideal)\n",
    "        print()\n",
    "        # break\n",
    "        for _ in range(4):\n",
    "            center = rotate_90(center)\n",
    "            if center == center_ideal:\n",
    "                correct_faces += 1\n",
    "                break\n",
    "                \n",
    "    if correct_faces == 6:\n",
    "        break\n",
    "    if correct_faces > 2:\n",
    "        print(correct_faces)\n",
    "    break"
   ],
   "metadata": {
    "collapsed": false,
    "ExecuteTime": {
     "end_time": "2024-01-03T17:34:13.677015Z",
     "start_time": "2024-01-03T17:34:13.672570Z"
    }
   },
   "id": "5f1896d452ede735",
   "execution_count": 13
  },
  {
   "cell_type": "code",
   "outputs": [
    {
     "ename": "AttributeError",
     "evalue": "'int' object has no attribute 'split'",
     "output_type": "error",
     "traceback": [
      "\u001B[0;31m---------------------------------------------------------------------------\u001B[0m",
      "\u001B[0;31mAttributeError\u001B[0m                            Traceback (most recent call last)",
      "Cell \u001B[0;32mIn[14], line 1\u001B[0m\n\u001B[0;32m----> 1\u001B[0m \u001B[43mmm_att\u001B[49m\u001B[38;5;241;43m.\u001B[39;49m\u001B[43msplit\u001B[49m(\u001B[38;5;124m'\u001B[39m\u001B[38;5;124m.\u001B[39m\u001B[38;5;124m'\u001B[39m)\n\u001B[1;32m      2\u001B[0m mm\n",
      "\u001B[0;31mAttributeError\u001B[0m: 'int' object has no attribute 'split'"
     ]
    }
   ],
   "source": [
    "mm_att.split('.')\n",
    "mm"
   ],
   "metadata": {
    "collapsed": false,
    "ExecuteTime": {
     "end_time": "2024-01-03T17:34:13.876047Z",
     "start_time": "2024-01-03T17:34:13.676920Z"
    }
   },
   "id": "3dfad6b873d48504",
   "execution_count": 14
  },
  {
   "cell_type": "code",
   "outputs": [],
   "source": [
    "' '.join(sol.split()[:17-1])"
   ],
   "metadata": {
    "collapsed": false,
    "ExecuteTime": {
     "end_time": "2024-01-03T17:34:13.878515Z",
     "start_time": "2024-01-03T17:34:13.877405Z"
    }
   },
   "id": "e1b5454b865ad3d",
   "execution_count": null
  },
  {
   "cell_type": "code",
   "outputs": [],
   "source": [
    "s = row['initial_state'].split(';')\n",
    "for idx, move in enumerate(M[\"Bw2'\"].split('.')):\n",
    "    s = list(np.asarray(s)[np.array(moves[move])])\n",
    "    \n",
    "s[90 - 1]"
   ],
   "metadata": {
    "collapsed": false,
    "ExecuteTime": {
     "start_time": "2024-01-03T17:34:13.881076Z"
    }
   },
   "id": "96c95333e8b2677b",
   "execution_count": null
  },
  {
   "cell_type": "code",
   "outputs": [],
   "source": [
    "s[86 - 1 ]"
   ],
   "metadata": {
    "collapsed": false,
    "ExecuteTime": {
     "end_time": "2024-01-03T17:34:13.883820Z",
     "start_time": "2024-01-03T17:34:13.882951Z"
    }
   },
   "id": "46d6e969738e9e6b",
   "execution_count": null
  },
  {
   "cell_type": "code",
   "outputs": [],
   "source": [
    "staging_moves"
   ],
   "metadata": {
    "collapsed": false,
    "ExecuteTime": {
     "start_time": "2024-01-03T17:34:13.884613Z"
    }
   },
   "id": "58a078477133914c",
   "execution_count": null
  },
  {
   "cell_type": "code",
   "outputs": [],
   "source": [],
   "metadata": {
    "collapsed": false,
    "ExecuteTime": {
     "start_time": "2024-01-03T17:34:13.885834Z"
    }
   },
   "id": "77b63c9c47a0931d"
  }
 ],
 "metadata": {
  "kernelspec": {
   "display_name": "Python 3",
   "language": "python",
   "name": "python3"
  },
  "language_info": {
   "codemirror_mode": {
    "name": "ipython",
    "version": 2
   },
   "file_extension": ".py",
   "mimetype": "text/x-python",
   "name": "python",
   "nbconvert_exporter": "python",
   "pygments_lexer": "ipython2",
   "version": "2.7.6"
  }
 },
 "nbformat": 4,
 "nbformat_minor": 5
}
