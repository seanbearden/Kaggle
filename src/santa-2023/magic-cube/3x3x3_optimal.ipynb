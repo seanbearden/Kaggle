{
 "cells": [
  {
   "cell_type": "markdown",
   "source": [
    "# <div style=\"font-family: Cambria; font-weight:bold; letter-spacing: 0px; color:white; font-size:200%; \n",
    "text-align:center;padding:3.0px; background: #6A1B9A; border-bottom: 8px solid #9C27B0\">Santa 2023 - 3x3x3 Optimal</div>\n",
    "#### <div style= \"font-family: Cambria; font-weight:bold; letter-spacing: 0px; color:white; font-size:150%; text-align:left;padding:3.0px; background: #6A1B9A; border-bottom: 8px solid #9C27B0\" >TABLE OF CONTENTS<br><div>\n",
    "* [IMPORTS](#1)\n",
    "* [LOAD DATA](#2)\n",
    "* [FUNCTIONS](#3)\n",
    "* [SOLVE](#4)\n",
    "\n",
    "Using repo from dwalton76: https://github.com/dwalton76/rubiks-cube-NxNxN-solver/tree/master\n",
    "\n",
    "The solver can attempt optimal solutions for 3x3x3"
   ],
   "metadata": {
    "collapsed": false
   },
   "id": "cb27f145f4a21c60"
  },
  {
   "cell_type": "markdown",
   "source": [
    "<a id=\"1\"></a>\n",
    "# <div style= \"font-family: Cambria; font-weight:bold; letter-spacing: 0px; color:white; font-size:120%; text-align:left;padding:3.0px; background: #6A1B9A; border-bottom: 8px solid #9C27B0\" > IMPORTS<br><div> "
   ],
   "metadata": {
    "collapsed": false
   },
   "id": "16cc31f3532a971e"
  },
  {
   "cell_type": "code",
   "outputs": [
    {
     "name": "stdout",
     "output_type": "stream",
     "text": [
      "Current Working Directory:  /Users/seanbearden/PycharmProjects/Kaggle/src/santa-2023/magic-cube/rubiks-cube-NxNxN-solver\n"
     ]
    }
   ],
   "source": [
    "import zipfile\n",
    "import sqlite3\n",
    "import random\n",
    "import pandas as pd\n",
    "import numpy as np\n",
    "\n",
    "import os\n",
    "\n",
    "os.chdir('rubiks-cube-NxNxN-solver')\n",
    "# Print the current working directory\n",
    "print(\"Current Working Directory: \", os.getcwd())\n",
    "\n",
    "database_file = '../../solutions.db'\n",
    "solution_method = \"dwalton76 3x3x3 optimal\""
   ],
   "metadata": {
    "collapsed": false,
    "ExecuteTime": {
     "end_time": "2023-12-30T03:20:18.981327Z",
     "start_time": "2023-12-30T03:20:18.389296Z"
    }
   },
   "id": "9f4f9b29f3fbe6d1",
   "execution_count": 1
  },
  {
   "cell_type": "markdown",
   "source": [
    "<a id=\"2\"></a>\n",
    "# <div style= \"font-family: Cambria; font-weight:bold; letter-spacing: 0px; color:white; font-size:120%; text-align:left;padding:3.0px; background: #6A1B9A; border-bottom: 8px solid #9C27B0\" >LOAD DATA<br><div> "
   ],
   "metadata": {
    "collapsed": false
   },
   "id": "4ec6c1faceb9c933"
  },
  {
   "cell_type": "code",
   "outputs": [],
   "source": [
    "with zipfile.ZipFile('../../../../res/data/santa-2023.zip', 'r') as z:\n",
    "    \n",
    "    with z.open('puzzle_info.csv') as f:\n",
    "        puzzle_info = pd.read_csv(f, index_col = 'puzzle_type')        \n",
    "                \n",
    "    with z.open('puzzles.csv') as f:\n",
    "        puzzles = pd.read_csv(f, index_col='id')\n",
    "    \n",
    "    with z.open('sample_submission.csv') as f:\n",
    "        submission = pd.read_csv(f)"
   ],
   "metadata": {
    "collapsed": false,
    "ExecuteTime": {
     "end_time": "2023-12-30T03:20:19.109596Z",
     "start_time": "2023-12-30T03:20:18.976094Z"
    }
   },
   "id": "cba80e81c4a78136",
   "execution_count": 2
  },
  {
   "cell_type": "markdown",
   "source": [
    "<a id=\"3\"></a>\n",
    "# <div style= \"font-family: Cambria; font-weight:bold; letter-spacing: 0px; color:white; font-size:120%; text-align:left;padding:3.0px; background: #6A1B9A; border-bottom: 8px solid #9C27B0\" >FUNCTIONS<br><div>\n",
    " "
   ],
   "metadata": {
    "collapsed": false
   },
   "id": "3c749950ebd6005e"
  },
  {
   "cell_type": "code",
   "execution_count": 3,
   "id": "initial_id",
   "metadata": {
    "collapsed": true,
    "ExecuteTime": {
     "end_time": "2023-12-30T03:20:19.114900Z",
     "start_time": "2023-12-30T03:20:19.112295Z"
    }
   },
   "outputs": [],
   "source": [
    "U = ['U', 'F', 'R', 'B', 'L', 'D']\n",
    "U_dict = {\n",
    "    'A': 'U',\n",
    "    'B': 'F',\n",
    "    'C': 'R',\n",
    "    'D': 'B',\n",
    "    'E': 'L',\n",
    "    'F': 'D',\n",
    "}\n",
    "def state2ubl(state):\n",
    "    state_split = state.split(';')\n",
    "    dim = int(np.sqrt(len(state_split) // 6))\n",
    "    dim_2 = dim**2\n",
    "    \n",
    "    s = ''.join([U_dict[f] for f in state_split])\n",
    "    \n",
    "    return s[:dim_2] + s[2*dim_2:3*dim_2] + s[dim_2:2*dim_2] + s[5*dim_2:] + s[4*dim_2:5*dim_2] + s[3*dim_2:4*dim_2]\n"
   ]
  },
  {
   "cell_type": "code",
   "outputs": [],
   "source": [
    "def apply_moves(initial_state, moves, mmoves):\n",
    "    state = initial_state.split(\";\")\n",
    "    for move_name in mmoves.split('.'):\n",
    "        state = [state[i] for i in moves[move_name]]\n",
    "    \n",
    "    return ';'.join(state)\n",
    "\n"
   ],
   "metadata": {
    "collapsed": false,
    "ExecuteTime": {
     "end_time": "2023-12-30T03:20:19.125985Z",
     "start_time": "2023-12-30T03:20:19.115872Z"
    }
   },
   "id": "d2e5f319c3d1ad1b",
   "execution_count": 4
  },
  {
   "cell_type": "code",
   "outputs": [],
   "source": [
    "def sym_rotations(dim, mmoves, new_state, sol_state, num_wildcards, wildcard=False):\n",
    "    I = ['.'.join([f'{j}{i}' for i in range(dim)]) for j in ['r', 'd', 'f']]\n",
    "    manipulations = (\n",
    "            [''] + \n",
    "            I + \n",
    "            [i1 + '.' + i2 for i1 in I for i2 in I] +\n",
    "            [i1 + '.' + i2+ '.' + i3 for i1 in I for i2 in I for i3 in I] +\n",
    "            [i1 + '.' + i2+ '.' + i3 + '.' + i4 for i1 in I for i2 in I for i3 in I for i4 in I]\n",
    "    )\n",
    "    \n",
    "    for rotation in manipulations:\n",
    "        temp_state = new_state\n",
    "        if len(rotation) > 0:\n",
    "            for move in rotation.split('.'):\n",
    "                temp_state = ';'.join(list(np.asarray(temp_state.split(';'))[np.array(moves[move])]))\n",
    "\n",
    "        if wildcard: \n",
    "            total_correct = np.sum([sol_state[i] == ns for i, ns in enumerate(temp_state.split(';'))])\n",
    "            if total_correct >= 6*(dim**2) - num_wildcards:\n",
    "                print(f'solved id: {id}')\n",
    "                if len(rotation) > 0:\n",
    "                    mmoves += '.' + rotation\n",
    "                break\n",
    "        else:\n",
    "            if temp_state == sol_state:\n",
    "                print(f'solved id: {id}')\n",
    "                if len(rotation) > 0:\n",
    "                    mmoves += '.' + rotation\n",
    "                break\n",
    "                \n",
    "    return temp_state, mmoves"
   ],
   "metadata": {
    "collapsed": false,
    "ExecuteTime": {
     "end_time": "2023-12-30T03:20:19.130462Z",
     "start_time": "2023-12-30T03:20:19.125238Z"
    }
   },
   "id": "f4213a36fc61f1c",
   "execution_count": 5
  },
  {
   "cell_type": "code",
   "outputs": [],
   "source": [
    "def move_translation():\n",
    "    M = {}\n",
    "    M[\"U\"] = \"-d2\"\n",
    "    M[\"R\"] = \"r0\"\n",
    "    M[\"B\"] = \"-f2\"\n",
    "    M[\"F\"] = \"f0\"\n",
    "    M[\"L\"] = \"-r2\"\n",
    "    M[\"D\"] = \"d0\"\n",
    "\n",
    "\n",
    "    for m in list(M):\n",
    "        M[m+\"2\"] = M[m] + '.' + M[m]\n",
    "        if \"-\" in M[m]:\n",
    "            M[m+\"'\"] = M[m].replace(\"-\",\"\")\n",
    "        else:\n",
    "            M[m+\"'\"] = '.'.join([\"-\"+i for i in M[m].split('.')])\n",
    "    \n",
    "    return M\n",
    "\n",
    "def inverse_move_translation():\n",
    "    M = {}\n",
    "    \n",
    "    M[\"r0\"] = \"R\"\n",
    "    M[\"f0\"] = \"F\"\n",
    "    M[\"d0\"] = \"D\"\n",
    "    M[\"-r0\"] = \"R'\"\n",
    "    M[\"-f0\"] = \"F'\"\n",
    "    M[\"-d0\"] = \"D'\"\n",
    "    \n",
    "    \n",
    "    M[\"d2\"] = \"U'\"\n",
    "    M[\"f2\"] = \"B'\"\n",
    "    M[\"r2\"] = \"L'\"\n",
    "    M[\"-d2\"] = \"U\"\n",
    "    M[\"-f2\"] = \"B\"\n",
    "    M[\"-r2\"] = \"L\"\n",
    "\n",
    "    \n",
    "    M[\"r1\"] = \"R' L\"\n",
    "    M[\"f1\"] = \"F' B\"\n",
    "    M[\"d1\"] = \"D' U\"\n",
    "    M[\"-r1\"] = \"R L'\"\n",
    "    M[\"-f1\"] = \"F B'\"\n",
    "    M[\"-d1\"] = \"D U'\"\n",
    "    \n",
    "    \n",
    "    return M"
   ],
   "metadata": {
    "collapsed": false,
    "ExecuteTime": {
     "end_time": "2023-12-30T03:20:19.138671Z",
     "start_time": "2023-12-30T03:20:19.131428Z"
    }
   },
   "id": "8b1ab47b0ed61c4f",
   "execution_count": 6
  },
  {
   "cell_type": "code",
   "outputs": [],
   "source": [
    "def get_moves(allowed_moves):\n",
    "    moves = eval(allowed_moves)\n",
    "    for move in list(moves):\n",
    "        moves['-'+move] = np.argsort(moves[move]).tolist()\n",
    "    return moves\n",
    "\n",
    "def flip_diag_faces(M):\n",
    "    # flip_diag_faces = \"x' y Rw U Rw' U' F F U Rw U' Rw' F\" # F\"\n",
    "    flip_diag_faces = \"Rw U2 Rw' U2 Rw' F Rw2 U2 Rw' U2 Rw U Rw' F'\"\n",
    "    mm = '.'.join([M[m] for m in flip_diag_faces.split(' ')])\n",
    "    return mm\n",
    "\n",
    "\n",
    "def swap_faces(M):\n",
    "    moves = \"U F2 D Rw U2 Rw' U2 Rw' F Rw2 U2 Rw' U2 Rw U Rw' F' D' F2 U'\"\n",
    "    mm = '.'.join([M[m] for m in moves.split(' ')])\n",
    "    return mm\n",
    "\n",
    "        "
   ],
   "metadata": {
    "collapsed": false,
    "ExecuteTime": {
     "end_time": "2023-12-30T03:20:19.139279Z",
     "start_time": "2023-12-30T03:20:19.136454Z"
    }
   },
   "id": "b0a70c99a7361dbc",
   "execution_count": 7
  },
  {
   "cell_type": "code",
   "outputs": [],
   "source": [
    "def solve(initial_state, solution_state, num_wildcards, moves, verbose=False, best=None):\n",
    "    init_state = initial_state\n",
    "    sol_state = solution_state\n",
    "        \n",
    "    state = state2ubl(init_state)\n",
    "    print(f'Starting {id}')\n",
    "    if best is None:\n",
    "        output = !./rubiks-cube-solver.py --state $state\n",
    "    else:\n",
    "        output = !./rubiks-cube-solver.py --state $state --solution333=$best\n",
    "    # return output\n",
    "    sol = None\n",
    "    print(output[-1])\n",
    "    if output[-1][:9] == 'Solution:':\n",
    "        sol = output[-1].split(': ')[1]\n",
    "    else:\n",
    "        for n in range(1, 21):\n",
    "            if 'Solution:' in output[-n]:\n",
    "                sol = output[-n].split('Solution: ')[1].split('2023-')[0]\n",
    "                break\n",
    "    if sol is None:\n",
    "        print(output[-1])\n",
    "        return output\n",
    "                \n",
    "    mmoves = '.'.join([M[m] for m in sol.split(' ')])\n",
    "    \n",
    "    new_state = apply_moves(initial_state, moves, mmoves)\n",
    "    print(solution_state)\n",
    "    print(new_state)\n",
    "    temp_state, mmoves = sym_rotations(dim, mmoves, new_state, solution_state, num_wildcards, wildcard=False)\n",
    "    # print(temp_state)\n",
    "    return mmoves"
   ],
   "metadata": {
    "collapsed": false,
    "ExecuteTime": {
     "end_time": "2023-12-30T03:20:19.151541Z",
     "start_time": "2023-12-30T03:20:19.145555Z"
    }
   },
   "id": "dbfa1d3112ad97e2",
   "execution_count": 8
  },
  {
   "cell_type": "code",
   "outputs": [],
   "source": [
    "def relabel_3x3x3(id, state):\n",
    "    # Split the string into individual elements.\n",
    "    state_list = state.split(';')\n",
    "    if id in range(140, 150):\n",
    "        # These puzzles has a straightforward translation\n",
    "        # For each element, determine the replacement based on the criteria.\n",
    "        for i, val in enumerate(state_list):\n",
    "            # Extract the number part from the string like 'N33' -> 33.\n",
    "            num = int(val[1:])\n",
    "            # Replace based on the given criteria.\n",
    "            if 0 <= num <= 8:\n",
    "                state_list[i] = 'A'\n",
    "            elif 9 <= num <= 17:\n",
    "                state_list[i] = 'B'\n",
    "            elif 18 <= num <= 26:\n",
    "                state_list[i] = 'C'\n",
    "            elif 27 <= num <= 35:\n",
    "                state_list[i] = 'D'\n",
    "            elif 36 <= num <= 44:\n",
    "                state_list[i] = 'E'\n",
    "            elif 45 <= num <= 53:\n",
    "                state_list[i] = 'F'\n",
    "\n",
    "    elif id in range(130, 140):\n",
    "        # edges are unique, and therefore can be identified by examining the \n",
    "        # solution state and used for translating the inital state.\n",
    "        edges = [\n",
    "            (7, 10), (14, 21), (23, 30), (32, 39),\n",
    "            (12, 41), (16, 46), (34, 52), (5, 19), \n",
    "            (1, 28), (3, 37), (25, 50), (43, 48)\n",
    "        ]\n",
    "\n",
    "        translations = {\n",
    "            \"AC\": \"FB\",\n",
    "            \"AD\": \"FC\",\n",
    "            \"AE\": \"FD\",\n",
    "            \"AF\": \"FE\",\n",
    "    \n",
    "            \"BC\": \"AB\",\n",
    "            \"BD\": \"AC\",\n",
    "            \"BF\": \"AE\",\n",
    "            \"BE\": \"AD\",\n",
    "    \n",
    "            \"CD\": \"BC\",\n",
    "            \"CF\": \"BE\",\n",
    "            \"DE\": \"CD\",\n",
    "            \"EF\": \"DE\",\n",
    "            \n",
    "        }\n",
    "        \n",
    "        for e1, e2 in edges:\n",
    "            c1 = state_list[e1]\n",
    "            c2 = state_list[e2]\n",
    "            # Sort the strings\n",
    "            sorted_strings = sorted([c1, c2])\n",
    "            # Concatenate them\n",
    "            concatenated_string = ''.join(sorted_strings)\n",
    "            t1, t2 = translations[concatenated_string]\n",
    "            if c1 == sorted_strings[0]:\n",
    "                state_list[e1] = t1\n",
    "                state_list[e2] = t2\n",
    "            else:\n",
    "                state_list[e1] = t2\n",
    "                state_list[e2] = t1\n",
    "    return ';'.join(state_list)  "
   ],
   "metadata": {
    "collapsed": false,
    "ExecuteTime": {
     "end_time": "2023-12-30T03:20:19.157183Z",
     "start_time": "2023-12-30T03:20:19.153817Z"
    }
   },
   "id": "db022344ea7ddb36",
   "execution_count": 9
  },
  {
   "cell_type": "markdown",
   "source": [
    "<a id=\"4\"></a>\n",
    "# <div style= \"font-family: Cambria; font-weight:bold; letter-spacing: 0px; color:white; font-size:120%; text-align:left;padding:3.0px; background: #6A1B9A; border-bottom: 8px solid #9C27B0\" >SOLVE<br><div> "
   ],
   "metadata": {
    "collapsed": false
   },
   "id": "2e5d33b72ccc37d9"
  },
  {
   "cell_type": "code",
   "outputs": [
    {
     "name": "stdout",
     "output_type": "stream",
     "text": [
      "Starting 130\n",
      "Solution: R2 U2 F' B' D' R U2 R' B2 U' B U2 D2 B2 L U2 R B2 L B2 U2\n",
      "A;A;A;A;A;A;A;A;A;B;B;B;B;B;B;B;B;B;C;C;C;C;C;C;C;C;C;D;D;D;D;D;D;D;D;D;E;E;E;E;E;E;E;E;E;F;F;F;F;F;F;F;F;F\n",
      "B;B;B;B;B;B;B;B;B;C;C;C;C;C;C;C;C;C;A;A;A;A;A;A;A;A;A;E;E;E;E;E;E;E;E;E;F;F;F;F;F;F;F;F;F;D;D;D;D;D;D;D;D;D\n",
      "solved id: 130\n",
      "SOLVED\"\n",
      "44 34\n",
      "Starting 131\n",
      "Solution: L' D B R F L2 R2 B2 U2 B' D L2 D2 F R2 B D2 F' B2 U2 B\n",
      "A;A;A;A;A;A;A;A;A;B;B;B;B;B;B;B;B;B;C;C;C;C;C;C;C;C;C;D;D;D;D;D;D;D;D;D;E;E;E;E;E;E;E;E;E;F;F;F;F;F;F;F;F;F\n",
      "E;E;E;E;E;E;E;E;E;A;A;A;A;A;A;A;A;A;D;D;D;D;D;D;D;D;D;F;F;F;F;F;F;F;F;F;B;B;B;B;B;B;B;B;B;C;C;C;C;C;C;C;C;C\n",
      "solved id: 131\n",
      "SOLVED\"\n",
      "37 31\n",
      "Starting 132\n",
      "Solution: R U2 F U2 L D2 L D' F' B2 D F2 D2 L2 D2 R2 L' D2 B2 L2 U2\n",
      "A;A;A;A;A;A;A;A;A;B;B;B;B;B;B;B;B;B;C;C;C;C;C;C;C;C;C;D;D;D;D;D;D;D;D;D;E;E;E;E;E;E;E;E;E;F;F;F;F;F;F;F;F;F\n",
      "E;E;E;E;E;E;E;E;E;B;B;B;B;B;B;B;B;B;A;A;A;A;A;A;A;A;A;D;D;D;D;D;D;D;D;D;F;F;F;F;F;F;F;F;F;C;C;C;C;C;C;C;C;C\n",
      "solved id: 132\n",
      "SOLVED\"\n",
      "43 39\n",
      "Starting 133\n",
      "Solution: D' U R B R D2 F' U' B' D2 F R2 D' R2 F2 D2 L2 U2 L2 B2 D'\n",
      "A;A;A;A;A;A;A;A;A;B;B;B;B;B;B;B;B;B;C;C;C;C;C;C;C;C;C;D;D;D;D;D;D;D;D;D;E;E;E;E;E;E;E;E;E;F;F;F;F;F;F;F;F;F\n",
      "F;F;F;F;F;F;F;F;F;C;C;C;C;C;C;C;C;C;B;B;B;B;B;B;B;B;B;E;E;E;E;E;E;E;E;E;D;D;D;D;D;D;D;D;D;A;A;A;A;A;A;A;A;A\n",
      "solved id: 133\n",
      "SOLVED\"\n",
      "40 40\n",
      "Starting 134\n",
      "Solution: B U2 B2 R2 L2 D R' B' F' L' U B L2 D2 B R2 L2 B' D2 B'\n",
      "A;A;A;A;A;A;A;A;A;B;B;B;B;B;B;B;B;B;C;C;C;C;C;C;C;C;C;D;D;D;D;D;D;D;D;D;E;E;E;E;E;E;E;E;E;F;F;F;F;F;F;F;F;F\n",
      "E;E;E;E;E;E;E;E;E;F;F;F;F;F;F;F;F;F;B;B;B;B;B;B;B;B;B;A;A;A;A;A;A;A;A;A;D;D;D;D;D;D;D;D;D;C;C;C;C;C;C;C;C;C\n",
      "solved id: 134\n",
      "SOLVED\"\n",
      "41 41\n",
      "Starting 135\n",
      "Solution: L' U2 B' L2 U' R' D2 L' F2 D F' D2 U2 R2 F2 L U2 R2 B2 F2 L\n",
      "A;A;A;A;A;A;A;A;A;B;B;B;B;B;B;B;B;B;C;C;C;C;C;C;C;C;C;D;D;D;D;D;D;D;D;D;E;E;E;E;E;E;E;E;E;F;F;F;F;F;F;F;F;F\n",
      "E;E;E;E;E;E;E;E;E;D;D;D;D;D;D;D;D;D;F;F;F;F;F;F;F;F;F;B;B;B;B;B;B;B;B;B;A;A;A;A;A;A;A;A;A;C;C;C;C;C;C;C;C;C\n",
      "solved id: 135\n",
      "SOLVED\"\n",
      "42 42\n",
      "Starting 136\n",
      "Solution: U' B2 F D' L2 F' U' B' R2 U' L R2 B2 D' R2 D2 B2 U L2 F2 D'\n",
      "A;A;A;A;A;A;A;A;A;B;B;B;B;B;B;B;B;B;C;C;C;C;C;C;C;C;C;D;D;D;D;D;D;D;D;D;E;E;E;E;E;E;E;E;E;F;F;F;F;F;F;F;F;F\n",
      "A;A;A;A;A;A;A;A;A;D;D;D;D;D;D;D;D;D;E;E;E;E;E;E;E;E;E;B;B;B;B;B;B;B;B;B;C;C;C;C;C;C;C;C;C;F;F;F;F;F;F;F;F;F\n",
      "solved id: 136\n",
      "SOLVED\"\n",
      "37 37\n",
      "Starting 137\n",
      "Solution: R2 L F' L' F2 L2 F R2 U' L' U L2 D' R2 D B2 L2 D' L2 D\n",
      "A;A;A;A;A;A;A;A;A;B;B;B;B;B;B;B;B;B;C;C;C;C;C;C;C;C;C;D;D;D;D;D;D;D;D;D;E;E;E;E;E;E;E;E;E;F;F;F;F;F;F;F;F;F\n",
      "F;F;F;F;F;F;F;F;F;C;C;C;C;C;C;C;C;C;B;B;B;B;B;B;B;B;B;E;E;E;E;E;E;E;E;E;D;D;D;D;D;D;D;D;D;A;A;A;A;A;A;A;A;A\n",
      "solved id: 137\n",
      "SOLVED\"\n",
      "38 38\n",
      "Starting 138\n",
      "Solution: L F R2 F' R' F2 L2 U2 R U R' B U2 L2 F U2 B' D2 B' L2 U2\n",
      "A;A;A;A;A;A;A;A;A;B;B;B;B;B;B;B;B;B;C;C;C;C;C;C;C;C;C;D;D;D;D;D;D;D;D;D;E;E;E;E;E;E;E;E;E;F;F;F;F;F;F;F;F;F\n",
      "E;E;E;E;E;E;E;E;E;A;A;A;A;A;A;A;A;A;D;D;D;D;D;D;D;D;D;F;F;F;F;F;F;F;F;F;B;B;B;B;B;B;B;B;B;C;C;C;C;C;C;C;C;C\n",
      "solved id: 138\n",
      "SOLVED\"\n",
      "37 37\n",
      "Starting 139\n",
      "Solution: R U L B' F' R B' D F' D2 U' L2 B2 U2 F' L2 F' R2 U2 F' D2\n",
      "A;A;A;A;A;A;A;A;A;B;B;B;B;B;B;B;B;B;C;C;C;C;C;C;C;C;C;D;D;D;D;D;D;D;D;D;E;E;E;E;E;E;E;E;E;F;F;F;F;F;F;F;F;F\n",
      "E;E;E;E;E;E;E;E;E;F;F;F;F;F;F;F;F;F;B;B;B;B;B;B;B;B;B;A;A;A;A;A;A;A;A;A;D;D;D;D;D;D;D;D;D;C;C;C;C;C;C;C;C;C\n",
      "solved id: 139\n",
      "SOLVED\"\n",
      "41 41\n",
      "Starting 140\n",
      "Solution: U B2 R' B R B L2 U L D L' R2 D' B2 D L2 D' R2 D' B2 U\n",
      "A;A;A;A;A;A;A;A;A;B;B;B;B;B;B;B;B;B;C;C;C;C;C;C;C;C;C;D;D;D;D;D;D;D;D;D;E;E;E;E;E;E;E;E;E;F;F;F;F;F;F;F;F;F\n",
      "A;A;A;A;A;A;A;A;A;C;C;C;C;C;C;C;C;C;D;D;D;D;D;D;D;D;D;E;E;E;E;E;E;E;E;E;B;B;B;B;B;B;B;B;B;F;F;F;F;F;F;F;F;F\n",
      "solved id: 140\n",
      "SOLVED\"\n",
      "31 31\n",
      "Starting 141\n",
      "Solution: R2 D B' U2 R2 U' L' D' R' U' L' F2 R2 D L2 U B2 R2 F2 L2\n",
      "A;A;A;A;A;A;A;A;A;B;B;B;B;B;B;B;B;B;C;C;C;C;C;C;C;C;C;D;D;D;D;D;D;D;D;D;E;E;E;E;E;E;E;E;E;F;F;F;F;F;F;F;F;F\n",
      "A;A;A;A;A;A;A;A;A;C;C;C;C;C;C;C;C;C;D;D;D;D;D;D;D;D;D;E;E;E;E;E;E;E;E;E;B;B;B;B;B;B;B;B;B;F;F;F;F;F;F;F;F;F\n",
      "solved id: 141\n",
      "SOLVED\"\n",
      "33 33\n",
      "Starting 142\n",
      "Solution: R' F' D2 R' B2 U F' L' B R2 B D2 F2 L F2 D2 R D2 U2 L2\n",
      "A;A;A;A;A;A;A;A;A;B;B;B;B;B;B;B;B;B;C;C;C;C;C;C;C;C;C;D;D;D;D;D;D;D;D;D;E;E;E;E;E;E;E;E;E;F;F;F;F;F;F;F;F;F\n",
      "D;D;D;D;D;D;D;D;D;E;E;E;E;E;E;E;E;E;A;A;A;A;A;A;A;A;A;C;C;C;C;C;C;C;C;C;F;F;F;F;F;F;F;F;F;B;B;B;B;B;B;B;B;B\n",
      "solved id: 142\n",
      "SOLVED\"\n",
      "42 42\n",
      "Starting 143\n",
      "Solution: B' L B2 R2 U' R2 U F D' U2 L B L2 B U2 F D2 U2 R2 D2 B2\n",
      "A;A;A;A;A;A;A;A;A;B;B;B;B;B;B;B;B;B;C;C;C;C;C;C;C;C;C;D;D;D;D;D;D;D;D;D;E;E;E;E;E;E;E;E;E;F;F;F;F;F;F;F;F;F\n",
      "E;E;E;E;E;E;E;E;E;F;F;F;F;F;F;F;F;F;B;B;B;B;B;B;B;B;B;A;A;A;A;A;A;A;A;A;D;D;D;D;D;D;D;D;D;C;C;C;C;C;C;C;C;C\n",
      "solved id: 143\n",
      "SOLVED\"\n",
      "44 44\n",
      "Starting 144\n",
      "Solution: R' L2 U R' D2 U' F2 U L B R U' R2 U' R2 B2 D' L2 B2 L2 B2\n",
      "A;A;A;A;A;A;A;A;A;B;B;B;B;B;B;B;B;B;C;C;C;C;C;C;C;C;C;D;D;D;D;D;D;D;D;D;E;E;E;E;E;E;E;E;E;F;F;F;F;F;F;F;F;F\n",
      "F;F;F;F;F;F;F;F;F;D;D;D;D;D;D;D;D;D;C;C;C;C;C;C;C;C;C;B;B;B;B;B;B;B;B;B;E;E;E;E;E;E;E;E;E;A;A;A;A;A;A;A;A;A\n",
      "solved id: 144\n",
      "SOLVED\"\n",
      "37 35\n",
      "Starting 145\n",
      "Solution: F' L B' L2 U B2 U R F2 B2 R D' R2 D' F2 D B2 U B2 U' R2\n",
      "A;A;A;A;A;A;A;A;A;B;B;B;B;B;B;B;B;B;C;C;C;C;C;C;C;C;C;D;D;D;D;D;D;D;D;D;E;E;E;E;E;E;E;E;E;F;F;F;F;F;F;F;F;F\n",
      "F;F;F;F;F;F;F;F;F;C;C;C;C;C;C;C;C;C;B;B;B;B;B;B;B;B;B;E;E;E;E;E;E;E;E;E;D;D;D;D;D;D;D;D;D;A;A;A;A;A;A;A;A;A\n",
      "solved id: 145\n",
      "SOLVED\"\n",
      "39 37\n",
      "Starting 146\n",
      "Solution: D U2 L U' B U2 R D2 F2 L D' F U F2 U F2 R2 L2 U' B2 R2 D'\n",
      "A;A;A;A;A;A;A;A;A;B;B;B;B;B;B;B;B;B;C;C;C;C;C;C;C;C;C;D;D;D;D;D;D;D;D;D;E;E;E;E;E;E;E;E;E;F;F;F;F;F;F;F;F;F\n",
      "F;F;F;F;F;F;F;F;F;D;D;D;D;D;D;D;D;D;C;C;C;C;C;C;C;C;C;B;B;B;B;B;B;B;B;B;E;E;E;E;E;E;E;E;E;A;A;A;A;A;A;A;A;A\n",
      "solved id: 146\n",
      "SOLVED\"\n",
      "38 38\n",
      "Starting 147\n",
      "Solution: U2 R U2 L R F R F2 D B L' F R2 B2 U2 F R2 B L2 F2 D2\n",
      "A;A;A;A;A;A;A;A;A;B;B;B;B;B;B;B;B;B;C;C;C;C;C;C;C;C;C;D;D;D;D;D;D;D;D;D;E;E;E;E;E;E;E;E;E;F;F;F;F;F;F;F;F;F\n",
      "C;C;C;C;C;C;C;C;C;F;F;F;F;F;F;F;F;F;D;D;D;D;D;D;D;D;D;A;A;A;A;A;A;A;A;A;B;B;B;B;B;B;B;B;B;E;E;E;E;E;E;E;E;E\n",
      "solved id: 147\n",
      "SOLVED\"\n",
      "37 35\n",
      "Starting 148\n",
      "Solution: D' F2 R' D2 B2 D2 U' R' U' R F' D2 U2 B' R2 F' D2 B2 D2\n",
      "A;A;A;A;A;A;A;A;A;B;B;B;B;B;B;B;B;B;C;C;C;C;C;C;C;C;C;D;D;D;D;D;D;D;D;D;E;E;E;E;E;E;E;E;E;F;F;F;F;F;F;F;F;F\n",
      "E;E;E;E;E;E;E;E;E;F;F;F;F;F;F;F;F;F;B;B;B;B;B;B;B;B;B;A;A;A;A;A;A;A;A;A;D;D;D;D;D;D;D;D;D;C;C;C;C;C;C;C;C;C\n",
      "solved id: 148\n",
      "SOLVED\"\n",
      "41 41\n",
      "Starting 149\n",
      "Solution: F R L' B' L2 U' F L' U' R D' B' R2 U2 B2 R' B2 R' D2 R' U2\n",
      "A;A;A;A;A;A;A;A;A;B;B;B;B;B;B;B;B;B;C;C;C;C;C;C;C;C;C;D;D;D;D;D;D;D;D;D;E;E;E;E;E;E;E;E;E;F;F;F;F;F;F;F;F;F\n",
      "B;B;B;B;B;B;B;B;B;C;C;C;C;C;C;C;C;C;A;A;A;A;A;A;A;A;A;E;E;E;E;E;E;E;E;E;F;F;F;F;F;F;F;F;F;D;D;D;D;D;D;D;D;D\n",
      "solved id: 149\n",
      "SOLVED\"\n",
      "40 40\n"
     ]
    }
   ],
   "source": [
    "# Connect to the SQLite database\n",
    "conn = sqlite3.connect(database_file)\n",
    "cursor = conn.cursor()\n",
    "\n",
    "for id in range(130, 150):\n",
    "    row = puzzles.loc[id]\n",
    "    if row['puzzle_type'][:4] == 'cube':\n",
    "        dim = int(row['puzzle_type'].split('/')[-1])\n",
    "        moves = get_moves(puzzle_info.loc[row['puzzle_type'], 'allowed_moves'])\n",
    "        M = move_translation()\n",
    "    \n",
    "        Mi = inverse_move_translation()    \n",
    "    \n",
    "        select_query = \"SELECT moves FROM solutions WHERE id = ?\"\n",
    "    \n",
    "        # Execute the query\n",
    "        cursor.execute(select_query, (id,))\n",
    "        response = cursor.fetchone()\n",
    "        best_moves= response[0]\n",
    "        \n",
    "        temp = \" \".join([Mi[i] for i in best_moves.split('.')]).split(\" \")\n",
    "\n",
    "        best_moves_translated = ' '.join(temp)\n",
    "        best_moves_translated = f'\\\"{best_moves_translated}\\\"'\n",
    "\n",
    "        \n",
    "        if 130 <= id <= 149:\n",
    "            cur_state = relabel_3x3x3(id, row['initial_state'])\n",
    "            sol_state = relabel_3x3x3(id, row['solution_state'])\n",
    "        else:\n",
    "            cur_state = row['initial_state']\n",
    "            sol_state = row['solution_state']\n",
    "            \n",
    "        init_moves = solve(cur_state, sol_state, row['num_wildcards'], moves, verbose=False, \n",
    "                           best=best_moves_translated) \n",
    "    \n",
    "        # validation\n",
    "        state = row['initial_state'].split(\";\")\n",
    "        for move_name in init_moves.split('.'):\n",
    "            state = [state[i] for i in moves[move_name]]\n",
    "        \n",
    "\n",
    "        try:\n",
    "            assert row['solution_state'].split(\";\") == state\n",
    "            print('SOLVED\"')\n",
    "            mmoves_length = len(init_moves.split('.'))\n",
    "            \n",
    "            select_query = \"SELECT count FROM solutions WHERE id = ?\"\n",
    "\n",
    "            # Execute the query\n",
    "            cursor.execute(select_query, (id,))\n",
    "            response = cursor.fetchone()\n",
    "            best_moves_length = response[0]\n",
    "            print(mmoves_length, best_moves_length)\n",
    "            if mmoves_length < best_moves_length:\n",
    "                # Insert the moves into the database\n",
    "                insert_query = (\"INSERT OR REPLACE INTO solutions (id, moves, count, solution_method) VALUES (?, ?, ?, ?)\")\n",
    "                cursor.execute(insert_query, (id, init_moves, mmoves_length, solution_method))\n",
    "                conn.commit()\n",
    "        except AssertionError:\n",
    "            print(f\"assertion error for {id}\")\n",
    "            print(state)\n",
    "            break        \n",
    "            \n",
    "\n",
    "# Commit the changes and close the connection\n",
    "conn.commit()\n",
    "conn.close()\n"
   ],
   "metadata": {
    "collapsed": false,
    "ExecuteTime": {
     "end_time": "2023-12-30T03:23:17.713858Z",
     "start_time": "2023-12-30T03:23:12.987352Z"
    }
   },
   "id": "eb38dc28d0e5b28c",
   "execution_count": 13
  },
  {
   "cell_type": "code",
   "outputs": [
    {
     "name": "stdout",
     "output_type": "stream",
     "text": [
      "['B', 'B', \"U'\", \"F'\", \"R'\", \"U'\", 'L', \"B'\", 'L', 'U', 'U', 'F', 'L', 'F', 'F', 'U', 'U', 'R', 'R', 'D', 'D', 'R', 'R', \"U'\", 'F', 'F', \"D'\", 'B', 'B', 'L', 'L', 'R', \"R'\", 'L', \"L'\", 'R', \"R'\", 'L', \"L'\", 'F', \"F'\", 'B', \"B'\", 'R', \"R'\", 'L', \"L'\"]\n"
     ]
    }
   ],
   "source": [
    "print(temp)"
   ],
   "metadata": {
    "collapsed": false,
    "ExecuteTime": {
     "end_time": "2023-12-30T03:20:21.455327Z",
     "start_time": "2023-12-30T03:20:21.451364Z"
    }
   },
   "id": "78f751708e4ff124",
   "execution_count": 11
  },
  {
   "cell_type": "code",
   "outputs": [],
   "source": [],
   "metadata": {
    "collapsed": false,
    "ExecuteTime": {
     "end_time": "2023-12-30T03:20:21.458991Z",
     "start_time": "2023-12-30T03:20:21.455615Z"
    }
   },
   "id": "1c5295abc570156c",
   "execution_count": 11
  }
 ],
 "metadata": {
  "kernelspec": {
   "display_name": "Python 3",
   "language": "python",
   "name": "python3"
  },
  "language_info": {
   "codemirror_mode": {
    "name": "ipython",
    "version": 2
   },
   "file_extension": ".py",
   "mimetype": "text/x-python",
   "name": "python",
   "nbconvert_exporter": "python",
   "pygments_lexer": "ipython2",
   "version": "2.7.6"
  }
 },
 "nbformat": 4,
 "nbformat_minor": 5
}
