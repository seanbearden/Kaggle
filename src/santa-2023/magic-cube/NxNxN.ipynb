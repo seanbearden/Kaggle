{
 "cells": [
  {
   "cell_type": "markdown",
   "source": [
    "# <div style=\"font-family: Cambria; font-weight:bold; letter-spacing: 0px; color:white; font-size:200%; text-align:center;padding:3.0px; background: #6A1B9A; border-bottom: 8px solid #9C27B0\">Santa 2023 - NxNxN cube</div>\n",
    "#### <div style= \"font-family: Cambria; font-weight:bold; letter-spacing: 0px; color:white; font-size:150%; text-align:left;padding:3.0px; background: #6A1B9A; border-bottom: 8px solid #9C27B0\" >TABLE OF CONTENTS<br><div>\n",
    "* [IMPORTS](#1)\n",
    "* [LOAD DATA](#2)\n",
    "* [FUNCTIONS](#3)\n",
    "* [SOLVE](#4)\n",
    "\n",
    "Using repo from dwalton76: https://github.com/dwalton76/rubiks-cube-NxNxN-solver/tree/master"
   ],
   "metadata": {
    "collapsed": false
   },
   "id": "cb27f145f4a21c60"
  },
  {
   "cell_type": "markdown",
   "source": [
    "<a id=\"1\"></a>\n",
    "# <div style= \"font-family: Cambria; font-weight:bold; letter-spacing: 0px; color:white; font-size:120%; text-align:left;padding:3.0px; background: #6A1B9A; border-bottom: 8px solid #9C27B0\" > IMPORTS<br><div> "
   ],
   "metadata": {
    "collapsed": false
   },
   "id": "16cc31f3532a971e"
  },
  {
   "cell_type": "code",
   "outputs": [
    {
     "ename": "FileNotFoundError",
     "evalue": "[Errno 2] No such file or directory: 'rubiks-cube-NxNxN-solver'",
     "output_type": "error",
     "traceback": [
      "\u001B[0;31m---------------------------------------------------------------------------\u001B[0m",
      "\u001B[0;31mFileNotFoundError\u001B[0m                         Traceback (most recent call last)",
      "Cell \u001B[0;32mIn[28], line 9\u001B[0m\n\u001B[1;32m      5\u001B[0m \u001B[38;5;28;01mimport\u001B[39;00m \u001B[38;5;21;01mnumpy\u001B[39;00m \u001B[38;5;28;01mas\u001B[39;00m \u001B[38;5;21;01mnp\u001B[39;00m\n\u001B[1;32m      7\u001B[0m \u001B[38;5;28;01mimport\u001B[39;00m \u001B[38;5;21;01mos\u001B[39;00m\n\u001B[0;32m----> 9\u001B[0m \u001B[43mos\u001B[49m\u001B[38;5;241;43m.\u001B[39;49m\u001B[43mchdir\u001B[49m\u001B[43m(\u001B[49m\u001B[38;5;124;43m'\u001B[39;49m\u001B[38;5;124;43mrubiks-cube-NxNxN-solver\u001B[39;49m\u001B[38;5;124;43m'\u001B[39;49m\u001B[43m)\u001B[49m\n\u001B[1;32m     10\u001B[0m \u001B[38;5;66;03m# Print the current working directory\u001B[39;00m\n\u001B[1;32m     11\u001B[0m \u001B[38;5;28mprint\u001B[39m(\u001B[38;5;124m\"\u001B[39m\u001B[38;5;124mCurrent Working Directory: \u001B[39m\u001B[38;5;124m\"\u001B[39m, os\u001B[38;5;241m.\u001B[39mgetcwd())\n",
      "\u001B[0;31mFileNotFoundError\u001B[0m: [Errno 2] No such file or directory: 'rubiks-cube-NxNxN-solver'"
     ]
    }
   ],
   "source": [
    "import zipfile\n",
    "import sqlite3\n",
    "\n",
    "import pandas as pd\n",
    "import numpy as np\n",
    "\n",
    "import os\n",
    "\n",
    "os.chdir('rubiks-cube-NxNxN-solver')\n",
    "# Print the current working directory\n",
    "print(\"Current Working Directory: \", os.getcwd())\n",
    "\n",
    "database_file = '../../solutions.db'\n",
    "solution_method = \"dwalton76 NxNxN algo\""
   ],
   "metadata": {
    "collapsed": false,
    "ExecuteTime": {
     "end_time": "2023-12-29T05:33:21.339335Z",
     "start_time": "2023-12-29T05:33:21.228183Z"
    }
   },
   "id": "9f4f9b29f3fbe6d1",
   "execution_count": 28
  },
  {
   "cell_type": "markdown",
   "source": [
    "<a id=\"2\"></a>\n",
    "# <div style= \"font-family: Cambria; font-weight:bold; letter-spacing: 0px; color:white; font-size:120%; text-align:left;padding:3.0px; background: #6A1B9A; border-bottom: 8px solid #9C27B0\" >LOAD DATA<br><div> "
   ],
   "metadata": {
    "collapsed": false
   },
   "id": "4ec6c1faceb9c933"
  },
  {
   "cell_type": "code",
   "outputs": [],
   "source": [
    "with zipfile.ZipFile('../../../../res/data/santa-2023.zip', 'r') as z:\n",
    "    \n",
    "    with z.open('puzzle_info.csv') as f:\n",
    "        puzzle_info = pd.read_csv(f, index_col = 'puzzle_type')        \n",
    "                \n",
    "    with z.open('puzzles.csv') as f:\n",
    "        puzzles = pd.read_csv(f, index_col='id')\n",
    "    \n",
    "    with z.open('sample_submission.csv') as f:\n",
    "        submission = pd.read_csv(f)"
   ],
   "metadata": {
    "collapsed": false,
    "ExecuteTime": {
     "end_time": "2023-12-29T05:33:21.510379Z",
     "start_time": "2023-12-29T05:33:21.330837Z"
    }
   },
   "id": "cba80e81c4a78136",
   "execution_count": 29
  },
  {
   "cell_type": "markdown",
   "source": [
    "<a id=\"3\"></a>\n",
    "# <div style= \"font-family: Cambria; font-weight:bold; letter-spacing: 0px; color:white; font-size:120%; text-align:left;padding:3.0px; background: #6A1B9A; border-bottom: 8px solid #9C27B0\" >FUNCTIONS<br><div>\n",
    " "
   ],
   "metadata": {
    "collapsed": false
   },
   "id": "3c749950ebd6005e"
  },
  {
   "cell_type": "code",
   "execution_count": 30,
   "id": "initial_id",
   "metadata": {
    "collapsed": true,
    "ExecuteTime": {
     "end_time": "2023-12-29T05:33:21.514399Z",
     "start_time": "2023-12-29T05:33:21.508029Z"
    }
   },
   "outputs": [],
   "source": [
    "U = ['U', 'F', 'R', 'B', 'L', 'D']\n",
    "U_dict = {\n",
    "    'A': 'U',\n",
    "    'B': 'F',\n",
    "    'C': 'R',\n",
    "    'D': 'B',\n",
    "    'E': 'L',\n",
    "    'F': 'D',\n",
    "}\n",
    "def state2ubl(state):\n",
    "    state_split = state.split(';')\n",
    "    dim = int(np.sqrt(len(state_split) // 6))\n",
    "    dim_2 = dim**2\n",
    "    \n",
    "    s = ''.join([U_dict[f] for f in state_split])\n",
    "    \n",
    "    return s[:dim_2] + s[2*dim_2:3*dim_2] + s[dim_2:2*dim_2] + s[5*dim_2:] + s[4*dim_2:5*dim_2] + s[3*dim_2:4*dim_2]\n"
   ]
  },
  {
   "cell_type": "code",
   "outputs": [],
   "source": [],
   "metadata": {
    "collapsed": false,
    "ExecuteTime": {
     "end_time": "2023-12-29T05:33:21.517702Z",
     "start_time": "2023-12-29T05:33:21.513224Z"
    }
   },
   "id": "1d3232c92983de60",
   "execution_count": 30
  },
  {
   "cell_type": "markdown",
   "source": [
    "<a id=\"4\"></a>\n",
    "# <div style= \"font-family: Cambria; font-weight:bold; letter-spacing: 0px; color:white; font-size:120%; text-align:left;padding:3.0px; background: #6A1B9A; border-bottom: 8px solid #9C27B0\" >SOLVE<br><div> "
   ],
   "metadata": {
    "collapsed": false
   },
   "id": "2e5d33b72ccc37d9"
  },
  {
   "cell_type": "code",
   "outputs": [
    {
     "name": "stdout",
     "output_type": "stream",
     "text": [
      "205\n"
     ]
    },
    {
     "ename": "KeyError",
     "evalue": "'N3'",
     "output_type": "error",
     "traceback": [
      "\u001B[0;31m---------------------------------------------------------------------------\u001B[0m",
      "\u001B[0;31mKeyError\u001B[0m                                  Traceback (most recent call last)",
      "Cell \u001B[0;32mIn[31], line 63\u001B[0m\n\u001B[1;32m     59\u001B[0m sol_state \u001B[38;5;241m=\u001B[39m row[\u001B[38;5;124m'\u001B[39m\u001B[38;5;124msolution_state\u001B[39m\u001B[38;5;124m'\u001B[39m]\n\u001B[1;32m     62\u001B[0m \u001B[38;5;28;01mif\u001B[39;00m sol_state[\u001B[38;5;241m0\u001B[39m] \u001B[38;5;241m==\u001B[39m \u001B[38;5;124m'\u001B[39m\u001B[38;5;124mN\u001B[39m\u001B[38;5;124m'\u001B[39m:\n\u001B[0;32m---> 63\u001B[0m     state \u001B[38;5;241m=\u001B[39m \u001B[43mstate2ubl\u001B[49m\u001B[43m(\u001B[49m\u001B[43minit_state\u001B[49m\u001B[43m)\u001B[49m\n\u001B[1;32m     64\u001B[0m     \u001B[38;5;28mprint\u001B[39m(\u001B[38;5;124mf\u001B[39m\u001B[38;5;124m'\u001B[39m\u001B[38;5;124mStarting \u001B[39m\u001B[38;5;132;01m{\u001B[39;00m\u001B[38;5;28mid\u001B[39m\u001B[38;5;132;01m}\u001B[39;00m\u001B[38;5;124m'\u001B[39m)\n\u001B[1;32m     65\u001B[0m     output \u001B[38;5;241m=\u001B[39m get_ipython()\u001B[38;5;241m.\u001B[39mgetoutput(\u001B[38;5;124m'\u001B[39m\u001B[38;5;124m./rubiks-cube-solver.py --state $state\u001B[39m\u001B[38;5;124m'\u001B[39m)\n",
      "Cell \u001B[0;32mIn[30], line 15\u001B[0m, in \u001B[0;36mstate2ubl\u001B[0;34m(state)\u001B[0m\n\u001B[1;32m     12\u001B[0m dim \u001B[38;5;241m=\u001B[39m \u001B[38;5;28mint\u001B[39m(np\u001B[38;5;241m.\u001B[39msqrt(\u001B[38;5;28mlen\u001B[39m(state_split) \u001B[38;5;241m/\u001B[39m\u001B[38;5;241m/\u001B[39m \u001B[38;5;241m6\u001B[39m))\n\u001B[1;32m     13\u001B[0m dim_2 \u001B[38;5;241m=\u001B[39m dim\u001B[38;5;241m*\u001B[39m\u001B[38;5;241m*\u001B[39m\u001B[38;5;241m2\u001B[39m\n\u001B[0;32m---> 15\u001B[0m s \u001B[38;5;241m=\u001B[39m \u001B[38;5;124m'\u001B[39m\u001B[38;5;124m'\u001B[39m\u001B[38;5;241m.\u001B[39mjoin([U_dict[f] \u001B[38;5;28;01mfor\u001B[39;00m f \u001B[38;5;129;01min\u001B[39;00m state_split])\n\u001B[1;32m     17\u001B[0m \u001B[38;5;28;01mreturn\u001B[39;00m s[:dim_2] \u001B[38;5;241m+\u001B[39m s[\u001B[38;5;241m2\u001B[39m\u001B[38;5;241m*\u001B[39mdim_2:\u001B[38;5;241m3\u001B[39m\u001B[38;5;241m*\u001B[39mdim_2] \u001B[38;5;241m+\u001B[39m s[dim_2:\u001B[38;5;241m2\u001B[39m\u001B[38;5;241m*\u001B[39mdim_2] \u001B[38;5;241m+\u001B[39m s[\u001B[38;5;241m5\u001B[39m\u001B[38;5;241m*\u001B[39mdim_2:] \u001B[38;5;241m+\u001B[39m s[\u001B[38;5;241m4\u001B[39m\u001B[38;5;241m*\u001B[39mdim_2:\u001B[38;5;241m5\u001B[39m\u001B[38;5;241m*\u001B[39mdim_2] \u001B[38;5;241m+\u001B[39m s[\u001B[38;5;241m3\u001B[39m\u001B[38;5;241m*\u001B[39mdim_2:\u001B[38;5;241m4\u001B[39m\u001B[38;5;241m*\u001B[39mdim_2]\n",
      "Cell \u001B[0;32mIn[30], line 15\u001B[0m, in \u001B[0;36m<listcomp>\u001B[0;34m(.0)\u001B[0m\n\u001B[1;32m     12\u001B[0m dim \u001B[38;5;241m=\u001B[39m \u001B[38;5;28mint\u001B[39m(np\u001B[38;5;241m.\u001B[39msqrt(\u001B[38;5;28mlen\u001B[39m(state_split) \u001B[38;5;241m/\u001B[39m\u001B[38;5;241m/\u001B[39m \u001B[38;5;241m6\u001B[39m))\n\u001B[1;32m     13\u001B[0m dim_2 \u001B[38;5;241m=\u001B[39m dim\u001B[38;5;241m*\u001B[39m\u001B[38;5;241m*\u001B[39m\u001B[38;5;241m2\u001B[39m\n\u001B[0;32m---> 15\u001B[0m s \u001B[38;5;241m=\u001B[39m \u001B[38;5;124m'\u001B[39m\u001B[38;5;124m'\u001B[39m\u001B[38;5;241m.\u001B[39mjoin([\u001B[43mU_dict\u001B[49m\u001B[43m[\u001B[49m\u001B[43mf\u001B[49m\u001B[43m]\u001B[49m \u001B[38;5;28;01mfor\u001B[39;00m f \u001B[38;5;129;01min\u001B[39;00m state_split])\n\u001B[1;32m     17\u001B[0m \u001B[38;5;28;01mreturn\u001B[39;00m s[:dim_2] \u001B[38;5;241m+\u001B[39m s[\u001B[38;5;241m2\u001B[39m\u001B[38;5;241m*\u001B[39mdim_2:\u001B[38;5;241m3\u001B[39m\u001B[38;5;241m*\u001B[39mdim_2] \u001B[38;5;241m+\u001B[39m s[dim_2:\u001B[38;5;241m2\u001B[39m\u001B[38;5;241m*\u001B[39mdim_2] \u001B[38;5;241m+\u001B[39m s[\u001B[38;5;241m5\u001B[39m\u001B[38;5;241m*\u001B[39mdim_2:] \u001B[38;5;241m+\u001B[39m s[\u001B[38;5;241m4\u001B[39m\u001B[38;5;241m*\u001B[39mdim_2:\u001B[38;5;241m5\u001B[39m\u001B[38;5;241m*\u001B[39mdim_2] \u001B[38;5;241m+\u001B[39m s[\u001B[38;5;241m3\u001B[39m\u001B[38;5;241m*\u001B[39mdim_2:\u001B[38;5;241m4\u001B[39m\u001B[38;5;241m*\u001B[39mdim_2]\n",
      "\u001B[0;31mKeyError\u001B[0m: 'N3'"
     ]
    }
   ],
   "source": [
    "# Connect to the SQLite database\n",
    "conn = sqlite3.connect(database_file)\n",
    "cursor = conn.cursor()\n",
    "\n",
    "\n",
    "outputs = {}\n",
    "for id, row in puzzles.iterrows():\n",
    "    if row['puzzle_type'][:4] == 'cube':\n",
    "        \n",
    "        dim = int(row['puzzle_type'].split('/')[-1])\n",
    "        if id not in range(205, 210):\n",
    "            continue\n",
    "        print(id) \n",
    "        moves = eval(puzzle_info.loc[row['puzzle_type'], 'allowed_moves'])\n",
    "        for move in list(moves):\n",
    "            moves['-'+move] = np.argsort(moves[move]).tolist()\n",
    "        \n",
    "        M = {}\n",
    "        M[\"U\"] = f'-d{dim-1}'\n",
    "        M[\"R\"] = \"r0\"\n",
    "        M[\"B\"] = f\"-f{dim-1}\"\n",
    "        M[\"F\"] = \"f0\"\n",
    "        M[\"L\"] = f\"-r{dim-1}\"\n",
    "        M[\"D\"] = \"d0\"\n",
    "        \n",
    "        if dim > 3:\n",
    "            M[\"Uw\"] = f'-d{dim-2}.-d{dim-1}'\n",
    "            M[\"Rw\"] = f\"r0.r1\"\n",
    "            M[\"Bw\"] = f'-f{dim-2}.-f{dim-1}'\n",
    "            M[\"Fw\"] = f\"f0.f1\"\n",
    "            M[\"Lw\"] = f'-r{dim-2}.-r{dim-1}'\n",
    "            M[\"Dw\"] = f\"d0.d1\"\n",
    "        if dim >= 6:\n",
    "            M[\"2Uw\"] = f'-d{dim-2}.-d{dim-1}'\n",
    "            M[\"2Rw\"] = f\"r0.r1\"\n",
    "            M[\"2Bw\"] = f'-f{dim-2}.-f{dim-1}'\n",
    "            M[\"2Fw\"] = f\"f0.f1\"\n",
    "            M[\"2Lw\"] = f'-r{dim-2}.-r{dim-1}'\n",
    "            M[\"2Dw\"] = f\"d0.d1\"\n",
    "            \n",
    "            width_max = dim // 2\n",
    "            for i in range(3, width_max + 1):\n",
    "                M[f\"{i}Uw\"] = f'-d{dim-i}.' + M[f\"{i-1}Uw\"]\n",
    "                M[f\"{i}Rw\"] = M[f\"{i-1}Rw\"] + f'.r{i-1}'\n",
    "                M[f\"{i}Bw\"] = f'-f{dim-i}.' + M[f\"{i-1}Bw\"]\n",
    "                M[f\"{i}Fw\"] = M[f\"{i-1}Fw\"] + f'.f{i-1}'\n",
    "                M[f\"{i}Lw\"] = f'-r{dim-i}.' + M[f\"{i-1}Lw\"]\n",
    "                M[f\"{i}Dw\"] = M[f\"{i-1}Dw\"] + f'.d{i-1}'\n",
    "    \n",
    "            \n",
    "        for m in list(M):\n",
    "            M[m+\"2\"] = M[m] + '.' + M[m]\n",
    "            if \"-\" in M[m]:\n",
    "                M[m+\"'\"] = M[m].replace(\"-\",\"\")\n",
    "            else:\n",
    "                M[m+\"'\"] = '.'.join([\"-\"+i for i in M[m].split('.')])\n",
    "\n",
    "        init_state = row['initial_state']\n",
    "        sol_state = row['solution_state']\n",
    "\n",
    "\n",
    "        if sol_state[0] == 'N':\n",
    "            state = state2ubl(init_state)\n",
    "            print(f'Starting {id}')\n",
    "            output = !./rubiks-cube-solver.py --state $state\n",
    "            outputs[id] = output\n",
    "            if output[-1][:9] == 'Solution:':\n",
    "                print(output[-1])\n",
    "                sol = output[-1].split(': ')[1]\n",
    "            else:\n",
    "                for n in range(1, 21):\n",
    "                    if 'Solution:' in output[-n]:\n",
    "                        sol = output[-n].split('Solution: ')[1].split('2023-')[0]\n",
    "                        break\n",
    "                \n",
    "            # print(sol)\n",
    "            mmoves = '.'.join([M[m] for m in sol.split(' ')])\n",
    "            \n",
    "            new_state = init_state\n",
    "            for move in mmoves.split('.'):\n",
    "                new_state = ';'.join(list(np.asarray(new_state.split(';'))[np.array(moves[move])]))\n",
    "            print(new_state)\n",
    "            \n",
    "            # I = ['r0.r1.r2','d0.d1.d2','f0.f1.f2']\n",
    "            I = ['.'.join([f'{j}{i}' for i in range(dim)]) for j in ['r', 'd', 'f']]\n",
    "            manipulations = [''] + I + [i1 + '.' + i2 for i1 in I for i2 in I]+ [i1 + '.' + i2+ '.' + i3 for i1 in I for\n",
    "                                                                              i2 in I for i3 in I]+ [i1 + '.' + i2+ '.' + i3 + '.' + i4 for i1 in I for i2 in I for i3 in I for i4 in I]\n",
    "            for init_moves in manipulations:\n",
    "                temp_state = new_state\n",
    "                if len(init_moves) > 0:\n",
    "                    for move in init_moves.split('.'):\n",
    "                        temp_state = ';'.join(list(np.asarray(temp_state.split(';'))[np.array(moves[move])]))\n",
    "                if temp_state == sol_state:\n",
    "                    print(f'solved id: {id}')\n",
    "                    if len(init_moves) > 0:\n",
    "                        mmoves += '.' + init_moves\n",
    "                    break\n",
    "                    \n",
    "            # validation\n",
    "            state = row['initial_state'].split(\";\")\n",
    "            for move_name in mmoves.split('.'):\n",
    "                state = [state[i] for i in moves[move_name]]\n",
    "\n",
    "            try:\n",
    "                assert row['solution_state'].split(\";\") == state\n",
    "                \n",
    "                mmoves_length = len(mmoves.split('.'))\n",
    "                \n",
    "                select_query = \"SELECT count FROM solutions WHERE id = ?\"\n",
    "    \n",
    "                # Execute the query\n",
    "                cursor.execute(select_query, (id,))\n",
    "                response = cursor.fetchone()\n",
    "                best_moves_length = response[0]\n",
    "                \n",
    "                if mmoves_length < best_moves_length:\n",
    "                    # Insert the moves into the database\n",
    "                    insert_query = (\"INSERT OR REPLACE INTO solutions (id, moves, count, solution_method) VALUES (?, ?, ?, ?)\")\n",
    "                    cursor.execute(insert_query, (id, mmoves, mmoves_length, solution_method))\n",
    "                    conn.commit()\n",
    "            except AssertionError:\n",
    "                print(f\"assertion error for {id}\")\n",
    "                print(row['solution_state'])\n",
    "                print(';'.join(state))\n",
    "                break\n",
    "\n",
    "# Commit the changes and close the connection\n",
    "conn.commit()\n",
    "conn.close()\n"
   ],
   "metadata": {
    "collapsed": false,
    "ExecuteTime": {
     "end_time": "2023-12-29T05:33:21.636949Z",
     "start_time": "2023-12-29T05:33:21.551082Z"
    }
   },
   "id": "eb38dc28d0e5b28c",
   "execution_count": 31
  },
  {
   "cell_type": "code",
   "outputs": [],
   "source": [
    "# import importlib\n",
    "# import brute_force\n",
    "# importlib.reload(brute_force)\n",
    "# \n",
    "# puzzle = puzzles.loc[id]\n",
    "# sol = brute_force.solve(puzzle, puzzle_info, ';'.join(state))\n",
    "# sol"
   ],
   "metadata": {
    "collapsed": false,
    "ExecuteTime": {
     "end_time": "2023-12-29T05:33:21.645647Z",
     "start_time": "2023-12-29T05:33:21.643385Z"
    }
   },
   "id": "6d6177272727a04a",
   "execution_count": null
  },
  {
   "cell_type": "code",
   "outputs": [],
   "source": [],
   "metadata": {
    "collapsed": false,
    "ExecuteTime": {
     "end_time": "2023-12-29T05:33:21.648837Z",
     "start_time": "2023-12-29T05:33:21.648313Z"
    }
   },
   "id": "719c54c3d787ba86",
   "execution_count": null
  }
 ],
 "metadata": {
  "kernelspec": {
   "display_name": "Python 3",
   "language": "python",
   "name": "python3"
  },
  "language_info": {
   "codemirror_mode": {
    "name": "ipython",
    "version": 2
   },
   "file_extension": ".py",
   "mimetype": "text/x-python",
   "name": "python",
   "nbconvert_exporter": "python",
   "pygments_lexer": "ipython2",
   "version": "2.7.6"
  }
 },
 "nbformat": 4,
 "nbformat_minor": 5
}
