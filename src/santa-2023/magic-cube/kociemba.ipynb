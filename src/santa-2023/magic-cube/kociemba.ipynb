{
 "cells": [
  {
   "cell_type": "markdown",
   "source": [
    "# <div style=\"font-family: Cambria; font-weight:bold; letter-spacing: 0px; color:white; font-size:200%; text-align:center;padding:3.0px; background: #6A1B9A; border-bottom: 8px solid #9C27B0\">Santa 2023 - Kociemba's two-phase algo</div>\n",
    "#### <div style= \"font-family: Cambria; font-weight:bold; letter-spacing: 0px; color:white; font-size:150%; text-align:left;padding:3.0px; background: #6A1B9A; border-bottom: 8px solid #9C27B0\" >TABLE OF CONTENTS<br><div>\n",
    "* [IMPORTS](#1)\n",
    "* [LOAD DATA](#2)\n",
    "* [EDA](#3)\n",
    "* [FUNCTIONS](#4)\n",
    "* [SOLVE](#5)\n",
    "\n",
    "Code modified from: https://www.kaggle.com/code/wrrosa/santa-2023-kociemba-s-two-phase-algo-1-116-550"
   ],
   "metadata": {
    "collapsed": false
   },
   "id": "3f9b3d33a851f8c2"
  },
  {
   "cell_type": "markdown",
   "source": [
    "<a id=\"1\"></a>\n",
    "# <div style= \"font-family: Cambria; font-weight:bold; letter-spacing: 0px; color:white; font-size:120%; text-align:left;padding:3.0px; background: #6A1B9A; border-bottom: 8px solid #9C27B0\" > IMPORTS<br><div> "
   ],
   "metadata": {
    "collapsed": false
   },
   "id": "927a75c9caab4626"
  },
  {
   "cell_type": "markdown",
   "source": [
    "!git clone https://github.com/trincaog/magiccube.git"
   ],
   "metadata": {
    "collapsed": false
   },
   "id": "c933e3efbd8d891c"
  },
  {
   "cell_type": "code",
   "outputs": [],
   "source": [
    "import os\n",
    "import time\n",
    "\n",
    "\n",
    "import random\n",
    "from typing import Dict, List\n",
    "import zipfile\n",
    "import sqlite3\n",
    "\n",
    "import pandas as pd\n",
    "import numpy as np\n",
    "from sympy.combinatorics import Permutation\n",
    "\n",
    "\n",
    "from enum import Enum\n",
    "from math import sqrt\n",
    "from ast import literal_eval\n",
    "from termcolor import colored\n",
    "\n",
    "import kociemba\n"
   ],
   "metadata": {
    "collapsed": false,
    "ExecuteTime": {
     "end_time": "2023-12-26T05:10:49.813594Z",
     "start_time": "2023-12-26T05:10:48.926890Z"
    }
   },
   "id": "b4a1d9fc3e7d4f99",
   "execution_count": 1
  },
  {
   "cell_type": "code",
   "outputs": [],
   "source": [
    "database_file = '../solutions.db'\n",
    "solution_method = \"Kociemba two-phase algo\"\n"
   ],
   "metadata": {
    "collapsed": false,
    "ExecuteTime": {
     "end_time": "2023-12-26T05:10:49.821268Z",
     "start_time": "2023-12-26T05:10:49.814263Z"
    }
   },
   "id": "3389968265ae759",
   "execution_count": 2
  },
  {
   "cell_type": "markdown",
   "source": [
    "<a id=\"2\"></a>\n",
    "# <div style= \"font-family: Cambria; font-weight:bold; letter-spacing: 0px; color:white; font-size:120%; text-align:left;padding:3.0px; background: #6A1B9A; border-bottom: 8px solid #9C27B0\" >LOAD DATA<br><div> "
   ],
   "metadata": {
    "collapsed": false
   },
   "id": "4be3d027b56234bb"
  },
  {
   "cell_type": "code",
   "outputs": [],
   "source": [
    "with zipfile.ZipFile('../../../res/data/santa-2023.zip', 'r') as z:\n",
    "    \n",
    "    with z.open('puzzle_info.csv') as f:\n",
    "        puzzle_info = pd.read_csv(f)        \n",
    "                \n",
    "    with z.open('puzzles.csv') as f:\n",
    "        puzzles = pd.read_csv(f)\n",
    "    \n",
    "    with z.open('sample_submission.csv') as f:\n",
    "        submission = pd.read_csv(f)"
   ],
   "metadata": {
    "collapsed": false,
    "ExecuteTime": {
     "end_time": "2023-12-26T05:10:49.931673Z",
     "start_time": "2023-12-26T05:10:49.819664Z"
    }
   },
   "id": "42e6380d8e779c22",
   "execution_count": 3
  },
  {
   "cell_type": "code",
   "outputs": [],
   "source": [
    "puzzle_info['allowed_moves_count'] = puzzle_info['allowed_moves'].map(lambda x: {k: Permutation(v) for k, v in eval(x).items()})\n",
    "paths = pd.merge(puzzles, puzzle_info, how='left', on='puzzle_type')\n",
    "paths = pd.merge(paths, submission, how='left', on='id')"
   ],
   "metadata": {
    "collapsed": false,
    "ExecuteTime": {
     "end_time": "2023-12-26T05:10:51.507527Z",
     "start_time": "2023-12-26T05:10:49.938305Z"
    }
   },
   "id": "70b1f9859e0950b3",
   "execution_count": 4
  },
  {
   "cell_type": "markdown",
   "source": [
    "<a id=\"3\"></a>\n",
    "# <div style= \"font-family: Cambria; font-weight:bold; letter-spacing: 0px; color:white; font-size:120%; text-align:left;padding:3.0px; background: #6A1B9A; border-bottom: 8px solid #9C27B0\" >EDA<br><div> "
   ],
   "metadata": {
    "collapsed": false
   },
   "id": "8482fc1960be6d57"
  },
  {
   "cell_type": "markdown",
   "source": [
    "Find BC edge and convert to AB. 7/10, 14/21, 23/30, 32/39, 12/41, 16/46, 34/52, 5/19, 1/28, 3/37, 25/50, 43/48\n",
    "              7     10      14            21\n",
    "A;B;A;B;A;B;A;B;A;B;C;B;C;B;C;B;C;B;C;D;C;D;C;D;C;D;C;D;E;D;E;D;E;D;E;D;E;F;E;F;E;F;E;F;E;F;A;F;A;F;A;F;A;F\n",
    "C;B;D;B;B;C;F;E;A;B;D;D;B;C;A;A;E;B;E;F;A;F;A;B;F;A;F;C;F;A;C;E;A;D;D;C;B;E;C;E;F;D;D;A;E;B;F;E;D;D;C;F;C;E\n",
    "\n",
    "         Positions                                Solution State\n",
    "\n",
    "         +---------+                               +---------+\n",
    "         | 0  1  2 |                               | A  B  A |\n",
    "         |         |                               |         |\n",
    "         | 3  4  5 |                               | B  A  B |\n",
    "         |         |                               |         |\n",
    "         | 6  7  8 |                               | A  B  A |\n",
    "+--------+---------+--------+--------+    +--------+---------+--------+--------+\n",
    "| 36 37 38| 9 10 11|18 19 20|27 28 29|    | E  F  E| B  C  B | C  D  C| D  E  D|\n",
    "|         |        |        |        |    |        |         |        |        |\n",
    "| 39 40 41|12 13 14|21 22 23|30 31 32|    | F  E  F| C  B  C | D  C  D| E  D  E|\n",
    "|         |        |        |        |    |        |         |        |        |\n",
    "| 42 43 44|15 16 17|24 25 26|33 34 35|    | E  F  E| B  C  B | C  D  C| D  E  D|\n",
    "+--------+---------+--------+--------+    +--------+---------+--------+--------+\n",
    "         | 45 46 47|                               | F  A  F |\n",
    "         |         |                               |         |\n",
    "         | 48 49 50|                               | A  F  A |\n",
    "         |         |                               |         |\n",
    "         | 51 52 53|                               | F  A  F |\n",
    "         +---------+                               +---------+\n",
    "         \n",
    "\n",
    "         Positions                                Solution State\n",
    "\n",
    "         +---------+                               +---------+\n",
    "         | 0  1  2 |                               | A  A  A |\n",
    "         |         |                               |         |\n",
    "         | 3  4  5 |                               | A  A  A |\n",
    "         |         |                               |         |\n",
    "         | 6  7  8 |                               | A  A  A |\n",
    "+--------+---------+--------+--------+    +--------+---------+--------+--------+\n",
    "| 36 37 38| 9 10 11|18 19 20|27 28 29|    | E  E  E| B  B  B| C  C  C| D  D  D|\n",
    "|         |        |        |        |    |        |        |        |        |\n",
    "| 39 40 41|12 13 14|21 22 23|30 31 32|    | E  E  E| B  B  B| C  C  C| D  D  D|\n",
    "|         |        |        |        |    |        |        |        |        |\n",
    "| 42 43 44|15 16 17|24 25 26|33 34 35|    | E  E  E| B  B  B| C  C  C| D  D  D|\n",
    "+--------+---------+--------+--------+    +--------+---------+--------+--------+\n",
    "         | 45 46 47|                               | F  F  F |\n",
    "         |         |                               |         |\n",
    "         | 48 49 50|                               | F  F  F |\n",
    "         |         |                               |         |\n",
    "         | 51 52 53|                               | F  F  F |\n",
    "         +---------+                               +---------+\n",
    "\n"
   ],
   "metadata": {
    "collapsed": false
   },
   "id": "f06e5354dc3b655c"
  },
  {
   "cell_type": "markdown",
   "source": [
    "<a id=\"4\"></a>\n",
    "# <div style= \"font-family: Cambria; font-weight:bold; letter-spacing: 0px; color:white; font-size:120%; text-align:left;padding:3.0px; background: #6A1B9A; border-bottom: 8px solid #9C27B0\" >FUNCTIONS<br><div> "
   ],
   "metadata": {
    "collapsed": false
   },
   "id": "9784e86482d58ff4"
  },
  {
   "cell_type": "code",
   "outputs": [],
   "source": [
    "translations = {\n",
    "    'corners': {\n",
    "        \"N8N11N18\": \"ABC\", \n",
    "        \"N2N20N27\": \"ACD\",\n",
    "        \"N0N29N36\": \"ADE\",\n",
    "        \"N6N9N38\": \"ABE\",\n",
    "        \"N15N44N45\": \"BEF\", \n",
    "        \"N17N24N47\": \"BCF\",\n",
    "        \"N26N33N53\": \"CDF\",\n",
    "        \"N35N42N51\": \"DEF\"\n",
    "    },\n",
    "    'faces': {\n",
    "        'N4':  'A',\n",
    "        'N13': 'B',\n",
    "        'N22': 'C',\n",
    "        'N31': 'D',\n",
    "        'N40': 'E',\n",
    "        'N49': 'F',\n",
    "    }\n",
    "}"
   ],
   "metadata": {
    "collapsed": false,
    "ExecuteTime": {
     "end_time": "2023-12-26T05:10:51.513215Z",
     "start_time": "2023-12-26T05:10:51.508525Z"
    }
   },
   "id": "c5e339741357b9d1",
   "execution_count": 5
  },
  {
   "cell_type": "code",
   "outputs": [],
   "source": [
    "def relabel_3x3x3(id, state):\n",
    "    dim = 3\n",
    "    faces = list(range(4, 6*dim**2, dim**2))\n",
    "    edges = [(7, 10), (14, 21), (23, 30), (32, 39), (12, 41), (16, 46), (34, 52), (5, 19), (1, 28), (3, 37), (25, 50), (43, 48)]\n",
    "    corners = [(8, 11, 18), (2, 20, 27), (0, 29, 36), (6, 9 , 38), (15, 44, 45), (17, 24, 47), (26, 33, 53), (35, 42, 51)]\n",
    "    # Split the string into individual elements.\n",
    "    state_list = state.split(';')\n",
    "    if id in range(140, 150):\n",
    "        # For each element, determine the replacement based on the criteria.\n",
    "        for i, val in enumerate(state_list):\n",
    "            # Extract the number part from the string like 'N33' -> 33.\n",
    "            num = int(val[1:])\n",
    "            # Replace based on the given criteria.\n",
    "            if 0 <= num <= 8:\n",
    "                state_list[i] = 'A'\n",
    "            elif 9 <= num <= 17:\n",
    "                state_list[i] = 'B'\n",
    "            elif 18 <= num <= 26:\n",
    "                state_list[i] = 'C'\n",
    "            elif 27 <= num <= 35:\n",
    "                state_list[i] = 'D'\n",
    "            elif 36 <= num <= 44:\n",
    "                state_list[i] = 'E'\n",
    "            elif 45 <= num <= 53:\n",
    "                state_list[i] = 'F'\n",
    "\n",
    "    elif id in range(130, 140):\n",
    "        translations = {\n",
    "            \"AC\": \"FB\",\n",
    "            \"AD\": \"FC\",\n",
    "            \"AE\": \"FD\",\n",
    "            \"AF\": \"FE\",\n",
    "    \n",
    "            \"BC\": \"AB\",\n",
    "            \"BD\": \"AC\",\n",
    "            \"BF\": \"AE\",\n",
    "            \"BE\": \"AD\",\n",
    "    \n",
    "            \"CD\": \"BC\",\n",
    "            \"CF\": \"BE\",\n",
    "            \"DE\": \"CD\",\n",
    "            \"EF\": \"DE\",\n",
    "            \n",
    "        }\n",
    "        \n",
    "        for e1, e2 in edges:\n",
    "            c1 = state_list[e1]\n",
    "            c2 = state_list[e2]\n",
    "            # Sort the strings\n",
    "            sorted_strings = sorted([c1, c2])\n",
    "            # Concatenate them\n",
    "            concatenated_string = ''.join(sorted_strings)\n",
    "            t1, t2 = translations[concatenated_string]\n",
    "            if c1 == sorted_strings[0]:\n",
    "                state_list[e1] = t1\n",
    "                state_list[e2] = t2\n",
    "            else:\n",
    "                state_list[e1] = t2\n",
    "                state_list[e2] = t1\n",
    "    return ';'.join(state_list)            \n",
    "        "
   ],
   "metadata": {
    "collapsed": false,
    "ExecuteTime": {
     "end_time": "2023-12-26T05:10:51.523541Z",
     "start_time": "2023-12-26T05:10:51.516395Z"
    }
   },
   "id": "20da4397e8d5a1bb",
   "execution_count": 6
  },
  {
   "cell_type": "code",
   "outputs": [],
   "source": [
    "U = ['U', 'F', 'R', 'B', 'L', 'D']\n",
    "\n",
    "def state2ubl(state):\n",
    "\n",
    "    dct = {}\n",
    "    for u in range(len(U)):\n",
    "        dct[state.split(';')[4+u*9]] = U[u]\n",
    "\n",
    "    s = ''.join([dct[f] for f in state.split(';')])\n",
    "    \n",
    "    return s[:9] + s[18:27] + s[9:18] + s[45:] + s[36:45] + s[27:36]"
   ],
   "metadata": {
    "collapsed": false,
    "ExecuteTime": {
     "end_time": "2023-12-26T05:10:51.523914Z",
     "start_time": "2023-12-26T05:10:51.520979Z"
    }
   },
   "id": "87cc688dfa4b7b1d",
   "execution_count": 7
  },
  {
   "cell_type": "code",
   "outputs": [],
   "source": [
    "moves = eval(puzzle_info.loc[puzzle_info['puzzle_type'] == 'cube_3/3/3']['allowed_moves'].values[0])\n",
    "for move in list(moves):\n",
    "    moves['-'+move] = np.argsort(moves[move]).tolist()\n",
    "\n",
    "M = {}\n",
    "M[\"U\"] = '-d2'\n",
    "M[\"R\"] = \"r0\"\n",
    "M[\"B\"] = \"-f2\"\n",
    "M[\"F\"] = \"f0\"\n",
    "M[\"L\"] = \"-r2\"\n",
    "M[\"D\"] = \"d0\"\n",
    "for m in list(M):\n",
    "    M[m+\"2\"] = M[m] + '.' + M[m]\n",
    "    if \"-\" in M[m]:\n",
    "        M[m+\"'\"] = M[m].replace(\"-\",\"\")\n",
    "    else:\n",
    "        M[m+\"'\"] = \"-\"+M[m]"
   ],
   "metadata": {
    "collapsed": false,
    "ExecuteTime": {
     "end_time": "2023-12-26T05:10:51.533266Z",
     "start_time": "2023-12-26T05:10:51.526436Z"
    }
   },
   "id": "1f8d0eca780d0ebf",
   "execution_count": 8
  },
  {
   "cell_type": "code",
   "outputs": [
    {
     "ename": "NameError",
     "evalue": "name 'state' is not defined",
     "output_type": "error",
     "traceback": [
      "\u001B[0;31m---------------------------------------------------------------------------\u001B[0m",
      "\u001B[0;31mNameError\u001B[0m                                 Traceback (most recent call last)",
      "Cell \u001B[0;32mIn[12], line 1\u001B[0m\n\u001B[0;32m----> 1\u001B[0m \u001B[43mstate\u001B[49m\n",
      "\u001B[0;31mNameError\u001B[0m: name 'state' is not defined"
     ]
    }
   ],
   "source": [],
   "metadata": {
    "collapsed": false,
    "ExecuteTime": {
     "end_time": "2023-12-27T00:05:10.486360Z",
     "start_time": "2023-12-27T00:05:10.476343Z"
    }
   },
   "id": "8fdfd9edf224124f",
   "execution_count": 12
  },
  {
   "cell_type": "code",
   "outputs": [],
   "source": [],
   "metadata": {
    "collapsed": false,
    "ExecuteTime": {
     "end_time": "2023-12-26T05:10:51.542665Z",
     "start_time": "2023-12-26T05:10:51.533006Z"
    }
   },
   "id": "edca3add08710139",
   "execution_count": 8
  },
  {
   "cell_type": "code",
   "outputs": [],
   "source": [],
   "metadata": {
    "collapsed": false,
    "ExecuteTime": {
     "end_time": "2023-12-26T05:10:51.543662Z",
     "start_time": "2023-12-26T05:10:51.536093Z"
    }
   },
   "id": "133a79f38195e0d7",
   "execution_count": 8
  },
  {
   "cell_type": "markdown",
   "source": [
    "<a id=\"5\"></a>\n",
    "# <div style= \"font-family: Cambria; font-weight:bold; letter-spacing: 0px; color:white; font-size:120%; text-align:left;padding:3.0px; background: #6A1B9A; border-bottom: 8px solid #9C27B0\" >SOLVE<br><div> "
   ],
   "metadata": {
    "collapsed": false
   },
   "id": "580cda3cf75e39aa"
  },
  {
   "cell_type": "code",
   "outputs": [
    {
     "ename": "KeyError",
     "evalue": "'A'",
     "output_type": "error",
     "traceback": [
      "\u001B[0;31m---------------------------------------------------------------------------\u001B[0m",
      "\u001B[0;31mKeyError\u001B[0m                                  Traceback (most recent call last)",
      "Cell \u001B[0;32mIn[11], line 11\u001B[0m\n\u001B[1;32m      9\u001B[0m cur_state \u001B[38;5;241m=\u001B[39m i[\u001B[38;5;241m1\u001B[39m][\u001B[38;5;124m'\u001B[39m\u001B[38;5;124minitial_state\u001B[39m\u001B[38;5;124m'\u001B[39m]\n\u001B[1;32m     10\u001B[0m sol_state \u001B[38;5;241m=\u001B[39m i[\u001B[38;5;241m1\u001B[39m][\u001B[38;5;124m'\u001B[39m\u001B[38;5;124msolution_state\u001B[39m\u001B[38;5;124m'\u001B[39m]\n\u001B[0;32m---> 11\u001B[0m \u001B[38;5;28mprint\u001B[39m(\u001B[43mstate2ubl\u001B[49m\u001B[43m(\u001B[49m\u001B[43mcur_state\u001B[49m\u001B[43m)\u001B[49m)\n\u001B[1;32m     12\u001B[0m \u001B[38;5;28;01mbreak\u001B[39;00m\n\u001B[1;32m     13\u001B[0m \u001B[38;5;28;01mif\u001B[39;00m \u001B[38;5;28mid\u001B[39m \u001B[38;5;241m>\u001B[39m\u001B[38;5;241m=\u001B[39m \u001B[38;5;241m130\u001B[39m \u001B[38;5;129;01mand\u001B[39;00m \u001B[38;5;28mid\u001B[39m \u001B[38;5;241m<\u001B[39m\u001B[38;5;241m=\u001B[39m \u001B[38;5;241m149\u001B[39m:\n",
      "Cell \u001B[0;32mIn[7], line 9\u001B[0m, in \u001B[0;36mstate2ubl\u001B[0;34m(state)\u001B[0m\n\u001B[1;32m      6\u001B[0m \u001B[38;5;28;01mfor\u001B[39;00m u \u001B[38;5;129;01min\u001B[39;00m \u001B[38;5;28mrange\u001B[39m(\u001B[38;5;28mlen\u001B[39m(U)):\n\u001B[1;32m      7\u001B[0m     dct[state\u001B[38;5;241m.\u001B[39msplit(\u001B[38;5;124m'\u001B[39m\u001B[38;5;124m;\u001B[39m\u001B[38;5;124m'\u001B[39m)[\u001B[38;5;241m4\u001B[39m\u001B[38;5;241m+\u001B[39mu\u001B[38;5;241m*\u001B[39m\u001B[38;5;241m9\u001B[39m]] \u001B[38;5;241m=\u001B[39m U[u]\n\u001B[0;32m----> 9\u001B[0m s \u001B[38;5;241m=\u001B[39m \u001B[38;5;124m'\u001B[39m\u001B[38;5;124m'\u001B[39m\u001B[38;5;241m.\u001B[39mjoin([dct[f] \u001B[38;5;28;01mfor\u001B[39;00m f \u001B[38;5;129;01min\u001B[39;00m state\u001B[38;5;241m.\u001B[39msplit(\u001B[38;5;124m'\u001B[39m\u001B[38;5;124m;\u001B[39m\u001B[38;5;124m'\u001B[39m)])\n\u001B[1;32m     11\u001B[0m \u001B[38;5;28;01mreturn\u001B[39;00m s[:\u001B[38;5;241m9\u001B[39m] \u001B[38;5;241m+\u001B[39m s[\u001B[38;5;241m18\u001B[39m:\u001B[38;5;241m27\u001B[39m] \u001B[38;5;241m+\u001B[39m s[\u001B[38;5;241m9\u001B[39m:\u001B[38;5;241m18\u001B[39m] \u001B[38;5;241m+\u001B[39m s[\u001B[38;5;241m45\u001B[39m:] \u001B[38;5;241m+\u001B[39m s[\u001B[38;5;241m36\u001B[39m:\u001B[38;5;241m45\u001B[39m] \u001B[38;5;241m+\u001B[39m s[\u001B[38;5;241m27\u001B[39m:\u001B[38;5;241m36\u001B[39m]\n",
      "Cell \u001B[0;32mIn[7], line 9\u001B[0m, in \u001B[0;36m<listcomp>\u001B[0;34m(.0)\u001B[0m\n\u001B[1;32m      6\u001B[0m \u001B[38;5;28;01mfor\u001B[39;00m u \u001B[38;5;129;01min\u001B[39;00m \u001B[38;5;28mrange\u001B[39m(\u001B[38;5;28mlen\u001B[39m(U)):\n\u001B[1;32m      7\u001B[0m     dct[state\u001B[38;5;241m.\u001B[39msplit(\u001B[38;5;124m'\u001B[39m\u001B[38;5;124m;\u001B[39m\u001B[38;5;124m'\u001B[39m)[\u001B[38;5;241m4\u001B[39m\u001B[38;5;241m+\u001B[39mu\u001B[38;5;241m*\u001B[39m\u001B[38;5;241m9\u001B[39m]] \u001B[38;5;241m=\u001B[39m U[u]\n\u001B[0;32m----> 9\u001B[0m s \u001B[38;5;241m=\u001B[39m \u001B[38;5;124m'\u001B[39m\u001B[38;5;124m'\u001B[39m\u001B[38;5;241m.\u001B[39mjoin([\u001B[43mdct\u001B[49m\u001B[43m[\u001B[49m\u001B[43mf\u001B[49m\u001B[43m]\u001B[49m \u001B[38;5;28;01mfor\u001B[39;00m f \u001B[38;5;129;01min\u001B[39;00m state\u001B[38;5;241m.\u001B[39msplit(\u001B[38;5;124m'\u001B[39m\u001B[38;5;124m;\u001B[39m\u001B[38;5;124m'\u001B[39m)])\n\u001B[1;32m     11\u001B[0m \u001B[38;5;28;01mreturn\u001B[39;00m s[:\u001B[38;5;241m9\u001B[39m] \u001B[38;5;241m+\u001B[39m s[\u001B[38;5;241m18\u001B[39m:\u001B[38;5;241m27\u001B[39m] \u001B[38;5;241m+\u001B[39m s[\u001B[38;5;241m9\u001B[39m:\u001B[38;5;241m18\u001B[39m] \u001B[38;5;241m+\u001B[39m s[\u001B[38;5;241m45\u001B[39m:] \u001B[38;5;241m+\u001B[39m s[\u001B[38;5;241m36\u001B[39m:\u001B[38;5;241m45\u001B[39m] \u001B[38;5;241m+\u001B[39m s[\u001B[38;5;241m27\u001B[39m:\u001B[38;5;241m36\u001B[39m]\n",
      "\u001B[0;31mKeyError\u001B[0m: 'A'"
     ]
    }
   ],
   "source": [
    "# Connect to the SQLite database\n",
    "conn = sqlite3.connect(database_file)\n",
    "cursor = conn.cursor()\n",
    "\n",
    "for i in paths.loc[paths['puzzle_type'] == 'cube_4/4/4'].iterrows():\n",
    "    id = i[1]['id']\n",
    "    # try:\n",
    "        \n",
    "    cur_state = i[1]['initial_state']\n",
    "    sol_state = i[1]['solution_state']\n",
    "    print(state2ubl(cur_state))\n",
    "    break\n",
    "    if id >= 130 and id <= 149:\n",
    "        cur_state = relabel_3x3x3(id, cur_state)\n",
    "        sol_state = relabel_3x3x3(id, sol_state)\n",
    "        \n",
    "    sol = kociemba.solve(state2ubl(cur_state))\n",
    "\n",
    "    new_state = cur_state\n",
    "    mmoves = '.'.join([M[m] for m in sol.split(' ')])\n",
    "\n",
    "    for move in mmoves.split('.'):\n",
    "        new_state = ';'.join(list(np.asarray(new_state.split(';'))[np.array(moves[move])]))\n",
    "    I = ['r0.r1.r2','d0.d1.d2','f0.f1.f2']\n",
    "    for init_moves in [''] + I + [i1 + '.' + i2 for i1 in I for i2 in I]+ [i1 + '.' + i2+ '.' + i3 for i1 in I for i2 in I for i3 in I]+ [i1 + '.' + i2+ '.' + i3 + '.' + i4 for i1 in I for i2 in I for i3 in I for i4 in I]:\n",
    "        temp_state = new_state\n",
    "        if len(init_moves) > 0:\n",
    "            for move in init_moves.split('.'):\n",
    "                temp_state = ';'.join(list(np.asarray(temp_state.split(';'))[np.array(moves[move])]))\n",
    "\n",
    "        if temp_state == sol_state:\n",
    "            print(f'solved id: {id}')\n",
    "            if len(init_moves) > 0:\n",
    "                mmoves += '.' + init_moves\n",
    "                \n",
    "            mmoves_length = len(mmoves.split('.'))\n",
    "            if len(paths.iloc[id,7].split('.')) > mmoves_length:\n",
    "                print(f\"improved: new length {mmoves_length} vs current length {len(paths.iloc[id,7].split('.'))}\")\n",
    "                paths.iloc[id,7] = mmoves\n",
    "                \n",
    "                select_query = \"SELECT count FROM solutions WHERE id = ?\"\n",
    "    \n",
    "                # Execute the query\n",
    "                cursor.execute(select_query, (id,))\n",
    "                response = cursor.fetchone()\n",
    "                best_moves_length = response[0]\n",
    "                \n",
    "                if mmoves_length < best_moves_length:\n",
    "                    # Insert the moves into the database\n",
    "                    insert_query = (\"INSERT OR REPLACE INTO solutions (id, moves, count, solution_method) VALUES (?, ?, ?, ?)\")\n",
    "                    cursor.execute(insert_query, (id, mmoves, mmoves_length, solution_method))\n",
    "                    conn.commit()\n",
    "            break\n",
    "    # except:\n",
    "    #     print(f'Error with id {id}')\n",
    "    \n",
    "    \n",
    "# Commit the changes and close the connection\n",
    "conn.commit()\n",
    "conn.close()\n",
    "\n",
    "# paths[['id','moves']]"
   ],
   "metadata": {
    "collapsed": false,
    "ExecuteTime": {
     "end_time": "2023-12-26T23:58:52.544172Z",
     "start_time": "2023-12-26T23:58:52.033558Z"
    }
   },
   "id": "e5b1292ecd47992e",
   "execution_count": 11
  },
  {
   "cell_type": "code",
   "outputs": [
    {
     "data": {
      "text/plain": "'N0;N1;N2;N3;N4;N5;N6;N7;N8;N9;N10;N11;N12;N13;N14;N15;N16;N17;N18;N19;N20;N21;N22;N23;N24;N25;N26;N27;N28;N29;N30;N31;N32;N33;N34;N35;N36;N37;N38;N39;N40;N41;N42;N43;N44;N45;N46;N47;N48;N49;N50;N51;N52;N53'"
     },
     "execution_count": 10,
     "metadata": {},
     "output_type": "execute_result"
    }
   ],
   "source": [
    "i[1]['solution_state']"
   ],
   "metadata": {
    "collapsed": false,
    "ExecuteTime": {
     "end_time": "2023-12-26T05:10:52.192980Z",
     "start_time": "2023-12-26T05:10:52.189122Z"
    }
   },
   "id": "246078ee7baacda",
   "execution_count": 10
  },
  {
   "cell_type": "code",
   "outputs": [
    {
     "data": {
      "text/plain": "'A;A;A;A;A;A;A;A;A;A;A;A;A;A;A;A;B;B;B;B;B;B;B;B;B;B;B;B;B;B;B;B;C;C;C;C;C;C;C;C;C;C;C;C;C;C;C;C;D;D;D;D;D;D;D;D;D;D;D;D;D;D;D;D;E;E;E;E;E;E;E;E;E;E;E;E;E;E;E;E;F;F;F;F;F;F;F;F;F;F;F;F;F;F;F;F'"
     },
     "execution_count": 14,
     "metadata": {},
     "output_type": "execute_result"
    }
   ],
   "source": [
    "sol_state"
   ],
   "metadata": {
    "collapsed": false,
    "ExecuteTime": {
     "end_time": "2023-12-27T00:06:02.992687Z",
     "start_time": "2023-12-27T00:06:02.972460Z"
    }
   },
   "id": "ec738393e61b5ce5",
   "execution_count": 14
  },
  {
   "cell_type": "code",
   "outputs": [
    {
     "data": {
      "text/plain": "'B;A;A;A;C;B;C;F;A;C;A;D;F;D;E;A;D;C;A;B;F;A;B;C;A;B;F;C;C;D;A;F;C;F;E;C;A;A;E;C;B;E;E;B;C;A;D;E;D;D;B;E;B;D;A;D;E;F;C;B;A;C;B;D;F;F;D;E;E;F;D;C;F;D;C;E;A;F;B;B;F;E;C;D;F;B;E;B;E;D;F;F;E;E;D;B'"
     },
     "execution_count": 15,
     "metadata": {},
     "output_type": "execute_result"
    }
   ],
   "source": [
    "cur_state\n"
   ],
   "metadata": {
    "collapsed": false,
    "ExecuteTime": {
     "end_time": "2023-12-27T00:08:42.320698Z",
     "start_time": "2023-12-27T00:08:42.299748Z"
    }
   },
   "id": "59bbb3bf63f4a838",
   "execution_count": 15
  },
  {
   "cell_type": "code",
   "outputs": [],
   "source": [],
   "metadata": {
    "collapsed": false
   },
   "id": "5da2c0d999b7cfc8"
  }
 ],
 "metadata": {
  "kernelspec": {
   "display_name": "Python 3",
   "language": "python",
   "name": "python3"
  },
  "language_info": {
   "codemirror_mode": {
    "name": "ipython",
    "version": 2
   },
   "file_extension": ".py",
   "mimetype": "text/x-python",
   "name": "python",
   "nbconvert_exporter": "python",
   "pygments_lexer": "ipython2",
   "version": "2.7.6"
  }
 },
 "nbformat": 4,
 "nbformat_minor": 5
}
