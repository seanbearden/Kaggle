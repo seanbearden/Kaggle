{
 "cells": [
  {
   "cell_type": "markdown",
   "source": [
    "# <div style=\"font-family: Cambria; font-weight:bold; letter-spacing: 0px; color:white; font-size:200%; text-align:center;padding:3.0px; background: #6A1B9A; border-bottom: 8px solid #9C27B0\">Santa 2023 - https://github.com/pglass/cube</div>\n",
    "#### <div style= \"font-family: Cambria; font-weight:bold; letter-spacing: 0px; color:white; font-size:150%; text-align:left;padding:3.0px; background: #6A1B9A; border-bottom: 8px solid #9C27B0\" >TABLE OF CONTENTS<br><div>\n",
    "* [IMPORTS](#1)\n",
    "* [LOAD DATA](#2)\n",
    "* [FUNCTIONS](#3)\n",
    "* [VISUALIZE](#4)\n",
    "* [SOLVE](#5)\n",
    "\n",
    "Code modified from: https://www.kaggle.com/code/paulorzp/magic-cube-utilities/notebook"
   ],
   "metadata": {
    "collapsed": false
   },
   "id": "3f9b3d33a851f8c2"
  },
  {
   "cell_type": "markdown",
   "source": [
    "<a id=\"1\"></a>\n",
    "# <div style= \"font-family: Cambria; font-weight:bold; letter-spacing: 0px; color:white; font-size:120%; text-align:left;padding:3.0px; background: #6A1B9A; border-bottom: 8px solid #9C27B0\" > IMPORTS<br><div> "
   ],
   "metadata": {
    "collapsed": false
   },
   "id": "927a75c9caab4626"
  },
  {
   "cell_type": "markdown",
   "source": [
    "!git clone https://github.com/trincaog/magiccube.git"
   ],
   "metadata": {
    "collapsed": false
   },
   "id": "c933e3efbd8d891c"
  },
  {
   "cell_type": "code",
   "outputs": [],
   "source": [
    "import os\n",
    "import time\n",
    "\n",
    "\n",
    "import random\n",
    "from typing import Dict, List\n",
    "import zipfile\n",
    "import sqlite3\n",
    "\n",
    "import magiccube\n",
    "\n",
    "import numpy as np\n",
    "import pandas as pd\n",
    "from enum import Enum\n",
    "from math import sqrt\n",
    "from ast import literal_eval\n",
    "from termcolor import colored\n",
    "from sympy.combinatorics import Permutation\n",
    "\n",
    "from rubik.cube import Cube"
   ],
   "metadata": {
    "collapsed": false,
    "ExecuteTime": {
     "end_time": "2023-12-25T02:35:45.794681Z",
     "start_time": "2023-12-25T02:35:45.458846Z"
    }
   },
   "id": "b4a1d9fc3e7d4f99",
   "execution_count": 1
  },
  {
   "cell_type": "code",
   "outputs": [],
   "source": [
    "database_file = '../solutions.db'\n",
    "solution_method = 'magic cube'\n"
   ],
   "metadata": {
    "collapsed": false,
    "ExecuteTime": {
     "end_time": "2023-12-25T02:35:46.555737Z",
     "start_time": "2023-12-25T02:35:46.546400Z"
    }
   },
   "id": "3389968265ae759",
   "execution_count": 2
  },
  {
   "cell_type": "code",
   "outputs": [
    {
     "name": "stdout",
     "output_type": "stream",
     "text": [
      "    OOO\n",
      "    OOO\n",
      "    OOO\n",
      "YYY WWW GGG BBB\n",
      "YYY WWW GGG BBB\n",
      "YYY WWW GGG BBB\n",
      "    RRR\n",
      "    RRR\n",
      "    RRR\n"
     ]
    }
   ],
   "source": [
    "c = Cube(\"OOOOOOOOOYYYWWWGGGBBBYYYWWWGGGBBBYYYWWWGGGBBBRRRRRRRRR\")\n",
    "print(c)"
   ],
   "metadata": {
    "collapsed": false,
    "ExecuteTime": {
     "end_time": "2023-12-25T02:35:47.732134Z",
     "start_time": "2023-12-25T02:35:47.695290Z"
    }
   },
   "id": "6c0e3642be6dddc5",
   "execution_count": 3
  },
  {
   "cell_type": "markdown",
   "source": [
    "<a id=\"2\"></a>\n",
    "# <div style= \"font-family: Cambria; font-weight:bold; letter-spacing: 0px; color:white; font-size:120%; text-align:left;padding:3.0px; background: #6A1B9A; border-bottom: 8px solid #9C27B0\" >LOAD DATA<br><div> "
   ],
   "metadata": {
    "collapsed": false
   },
   "id": "4be3d027b56234bb"
  },
  {
   "cell_type": "code",
   "outputs": [],
   "source": [
    "with zipfile.ZipFile('../../../res/data/santa-2023.zip', 'r') as z:\n",
    "    \n",
    "    with z.open('puzzle_info.csv') as f:\n",
    "        puzzle_info = pd.read_csv(f, index_col = 'puzzle_type')        \n",
    "                \n",
    "    with z.open('puzzles.csv') as f:\n",
    "        puzzles = pd.read_csv(f, index_col = 'id')\n",
    "    \n",
    "    with z.open('sample_submission.csv') as f:\n",
    "        submission = pd.read_csv(f)"
   ],
   "metadata": {
    "collapsed": false,
    "ExecuteTime": {
     "end_time": "2023-12-25T02:35:50.535955Z",
     "start_time": "2023-12-25T02:35:50.398826Z"
    }
   },
   "id": "42e6380d8e779c22",
   "execution_count": 4
  },
  {
   "cell_type": "markdown",
   "source": [
    "<a id=\"3\"></a>\n",
    "# <div style= \"font-family: Cambria; font-weight:bold; letter-spacing: 0px; color:white; font-size:120%; text-align:left;padding:3.0px; background: #6A1B9A; border-bottom: 8px solid #9C27B0\" >FUNCTIONS<br><div> "
   ],
   "metadata": {
    "collapsed": false
   },
   "id": "9784e86482d58ff4"
  },
  {
   "cell_type": "code",
   "outputs": [],
   "source": [
    "tb = [['A','y','u'],\n",
    "      ['B','g','f'],\n",
    "      ['C','o','r'],\n",
    "      ['D','b','b'],\n",
    "      ['E','r','l'],\n",
    "      ['F','w','d']]\n",
    "\n",
    "def a2color(state):\n",
    "    for c in tb:\n",
    "        state = state.replace(c[0],c[1])\n",
    "    return state.upper().replace(\";\",\"\")\n",
    "\n",
    "def a2face(state):\n",
    "    for c in tb:\n",
    "        state = state.replace(c[0],c[2])\n",
    "    return state.upper().replace(\";\",\"\")\n",
    "\n",
    "def color2a(state):\n",
    "    for c in tb:\n",
    "        state = state.replace(c[1],c[0])\n",
    "    return state.upper().replace(\";\",\"\")\n",
    "\n",
    "def face2a(state):\n",
    "    for c in tb:\n",
    "        state = state.replace(c[2],c[0])\n",
    "    return state.upper().replace(\";\",\"\")"
   ],
   "metadata": {
    "collapsed": false,
    "ExecuteTime": {
     "end_time": "2023-12-25T02:38:00.612693Z",
     "start_time": "2023-12-25T02:38:00.571178Z"
    }
   },
   "id": "87cc688dfa4b7b1d",
   "execution_count": 18
  },
  {
   "cell_type": "code",
   "outputs": [],
   "source": [
    "def swap(state):\n",
    "    state = state.replace(\";\",\"\")\n",
    "    s = int(sqrt((len(state) / 6)))\n",
    "    init_state = []\n",
    "    init_state.extend(list(state))\n",
    "    foo = []\n",
    "    foo.extend(init_state[0 : s*s])\n",
    "    foo.extend(init_state[(s*s * 4) : (s*s * 5)])\n",
    "    foo.extend(init_state[(s*s * 1) : (s*s * 2)])\n",
    "    foo.extend(init_state[(s*s * 2) : (s*s * 3)])\n",
    "    foo.extend(init_state[(s*s * 3) : (s*s * 4)])\n",
    "    foo.extend(init_state[(s*s * 5) : (s*s * 6)])\n",
    "    state =\";\".join(foo)\n",
    "    return state"
   ],
   "metadata": {
    "collapsed": false,
    "ExecuteTime": {
     "end_time": "2023-12-25T02:38:01.904768Z",
     "start_time": "2023-12-25T02:38:01.892750Z"
    }
   },
   "id": "1f8d0eca780d0ebf",
   "execution_count": 19
  },
  {
   "cell_type": "code",
   "outputs": [],
   "source": [
    "def reversed_moves(sol, schar):\n",
    "    return f\"{schar}\".join(str(c) for c in reversed(sol.split(schar)))\n",
    "\n",
    "def convert_moves(sol,s,reverse=False):\n",
    "    moves = []\n",
    "    for n in range(1,s-1):\n",
    "        moves.extend([[f\"{n+1}L \",f\"-r{n}.\"],[f\"{n+1}L' \",f\"r{n}.\"],\n",
    "                      [f\"{n+1}F' \",f\"-f{n}.\"],[f\"{n+1}F \",f\"f{n}.\"],\n",
    "                      [f\"{n+1}U \",f\"-d{n}.\"],[f\"{n+1}U' \",f\"d{n}.\"]])\n",
    "    moves.extend([\n",
    "         [\"F' \",\"-f0.\"],[\"F \",\"f0.\"],\n",
    "         [\"B \",f\"-f{s-1}.\"],[\"B' \",f\"f{s-1}.\"],\n",
    "         [\"R' \",\"-r0.\"],[\"R \",\"r0.\"],\n",
    "         [\"L \",f\"-r{s-1}.\"],[\"L' \",f\"r{s-1}.\"],\n",
    "         [\"D' \",\"-d0.\"],[\"D \",\"d0.\"],\n",
    "         [\"U \",f\"-d{s-1}.\"],[\"U' \",f\"d{s-1}.\"],\n",
    "         [\"F2 \",\"f0.f0.\"],[\"B2 \",f\"f{s-1}.f{s-1}.\"],[\"R2 \",\"r0.r0.\"],\n",
    "         [\"L2 \",f\"r{s-1}.r{s-1}.\"],[\"D2 \",\"d0.d0.\"],[\"U2 \",f\"d{s-1}.d{s-1}.\"]\n",
    "        ])\n",
    "    \n",
    "    if (sum(1 for c in sol if c.isupper())) > 1:\n",
    "        schar = \".\"\n",
    "        sol += \" \"\n",
    "        for m in moves:\n",
    "            sol = sol.replace(m[0],m[1])\n",
    "        sol = sol.replace(\"..\",\".\")\n",
    "        sol = sol[:-1]\n",
    "    else:\n",
    "        schar = \" \"\n",
    "        sol += \".\"\n",
    "        for m in moves:\n",
    "            sol = sol.replace(m[1],m[0])\n",
    "    sol = sol.replace(\"  \",\" \")\n",
    "    sol = sol.strip()\n",
    "    if reverse:\n",
    "        sol = reversed_moves(sol, schar)\n",
    "    return sol"
   ],
   "metadata": {
    "collapsed": false,
    "ExecuteTime": {
     "end_time": "2023-12-25T02:38:02.660936Z",
     "start_time": "2023-12-25T02:38:02.648940Z"
    }
   },
   "id": "8fdfd9edf224124f",
   "execution_count": 20
  },
  {
   "cell_type": "code",
   "outputs": [],
   "source": [
    "def move(state, allmoves, mv):\n",
    "    power = 1\n",
    "    if mv[0] == \"-\":\n",
    "        mv = mv[1:]\n",
    "        power = -1\n",
    "    p = allmoves[mv]\n",
    "    state = (p ** power)(state)\n",
    "    return state\n",
    "\n",
    "def run_moves(state, allmoves, moves):\n",
    "    state = state.split(\";\")\n",
    "    for m in moves.split(\".\"):\n",
    "        state = move(state, allmoves, m)\n",
    "    state = \";\".join(state)\n",
    "    return state"
   ],
   "metadata": {
    "collapsed": false,
    "ExecuteTime": {
     "end_time": "2023-12-25T02:38:03.336860Z",
     "start_time": "2023-12-25T02:38:03.314031Z"
    }
   },
   "id": "edca3add08710139",
   "execution_count": 21
  },
  {
   "cell_type": "code",
   "outputs": [],
   "source": [
    "colors = {' Y ': colored(' Y ',color='black', on_color='on_yellow'),\n",
    "          ' W ': colored(' W ',color='black', on_color='on_white'),\n",
    "          ' G ': colored(' G ',color='black', on_color='on_green'),\n",
    "          ' B ': colored(' B ',color='black', on_color='on_light_blue'),\n",
    "          ' R ': colored(' R ',color='black', on_color='on_light_red'),\n",
    "          ' O ': colored(' O ',color='black', on_color='on_red')}\n",
    "\n",
    "def set_colors(face):\n",
    "    for key, value in colors.items():\n",
    "        face = face.replace(key, value)\n",
    "    return face\n",
    "\n",
    "def cube2_2d(c):\n",
    "    print(set_colors(f'       {c[0]}  {c[1]} '))\n",
    "    print(set_colors(f'       {c[2]}  {c[3]} '))\n",
    "    print(set_colors(f' {c[16]}  {c[17]}  {c[ 4]}  {c[ 5]}  {c[ 8]}  {c[ 9]}  {c[12]}  {c[13]} '))\n",
    "    print(set_colors(f' {c[18]}  {c[19]}  {c[ 6]}  {c[ 7]}  {c[10]}  {c[11]}  {c[14]}  {c[15]} '))\n",
    "    print(set_colors(f'       {c[20]}  {c[21]} '))\n",
    "    print(set_colors(f'       {c[22]}  {c[23]} '))\n",
    "    \n",
    "def cube3_2d(c):\n",
    "    print(set_colors(f'          {c[0]}  {c[1]}  {c[2]} '))\n",
    "    print(set_colors(f'          {c[3]}  {c[4]}  {c[5]} '))\n",
    "    print(set_colors(f'          {c[6]}  {c[7]}  {c[8]} '))\n",
    "    print(set_colors(f' {c[36]}  {c[37]}  {c[38]}  {c[ 9]}  {c[10]}  {c[11]}  {c[18]}  {c[19]}  {c[20]}  {c[27]}  {c[28]}  {c[29]} '))\n",
    "    print(set_colors(f' {c[39]}  {c[40]}  {c[41]}  {c[12]}  {c[13]}  {c[14]}  {c[21]}  {c[22]}  {c[23]}  {c[30]}  {c[31]}  {c[32]} '))\n",
    "    print(set_colors(f' {c[42]}  {c[43]}  {c[44]}  {c[15]}  {c[16]}  {c[17]}  {c[24]}  {c[25]}  {c[26]}  {c[32]}  {c[34]}  {c[35]} '))\n",
    "    print(set_colors(f'          {c[45]}  {c[46]}  {c[47]} '))\n",
    "    print(set_colors(f'          {c[48]}  {c[49]}  {c[50]} '))\n",
    "    print(set_colors(f'          {c[51]}  {c[52]}  {c[53]} '))\n",
    "    \n",
    "def print_cube(cube):\n",
    "    print(set_colors(cube.__str__()))"
   ],
   "metadata": {
    "collapsed": false,
    "ExecuteTime": {
     "end_time": "2023-12-25T02:38:03.863484Z",
     "start_time": "2023-12-25T02:38:03.849965Z"
    }
   },
   "id": "133a79f38195e0d7",
   "execution_count": 22
  },
  {
   "cell_type": "markdown",
   "source": [
    "<a id=\"4\"></a>\n",
    "# <div style= \"font-family: Cambria; font-weight:bold; letter-spacing: 0px; color:white; font-size:120%; \n",
    "text-align:left;padding:3.0px; background: #6A1B9A; border-bottom: 8px solid #9C27B0\" >Visualize<br><div> "
   ],
   "metadata": {
    "collapsed": false
   },
   "id": "71408c3a0ad81877"
  },
  {
   "cell_type": "code",
   "outputs": [
    {
     "name": "stdout",
     "output_type": "stream",
     "text": [
      "      \u001B[43m\u001B[30m Y \u001B[0m\u001B[43m\u001B[30m Y \u001B[0m            \n",
      "      \u001B[43m\u001B[30m Y \u001B[0m\u001B[43m\u001B[30m Y \u001B[0m            \n",
      "\u001B[101m\u001B[30m R \u001B[0m\u001B[101m\u001B[30m R \u001B[0m\u001B[42m\u001B[30m G \u001B[0m\u001B[42m\u001B[30m G \u001B[0m\u001B[41m\u001B[30m O \u001B[0m\u001B[41m\u001B[30m O \u001B[0m\u001B[104m\u001B[30m B \u001B[0m\u001B[104m\u001B[30m B \u001B[0m\n",
      "\u001B[101m\u001B[30m R \u001B[0m\u001B[101m\u001B[30m R \u001B[0m\u001B[42m\u001B[30m G \u001B[0m\u001B[42m\u001B[30m G \u001B[0m\u001B[41m\u001B[30m O \u001B[0m\u001B[41m\u001B[30m O \u001B[0m\u001B[104m\u001B[30m B \u001B[0m\u001B[104m\u001B[30m B \u001B[0m\n",
      "      \u001B[107m\u001B[30m W \u001B[0m\u001B[107m\u001B[30m W \u001B[0m            \n",
      "      \u001B[107m\u001B[30m W \u001B[0m\u001B[107m\u001B[30m W \u001B[0m            \n",
      "\n",
      "         \u001B[43m\u001B[30m Y \u001B[0m\u001B[43m\u001B[30m Y \u001B[0m\u001B[43m\u001B[30m Y \u001B[0m                  \n",
      "         \u001B[43m\u001B[30m Y \u001B[0m\u001B[43m\u001B[30m Y \u001B[0m\u001B[43m\u001B[30m Y \u001B[0m                  \n",
      "         \u001B[43m\u001B[30m Y \u001B[0m\u001B[43m\u001B[30m Y \u001B[0m\u001B[43m\u001B[30m Y \u001B[0m                  \n",
      "\u001B[101m\u001B[30m R \u001B[0m\u001B[101m\u001B[30m R \u001B[0m\u001B[101m\u001B[30m R \u001B[0m\u001B[42m\u001B[30m G \u001B[0m\u001B[42m\u001B[30m G \u001B[0m\u001B[42m\u001B[30m G \u001B[0m\u001B[41m\u001B[30m O \u001B[0m\u001B[41m\u001B[30m O \u001B[0m\u001B[41m\u001B[30m O \u001B[0m\u001B[104m\u001B[30m B \u001B[0m\u001B[104m\u001B[30m B \u001B[0m\u001B[104m\u001B[30m B \u001B[0m\n",
      "\u001B[101m\u001B[30m R \u001B[0m\u001B[101m\u001B[30m R \u001B[0m\u001B[101m\u001B[30m R \u001B[0m\u001B[42m\u001B[30m G \u001B[0m\u001B[42m\u001B[30m G \u001B[0m\u001B[42m\u001B[30m G \u001B[0m\u001B[41m\u001B[30m O \u001B[0m\u001B[41m\u001B[30m O \u001B[0m\u001B[41m\u001B[30m O \u001B[0m\u001B[104m\u001B[30m B \u001B[0m\u001B[104m\u001B[30m B \u001B[0m\u001B[104m\u001B[30m B \u001B[0m\n",
      "\u001B[101m\u001B[30m R \u001B[0m\u001B[101m\u001B[30m R \u001B[0m\u001B[101m\u001B[30m R \u001B[0m\u001B[42m\u001B[30m G \u001B[0m\u001B[42m\u001B[30m G \u001B[0m\u001B[42m\u001B[30m G \u001B[0m\u001B[41m\u001B[30m O \u001B[0m\u001B[41m\u001B[30m O \u001B[0m\u001B[41m\u001B[30m O \u001B[0m\u001B[104m\u001B[30m B \u001B[0m\u001B[104m\u001B[30m B \u001B[0m\u001B[104m\u001B[30m B \u001B[0m\n",
      "         \u001B[107m\u001B[30m W \u001B[0m\u001B[107m\u001B[30m W \u001B[0m\u001B[107m\u001B[30m W \u001B[0m                  \n",
      "         \u001B[107m\u001B[30m W \u001B[0m\u001B[107m\u001B[30m W \u001B[0m\u001B[107m\u001B[30m W \u001B[0m                  \n",
      "         \u001B[107m\u001B[30m W \u001B[0m\u001B[107m\u001B[30m W \u001B[0m\u001B[107m\u001B[30m W \u001B[0m                  \n",
      "\n",
      "            \u001B[43m\u001B[30m Y \u001B[0m\u001B[43m\u001B[30m Y \u001B[0m\u001B[43m\u001B[30m Y \u001B[0m\u001B[43m\u001B[30m Y \u001B[0m                        \n",
      "            \u001B[43m\u001B[30m Y \u001B[0m\u001B[43m\u001B[30m Y \u001B[0m\u001B[43m\u001B[30m Y \u001B[0m\u001B[43m\u001B[30m Y \u001B[0m                        \n",
      "            \u001B[43m\u001B[30m Y \u001B[0m\u001B[43m\u001B[30m Y \u001B[0m\u001B[43m\u001B[30m Y \u001B[0m\u001B[43m\u001B[30m Y \u001B[0m                        \n",
      "            \u001B[43m\u001B[30m Y \u001B[0m\u001B[43m\u001B[30m Y \u001B[0m\u001B[43m\u001B[30m Y \u001B[0m\u001B[43m\u001B[30m Y \u001B[0m                        \n",
      "\u001B[101m\u001B[30m R \u001B[0m\u001B[101m\u001B[30m R \u001B[0m\u001B[101m\u001B[30m R \u001B[0m\u001B[101m\u001B[30m R \u001B[0m\u001B[42m\u001B[30m G \u001B[0m\u001B[42m\u001B[30m G \u001B[0m\u001B[42m\u001B[30m G \u001B[0m\u001B[42m\u001B[30m G \u001B[0m\u001B[41m\u001B[30m O \u001B[0m\u001B[41m\u001B[30m O \u001B[0m\u001B[41m\u001B[30m O \u001B[0m\u001B[41m\u001B[30m O \u001B[0m\u001B[104m\u001B[30m B \u001B[0m\u001B[104m\u001B[30m B \u001B[0m\u001B[104m\u001B[30m B \u001B[0m\u001B[104m\u001B[30m B \u001B[0m\n",
      "\u001B[101m\u001B[30m R \u001B[0m\u001B[101m\u001B[30m R \u001B[0m\u001B[101m\u001B[30m R \u001B[0m\u001B[101m\u001B[30m R \u001B[0m\u001B[42m\u001B[30m G \u001B[0m\u001B[42m\u001B[30m G \u001B[0m\u001B[42m\u001B[30m G \u001B[0m\u001B[42m\u001B[30m G \u001B[0m\u001B[41m\u001B[30m O \u001B[0m\u001B[41m\u001B[30m O \u001B[0m\u001B[41m\u001B[30m O \u001B[0m\u001B[41m\u001B[30m O \u001B[0m\u001B[104m\u001B[30m B \u001B[0m\u001B[104m\u001B[30m B \u001B[0m\u001B[104m\u001B[30m B \u001B[0m\u001B[104m\u001B[30m B \u001B[0m\n",
      "\u001B[101m\u001B[30m R \u001B[0m\u001B[101m\u001B[30m R \u001B[0m\u001B[101m\u001B[30m R \u001B[0m\u001B[101m\u001B[30m R \u001B[0m\u001B[42m\u001B[30m G \u001B[0m\u001B[42m\u001B[30m G \u001B[0m\u001B[42m\u001B[30m G \u001B[0m\u001B[42m\u001B[30m G \u001B[0m\u001B[41m\u001B[30m O \u001B[0m\u001B[41m\u001B[30m O \u001B[0m\u001B[41m\u001B[30m O \u001B[0m\u001B[41m\u001B[30m O \u001B[0m\u001B[104m\u001B[30m B \u001B[0m\u001B[104m\u001B[30m B \u001B[0m\u001B[104m\u001B[30m B \u001B[0m\u001B[104m\u001B[30m B \u001B[0m\n",
      "\u001B[101m\u001B[30m R \u001B[0m\u001B[101m\u001B[30m R \u001B[0m\u001B[101m\u001B[30m R \u001B[0m\u001B[101m\u001B[30m R \u001B[0m\u001B[42m\u001B[30m G \u001B[0m\u001B[42m\u001B[30m G \u001B[0m\u001B[42m\u001B[30m G \u001B[0m\u001B[42m\u001B[30m G \u001B[0m\u001B[41m\u001B[30m O \u001B[0m\u001B[41m\u001B[30m O \u001B[0m\u001B[41m\u001B[30m O \u001B[0m\u001B[41m\u001B[30m O \u001B[0m\u001B[104m\u001B[30m B \u001B[0m\u001B[104m\u001B[30m B \u001B[0m\u001B[104m\u001B[30m B \u001B[0m\u001B[104m\u001B[30m B \u001B[0m\n",
      "            \u001B[107m\u001B[30m W \u001B[0m\u001B[107m\u001B[30m W \u001B[0m\u001B[107m\u001B[30m W \u001B[0m\u001B[107m\u001B[30m W \u001B[0m                        \n",
      "            \u001B[107m\u001B[30m W \u001B[0m\u001B[107m\u001B[30m W \u001B[0m\u001B[107m\u001B[30m W \u001B[0m\u001B[107m\u001B[30m W \u001B[0m                        \n",
      "            \u001B[107m\u001B[30m W \u001B[0m\u001B[107m\u001B[30m W \u001B[0m\u001B[107m\u001B[30m W \u001B[0m\u001B[107m\u001B[30m W \u001B[0m                        \n",
      "            \u001B[107m\u001B[30m W \u001B[0m\u001B[107m\u001B[30m W \u001B[0m\u001B[107m\u001B[30m W \u001B[0m\u001B[107m\u001B[30m W \u001B[0m                        \n",
      "\n",
      "               \u001B[43m\u001B[30m Y \u001B[0m\u001B[43m\u001B[30m Y \u001B[0m\u001B[43m\u001B[30m Y \u001B[0m\u001B[43m\u001B[30m Y \u001B[0m\u001B[43m\u001B[30m Y \u001B[0m                              \n",
      "               \u001B[43m\u001B[30m Y \u001B[0m\u001B[43m\u001B[30m Y \u001B[0m\u001B[43m\u001B[30m Y \u001B[0m\u001B[43m\u001B[30m Y \u001B[0m\u001B[43m\u001B[30m Y \u001B[0m                              \n",
      "               \u001B[43m\u001B[30m Y \u001B[0m\u001B[43m\u001B[30m Y \u001B[0m\u001B[43m\u001B[30m Y \u001B[0m\u001B[43m\u001B[30m Y \u001B[0m\u001B[43m\u001B[30m Y \u001B[0m                              \n",
      "               \u001B[43m\u001B[30m Y \u001B[0m\u001B[43m\u001B[30m Y \u001B[0m\u001B[43m\u001B[30m Y \u001B[0m\u001B[43m\u001B[30m Y \u001B[0m\u001B[43m\u001B[30m Y \u001B[0m                              \n",
      "               \u001B[43m\u001B[30m Y \u001B[0m\u001B[43m\u001B[30m Y \u001B[0m\u001B[43m\u001B[30m Y \u001B[0m\u001B[43m\u001B[30m Y \u001B[0m\u001B[43m\u001B[30m Y \u001B[0m                              \n",
      "\u001B[101m\u001B[30m R \u001B[0m\u001B[101m\u001B[30m R \u001B[0m\u001B[101m\u001B[30m R \u001B[0m\u001B[101m\u001B[30m R \u001B[0m\u001B[101m\u001B[30m R \u001B[0m\u001B[42m\u001B[30m G \u001B[0m\u001B[42m\u001B[30m G \u001B[0m\u001B[42m\u001B[30m G \u001B[0m\u001B[42m\u001B[30m G \u001B[0m\u001B[42m\u001B[30m G \u001B[0m\u001B[41m\u001B[30m O \u001B[0m\u001B[41m\u001B[30m O \u001B[0m\u001B[41m\u001B[30m O \u001B[0m\u001B[41m\u001B[30m O \u001B[0m\u001B[41m\u001B[30m O \u001B[0m\u001B[104m\u001B[30m B \u001B[0m\u001B[104m\u001B[30m B \u001B[0m\u001B[104m\u001B[30m B \u001B[0m\u001B[104m\u001B[30m B \u001B[0m\u001B[104m\u001B[30m B \u001B[0m\n",
      "\u001B[101m\u001B[30m R \u001B[0m\u001B[101m\u001B[30m R \u001B[0m\u001B[101m\u001B[30m R \u001B[0m\u001B[101m\u001B[30m R \u001B[0m\u001B[101m\u001B[30m R \u001B[0m\u001B[42m\u001B[30m G \u001B[0m\u001B[42m\u001B[30m G \u001B[0m\u001B[42m\u001B[30m G \u001B[0m\u001B[42m\u001B[30m G \u001B[0m\u001B[42m\u001B[30m G \u001B[0m\u001B[41m\u001B[30m O \u001B[0m\u001B[41m\u001B[30m O \u001B[0m\u001B[41m\u001B[30m O \u001B[0m\u001B[41m\u001B[30m O \u001B[0m\u001B[41m\u001B[30m O \u001B[0m\u001B[104m\u001B[30m B \u001B[0m\u001B[104m\u001B[30m B \u001B[0m\u001B[104m\u001B[30m B \u001B[0m\u001B[104m\u001B[30m B \u001B[0m\u001B[104m\u001B[30m B \u001B[0m\n",
      "\u001B[101m\u001B[30m R \u001B[0m\u001B[101m\u001B[30m R \u001B[0m\u001B[101m\u001B[30m R \u001B[0m\u001B[101m\u001B[30m R \u001B[0m\u001B[101m\u001B[30m R \u001B[0m\u001B[42m\u001B[30m G \u001B[0m\u001B[42m\u001B[30m G \u001B[0m\u001B[42m\u001B[30m G \u001B[0m\u001B[42m\u001B[30m G \u001B[0m\u001B[42m\u001B[30m G \u001B[0m\u001B[41m\u001B[30m O \u001B[0m\u001B[41m\u001B[30m O \u001B[0m\u001B[41m\u001B[30m O \u001B[0m\u001B[41m\u001B[30m O \u001B[0m\u001B[41m\u001B[30m O \u001B[0m\u001B[104m\u001B[30m B \u001B[0m\u001B[104m\u001B[30m B \u001B[0m\u001B[104m\u001B[30m B \u001B[0m\u001B[104m\u001B[30m B \u001B[0m\u001B[104m\u001B[30m B \u001B[0m\n",
      "\u001B[101m\u001B[30m R \u001B[0m\u001B[101m\u001B[30m R \u001B[0m\u001B[101m\u001B[30m R \u001B[0m\u001B[101m\u001B[30m R \u001B[0m\u001B[101m\u001B[30m R \u001B[0m\u001B[42m\u001B[30m G \u001B[0m\u001B[42m\u001B[30m G \u001B[0m\u001B[42m\u001B[30m G \u001B[0m\u001B[42m\u001B[30m G \u001B[0m\u001B[42m\u001B[30m G \u001B[0m\u001B[41m\u001B[30m O \u001B[0m\u001B[41m\u001B[30m O \u001B[0m\u001B[41m\u001B[30m O \u001B[0m\u001B[41m\u001B[30m O \u001B[0m\u001B[41m\u001B[30m O \u001B[0m\u001B[104m\u001B[30m B \u001B[0m\u001B[104m\u001B[30m B \u001B[0m\u001B[104m\u001B[30m B \u001B[0m\u001B[104m\u001B[30m B \u001B[0m\u001B[104m\u001B[30m B \u001B[0m\n",
      "\u001B[101m\u001B[30m R \u001B[0m\u001B[101m\u001B[30m R \u001B[0m\u001B[101m\u001B[30m R \u001B[0m\u001B[101m\u001B[30m R \u001B[0m\u001B[101m\u001B[30m R \u001B[0m\u001B[42m\u001B[30m G \u001B[0m\u001B[42m\u001B[30m G \u001B[0m\u001B[42m\u001B[30m G \u001B[0m\u001B[42m\u001B[30m G \u001B[0m\u001B[42m\u001B[30m G \u001B[0m\u001B[41m\u001B[30m O \u001B[0m\u001B[41m\u001B[30m O \u001B[0m\u001B[41m\u001B[30m O \u001B[0m\u001B[41m\u001B[30m O \u001B[0m\u001B[41m\u001B[30m O \u001B[0m\u001B[104m\u001B[30m B \u001B[0m\u001B[104m\u001B[30m B \u001B[0m\u001B[104m\u001B[30m B \u001B[0m\u001B[104m\u001B[30m B \u001B[0m\u001B[104m\u001B[30m B \u001B[0m\n",
      "               \u001B[107m\u001B[30m W \u001B[0m\u001B[107m\u001B[30m W \u001B[0m\u001B[107m\u001B[30m W \u001B[0m\u001B[107m\u001B[30m W \u001B[0m\u001B[107m\u001B[30m W \u001B[0m                              \n",
      "               \u001B[107m\u001B[30m W \u001B[0m\u001B[107m\u001B[30m W \u001B[0m\u001B[107m\u001B[30m W \u001B[0m\u001B[107m\u001B[30m W \u001B[0m\u001B[107m\u001B[30m W \u001B[0m                              \n",
      "               \u001B[107m\u001B[30m W \u001B[0m\u001B[107m\u001B[30m W \u001B[0m\u001B[107m\u001B[30m W \u001B[0m\u001B[107m\u001B[30m W \u001B[0m\u001B[107m\u001B[30m W \u001B[0m                              \n",
      "               \u001B[107m\u001B[30m W \u001B[0m\u001B[107m\u001B[30m W \u001B[0m\u001B[107m\u001B[30m W \u001B[0m\u001B[107m\u001B[30m W \u001B[0m\u001B[107m\u001B[30m W \u001B[0m                              \n",
      "               \u001B[107m\u001B[30m W \u001B[0m\u001B[107m\u001B[30m W \u001B[0m\u001B[107m\u001B[30m W \u001B[0m\u001B[107m\u001B[30m W \u001B[0m\u001B[107m\u001B[30m W \u001B[0m                              \n",
      "\n",
      "                  \u001B[43m\u001B[30m Y \u001B[0m\u001B[43m\u001B[30m Y \u001B[0m\u001B[43m\u001B[30m Y \u001B[0m\u001B[43m\u001B[30m Y \u001B[0m\u001B[43m\u001B[30m Y \u001B[0m\u001B[43m\u001B[30m Y \u001B[0m                                    \n",
      "                  \u001B[43m\u001B[30m Y \u001B[0m\u001B[43m\u001B[30m Y \u001B[0m\u001B[43m\u001B[30m Y \u001B[0m\u001B[43m\u001B[30m Y \u001B[0m\u001B[43m\u001B[30m Y \u001B[0m\u001B[43m\u001B[30m Y \u001B[0m                                    \n",
      "                  \u001B[43m\u001B[30m Y \u001B[0m\u001B[43m\u001B[30m Y \u001B[0m\u001B[43m\u001B[30m Y \u001B[0m\u001B[43m\u001B[30m Y \u001B[0m\u001B[43m\u001B[30m Y \u001B[0m\u001B[43m\u001B[30m Y \u001B[0m                                    \n",
      "                  \u001B[43m\u001B[30m Y \u001B[0m\u001B[43m\u001B[30m Y \u001B[0m\u001B[43m\u001B[30m Y \u001B[0m\u001B[43m\u001B[30m Y \u001B[0m\u001B[43m\u001B[30m Y \u001B[0m\u001B[43m\u001B[30m Y \u001B[0m                                    \n",
      "                  \u001B[43m\u001B[30m Y \u001B[0m\u001B[43m\u001B[30m Y \u001B[0m\u001B[43m\u001B[30m Y \u001B[0m\u001B[43m\u001B[30m Y \u001B[0m\u001B[43m\u001B[30m Y \u001B[0m\u001B[43m\u001B[30m Y \u001B[0m                                    \n",
      "                  \u001B[43m\u001B[30m Y \u001B[0m\u001B[43m\u001B[30m Y \u001B[0m\u001B[43m\u001B[30m Y \u001B[0m\u001B[43m\u001B[30m Y \u001B[0m\u001B[43m\u001B[30m Y \u001B[0m\u001B[43m\u001B[30m Y \u001B[0m                                    \n",
      "\u001B[101m\u001B[30m R \u001B[0m\u001B[101m\u001B[30m R \u001B[0m\u001B[101m\u001B[30m R \u001B[0m\u001B[101m\u001B[30m R \u001B[0m\u001B[101m\u001B[30m R \u001B[0m\u001B[101m\u001B[30m R \u001B[0m\u001B[42m\u001B[30m G \u001B[0m\u001B[42m\u001B[30m G \u001B[0m\u001B[42m\u001B[30m G \u001B[0m\u001B[42m\u001B[30m G \u001B[0m\u001B[42m\u001B[30m G \u001B[0m\u001B[42m\u001B[30m G \u001B[0m\u001B[41m\u001B[30m O \u001B[0m\u001B[41m\u001B[30m O \u001B[0m\u001B[41m\u001B[30m O \u001B[0m\u001B[41m\u001B[30m O \u001B[0m\u001B[41m\u001B[30m O \u001B[0m\u001B[41m\u001B[30m O \u001B[0m\u001B[104m\u001B[30m B \u001B[0m\u001B[104m\u001B[30m B \u001B[0m\u001B[104m\u001B[30m B \u001B[0m\u001B[104m\u001B[30m B \u001B[0m\u001B[104m\u001B[30m B \u001B[0m\u001B[104m\u001B[30m B \u001B[0m\n",
      "\u001B[101m\u001B[30m R \u001B[0m\u001B[101m\u001B[30m R \u001B[0m\u001B[101m\u001B[30m R \u001B[0m\u001B[101m\u001B[30m R \u001B[0m\u001B[101m\u001B[30m R \u001B[0m\u001B[101m\u001B[30m R \u001B[0m\u001B[42m\u001B[30m G \u001B[0m\u001B[42m\u001B[30m G \u001B[0m\u001B[42m\u001B[30m G \u001B[0m\u001B[42m\u001B[30m G \u001B[0m\u001B[42m\u001B[30m G \u001B[0m\u001B[42m\u001B[30m G \u001B[0m\u001B[41m\u001B[30m O \u001B[0m\u001B[41m\u001B[30m O \u001B[0m\u001B[41m\u001B[30m O \u001B[0m\u001B[41m\u001B[30m O \u001B[0m\u001B[41m\u001B[30m O \u001B[0m\u001B[41m\u001B[30m O \u001B[0m\u001B[104m\u001B[30m B \u001B[0m\u001B[104m\u001B[30m B \u001B[0m\u001B[104m\u001B[30m B \u001B[0m\u001B[104m\u001B[30m B \u001B[0m\u001B[104m\u001B[30m B \u001B[0m\u001B[104m\u001B[30m B \u001B[0m\n",
      "\u001B[101m\u001B[30m R \u001B[0m\u001B[101m\u001B[30m R \u001B[0m\u001B[101m\u001B[30m R \u001B[0m\u001B[101m\u001B[30m R \u001B[0m\u001B[101m\u001B[30m R \u001B[0m\u001B[101m\u001B[30m R \u001B[0m\u001B[42m\u001B[30m G \u001B[0m\u001B[42m\u001B[30m G \u001B[0m\u001B[42m\u001B[30m G \u001B[0m\u001B[42m\u001B[30m G \u001B[0m\u001B[42m\u001B[30m G \u001B[0m\u001B[42m\u001B[30m G \u001B[0m\u001B[41m\u001B[30m O \u001B[0m\u001B[41m\u001B[30m O \u001B[0m\u001B[41m\u001B[30m O \u001B[0m\u001B[41m\u001B[30m O \u001B[0m\u001B[41m\u001B[30m O \u001B[0m\u001B[41m\u001B[30m O \u001B[0m\u001B[104m\u001B[30m B \u001B[0m\u001B[104m\u001B[30m B \u001B[0m\u001B[104m\u001B[30m B \u001B[0m\u001B[104m\u001B[30m B \u001B[0m\u001B[104m\u001B[30m B \u001B[0m\u001B[104m\u001B[30m B \u001B[0m\n",
      "\u001B[101m\u001B[30m R \u001B[0m\u001B[101m\u001B[30m R \u001B[0m\u001B[101m\u001B[30m R \u001B[0m\u001B[101m\u001B[30m R \u001B[0m\u001B[101m\u001B[30m R \u001B[0m\u001B[101m\u001B[30m R \u001B[0m\u001B[42m\u001B[30m G \u001B[0m\u001B[42m\u001B[30m G \u001B[0m\u001B[42m\u001B[30m G \u001B[0m\u001B[42m\u001B[30m G \u001B[0m\u001B[42m\u001B[30m G \u001B[0m\u001B[42m\u001B[30m G \u001B[0m\u001B[41m\u001B[30m O \u001B[0m\u001B[41m\u001B[30m O \u001B[0m\u001B[41m\u001B[30m O \u001B[0m\u001B[41m\u001B[30m O \u001B[0m\u001B[41m\u001B[30m O \u001B[0m\u001B[41m\u001B[30m O \u001B[0m\u001B[104m\u001B[30m B \u001B[0m\u001B[104m\u001B[30m B \u001B[0m\u001B[104m\u001B[30m B \u001B[0m\u001B[104m\u001B[30m B \u001B[0m\u001B[104m\u001B[30m B \u001B[0m\u001B[104m\u001B[30m B \u001B[0m\n",
      "\u001B[101m\u001B[30m R \u001B[0m\u001B[101m\u001B[30m R \u001B[0m\u001B[101m\u001B[30m R \u001B[0m\u001B[101m\u001B[30m R \u001B[0m\u001B[101m\u001B[30m R \u001B[0m\u001B[101m\u001B[30m R \u001B[0m\u001B[42m\u001B[30m G \u001B[0m\u001B[42m\u001B[30m G \u001B[0m\u001B[42m\u001B[30m G \u001B[0m\u001B[42m\u001B[30m G \u001B[0m\u001B[42m\u001B[30m G \u001B[0m\u001B[42m\u001B[30m G \u001B[0m\u001B[41m\u001B[30m O \u001B[0m\u001B[41m\u001B[30m O \u001B[0m\u001B[41m\u001B[30m O \u001B[0m\u001B[41m\u001B[30m O \u001B[0m\u001B[41m\u001B[30m O \u001B[0m\u001B[41m\u001B[30m O \u001B[0m\u001B[104m\u001B[30m B \u001B[0m\u001B[104m\u001B[30m B \u001B[0m\u001B[104m\u001B[30m B \u001B[0m\u001B[104m\u001B[30m B \u001B[0m\u001B[104m\u001B[30m B \u001B[0m\u001B[104m\u001B[30m B \u001B[0m\n",
      "\u001B[101m\u001B[30m R \u001B[0m\u001B[101m\u001B[30m R \u001B[0m\u001B[101m\u001B[30m R \u001B[0m\u001B[101m\u001B[30m R \u001B[0m\u001B[101m\u001B[30m R \u001B[0m\u001B[101m\u001B[30m R \u001B[0m\u001B[42m\u001B[30m G \u001B[0m\u001B[42m\u001B[30m G \u001B[0m\u001B[42m\u001B[30m G \u001B[0m\u001B[42m\u001B[30m G \u001B[0m\u001B[42m\u001B[30m G \u001B[0m\u001B[42m\u001B[30m G \u001B[0m\u001B[41m\u001B[30m O \u001B[0m\u001B[41m\u001B[30m O \u001B[0m\u001B[41m\u001B[30m O \u001B[0m\u001B[41m\u001B[30m O \u001B[0m\u001B[41m\u001B[30m O \u001B[0m\u001B[41m\u001B[30m O \u001B[0m\u001B[104m\u001B[30m B \u001B[0m\u001B[104m\u001B[30m B \u001B[0m\u001B[104m\u001B[30m B \u001B[0m\u001B[104m\u001B[30m B \u001B[0m\u001B[104m\u001B[30m B \u001B[0m\u001B[104m\u001B[30m B \u001B[0m\n",
      "                  \u001B[107m\u001B[30m W \u001B[0m\u001B[107m\u001B[30m W \u001B[0m\u001B[107m\u001B[30m W \u001B[0m\u001B[107m\u001B[30m W \u001B[0m\u001B[107m\u001B[30m W \u001B[0m\u001B[107m\u001B[30m W \u001B[0m                                    \n",
      "                  \u001B[107m\u001B[30m W \u001B[0m\u001B[107m\u001B[30m W \u001B[0m\u001B[107m\u001B[30m W \u001B[0m\u001B[107m\u001B[30m W \u001B[0m\u001B[107m\u001B[30m W \u001B[0m\u001B[107m\u001B[30m W \u001B[0m                                    \n",
      "                  \u001B[107m\u001B[30m W \u001B[0m\u001B[107m\u001B[30m W \u001B[0m\u001B[107m\u001B[30m W \u001B[0m\u001B[107m\u001B[30m W \u001B[0m\u001B[107m\u001B[30m W \u001B[0m\u001B[107m\u001B[30m W \u001B[0m                                    \n",
      "                  \u001B[107m\u001B[30m W \u001B[0m\u001B[107m\u001B[30m W \u001B[0m\u001B[107m\u001B[30m W \u001B[0m\u001B[107m\u001B[30m W \u001B[0m\u001B[107m\u001B[30m W \u001B[0m\u001B[107m\u001B[30m W \u001B[0m                                    \n",
      "                  \u001B[107m\u001B[30m W \u001B[0m\u001B[107m\u001B[30m W \u001B[0m\u001B[107m\u001B[30m W \u001B[0m\u001B[107m\u001B[30m W \u001B[0m\u001B[107m\u001B[30m W \u001B[0m\u001B[107m\u001B[30m W \u001B[0m                                    \n",
      "                  \u001B[107m\u001B[30m W \u001B[0m\u001B[107m\u001B[30m W \u001B[0m\u001B[107m\u001B[30m W \u001B[0m\u001B[107m\u001B[30m W \u001B[0m\u001B[107m\u001B[30m W \u001B[0m\u001B[107m\u001B[30m W \u001B[0m                                    \n"
     ]
    }
   ],
   "source": [
    "for n in range(2,7):\n",
    "    cube = magiccube.Cube(n)\n",
    "    print_cube(cube)"
   ],
   "metadata": {
    "collapsed": false,
    "ExecuteTime": {
     "end_time": "2023-12-25T02:38:05.190592Z",
     "start_time": "2023-12-25T02:38:05.175167Z"
    }
   },
   "id": "7e8635c37c1572ef",
   "execution_count": 23
  },
  {
   "cell_type": "markdown",
   "source": [
    "<a id=\"5\"></a>\n",
    "# <div style= \"font-family: Cambria; font-weight:bold; letter-spacing: 0px; color:white; font-size:120%; text-align:left;padding:3.0px; background: #6A1B9A; border-bottom: 8px solid #9C27B0\" >SOLVE<br><div> "
   ],
   "metadata": {
    "collapsed": false
   },
   "id": "580cda3cf75e39aa"
  },
  {
   "cell_type": "code",
   "outputs": [
    {
     "data": {
      "text/plain": "('cube_2/2/2',\n {'f0': Permutation(23)(2, 19, 21, 8)(3, 17, 20, 10)(4, 6, 7, 5),\n  'f1': Permutation(0, 18, 23, 9)(1, 16, 22, 11)(12, 13, 15, 14),\n  'r0': Permutation(1, 5, 21, 14)(3, 7, 23, 12)(8, 10, 11, 9),\n  'r1': Permutation(23)(0, 4, 20, 15)(2, 6, 22, 13)(16, 17, 19, 18),\n  'd0': Permutation(6, 18, 14, 10)(7, 19, 15, 11)(20, 22, 23, 21),\n  'd1': Permutation(23)(0, 1, 3, 2)(4, 16, 12, 8)(5, 17, 13, 9)})"
     },
     "execution_count": 24,
     "metadata": {},
     "output_type": "execute_result"
    }
   ],
   "source": [
    "N = 2\n",
    "puzzle_id = 0\n",
    "sol = puzzles.loc[puzzle_id]\n",
    "state = sol['initial_state']\n",
    "solut = sol['solution_state']\n",
    "sub = submission.loc[puzzle_id]\n",
    "allowed_moves = literal_eval(puzzle_info.loc[sol.puzzle_type, 'allowed_moves'])\n",
    "allowed_moves = {k: Permutation(v) for k, v in allowed_moves.items()}\n",
    "sol.puzzle_type,allowed_moves"
   ],
   "metadata": {
    "collapsed": false,
    "ExecuteTime": {
     "end_time": "2023-12-25T02:38:06.746455Z",
     "start_time": "2023-12-25T02:38:06.715081Z"
    }
   },
   "id": "47adab8e6cb0b820",
   "execution_count": 24
  },
  {
   "cell_type": "code",
   "outputs": [
    {
     "name": "stdout",
     "output_type": "stream",
     "text": [
      "D;E;D;A;E;B;A;B;C;A;C;A;D;C;D;F;F;F;E;E;B;F;B;C\n",
      "      \u001B[104m\u001B[30m B \u001B[0m\u001B[101m\u001B[30m R \u001B[0m\n",
      "      \u001B[104m\u001B[30m B \u001B[0m\u001B[43m\u001B[30m Y \u001B[0m\n",
      "\u001B[107m\u001B[30m W \u001B[0m\u001B[107m\u001B[30m W \u001B[0m\u001B[101m\u001B[30m R \u001B[0m\u001B[42m\u001B[30m G \u001B[0m\u001B[41m\u001B[30m O \u001B[0m\u001B[43m\u001B[30m Y \u001B[0m\u001B[104m\u001B[30m B \u001B[0m\u001B[41m\u001B[30m O \u001B[0m\n",
      "\u001B[101m\u001B[30m R \u001B[0m\u001B[101m\u001B[30m R \u001B[0m\u001B[43m\u001B[30m Y \u001B[0m\u001B[42m\u001B[30m G \u001B[0m\u001B[41m\u001B[30m O \u001B[0m\u001B[43m\u001B[30m Y \u001B[0m\u001B[104m\u001B[30m B \u001B[0m\u001B[107m\u001B[30m W \u001B[0m\n",
      "      \u001B[42m\u001B[30m G \u001B[0m\u001B[107m\u001B[30m W \u001B[0m\n",
      "      \u001B[42m\u001B[30m G \u001B[0m\u001B[41m\u001B[30m O \u001B[0m\n",
      " \n",
      "      \u001B[43m\u001B[30m Y \u001B[0m\u001B[43m\u001B[30m Y \u001B[0m\n",
      "      \u001B[43m\u001B[30m Y \u001B[0m\u001B[43m\u001B[30m Y \u001B[0m\n",
      "\u001B[101m\u001B[30m R \u001B[0m\u001B[101m\u001B[30m R \u001B[0m\u001B[42m\u001B[30m G \u001B[0m\u001B[42m\u001B[30m G \u001B[0m\u001B[41m\u001B[30m O \u001B[0m\u001B[41m\u001B[30m O \u001B[0m\u001B[104m\u001B[30m B \u001B[0m\u001B[104m\u001B[30m B \u001B[0m\n",
      "\u001B[101m\u001B[30m R \u001B[0m\u001B[101m\u001B[30m R \u001B[0m\u001B[42m\u001B[30m G \u001B[0m\u001B[42m\u001B[30m G \u001B[0m\u001B[41m\u001B[30m O \u001B[0m\u001B[41m\u001B[30m O \u001B[0m\u001B[104m\u001B[30m B \u001B[0m\u001B[104m\u001B[30m B \u001B[0m\n",
      "      \u001B[107m\u001B[30m W \u001B[0m\u001B[107m\u001B[30m W \u001B[0m\n",
      "      \u001B[107m\u001B[30m W \u001B[0m\u001B[107m\u001B[30m W \u001B[0m\n"
     ]
    }
   ],
   "source": [
    "print(state)\n",
    "assert solut == run_moves(state, allowed_moves, sub.moves)\n",
    "cube2_2d(a2color(state))\n",
    "print(\" \")\n",
    "cube2_2d(a2color(run_moves(state, allowed_moves, sub.moves)))"
   ],
   "metadata": {
    "collapsed": false,
    "ExecuteTime": {
     "end_time": "2023-12-25T02:38:09.151926Z",
     "start_time": "2023-12-25T02:38:09.139330Z"
    }
   },
   "id": "7caa7024e58df815",
   "execution_count": 25
  },
  {
   "cell_type": "code",
   "outputs": [
    {
     "name": "stdout",
     "output_type": "stream",
     "text": [
      "      \u001B[104m\u001B[30m B \u001B[0m\u001B[101m\u001B[30m R \u001B[0m            \n",
      "      \u001B[104m\u001B[30m B \u001B[0m\u001B[43m\u001B[30m Y \u001B[0m            \n",
      "\u001B[107m\u001B[30m W \u001B[0m\u001B[107m\u001B[30m W \u001B[0m\u001B[101m\u001B[30m R \u001B[0m\u001B[42m\u001B[30m G \u001B[0m\u001B[41m\u001B[30m O \u001B[0m\u001B[43m\u001B[30m Y \u001B[0m\u001B[104m\u001B[30m B \u001B[0m\u001B[41m\u001B[30m O \u001B[0m\n",
      "\u001B[101m\u001B[30m R \u001B[0m\u001B[101m\u001B[30m R \u001B[0m\u001B[43m\u001B[30m Y \u001B[0m\u001B[42m\u001B[30m G \u001B[0m\u001B[41m\u001B[30m O \u001B[0m\u001B[43m\u001B[30m Y \u001B[0m\u001B[104m\u001B[30m B \u001B[0m\u001B[107m\u001B[30m W \u001B[0m\n",
      "      \u001B[42m\u001B[30m G \u001B[0m\u001B[107m\u001B[30m W \u001B[0m            \n",
      "      \u001B[42m\u001B[30m G \u001B[0m\u001B[41m\u001B[30m O \u001B[0m            \n",
      "\n",
      "      \u001B[43m\u001B[30m Y \u001B[0m\u001B[43m\u001B[30m Y \u001B[0m            \n",
      "      \u001B[43m\u001B[30m Y \u001B[0m\u001B[43m\u001B[30m Y \u001B[0m            \n",
      "\u001B[101m\u001B[30m R \u001B[0m\u001B[101m\u001B[30m R \u001B[0m\u001B[42m\u001B[30m G \u001B[0m\u001B[42m\u001B[30m G \u001B[0m\u001B[41m\u001B[30m O \u001B[0m\u001B[41m\u001B[30m O \u001B[0m\u001B[104m\u001B[30m B \u001B[0m\u001B[104m\u001B[30m B \u001B[0m\n",
      "\u001B[101m\u001B[30m R \u001B[0m\u001B[101m\u001B[30m R \u001B[0m\u001B[42m\u001B[30m G \u001B[0m\u001B[42m\u001B[30m G \u001B[0m\u001B[41m\u001B[30m O \u001B[0m\u001B[41m\u001B[30m O \u001B[0m\u001B[104m\u001B[30m B \u001B[0m\u001B[104m\u001B[30m B \u001B[0m\n",
      "      \u001B[107m\u001B[30m W \u001B[0m\u001B[107m\u001B[30m W \u001B[0m            \n",
      "      \u001B[107m\u001B[30m W \u001B[0m\u001B[107m\u001B[30m W \u001B[0m            \n"
     ]
    }
   ],
   "source": [
    "cube = magiccube.Cube(N, a2color(swap(state)))\n",
    "print_cube(cube)\n",
    "cube.rotate(convert_moves(sub.moves,N))\n",
    "print_cube(cube)"
   ],
   "metadata": {
    "collapsed": false,
    "ExecuteTime": {
     "end_time": "2023-12-25T02:38:09.662272Z",
     "start_time": "2023-12-25T02:38:09.651569Z"
    }
   },
   "id": "40aa58ae84eaca9d",
   "execution_count": 26
  },
  {
   "cell_type": "code",
   "outputs": [],
   "source": [
    "N = 3\n",
    "puzzle_id = 30\n",
    "sol = puzzles.loc[puzzle_id]\n",
    "state = sol['initial_state']\n",
    "solut = sol['solution_state']\n",
    "sub = submission.loc[puzzle_id]\n",
    "allowed_moves = literal_eval(puzzle_info.loc[sol.puzzle_type, 'allowed_moves'])\n",
    "allowed_moves = {k: Permutation(v) for k, v in allowed_moves.items()}\n",
    "sol.puzzle_type,allowed_moves"
   ],
   "metadata": {
    "collapsed": false
   },
   "id": "f93b54e4a85d3bd9",
   "execution_count": null
  },
  {
   "cell_type": "code",
   "outputs": [
    {
     "data": {
      "text/plain": "'YYROWWOOORYWOOOOBWBGBBGYGWWYRGBRGBGGYGBWBWWYYOBRRYRGRR'"
     },
     "execution_count": 27,
     "metadata": {},
     "output_type": "execute_result"
    }
   ],
   "source": [
    "\n",
    "a2color(swap(state))"
   ],
   "metadata": {
    "collapsed": false,
    "ExecuteTime": {
     "end_time": "2023-12-25T02:38:11.158451Z",
     "start_time": "2023-12-25T02:38:11.150472Z"
    }
   },
   "id": "5dac44196e5941c6",
   "execution_count": 27
  },
  {
   "cell_type": "code",
   "outputs": [
    {
     "name": "stdout",
     "output_type": "stream",
     "text": [
      "    YYR\n",
      "    OWW\n",
      "    OOO\n",
      "RYW OOO OBW BGB\n",
      "BGY GWW YRG BRG\n",
      "BGG YGB WBW WYY\n",
      "    OBR\n",
      "    RYR\n",
      "    GRR\n"
     ]
    },
    {
     "ename": "KeyboardInterrupt",
     "evalue": "",
     "output_type": "error",
     "traceback": [
      "\u001B[0;31m---------------------------------------------------------------------------\u001B[0m",
      "\u001B[0;31mKeyboardInterrupt\u001B[0m                         Traceback (most recent call last)",
      "Cell \u001B[0;32mIn[51], line 58\u001B[0m\n\u001B[1;32m     53\u001B[0m             \u001B[38;5;28;01mbreak\u001B[39;00m\n\u001B[1;32m     57\u001B[0m solve\u001B[38;5;241m.\u001B[39mDEBUG \u001B[38;5;241m=\u001B[39m \u001B[38;5;28;01mFalse\u001B[39;00m\n\u001B[0;32m---> 58\u001B[0m \u001B[43mrun\u001B[49m\u001B[43m(\u001B[49m\u001B[43m)\u001B[49m\n",
      "Cell \u001B[0;32mIn[51], line 33\u001B[0m, in \u001B[0;36mrun\u001B[0;34m()\u001B[0m\n\u001B[1;32m     30\u001B[0m solver \u001B[38;5;241m=\u001B[39m Solver(C)\n\u001B[1;32m     32\u001B[0m start \u001B[38;5;241m=\u001B[39m time\u001B[38;5;241m.\u001B[39mtime()\n\u001B[0;32m---> 33\u001B[0m \u001B[43msolver\u001B[49m\u001B[38;5;241;43m.\u001B[39;49m\u001B[43msolve\u001B[49m\u001B[43m(\u001B[49m\u001B[43m)\u001B[49m\n\u001B[1;32m     34\u001B[0m duration \u001B[38;5;241m=\u001B[39m time\u001B[38;5;241m.\u001B[39mtime() \u001B[38;5;241m-\u001B[39m start\n\u001B[1;32m     36\u001B[0m \u001B[38;5;28;01mif\u001B[39;00m C\u001B[38;5;241m.\u001B[39mis_solved():\n",
      "File \u001B[0;32m~/PycharmProjects/Kaggle/venv/lib/python3.10/site-packages/rubik/solve.py:23\u001B[0m, in \u001B[0;36mSolver.solve\u001B[0;34m(self)\u001B[0m\n\u001B[1;32m     21\u001B[0m \u001B[38;5;28;01mdef\u001B[39;00m \u001B[38;5;21msolve\u001B[39m(\u001B[38;5;28mself\u001B[39m):\n\u001B[1;32m     22\u001B[0m     \u001B[38;5;28;01mif\u001B[39;00m DEBUG: \u001B[38;5;28mprint\u001B[39m(\u001B[38;5;28mself\u001B[39m\u001B[38;5;241m.\u001B[39mcube)\n\u001B[0;32m---> 23\u001B[0m     \u001B[38;5;28;43mself\u001B[39;49m\u001B[38;5;241;43m.\u001B[39;49m\u001B[43mcross\u001B[49m\u001B[43m(\u001B[49m\u001B[43m)\u001B[49m\n\u001B[1;32m     24\u001B[0m     \u001B[38;5;28;01mif\u001B[39;00m DEBUG: \u001B[38;5;28mprint\u001B[39m(\u001B[38;5;124m'\u001B[39m\u001B[38;5;124mCross:\u001B[39m\u001B[38;5;130;01m\\n\u001B[39;00m\u001B[38;5;124m'\u001B[39m, \u001B[38;5;28mself\u001B[39m\u001B[38;5;241m.\u001B[39mcube)\n\u001B[1;32m     25\u001B[0m     \u001B[38;5;28mself\u001B[39m\u001B[38;5;241m.\u001B[39mcross_corners()\n",
      "File \u001B[0;32m~/PycharmProjects/Kaggle/venv/lib/python3.10/site-packages/rubik/solve.py:45\u001B[0m, in \u001B[0;36mSolver.cross\u001B[0;34m(self)\u001B[0m\n\u001B[1;32m     43\u001B[0m \u001B[38;5;28;01mif\u001B[39;00m DEBUG: \u001B[38;5;28mprint\u001B[39m(\u001B[38;5;124m\"\u001B[39m\u001B[38;5;124mcross\u001B[39m\u001B[38;5;124m\"\u001B[39m)\n\u001B[1;32m     44\u001B[0m \u001B[38;5;66;03m# place the UP-LEFT piece\u001B[39;00m\n\u001B[0;32m---> 45\u001B[0m fl_piece \u001B[38;5;241m=\u001B[39m \u001B[38;5;28;43mself\u001B[39;49m\u001B[38;5;241;43m.\u001B[39;49m\u001B[43mcube\u001B[49m\u001B[38;5;241;43m.\u001B[39;49m\u001B[43mfind_piece\u001B[49m\u001B[43m(\u001B[49m\u001B[38;5;28;43mself\u001B[39;49m\u001B[38;5;241;43m.\u001B[39;49m\u001B[43mcube\u001B[49m\u001B[38;5;241;43m.\u001B[39;49m\u001B[43mfront_color\u001B[49m\u001B[43m(\u001B[49m\u001B[43m)\u001B[49m\u001B[43m,\u001B[49m\u001B[43m \u001B[49m\u001B[38;5;28;43mself\u001B[39;49m\u001B[38;5;241;43m.\u001B[39;49m\u001B[43mcube\u001B[49m\u001B[38;5;241;43m.\u001B[39;49m\u001B[43mleft_color\u001B[49m\u001B[43m(\u001B[49m\u001B[43m)\u001B[49m\u001B[43m)\u001B[49m\n\u001B[1;32m     46\u001B[0m fr_piece \u001B[38;5;241m=\u001B[39m \u001B[38;5;28mself\u001B[39m\u001B[38;5;241m.\u001B[39mcube\u001B[38;5;241m.\u001B[39mfind_piece(\u001B[38;5;28mself\u001B[39m\u001B[38;5;241m.\u001B[39mcube\u001B[38;5;241m.\u001B[39mfront_color(), \u001B[38;5;28mself\u001B[39m\u001B[38;5;241m.\u001B[39mcube\u001B[38;5;241m.\u001B[39mright_color())\n\u001B[1;32m     47\u001B[0m fu_piece \u001B[38;5;241m=\u001B[39m \u001B[38;5;28mself\u001B[39m\u001B[38;5;241m.\u001B[39mcube\u001B[38;5;241m.\u001B[39mfind_piece(\u001B[38;5;28mself\u001B[39m\u001B[38;5;241m.\u001B[39mcube\u001B[38;5;241m.\u001B[39mfront_color(), \u001B[38;5;28mself\u001B[39m\u001B[38;5;241m.\u001B[39mcube\u001B[38;5;241m.\u001B[39mup_color())\n",
      "File \u001B[0;32m~/PycharmProjects/Kaggle/venv/lib/python3.10/site-packages/rubik/cube.py:260\u001B[0m, in \u001B[0;36mCube.find_piece\u001B[0;34m(self, *colors)\u001B[0m\n\u001B[1;32m    258\u001B[0m     \u001B[38;5;28;01mreturn\u001B[39;00m\n\u001B[1;32m    259\u001B[0m \u001B[38;5;28;01mfor\u001B[39;00m p \u001B[38;5;129;01min\u001B[39;00m \u001B[38;5;28mself\u001B[39m\u001B[38;5;241m.\u001B[39mpieces:\n\u001B[0;32m--> 260\u001B[0m     \u001B[38;5;28;01mif\u001B[39;00m \u001B[43mp\u001B[49m\u001B[38;5;241m.\u001B[39mcolors\u001B[38;5;241m.\u001B[39mcount(\u001B[38;5;28;01mNone\u001B[39;00m) \u001B[38;5;241m==\u001B[39m \u001B[38;5;241m3\u001B[39m \u001B[38;5;241m-\u001B[39m \u001B[38;5;28mlen\u001B[39m(colors) \\\n\u001B[1;32m    261\u001B[0m         \u001B[38;5;129;01mand\u001B[39;00m \u001B[38;5;28mall\u001B[39m(c \u001B[38;5;129;01min\u001B[39;00m p\u001B[38;5;241m.\u001B[39mcolors \u001B[38;5;28;01mfor\u001B[39;00m c \u001B[38;5;129;01min\u001B[39;00m colors):\n\u001B[1;32m    262\u001B[0m         \u001B[38;5;28;01mreturn\u001B[39;00m p\n",
      "File \u001B[0;32m~/PycharmProjects/Kaggle/venv/lib/python3.10/site-packages/rubik/cube.py:260\u001B[0m, in \u001B[0;36mCube.find_piece\u001B[0;34m(self, *colors)\u001B[0m\n\u001B[1;32m    258\u001B[0m     \u001B[38;5;28;01mreturn\u001B[39;00m\n\u001B[1;32m    259\u001B[0m \u001B[38;5;28;01mfor\u001B[39;00m p \u001B[38;5;129;01min\u001B[39;00m \u001B[38;5;28mself\u001B[39m\u001B[38;5;241m.\u001B[39mpieces:\n\u001B[0;32m--> 260\u001B[0m     \u001B[38;5;28;01mif\u001B[39;00m \u001B[43mp\u001B[49m\u001B[38;5;241m.\u001B[39mcolors\u001B[38;5;241m.\u001B[39mcount(\u001B[38;5;28;01mNone\u001B[39;00m) \u001B[38;5;241m==\u001B[39m \u001B[38;5;241m3\u001B[39m \u001B[38;5;241m-\u001B[39m \u001B[38;5;28mlen\u001B[39m(colors) \\\n\u001B[1;32m    261\u001B[0m         \u001B[38;5;129;01mand\u001B[39;00m \u001B[38;5;28mall\u001B[39m(c \u001B[38;5;129;01min\u001B[39;00m p\u001B[38;5;241m.\u001B[39mcolors \u001B[38;5;28;01mfor\u001B[39;00m c \u001B[38;5;129;01min\u001B[39;00m colors):\n\u001B[1;32m    262\u001B[0m         \u001B[38;5;28;01mreturn\u001B[39;00m p\n",
      "File \u001B[0;32m_pydevd_bundle/pydevd_cython_darwin_310_64.pyx:1187\u001B[0m, in \u001B[0;36m_pydevd_bundle.pydevd_cython_darwin_310_64.SafeCallWrapper.__call__\u001B[0;34m()\u001B[0m\n",
      "File \u001B[0;32m_pydevd_bundle/pydevd_cython_darwin_310_64.pyx:627\u001B[0m, in \u001B[0;36m_pydevd_bundle.pydevd_cython_darwin_310_64.PyDBFrame.trace_dispatch\u001B[0;34m()\u001B[0m\n",
      "File \u001B[0;32m_pydevd_bundle/pydevd_cython_darwin_310_64.pyx:1103\u001B[0m, in \u001B[0;36m_pydevd_bundle.pydevd_cython_darwin_310_64.PyDBFrame.trace_dispatch\u001B[0;34m()\u001B[0m\n",
      "File \u001B[0;32m_pydevd_bundle/pydevd_cython_darwin_310_64.pyx:1065\u001B[0m, in \u001B[0;36m_pydevd_bundle.pydevd_cython_darwin_310_64.PyDBFrame.trace_dispatch\u001B[0;34m()\u001B[0m\n",
      "File \u001B[0;32m_pydevd_bundle/pydevd_cython_darwin_310_64.pyx:585\u001B[0m, in \u001B[0;36m_pydevd_bundle.pydevd_cython_darwin_310_64.PyDBFrame.do_wait_suspend\u001B[0;34m()\u001B[0m\n",
      "File \u001B[0;32m/Applications/PyCharm.app/Contents/plugins/python/helpers/pydev/pydevd.py:1184\u001B[0m, in \u001B[0;36mPyDB.do_wait_suspend\u001B[0;34m(self, thread, frame, event, arg, send_suspend_message, is_unhandled_exception)\u001B[0m\n\u001B[1;32m   1181\u001B[0m         from_this_thread\u001B[38;5;241m.\u001B[39mappend(frame_id)\n\u001B[1;32m   1183\u001B[0m \u001B[38;5;28;01mwith\u001B[39;00m \u001B[38;5;28mself\u001B[39m\u001B[38;5;241m.\u001B[39m_threads_suspended_single_notification\u001B[38;5;241m.\u001B[39mnotify_thread_suspended(thread_id, stop_reason):\n\u001B[0;32m-> 1184\u001B[0m     \u001B[38;5;28;43mself\u001B[39;49m\u001B[38;5;241;43m.\u001B[39;49m\u001B[43m_do_wait_suspend\u001B[49m\u001B[43m(\u001B[49m\u001B[43mthread\u001B[49m\u001B[43m,\u001B[49m\u001B[43m \u001B[49m\u001B[43mframe\u001B[49m\u001B[43m,\u001B[49m\u001B[43m \u001B[49m\u001B[43mevent\u001B[49m\u001B[43m,\u001B[49m\u001B[43m \u001B[49m\u001B[43marg\u001B[49m\u001B[43m,\u001B[49m\u001B[43m \u001B[49m\u001B[43msuspend_type\u001B[49m\u001B[43m,\u001B[49m\u001B[43m \u001B[49m\u001B[43mfrom_this_thread\u001B[49m\u001B[43m)\u001B[49m\n",
      "File \u001B[0;32m/Applications/PyCharm.app/Contents/plugins/python/helpers/pydev/pydevd.py:1199\u001B[0m, in \u001B[0;36mPyDB._do_wait_suspend\u001B[0;34m(self, thread, frame, event, arg, suspend_type, from_this_thread)\u001B[0m\n\u001B[1;32m   1196\u001B[0m             \u001B[38;5;28mself\u001B[39m\u001B[38;5;241m.\u001B[39m_call_mpl_hook()\n\u001B[1;32m   1198\u001B[0m         \u001B[38;5;28mself\u001B[39m\u001B[38;5;241m.\u001B[39mprocess_internal_commands()\n\u001B[0;32m-> 1199\u001B[0m         \u001B[43mtime\u001B[49m\u001B[38;5;241;43m.\u001B[39;49m\u001B[43msleep\u001B[49m\u001B[43m(\u001B[49m\u001B[38;5;241;43m0.01\u001B[39;49m\u001B[43m)\u001B[49m\n\u001B[1;32m   1201\u001B[0m \u001B[38;5;28mself\u001B[39m\u001B[38;5;241m.\u001B[39mcancel_async_evaluation(get_current_thread_id(thread), \u001B[38;5;28mstr\u001B[39m(\u001B[38;5;28mid\u001B[39m(frame)))\n\u001B[1;32m   1203\u001B[0m \u001B[38;5;66;03m# process any stepping instructions\u001B[39;00m\n",
      "\u001B[0;31mKeyboardInterrupt\u001B[0m: "
     ]
    }
   ],
   "source": [
    "import random\n",
    "import time\n",
    "from rubik import solve\n",
    "from rubik.cube import Cube\n",
    "from rubik.solve import Solver\n",
    "from rubik.optimize import optimize_moves\n",
    "\n",
    "INITIAL_CUBE_STR = a2color(swap(state))\n",
    "MOVES = [\"L\", \"R\", \"U\", \"D\", \"F\", \"B\", \"M\", \"E\", \"S\"]\n",
    "\n",
    "\n",
    "def reset_cube():\n",
    "    \"\"\"\n",
    "    :return: A Cube set to its initial state\n",
    "    \"\"\"\n",
    "    a = Cube(INITIAL_CUBE_STR)\n",
    "    return a\n",
    "\n",
    "\n",
    "def run():\n",
    "    successes = 0\n",
    "    failures = 0\n",
    "\n",
    "    avg_opt_moves = 0.0\n",
    "    avg_moves = 0.0\n",
    "    avg_time = 0.0\n",
    "    while True:\n",
    "        C = reset_cube()\n",
    "        print(C)\n",
    "        solver = Solver(C)\n",
    "\n",
    "        start = time.time()\n",
    "        solver.solve()\n",
    "        duration = time.time() - start\n",
    "\n",
    "        if C.is_solved():\n",
    "            opt_moves = optimize_moves(solver.moves)\n",
    "            print(len(opt_moves))\n",
    "            successes += 1\n",
    "            avg_moves = (avg_moves * (successes - 1) + len(solver.moves)) / float(successes)\n",
    "            avg_time = (avg_time * (successes - 1) + duration) / float(successes)\n",
    "            avg_opt_moves = (avg_opt_moves * (successes - 1) + len(opt_moves)) / float(successes)\n",
    "        else:\n",
    "            failures += 1\n",
    "            print(f\"Failed ({successes + failures}): {C.flat_str()}\")\n",
    "\n",
    "        total = successes + failures\n",
    "        if total % 100 == 0:\n",
    "            pass_percentage = 100 * successes / total\n",
    "            print(f\"{total}: {successes} successes ({pass_percentage:0.3f}% passing)\"\n",
    "                  f\" avg_moves={avg_moves:0.3f} avg_opt_moves={avg_opt_moves:0.3f}\"\n",
    "                  f\" avg_time={avg_time:0.3f}s\")\n",
    "            break\n",
    "\n",
    "\n",
    "\n",
    "solve.DEBUG = False\n",
    "run()"
   ],
   "metadata": {
    "collapsed": false,
    "ExecuteTime": {
     "end_time": "2023-12-25T03:03:49.072735Z",
     "start_time": "2023-12-25T03:01:18.951120Z"
    }
   },
   "id": "c0688112d713f1e2",
   "execution_count": 54
  },
  {
   "cell_type": "code",
   "outputs": [
    {
     "data": {
      "text/plain": "'YYROWWOOORYWOOOOBWBGBBGYGWWYRGBRGBGGYGBWBWWYYOBRRYRGRR'"
     },
     "execution_count": 34,
     "metadata": {},
     "output_type": "execute_result"
    }
   ],
   "source": [
    "INITIAL_CUBE_STR"
   ],
   "metadata": {
    "collapsed": false,
    "ExecuteTime": {
     "end_time": "2023-12-25T02:49:10.294889Z",
     "start_time": "2023-12-25T02:49:10.285079Z"
    }
   },
   "id": "8a6f124f5ab428a8",
   "execution_count": 34
  },
  {
   "cell_type": "code",
   "outputs": [
    {
     "name": "stdout",
     "output_type": "stream",
     "text": [
      "    YYR\n",
      "    OWW\n",
      "    OOO\n",
      "RYW OOO OBW BGB\n",
      "BGY GWW YRG BRG\n",
      "BGG YGB WBW WYY\n",
      "    OBR\n",
      "    RYR\n",
      "    GRR\n"
     ]
    }
   ],
   "source": [
    "print(reset_cube())"
   ],
   "metadata": {
    "collapsed": false,
    "ExecuteTime": {
     "end_time": "2023-12-25T02:49:37.764048Z",
     "start_time": "2023-12-25T02:49:37.754618Z"
    }
   },
   "id": "521be0d189533f27",
   "execution_count": 38
  },
  {
   "cell_type": "code",
   "outputs": [
    {
     "data": {
      "text/plain": "<rubik.cube.Piece at 0x14ea05f30>"
     },
     "execution_count": 46,
     "metadata": {},
     "output_type": "execute_result"
    }
   ],
   "source": [
    "C = reset_cube()\n",
    "solver = Solver(C)\n",
    "solver.left_piece\n"
   ],
   "metadata": {
    "collapsed": false,
    "ExecuteTime": {
     "end_time": "2023-12-25T02:54:03.480171Z",
     "start_time": "2023-12-25T02:54:03.469253Z"
    }
   },
   "id": "f8d9dc191c49c98c",
   "execution_count": 46
  },
  {
   "cell_type": "code",
   "outputs": [],
   "source": [
    "solver.cube.find_piece(solver.cube.front_color(), solver.cube.left_color())"
   ],
   "metadata": {
    "collapsed": false,
    "ExecuteTime": {
     "end_time": "2023-12-25T02:52:13.249707Z",
     "start_time": "2023-12-25T02:52:13.238082Z"
    }
   },
   "id": "a38cdfb4df4d28c8",
   "execution_count": 42
  },
  {
   "cell_type": "code",
   "outputs": [
    {
     "data": {
      "text/plain": "'G'"
     },
     "execution_count": 44,
     "metadata": {},
     "output_type": "execute_result"
    }
   ],
   "source": [
    "solver.cube.left_color()"
   ],
   "metadata": {
    "collapsed": false,
    "ExecuteTime": {
     "end_time": "2023-12-25T02:52:53.496405Z",
     "start_time": "2023-12-25T02:52:53.485228Z"
    }
   },
   "id": "9927ab096c9b4a76",
   "execution_count": 44
  },
  {
   "cell_type": "code",
   "outputs": [
    {
     "data": {
      "text/plain": "(<rubik.cube.Piece at 0x14e9ceda0>,\n <rubik.cube.Piece at 0x14e9ce590>,\n <rubik.cube.Piece at 0x14e9cd9f0>,\n <rubik.cube.Piece at 0x14e9cdcf0>,\n <rubik.cube.Piece at 0x14e9cfcd0>,\n <rubik.cube.Piece at 0x14e9cdae0>,\n <rubik.cube.Piece at 0x14e9ceb00>,\n <rubik.cube.Piece at 0x14e9ce410>,\n <rubik.cube.Piece at 0x14e81ceb0>,\n <rubik.cube.Piece at 0x14ea09630>,\n <rubik.cube.Piece at 0x14ea09720>,\n <rubik.cube.Piece at 0x14ea09270>)"
     },
     "execution_count": 48,
     "metadata": {},
     "output_type": "execute_result"
    }
   ],
   "source": [
    "C.edges"
   ],
   "metadata": {
    "collapsed": false,
    "ExecuteTime": {
     "end_time": "2023-12-25T02:55:21.998809Z",
     "start_time": "2023-12-25T02:55:21.987960Z"
    }
   },
   "id": "6e4ebbc631d9a6fb",
   "execution_count": 48
  },
  {
   "cell_type": "code",
   "outputs": [],
   "source": [],
   "metadata": {
    "collapsed": false
   },
   "id": "e5b1292ecd47992e"
  }
 ],
 "metadata": {
  "kernelspec": {
   "display_name": "Python 3",
   "language": "python",
   "name": "python3"
  },
  "language_info": {
   "codemirror_mode": {
    "name": "ipython",
    "version": 2
   },
   "file_extension": ".py",
   "mimetype": "text/x-python",
   "name": "python",
   "nbconvert_exporter": "python",
   "pygments_lexer": "ipython2",
   "version": "2.7.6"
  }
 },
 "nbformat": 4,
 "nbformat_minor": 5
}
