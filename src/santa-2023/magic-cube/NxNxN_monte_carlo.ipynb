{
 "cells": [
  {
   "cell_type": "markdown",
   "source": [
    "# <div style=\"font-family: Cambria; font-weight:bold; letter-spacing: 0px; color:white; font-size:200%; text-align:center;padding:3.0px; background: #6A1B9A; border-bottom: 8px solid #9C27B0\">Santa 2023 - NxNxN Cube Monte Carlo</div>\n",
    "#### <div style= \"font-family: Cambria; font-weight:bold; letter-spacing: 0px; color:white; font-size:150%; text-align:left;padding:3.0px; background: #6A1B9A; border-bottom: 8px solid #9C27B0\" >TABLE OF CONTENTS<br><div>\n",
    "* [IMPORTS](#1)\n",
    "* [LOAD DATA](#2)\n",
    "* [FUNCTIONS](#3)\n",
    "* [SOLVE](#4)\n",
    "\n",
    "Using repo from dwalton76: https://github.com/dwalton76/rubiks-cube-NxNxN-solver/tree/master\n",
    "\n",
    "I want to explore solving the cube after manipulating the initial state of N-labled soltuions. Modifying the initial \n",
    "state may generate a path to the solution"
   ],
   "metadata": {
    "collapsed": false
   },
   "id": "cb27f145f4a21c60"
  },
  {
   "cell_type": "markdown",
   "source": [
    "<a id=\"1\"></a>\n",
    "# <div style= \"font-family: Cambria; font-weight:bold; letter-spacing: 0px; color:white; font-size:120%; text-align:left;padding:3.0px; background: #6A1B9A; border-bottom: 8px solid #9C27B0\" > IMPORTS<br><div> "
   ],
   "metadata": {
    "collapsed": false
   },
   "id": "16cc31f3532a971e"
  },
  {
   "cell_type": "code",
   "outputs": [
    {
     "name": "stdout",
     "output_type": "stream",
     "text": [
      "Current Working Directory:  /Users/seanbearden/PycharmProjects/Kaggle/src/santa-2023/magic-cube/rubiks-cube-NxNxN-solver\n"
     ]
    }
   ],
   "source": [
    "import zipfile\n",
    "import sqlite3\n",
    "import random\n",
    "import pandas as pd\n",
    "import numpy as np\n",
    "\n",
    "import os\n",
    "\n",
    "os.chdir('rubiks-cube-NxNxN-solver')\n",
    "# Print the current working directory\n",
    "print(\"Current Working Directory: \", os.getcwd())\n",
    "\n",
    "database_file = '../../solutions.db'\n",
    "solution_method = \"dwalton76 NxNxN algo\""
   ],
   "metadata": {
    "collapsed": false,
    "ExecuteTime": {
     "end_time": "2023-12-31T17:03:46.797422Z",
     "start_time": "2023-12-31T17:03:46.502603Z"
    }
   },
   "id": "9f4f9b29f3fbe6d1",
   "execution_count": 1
  },
  {
   "cell_type": "markdown",
   "source": [
    "<a id=\"2\"></a>\n",
    "# <div style= \"font-family: Cambria; font-weight:bold; letter-spacing: 0px; color:white; font-size:120%; text-align:left;padding:3.0px; background: #6A1B9A; border-bottom: 8px solid #9C27B0\" >LOAD DATA<br><div> "
   ],
   "metadata": {
    "collapsed": false
   },
   "id": "4ec6c1faceb9c933"
  },
  {
   "cell_type": "code",
   "outputs": [],
   "source": [
    "with zipfile.ZipFile('../../../../res/data/santa-2023.zip', 'r') as z:\n",
    "    \n",
    "    with z.open('puzzle_info.csv') as f:\n",
    "        puzzle_info = pd.read_csv(f, index_col = 'puzzle_type')        \n",
    "                \n",
    "    with z.open('puzzles.csv') as f:\n",
    "        puzzles = pd.read_csv(f, index_col='id')\n",
    "    \n",
    "    with z.open('sample_submission.csv') as f:\n",
    "        submission = pd.read_csv(f)"
   ],
   "metadata": {
    "collapsed": false,
    "ExecuteTime": {
     "end_time": "2023-12-31T17:03:46.924176Z",
     "start_time": "2023-12-31T17:03:46.796072Z"
    }
   },
   "id": "cba80e81c4a78136",
   "execution_count": 2
  },
  {
   "cell_type": "markdown",
   "source": [
    "<a id=\"3\"></a>\n",
    "# <div style= \"font-family: Cambria; font-weight:bold; letter-spacing: 0px; color:white; font-size:120%; text-align:left;padding:3.0px; background: #6A1B9A; border-bottom: 8px solid #9C27B0\" >FUNCTIONS<br><div>\n",
    " "
   ],
   "metadata": {
    "collapsed": false
   },
   "id": "3c749950ebd6005e"
  },
  {
   "cell_type": "code",
   "execution_count": 3,
   "id": "initial_id",
   "metadata": {
    "collapsed": true,
    "ExecuteTime": {
     "end_time": "2023-12-31T17:03:46.925837Z",
     "start_time": "2023-12-31T17:03:46.921638Z"
    }
   },
   "outputs": [],
   "source": [
    "# U = ['U', 'F', 'R', 'B', 'L', 'D']\n",
    "\n",
    "def state2ubl(state):\n",
    "    U_dict = {\n",
    "        'A': 'U',\n",
    "        'B': 'F',\n",
    "        'C': 'R',\n",
    "        'D': 'B',\n",
    "        'E': 'L',\n",
    "        'F': 'D',\n",
    "    }\n",
    "    state_split = state.split(';')\n",
    "    dim = int(np.sqrt(len(state_split) // 6))\n",
    "    dim_2 = dim**2\n",
    "    \n",
    "    s = ''.join([U_dict[f] for f in state_split])\n",
    "    \n",
    "    return s[:dim_2] + s[2*dim_2:3*dim_2] + s[dim_2:2*dim_2] + s[5*dim_2:] + s[4*dim_2:5*dim_2] + s[3*dim_2:4*dim_2]\n"
   ]
  },
  {
   "cell_type": "code",
   "outputs": [],
   "source": [
    "def relabel_NxNxN_N_state(state):\n",
    "    # Split the string into individual elements.\n",
    "    state_list = state.split(';')\n",
    "    \n",
    "    dim = int(np.sqrt(len(state_list) // 6))\n",
    "    dim_2 = dim**2\n",
    "    \n",
    "    if state[0] == 'N':\n",
    "        for i, val in enumerate(state_list):\n",
    "            # Extract the number part from the string like 'N33' -> 33.\n",
    "            num = int(val[1:])\n",
    "            # Replace based on the given criteria.\n",
    "            if 0 <= num < dim_2:\n",
    "                state_list[i] = 'A'\n",
    "            elif dim_2 <= num < 2*dim_2:\n",
    "                state_list[i] = 'B'\n",
    "            elif 2*dim_2 <= num < 3*dim_2:\n",
    "                state_list[i] = 'C'\n",
    "            elif 3*dim_2 <= num < 4*dim_2:\n",
    "                state_list[i] = 'D'\n",
    "            elif 4*dim_2 <= num < 5*dim_2:\n",
    "                state_list[i] = 'E'\n",
    "            elif 5*dim_2 <= num < 6*dim_2:\n",
    "                state_list[i] = 'F'\n",
    "    \n",
    "    return ';'.join(state_list)  "
   ],
   "metadata": {
    "collapsed": false,
    "ExecuteTime": {
     "end_time": "2023-12-31T17:03:46.936344Z",
     "start_time": "2023-12-31T17:03:46.929201Z"
    }
   },
   "id": "ba03e72cb4bddffd",
   "execution_count": 4
  },
  {
   "cell_type": "code",
   "outputs": [],
   "source": [
    "def apply_moves(initial_state, moves, mmoves):\n",
    "    state = initial_state.split(\";\")\n",
    "    for move_name in mmoves.split('.'):\n",
    "        state = [state[i] for i in moves[move_name]]\n",
    "    \n",
    "    return ';'.join(state)\n",
    "\n"
   ],
   "metadata": {
    "collapsed": false,
    "ExecuteTime": {
     "end_time": "2023-12-31T17:03:46.937243Z",
     "start_time": "2023-12-31T17:03:46.933072Z"
    }
   },
   "id": "d2e5f319c3d1ad1b",
   "execution_count": 5
  },
  {
   "cell_type": "code",
   "outputs": [],
   "source": [
    "def sym_rotations(dim, mmoves, new_state, sol_state, num_wildcards, wildcard=False):\n",
    "    I = ['.'.join([f'{j}{i}' for i in range(dim)]) for j in ['r', 'd', 'f']]\n",
    "    manipulations = (\n",
    "            [''] + \n",
    "            I + \n",
    "            [i1 + '.' + i2 for i1 in I for i2 in I] +\n",
    "            [i1 + '.' + i2+ '.' + i3 for i1 in I for i2 in I for i3 in I] +\n",
    "            [i1 + '.' + i2+ '.' + i3 + '.' + i4 for i1 in I for i2 in I for i3 in I for i4 in I]\n",
    "    )\n",
    "    \n",
    "    for rotation in manipulations:\n",
    "        temp_state = new_state\n",
    "        if len(rotation) > 0:\n",
    "            for move in rotation.split('.'):\n",
    "                temp_state = ';'.join(list(np.asarray(temp_state.split(';'))[np.array(moves[move])]))\n",
    "        \n",
    "        if wildcard: \n",
    "            total_correct = np.sum([sol_state[i] == ns for i, ns in enumerate(temp_state.split(';'))])\n",
    "            if total_correct >= 6*(dim**2) - num_wildcards:\n",
    "                print(f'solved id: {id}')\n",
    "                if len(rotation) > 0:\n",
    "                    mmoves += '.' + rotation\n",
    "                break\n",
    "        else:\n",
    "            if temp_state == sol_state:\n",
    "                print(f'solved id: {id}')\n",
    "                if len(rotation) > 0:\n",
    "                    mmoves += '.' + rotation\n",
    "                break\n",
    "                \n",
    "    return temp_state, mmoves"
   ],
   "metadata": {
    "collapsed": false,
    "ExecuteTime": {
     "end_time": "2023-12-31T17:03:46.947387Z",
     "start_time": "2023-12-31T17:03:46.939964Z"
    }
   },
   "id": "f4213a36fc61f1c",
   "execution_count": 6
  },
  {
   "cell_type": "code",
   "outputs": [],
   "source": [
    "def move_translation(dim):\n",
    "    M = {}\n",
    "    M[\"U\"] = f'-d{dim-1}'\n",
    "    M[\"R\"] = \"r0\"\n",
    "    M[\"B\"] = f\"-f{dim-1}\"\n",
    "    M[\"F\"] = \"f0\"\n",
    "    M[\"L\"] = f\"-r{dim-1}\"\n",
    "    M[\"D\"] = \"d0\"\n",
    "    \n",
    "    \n",
    "    I = ['.'.join([f'{j}{i}' for i in range(dim)]) for j in ['r', 'f', 'd']]\n",
    "    for i, j in enumerate(['x', 'y', 'z']):\n",
    "        M[j] = I[i]\n",
    "\n",
    "    if dim > 3:\n",
    "        M[\"Uw\"] = f'-d{dim-2}.-d{dim-1}'\n",
    "        M[\"Rw\"] = f\"r0.r1\"\n",
    "        M[\"Bw\"] = f'-f{dim-2}.-f{dim-1}'\n",
    "        M[\"Fw\"] = f\"f0.f1\"\n",
    "        M[\"Lw\"] = f'-r{dim-2}.-r{dim-1}'\n",
    "        M[\"Dw\"] = f\"d0.d1\"\n",
    "        \n",
    "    if dim >= 6:\n",
    "        M[\"2Uw\"] = f'-d{dim-2}.-d{dim-1}'\n",
    "        M[\"2Rw\"] = f\"r0.r1\"\n",
    "        M[\"2Bw\"] = f'-f{dim-2}.-f{dim-1}'\n",
    "        M[\"2Fw\"] = f\"f0.f1\"\n",
    "        M[\"2Lw\"] = f'-r{dim-2}.-r{dim-1}'\n",
    "        M[\"2Dw\"] = f\"d0.d1\"\n",
    "\n",
    "        width_max = dim // 2\n",
    "        for i in range(3, width_max + 1):\n",
    "            M[f\"{i}Uw\"] = f'-d{dim-i}.' + M[f\"{i-1}Uw\"]\n",
    "            M[f\"{i}Rw\"] = M[f\"{i-1}Rw\"] + f'.r{i-1}'\n",
    "            M[f\"{i}Bw\"] = f'-f{dim-i}.' + M[f\"{i-1}Bw\"]\n",
    "            M[f\"{i}Fw\"] = M[f\"{i-1}Fw\"] + f'.f{i-1}'\n",
    "            M[f\"{i}Lw\"] = f'-r{dim-i}.' + M[f\"{i-1}Lw\"]\n",
    "            M[f\"{i}Dw\"] = M[f\"{i-1}Dw\"] + f'.d{i-1}'\n",
    "\n",
    "\n",
    "    for m in list(M):\n",
    "        M[m+\"2\"] = M[m] + '.' + M[m]\n",
    "        if \"-\" in M[m]:\n",
    "            M[m+\"'\"] = M[m].replace(\"-\",\"\")\n",
    "        else:\n",
    "            M[m+\"'\"] = '.'.join([\"-\"+i for i in M[m].split('.')])\n",
    "    \n",
    "    return M"
   ],
   "metadata": {
    "collapsed": false,
    "ExecuteTime": {
     "end_time": "2023-12-31T17:03:46.953976Z",
     "start_time": "2023-12-31T17:03:46.947464Z"
    }
   },
   "id": "8b1ab47b0ed61c4f",
   "execution_count": 7
  },
  {
   "cell_type": "code",
   "outputs": [],
   "source": [
    "def get_moves(allowed_moves):\n",
    "    moves = eval(allowed_moves)\n",
    "    for move in list(moves):\n",
    "        moves['-'+move] = np.argsort(moves[move]).tolist()\n",
    "    return moves\n",
    "\n",
    "def flip_diag_faces(M):\n",
    "    # flip_diag_faces = \"x' y Rw U Rw' U' F F U Rw U' Rw' F\" # F\"\n",
    "    flip_diag_faces = \"Rw U2 Rw' U2 Rw' F Rw2 U2 Rw' U2 Rw U Rw' F'\"\n",
    "    mm = '.'.join([M[m] for m in flip_diag_faces.split(' ')])\n",
    "    return mm\n",
    "\n",
    "\n",
    "def swap_faces(M):\n",
    "    moves = \"U F2 D Rw U2 Rw' U2 Rw' F Rw2 U2 Rw' U2 Rw U Rw' F' D' F2 U'\"\n",
    "    mm = '.'.join([M[m] for m in moves.split(' ')])\n",
    "    return mm\n",
    "\n",
    "        "
   ],
   "metadata": {
    "collapsed": false,
    "ExecuteTime": {
     "end_time": "2023-12-31T17:03:46.960623Z",
     "start_time": "2023-12-31T17:03:46.952211Z"
    }
   },
   "id": "b0a70c99a7361dbc",
   "execution_count": 8
  },
  {
   "cell_type": "code",
   "outputs": [],
   "source": [
    "def solve(initial_state, solution_state, num_wildcards, moves, verbose=False):\n",
    "    init_state = relabel_NxNxN_N_state(initial_state)\n",
    "    sol_state = relabel_NxNxN_N_state(solution_state)\n",
    "        \n",
    "    # new_moves = random.choices(list(moves.keys()), k=1)\n",
    "    \n",
    "    # init_state = apply_moves(init_state, moves, '.'.join(new_moves))\n",
    "    # print(init_state)\n",
    "    state = state2ubl(init_state)\n",
    "    print(f'Starting {id}')\n",
    "    output = !./rubiks-cube-solver.py --state $state\n",
    "    # return output\n",
    "    sol = None\n",
    "    if output[-1][:9] == 'Solution:':\n",
    "        # print(output[-1])\n",
    "        sol = output[-1].split(': ')[1]\n",
    "    else:\n",
    "        for n in range(1, 21):\n",
    "            if 'Solution:' in output[-n]:\n",
    "                sol = output[-n].split('Solution: ')[1].split('2023-')[0]\n",
    "                break\n",
    "    if sol is None:\n",
    "        print(output[-1])\n",
    "        return output\n",
    "                \n",
    "    mmoves = '.'.join([M[m] for m in sol.split(' ')])\n",
    "    # # new_moves_str = '.'.join(new_moves)\n",
    "    # \n",
    "    # new_state = init_state\n",
    "    # \n",
    "    # original_init = row['initial_state']\n",
    "    # original_sol = row['solution_state'].split(';')\n",
    "    # \n",
    "    # if num_wildcards >= 2:\n",
    "    #     for idx, move in enumerate(mmoves.split('.')):\n",
    "    #         new_state = ';'.join(list(np.asarray(new_state.split(';'))[np.array(moves[move])]))\n",
    "    #         original_init = ';'.join(list(np.asarray(original_init.split(';'))[np.array(moves[move])]))\n",
    "    #         original_init, mmoves = sym_rotations(dim, mmoves, original_init, original_sol, num_wildcards)\n",
    "    #         total_correct = np.sum([original_sol[i] == ns for i, ns in enumerate(original_init.split(';'))])\n",
    "    #         if total_correct >= 6*dim**2 - num_wildcards:\n",
    "    #             print('WILDCARD SOLUTION FOUND')\n",
    "    #             mmoves = '.'.join(mmoves.split('.')[:idx+1])\n",
    "    #             break\n",
    "    #         \n",
    "    # check rotations\n",
    "    \n",
    "    new_state = apply_moves(initial_state, moves, mmoves)\n",
    "    temp_state, mmoves = sym_rotations(dim, mmoves, new_state, solution_state.split(';'), num_wildcards, wildcard=False)\n",
    "\n",
    "    return mmoves, sol"
   ],
   "metadata": {
    "collapsed": false,
    "ExecuteTime": {
     "end_time": "2023-12-31T17:03:46.967243Z",
     "start_time": "2023-12-31T17:03:46.955905Z"
    }
   },
   "id": "dbfa1d3112ad97e2",
   "execution_count": 9
  },
  {
   "cell_type": "markdown",
   "source": [
    "<a id=\"4\"></a>\n",
    "# <div style= \"font-family: Cambria; font-weight:bold; letter-spacing: 0px; color:white; font-size:120%; text-align:left;padding:3.0px; background: #6A1B9A; border-bottom: 8px solid #9C27B0\" >SOLVE<br><div> "
   ],
   "metadata": {
    "collapsed": false
   },
   "id": "2e5d33b72ccc37d9"
  },
  {
   "cell_type": "code",
   "outputs": [
    {
     "name": "stdout",
     "output_type": "stream",
     "text": [
      "Starting 206\n",
      "['N0', 'N1', 'N2', 'N3', 'N4', 'N9', 'N10', 'N7', 'N8', 'N5', 'N6', 'N11', 'N12', 'N13', 'N14', 'N15', 'N16', 'N17', 'N18', 'N19', 'N20', 'N25', 'N21', 'N23', 'N24', 'N26', 'N22', 'N27', 'N28', 'N29', 'N30', 'N31', 'N32', 'N33', 'N34', 'N35', 'N36', 'N38', 'N42', 'N39', 'N40', 'N41', 'N37', 'N43', 'N44', 'N45', 'N46', 'N47', 'N48', 'N49', 'N50', 'N51', 'N52', 'N53', 'N57', 'N55', 'N56', 'N54', 'N58', 'N59', 'N60', 'N61', 'N62', 'N63', 'N64', 'N65', 'N66', 'N67', 'N68', 'N69', 'N74', 'N71', 'N72', 'N73', 'N70', 'N75', 'N76', 'N77', 'N78', 'N79', 'N80', 'N81', 'N82', 'N83', 'N84', 'N89', 'N90', 'N87', 'N88', 'N86', 'N85', 'N91', 'N92', 'N93', 'N94', 'N95']\n",
      "assertion error for 206\n",
      "Starting 206\n",
      "['N0', 'N1', 'N2', 'N3', 'N4', 'N9', 'N10', 'N7', 'N8', 'N6', 'N5', 'N11', 'N12', 'N13', 'N14', 'N15', 'N16', 'N17', 'N18', 'N19', 'N20', 'N25', 'N21', 'N23', 'N24', 'N26', 'N22', 'N27', 'N28', 'N29', 'N30', 'N31', 'N32', 'N33', 'N34', 'N35', 'N36', 'N38', 'N37', 'N39', 'N40', 'N41', 'N42', 'N43', 'N44', 'N45', 'N46', 'N47', 'N48', 'N49', 'N50', 'N51', 'N52', 'N53', 'N58', 'N55', 'N56', 'N54', 'N57', 'N59', 'N60', 'N61', 'N62', 'N63', 'N64', 'N65', 'N66', 'N67', 'N68', 'N74', 'N70', 'N71', 'N72', 'N69', 'N73', 'N75', 'N76', 'N77', 'N78', 'N79', 'N80', 'N81', 'N82', 'N83', 'N84', 'N90', 'N86', 'N87', 'N88', 'N89', 'N85', 'N91', 'N92', 'N93', 'N94', 'N95']\n",
      "assertion error for 206\n",
      "Starting 206\n",
      "['N0', 'N1', 'N2', 'N3', 'N4', 'N9', 'N5', 'N7', 'N8', 'N6', 'N10', 'N11', 'N12', 'N13', 'N14', 'N15', 'N16', 'N17', 'N18', 'N19', 'N20', 'N22', 'N21', 'N23', 'N24', 'N25', 'N26', 'N27', 'N28', 'N29', 'N30', 'N31', 'N32', 'N33', 'N34', 'N35', 'N36', 'N41', 'N42', 'N39', 'N40', 'N38', 'N37', 'N43', 'N44', 'N45', 'N46', 'N47', 'N48', 'N49', 'N50', 'N51', 'N52', 'N57', 'N54', 'N55', 'N56', 'N58', 'N53', 'N59', 'N60', 'N61', 'N62', 'N63', 'N64', 'N65', 'N66', 'N67', 'N68', 'N73', 'N69', 'N71', 'N72', 'N70', 'N74', 'N75', 'N76', 'N77', 'N78', 'N79', 'N80', 'N81', 'N82', 'N83', 'N84', 'N85', 'N89', 'N87', 'N88', 'N90', 'N86', 'N91', 'N92', 'N93', 'N94', 'N95']\n",
      "assertion error for 206\n",
      "Starting 206\n",
      "['N0', 'N1', 'N2', 'N3', 'N4', 'N10', 'N6', 'N7', 'N8', 'N5', 'N9', 'N11', 'N12', 'N13', 'N14', 'N15', 'N16', 'N17', 'N18', 'N19', 'N20', 'N21', 'N25', 'N23', 'N24', 'N26', 'N22', 'N27', 'N28', 'N29', 'N30', 'N31', 'N32', 'N33', 'N34', 'N35', 'N36', 'N37', 'N41', 'N39', 'N40', 'N42', 'N38', 'N43', 'N44', 'N45', 'N46', 'N47', 'N48', 'N49', 'N50', 'N51', 'N52', 'N53', 'N58', 'N55', 'N56', 'N54', 'N57', 'N59', 'N60', 'N61', 'N62', 'N63', 'N64', 'N65', 'N66', 'N67', 'N68', 'N70', 'N74', 'N71', 'N72', 'N69', 'N73', 'N75', 'N76', 'N77', 'N78', 'N79', 'N80', 'N81', 'N82', 'N83', 'N84', 'N86', 'N89', 'N87', 'N88', 'N90', 'N85', 'N91', 'N92', 'N93', 'N94', 'N95']\n",
      "assertion error for 206\n",
      "Starting 206\n",
      "['N0', 'N1', 'N2', 'N3', 'N4', 'N9', 'N5', 'N7', 'N8', 'N10', 'N6', 'N11', 'N12', 'N13', 'N14', 'N15', 'N16', 'N17', 'N18', 'N19', 'N20', 'N21', 'N25', 'N23', 'N24', 'N22', 'N26', 'N27', 'N28', 'N29', 'N30', 'N31', 'N32', 'N33', 'N34', 'N35', 'N36', 'N41', 'N38', 'N39', 'N40', 'N42', 'N37', 'N43', 'N44', 'N45', 'N46', 'N47', 'N48', 'N49', 'N50', 'N51', 'N52', 'N58', 'N53', 'N55', 'N56', 'N54', 'N57', 'N59', 'N60', 'N61', 'N62', 'N63', 'N64', 'N65', 'N66', 'N67', 'N68', 'N74', 'N73', 'N71', 'N72', 'N69', 'N70', 'N75', 'N76', 'N77', 'N78', 'N79', 'N80', 'N81', 'N82', 'N83', 'N84', 'N86', 'N85', 'N87', 'N88', 'N90', 'N89', 'N91', 'N92', 'N93', 'N94', 'N95']\n",
      "assertion error for 206\n",
      "Starting 206\n",
      "['N0', 'N1', 'N2', 'N3', 'N4', 'N6', 'N10', 'N7', 'N8', 'N9', 'N5', 'N11', 'N12', 'N13', 'N14', 'N15', 'N16', 'N17', 'N18', 'N19', 'N20', 'N22', 'N26', 'N23', 'N24', 'N21', 'N25', 'N27', 'N28', 'N29', 'N30', 'N31', 'N32', 'N33', 'N34', 'N35', 'N36', 'N38', 'N41', 'N39', 'N40', 'N42', 'N37', 'N43', 'N44', 'N45', 'N46', 'N47', 'N48', 'N49', 'N50', 'N51', 'N52', 'N58', 'N57', 'N55', 'N56', 'N53', 'N54', 'N59', 'N60', 'N61', 'N62', 'N63', 'N64', 'N65', 'N66', 'N67', 'N68', 'N70', 'N69', 'N71', 'N72', 'N73', 'N74', 'N75', 'N76', 'N77', 'N78', 'N79', 'N80', 'N81', 'N82', 'N83', 'N84', 'N86', 'N85', 'N87', 'N88', 'N90', 'N89', 'N91', 'N92', 'N93', 'N94', 'N95']\n",
      "assertion error for 206\n",
      "Starting 206\n",
      "['N0', 'N1', 'N2', 'N3', 'N4', 'N5', 'N9', 'N7', 'N8', 'N6', 'N10', 'N11', 'N12', 'N13', 'N14', 'N15', 'N16', 'N17', 'N18', 'N19', 'N20', 'N26', 'N25', 'N23', 'N24', 'N21', 'N22', 'N27', 'N28', 'N29', 'N30', 'N31', 'N32', 'N33', 'N34', 'N35', 'N36', 'N42', 'N37', 'N39', 'N40', 'N38', 'N41', 'N43', 'N44', 'N45', 'N46', 'N47', 'N48', 'N49', 'N50', 'N51', 'N52', 'N53', 'N58', 'N55', 'N56', 'N54', 'N57', 'N59', 'N60', 'N61', 'N62', 'N63', 'N64', 'N65', 'N66', 'N67', 'N68', 'N69', 'N73', 'N71', 'N72', 'N70', 'N74', 'N75', 'N76', 'N77', 'N78', 'N79', 'N80', 'N81', 'N82', 'N83', 'N84', 'N85', 'N86', 'N87', 'N88', 'N89', 'N90', 'N91', 'N92', 'N93', 'N94', 'N95']\n",
      "assertion error for 206\n",
      "Starting 206\n",
      "['N0', 'N1', 'N2', 'N3', 'N4', 'N9', 'N6', 'N7', 'N8', 'N5', 'N10', 'N11', 'N12', 'N13', 'N14', 'N15', 'N16', 'N17', 'N18', 'N19', 'N20', 'N26', 'N21', 'N23', 'N24', 'N25', 'N22', 'N27', 'N28', 'N29', 'N30', 'N31', 'N32', 'N33', 'N34', 'N35', 'N36', 'N42', 'N38', 'N39', 'N40', 'N41', 'N37', 'N43', 'N44', 'N45', 'N46', 'N47', 'N48', 'N49', 'N50', 'N51', 'N52', 'N53', 'N57', 'N55', 'N56', 'N54', 'N58', 'N59', 'N60', 'N61', 'N62', 'N63', 'N64', 'N65', 'N66', 'N67', 'N68', 'N74', 'N70', 'N71', 'N72', 'N73', 'N69', 'N75', 'N76', 'N77', 'N78', 'N79', 'N80', 'N81', 'N82', 'N83', 'N84', 'N89', 'N90', 'N87', 'N88', 'N85', 'N86', 'N91', 'N92', 'N93', 'N94', 'N95']\n",
      "assertion error for 206\n",
      "Starting 206\n",
      "['N0', 'N1', 'N2', 'N3', 'N4', 'N10', 'N9', 'N7', 'N8', 'N5', 'N6', 'N11', 'N12', 'N13', 'N14', 'N15', 'N16', 'N17', 'N18', 'N19', 'N20', 'N26', 'N22', 'N23', 'N24', 'N21', 'N25', 'N27', 'N28', 'N29', 'N30', 'N31', 'N32', 'N33', 'N34', 'N35', 'N36', 'N42', 'N37', 'N39', 'N40', 'N41', 'N38', 'N43', 'N44', 'N45', 'N46', 'N47', 'N48', 'N49', 'N50', 'N51', 'N52', 'N57', 'N53', 'N55', 'N56', 'N54', 'N58', 'N59', 'N60', 'N61', 'N62', 'N63', 'N64', 'N65', 'N66', 'N67', 'N68', 'N70', 'N74', 'N71', 'N72', 'N73', 'N69', 'N75', 'N76', 'N77', 'N78', 'N79', 'N80', 'N81', 'N82', 'N83', 'N84', 'N86', 'N90', 'N87', 'N88', 'N85', 'N89', 'N91', 'N92', 'N93', 'N94', 'N95']\n",
      "assertion error for 206\n",
      "Starting 206\n",
      "['N0', 'N1', 'N2', 'N3', 'N4', 'N10', 'N9', 'N7', 'N8', 'N6', 'N5', 'N11', 'N12', 'N13', 'N14', 'N15', 'N16', 'N17', 'N18', 'N19', 'N20', 'N25', 'N22', 'N23', 'N24', 'N21', 'N26', 'N27', 'N28', 'N29', 'N30', 'N31', 'N32', 'N33', 'N34', 'N35', 'N36', 'N37', 'N41', 'N39', 'N40', 'N38', 'N42', 'N43', 'N44', 'N45', 'N46', 'N47', 'N48', 'N49', 'N50', 'N51', 'N52', 'N53', 'N58', 'N55', 'N56', 'N57', 'N54', 'N59', 'N60', 'N61', 'N62', 'N63', 'N64', 'N65', 'N66', 'N67', 'N68', 'N73', 'N69', 'N71', 'N72', 'N70', 'N74', 'N75', 'N76', 'N77', 'N78', 'N79', 'N80', 'N81', 'N82', 'N83', 'N84', 'N85', 'N89', 'N87', 'N88', 'N86', 'N90', 'N91', 'N92', 'N93', 'N94', 'N95']\n",
      "assertion error for 206\n",
      "Starting 206\n",
      "['N0', 'N1', 'N2', 'N3', 'N4', 'N6', 'N10', 'N7', 'N8', 'N5', 'N9', 'N11', 'N12', 'N13', 'N14', 'N15', 'N16', 'N17', 'N18', 'N19', 'N20', 'N21', 'N26', 'N23', 'N24', 'N22', 'N25', 'N27', 'N28', 'N29', 'N30', 'N31', 'N32', 'N33', 'N34', 'N35', 'N36', 'N42', 'N41', 'N39', 'N40', 'N38', 'N37', 'N43', 'N44', 'N45', 'N46', 'N47', 'N48', 'N49', 'N50', 'N51', 'N52', 'N58', 'N54', 'N55', 'N56', 'N53', 'N57', 'N59', 'N60', 'N61', 'N62', 'N63', 'N64', 'N65', 'N66', 'N67', 'N68', 'N69', 'N70', 'N71', 'N72', 'N74', 'N73', 'N75', 'N76', 'N77', 'N78', 'N79', 'N80', 'N81', 'N82', 'N83', 'N84', 'N86', 'N85', 'N87', 'N88', 'N90', 'N89', 'N91', 'N92', 'N93', 'N94', 'N95']\n",
      "assertion error for 206\n",
      "Starting 206\n",
      "['N0', 'N1', 'N2', 'N3', 'N4', 'N10', 'N9', 'N7', 'N8', 'N5', 'N6', 'N11', 'N12', 'N13', 'N14', 'N15', 'N16', 'N17', 'N18', 'N19', 'N20', 'N25', 'N26', 'N23', 'N24', 'N22', 'N21', 'N27', 'N28', 'N29', 'N30', 'N31', 'N32', 'N33', 'N34', 'N35', 'N36', 'N42', 'N37', 'N39', 'N40', 'N38', 'N41', 'N43', 'N44', 'N45', 'N46', 'N47', 'N48', 'N49', 'N50', 'N51', 'N52', 'N53', 'N58', 'N55', 'N56', 'N54', 'N57', 'N59', 'N60', 'N61', 'N62', 'N63', 'N64', 'N65', 'N66', 'N67', 'N68', 'N74', 'N69', 'N71', 'N72', 'N70', 'N73', 'N75', 'N76', 'N77', 'N78', 'N79', 'N80', 'N81', 'N82', 'N83', 'N84', 'N86', 'N89', 'N87', 'N88', 'N85', 'N90', 'N91', 'N92', 'N93', 'N94', 'N95']\n",
      "assertion error for 206\n",
      "Starting 206\n",
      "['N0', 'N1', 'N2', 'N3', 'N4', 'N5', 'N10', 'N7', 'N8', 'N6', 'N9', 'N11', 'N12', 'N13', 'N14', 'N15', 'N16', 'N17', 'N18', 'N19', 'N20', 'N26', 'N22', 'N23', 'N24', 'N21', 'N25', 'N27', 'N28', 'N29', 'N30', 'N31', 'N32', 'N33', 'N34', 'N35', 'N36', 'N41', 'N37', 'N39', 'N40', 'N42', 'N38', 'N43', 'N44', 'N45', 'N46', 'N47', 'N48', 'N49', 'N50', 'N51', 'N52', 'N57', 'N54', 'N55', 'N56', 'N53', 'N58', 'N59', 'N60', 'N61', 'N62', 'N63', 'N64', 'N65', 'N66', 'N67', 'N68', 'N70', 'N69', 'N71', 'N72', 'N73', 'N74', 'N75', 'N76', 'N77', 'N78', 'N79', 'N80', 'N81', 'N82', 'N83', 'N84', 'N90', 'N85', 'N87', 'N88', 'N86', 'N89', 'N91', 'N92', 'N93', 'N94', 'N95']\n",
      "assertion error for 206\n",
      "Starting 206\n",
      "['N0', 'N1', 'N2', 'N3', 'N4', 'N10', 'N9', 'N7', 'N8', 'N5', 'N6', 'N11', 'N12', 'N13', 'N14', 'N15', 'N16', 'N17', 'N18', 'N19', 'N20', 'N22', 'N25', 'N23', 'N24', 'N26', 'N21', 'N27', 'N28', 'N29', 'N30', 'N31', 'N32', 'N33', 'N34', 'N35', 'N36', 'N42', 'N41', 'N39', 'N40', 'N37', 'N38', 'N43', 'N44', 'N45', 'N46', 'N47', 'N48', 'N49', 'N50', 'N51', 'N52', 'N53', 'N57', 'N55', 'N56', 'N54', 'N58', 'N59', 'N60', 'N61', 'N62', 'N63', 'N64', 'N65', 'N66', 'N67', 'N68', 'N69', 'N70', 'N71', 'N72', 'N74', 'N73', 'N75', 'N76', 'N77', 'N78', 'N79', 'N80', 'N81', 'N82', 'N83', 'N84', 'N89', 'N90', 'N87', 'N88', 'N86', 'N85', 'N91', 'N92', 'N93', 'N94', 'N95']\n",
      "assertion error for 206\n",
      "Starting 206\n",
      "['N0', 'N1', 'N2', 'N3', 'N4', 'N6', 'N10', 'N7', 'N8', 'N5', 'N9', 'N11', 'N12', 'N13', 'N14', 'N15', 'N16', 'N17', 'N18', 'N19', 'N20', 'N21', 'N22', 'N23', 'N24', 'N25', 'N26', 'N27', 'N28', 'N29', 'N30', 'N31', 'N32', 'N33', 'N34', 'N35', 'N36', 'N37', 'N41', 'N39', 'N40', 'N38', 'N42', 'N43', 'N44', 'N45', 'N46', 'N47', 'N48', 'N49', 'N50', 'N51', 'N52', 'N54', 'N57', 'N55', 'N56', 'N53', 'N58', 'N59', 'N60', 'N61', 'N62', 'N63', 'N64', 'N65', 'N66', 'N67', 'N68', 'N74', 'N73', 'N71', 'N72', 'N70', 'N69', 'N75', 'N76', 'N77', 'N78', 'N79', 'N80', 'N81', 'N82', 'N83', 'N84', 'N90', 'N85', 'N87', 'N88', 'N89', 'N86', 'N91', 'N92', 'N93', 'N94', 'N95']\n",
      "assertion error for 206\n",
      "Starting 206\n",
      "['N0', 'N1', 'N2', 'N3', 'N4', 'N9', 'N10', 'N7', 'N8', 'N5', 'N6', 'N11', 'N12', 'N13', 'N14', 'N15', 'N16', 'N17', 'N18', 'N19', 'N20', 'N21', 'N26', 'N23', 'N24', 'N22', 'N25', 'N27', 'N28', 'N29', 'N30', 'N31', 'N32', 'N33', 'N34', 'N35', 'N36', 'N42', 'N37', 'N39', 'N40', 'N38', 'N41', 'N43', 'N44', 'N45', 'N46', 'N47', 'N48', 'N49', 'N50', 'N51', 'N52', 'N53', 'N54', 'N55', 'N56', 'N58', 'N57', 'N59', 'N60', 'N61', 'N62', 'N63', 'N64', 'N65', 'N66', 'N67', 'N68', 'N74', 'N73', 'N71', 'N72', 'N69', 'N70', 'N75', 'N76', 'N77', 'N78', 'N79', 'N80', 'N81', 'N82', 'N83', 'N84', 'N85', 'N89', 'N87', 'N88', 'N86', 'N90', 'N91', 'N92', 'N93', 'N94', 'N95']\n",
      "assertion error for 206\n",
      "Starting 206\n",
      "['N0', 'N1', 'N2', 'N3', 'N4', 'N9', 'N5', 'N7', 'N8', 'N10', 'N6', 'N11', 'N12', 'N13', 'N14', 'N15', 'N16', 'N17', 'N18', 'N19', 'N20', 'N21', 'N25', 'N23', 'N24', 'N22', 'N26', 'N27', 'N28', 'N29', 'N30', 'N31', 'N32', 'N33', 'N34', 'N35', 'N36', 'N42', 'N38', 'N39', 'N40', 'N41', 'N37', 'N43', 'N44', 'N45', 'N46', 'N47', 'N48', 'N49', 'N50', 'N51', 'N52', 'N57', 'N54', 'N55', 'N56', 'N58', 'N53', 'N59', 'N60', 'N61', 'N62', 'N63', 'N64', 'N65', 'N66', 'N67', 'N68', 'N73', 'N70', 'N71', 'N72', 'N69', 'N74', 'N75', 'N76', 'N77', 'N78', 'N79', 'N80', 'N81', 'N82', 'N83', 'N84', 'N86', 'N89', 'N87', 'N88', 'N85', 'N90', 'N91', 'N92', 'N93', 'N94', 'N95']\n",
      "assertion error for 206\n",
      "Starting 206\n",
      "['N0', 'N1', 'N2', 'N3', 'N4', 'N10', 'N9', 'N7', 'N8', 'N5', 'N6', 'N11', 'N12', 'N13', 'N14', 'N15', 'N16', 'N17', 'N18', 'N19', 'N20', 'N21', 'N26', 'N23', 'N24', 'N25', 'N22', 'N27', 'N28', 'N29', 'N30', 'N31', 'N32', 'N33', 'N34', 'N35', 'N36', 'N41', 'N42', 'N39', 'N40', 'N37', 'N38', 'N43', 'N44', 'N45', 'N46', 'N47', 'N48', 'N49', 'N50', 'N51', 'N52', 'N58', 'N54', 'N55', 'N56', 'N57', 'N53', 'N59', 'N60', 'N61', 'N62', 'N63', 'N64', 'N65', 'N66', 'N67', 'N68', 'N70', 'N73', 'N71', 'N72', 'N74', 'N69', 'N75', 'N76', 'N77', 'N78', 'N79', 'N80', 'N81', 'N82', 'N83', 'N84', 'N86', 'N85', 'N87', 'N88', 'N90', 'N89', 'N91', 'N92', 'N93', 'N94', 'N95']\n",
      "assertion error for 206\n",
      "Starting 206\n",
      "['N0', 'N1', 'N2', 'N3', 'N4', 'N5', 'N10', 'N7', 'N8', 'N9', 'N6', 'N11', 'N12', 'N13', 'N14', 'N15', 'N16', 'N17', 'N18', 'N19', 'N20', 'N26', 'N22', 'N23', 'N24', 'N21', 'N25', 'N27', 'N28', 'N29', 'N30', 'N31', 'N32', 'N33', 'N34', 'N35', 'N36', 'N38', 'N42', 'N39', 'N40', 'N41', 'N37', 'N43', 'N44', 'N45', 'N46', 'N47', 'N48', 'N49', 'N50', 'N51', 'N52', 'N58', 'N53', 'N55', 'N56', 'N54', 'N57', 'N59', 'N60', 'N61', 'N62', 'N63', 'N64', 'N65', 'N66', 'N67', 'N68', 'N73', 'N74', 'N71', 'N72', 'N69', 'N70', 'N75', 'N76', 'N77', 'N78', 'N79', 'N80', 'N81', 'N82', 'N83', 'N84', 'N90', 'N86', 'N87', 'N88', 'N85', 'N89', 'N91', 'N92', 'N93', 'N94', 'N95']\n",
      "assertion error for 206\n",
      "Starting 206\n",
      "['N0', 'N1', 'N2', 'N3', 'N4', 'N10', 'N6', 'N7', 'N8', 'N5', 'N9', 'N11', 'N12', 'N13', 'N14', 'N15', 'N16', 'N17', 'N18', 'N19', 'N20', 'N25', 'N21', 'N23', 'N24', 'N26', 'N22', 'N27', 'N28', 'N29', 'N30', 'N31', 'N32', 'N33', 'N34', 'N35', 'N36', 'N42', 'N37', 'N39', 'N40', 'N41', 'N38', 'N43', 'N44', 'N45', 'N46', 'N47', 'N48', 'N49', 'N50', 'N51', 'N52', 'N58', 'N57', 'N55', 'N56', 'N53', 'N54', 'N59', 'N60', 'N61', 'N62', 'N63', 'N64', 'N65', 'N66', 'N67', 'N68', 'N70', 'N74', 'N71', 'N72', 'N73', 'N69', 'N75', 'N76', 'N77', 'N78', 'N79', 'N80', 'N81', 'N82', 'N83', 'N84', 'N90', 'N86', 'N87', 'N88', 'N85', 'N89', 'N91', 'N92', 'N93', 'N94', 'N95']\n",
      "assertion error for 206\n",
      "Starting 206\n",
      "['N0', 'N1', 'N2', 'N3', 'N4', 'N5', 'N10', 'N7', 'N8', 'N6', 'N9', 'N11', 'N12', 'N13', 'N14', 'N15', 'N16', 'N17', 'N18', 'N19', 'N20', 'N25', 'N21', 'N23', 'N24', 'N26', 'N22', 'N27', 'N28', 'N29', 'N30', 'N31', 'N32', 'N33', 'N34', 'N35', 'N36', 'N42', 'N41', 'N39', 'N40', 'N37', 'N38', 'N43', 'N44', 'N45', 'N46', 'N47', 'N48', 'N49', 'N50', 'N51', 'N52', 'N58', 'N53', 'N55', 'N56', 'N54', 'N57', 'N59', 'N60', 'N61', 'N62', 'N63', 'N64', 'N65', 'N66', 'N67', 'N68', 'N73', 'N69', 'N71', 'N72', 'N74', 'N70', 'N75', 'N76', 'N77', 'N78', 'N79', 'N80', 'N81', 'N82', 'N83', 'N84', 'N86', 'N89', 'N87', 'N88', 'N85', 'N90', 'N91', 'N92', 'N93', 'N94', 'N95']\n",
      "assertion error for 206\n",
      "Starting 206\n",
      "['N0', 'N1', 'N2', 'N3', 'N4', 'N10', 'N6', 'N7', 'N8', 'N9', 'N5', 'N11', 'N12', 'N13', 'N14', 'N15', 'N16', 'N17', 'N18', 'N19', 'N20', 'N25', 'N22', 'N23', 'N24', 'N21', 'N26', 'N27', 'N28', 'N29', 'N30', 'N31', 'N32', 'N33', 'N34', 'N35', 'N36', 'N38', 'N41', 'N39', 'N40', 'N42', 'N37', 'N43', 'N44', 'N45', 'N46', 'N47', 'N48', 'N49', 'N50', 'N51', 'N52', 'N58', 'N53', 'N55', 'N56', 'N54', 'N57', 'N59', 'N60', 'N61', 'N62', 'N63', 'N64', 'N65', 'N66', 'N67', 'N68', 'N73', 'N69', 'N71', 'N72', 'N70', 'N74', 'N75', 'N76', 'N77', 'N78', 'N79', 'N80', 'N81', 'N82', 'N83', 'N84', 'N85', 'N86', 'N87', 'N88', 'N89', 'N90', 'N91', 'N92', 'N93', 'N94', 'N95']\n",
      "assertion error for 206\n",
      "Starting 206\n",
      "['N0', 'N1', 'N2', 'N3', 'N4', 'N6', 'N9', 'N7', 'N8', 'N10', 'N5', 'N11', 'N12', 'N13', 'N14', 'N15', 'N16', 'N17', 'N18', 'N19', 'N20', 'N26', 'N22', 'N23', 'N24', 'N21', 'N25', 'N27', 'N28', 'N29', 'N30', 'N31', 'N32', 'N33', 'N34', 'N35', 'N36', 'N38', 'N41', 'N39', 'N40', 'N42', 'N37', 'N43', 'N44', 'N45', 'N46', 'N47', 'N48', 'N49', 'N50', 'N51', 'N52', 'N57', 'N53', 'N55', 'N56', 'N54', 'N58', 'N59', 'N60', 'N61', 'N62', 'N63', 'N64', 'N65', 'N66', 'N67', 'N68', 'N69', 'N74', 'N71', 'N72', 'N70', 'N73', 'N75', 'N76', 'N77', 'N78', 'N79', 'N80', 'N81', 'N82', 'N83', 'N84', 'N90', 'N89', 'N87', 'N88', 'N86', 'N85', 'N91', 'N92', 'N93', 'N94', 'N95']\n",
      "assertion error for 206\n",
      "Starting 206\n",
      "['N0', 'N1', 'N2', 'N3', 'N4', 'N10', 'N5', 'N7', 'N8', 'N6', 'N9', 'N11', 'N12', 'N13', 'N14', 'N15', 'N16', 'N17', 'N18', 'N19', 'N20', 'N26', 'N25', 'N23', 'N24', 'N21', 'N22', 'N27', 'N28', 'N29', 'N30', 'N31', 'N32', 'N33', 'N34', 'N35', 'N36', 'N37', 'N42', 'N39', 'N40', 'N41', 'N38', 'N43', 'N44', 'N45', 'N46', 'N47', 'N48', 'N49', 'N50', 'N51', 'N52', 'N53', 'N57', 'N55', 'N56', 'N54', 'N58', 'N59', 'N60', 'N61', 'N62', 'N63', 'N64', 'N65', 'N66', 'N67', 'N68', 'N70', 'N69', 'N71', 'N72', 'N74', 'N73', 'N75', 'N76', 'N77', 'N78', 'N79', 'N80', 'N81', 'N82', 'N83', 'N84', 'N90', 'N89', 'N87', 'N88', 'N86', 'N85', 'N91', 'N92', 'N93', 'N94', 'N95']\n",
      "assertion error for 206\n",
      "Starting 206\n",
      "['N0', 'N1', 'N2', 'N3', 'N4', 'N6', 'N5', 'N7', 'N8', 'N10', 'N9', 'N11', 'N12', 'N13', 'N14', 'N15', 'N16', 'N17', 'N18', 'N19', 'N20', 'N22', 'N21', 'N23', 'N24', 'N25', 'N26', 'N27', 'N28', 'N29', 'N30', 'N31', 'N32', 'N33', 'N34', 'N35', 'N36', 'N42', 'N37', 'N39', 'N40', 'N38', 'N41', 'N43', 'N44', 'N45', 'N46', 'N47', 'N48', 'N49', 'N50', 'N51', 'N52', 'N54', 'N58', 'N55', 'N56', 'N57', 'N53', 'N59', 'N60', 'N61', 'N62', 'N63', 'N64', 'N65', 'N66', 'N67', 'N68', 'N74', 'N73', 'N71', 'N72', 'N69', 'N70', 'N75', 'N76', 'N77', 'N78', 'N79', 'N80', 'N81', 'N82', 'N83', 'N84', 'N89', 'N85', 'N87', 'N88', 'N90', 'N86', 'N91', 'N92', 'N93', 'N94', 'N95']\n",
      "assertion error for 206\n",
      "Starting 206\n",
      "['N0', 'N1', 'N2', 'N3', 'N4', 'N9', 'N6', 'N7', 'N8', 'N5', 'N10', 'N11', 'N12', 'N13', 'N14', 'N15', 'N16', 'N17', 'N18', 'N19', 'N20', 'N22', 'N25', 'N23', 'N24', 'N26', 'N21', 'N27', 'N28', 'N29', 'N30', 'N31', 'N32', 'N33', 'N34', 'N35', 'N36', 'N37', 'N41', 'N39', 'N40', 'N38', 'N42', 'N43', 'N44', 'N45', 'N46', 'N47', 'N48', 'N49', 'N50', 'N51', 'N52', 'N58', 'N53', 'N55', 'N56', 'N54', 'N57', 'N59', 'N60', 'N61', 'N62', 'N63', 'N64', 'N65', 'N66', 'N67', 'N68', 'N73', 'N70', 'N71', 'N72', 'N74', 'N69', 'N75', 'N76', 'N77', 'N78', 'N79', 'N80', 'N81', 'N82', 'N83', 'N84', 'N85', 'N86', 'N87', 'N88', 'N89', 'N90', 'N91', 'N92', 'N93', 'N94', 'N95']\n",
      "assertion error for 206\n",
      "Starting 206\n",
      "['N0', 'N1', 'N2', 'N3', 'N4', 'N10', 'N6', 'N7', 'N8', 'N9', 'N5', 'N11', 'N12', 'N13', 'N14', 'N15', 'N16', 'N17', 'N18', 'N19', 'N20', 'N22', 'N25', 'N23', 'N24', 'N26', 'N21', 'N27', 'N28', 'N29', 'N30', 'N31', 'N32', 'N33', 'N34', 'N35', 'N36', 'N42', 'N37', 'N39', 'N40', 'N41', 'N38', 'N43', 'N44', 'N45', 'N46', 'N47', 'N48', 'N49', 'N50', 'N51', 'N52', 'N53', 'N58', 'N55', 'N56', 'N57', 'N54', 'N59', 'N60', 'N61', 'N62', 'N63', 'N64', 'N65', 'N66', 'N67', 'N68', 'N69', 'N74', 'N71', 'N72', 'N73', 'N70', 'N75', 'N76', 'N77', 'N78', 'N79', 'N80', 'N81', 'N82', 'N83', 'N84', 'N85', 'N90', 'N87', 'N88', 'N86', 'N89', 'N91', 'N92', 'N93', 'N94', 'N95']\n",
      "assertion error for 206\n",
      "Starting 206\n",
      "['N0', 'N1', 'N2', 'N3', 'N4', 'N10', 'N9', 'N7', 'N8', 'N5', 'N6', 'N11', 'N12', 'N13', 'N14', 'N15', 'N16', 'N17', 'N18', 'N19', 'N20', 'N21', 'N22', 'N23', 'N24', 'N26', 'N25', 'N27', 'N28', 'N29', 'N30', 'N31', 'N32', 'N33', 'N34', 'N35', 'N36', 'N42', 'N37', 'N39', 'N40', 'N38', 'N41', 'N43', 'N44', 'N45', 'N46', 'N47', 'N48', 'N49', 'N50', 'N51', 'N52', 'N58', 'N57', 'N55', 'N56', 'N54', 'N53', 'N59', 'N60', 'N61', 'N62', 'N63', 'N64', 'N65', 'N66', 'N67', 'N68', 'N70', 'N74', 'N71', 'N72', 'N73', 'N69', 'N75', 'N76', 'N77', 'N78', 'N79', 'N80', 'N81', 'N82', 'N83', 'N84', 'N90', 'N86', 'N87', 'N88', 'N89', 'N85', 'N91', 'N92', 'N93', 'N94', 'N95']\n",
      "assertion error for 206\n",
      "Starting 206\n",
      "['N0', 'N1', 'N2', 'N3', 'N4', 'N6', 'N10', 'N7', 'N8', 'N5', 'N9', 'N11', 'N12', 'N13', 'N14', 'N15', 'N16', 'N17', 'N18', 'N19', 'N20', 'N25', 'N21', 'N23', 'N24', 'N26', 'N22', 'N27', 'N28', 'N29', 'N30', 'N31', 'N32', 'N33', 'N34', 'N35', 'N36', 'N38', 'N42', 'N39', 'N40', 'N41', 'N37', 'N43', 'N44', 'N45', 'N46', 'N47', 'N48', 'N49', 'N50', 'N51', 'N52', 'N53', 'N57', 'N55', 'N56', 'N58', 'N54', 'N59', 'N60', 'N61', 'N62', 'N63', 'N64', 'N65', 'N66', 'N67', 'N68', 'N73', 'N69', 'N71', 'N72', 'N74', 'N70', 'N75', 'N76', 'N77', 'N78', 'N79', 'N80', 'N81', 'N82', 'N83', 'N84', 'N86', 'N89', 'N87', 'N88', 'N90', 'N85', 'N91', 'N92', 'N93', 'N94', 'N95']\n",
      "assertion error for 206\n",
      "Starting 206\n",
      "['N0', 'N1', 'N2', 'N3', 'N4', 'N9', 'N10', 'N7', 'N8', 'N5', 'N6', 'N11', 'N12', 'N13', 'N14', 'N15', 'N16', 'N17', 'N18', 'N19', 'N20', 'N26', 'N25', 'N23', 'N24', 'N22', 'N21', 'N27', 'N28', 'N29', 'N30', 'N31', 'N32', 'N33', 'N34', 'N35', 'N36', 'N42', 'N38', 'N39', 'N40', 'N37', 'N41', 'N43', 'N44', 'N45', 'N46', 'N47', 'N48', 'N49', 'N50', 'N51', 'N52', 'N58', 'N54', 'N55', 'N56', 'N57', 'N53', 'N59', 'N60', 'N61', 'N62', 'N63', 'N64', 'N65', 'N66', 'N67', 'N68', 'N70', 'N73', 'N71', 'N72', 'N69', 'N74', 'N75', 'N76', 'N77', 'N78', 'N79', 'N80', 'N81', 'N82', 'N83', 'N84', 'N85', 'N89', 'N87', 'N88', 'N86', 'N90', 'N91', 'N92', 'N93', 'N94', 'N95']\n",
      "assertion error for 206\n",
      "Starting 206\n",
      "['N0', 'N1', 'N2', 'N3', 'N4', 'N6', 'N9', 'N7', 'N8', 'N10', 'N5', 'N11', 'N12', 'N13', 'N14', 'N15', 'N16', 'N17', 'N18', 'N19', 'N20', 'N22', 'N25', 'N23', 'N24', 'N26', 'N21', 'N27', 'N28', 'N29', 'N30', 'N31', 'N32', 'N33', 'N34', 'N35', 'N36', 'N37', 'N38', 'N39', 'N40', 'N42', 'N41', 'N43', 'N44', 'N45', 'N46', 'N47', 'N48', 'N49', 'N50', 'N51', 'N52', 'N57', 'N58', 'N55', 'N56', 'N53', 'N54', 'N59', 'N60', 'N61', 'N62', 'N63', 'N64', 'N65', 'N66', 'N67', 'N68', 'N74', 'N70', 'N71', 'N72', 'N69', 'N73', 'N75', 'N76', 'N77', 'N78', 'N79', 'N80', 'N81', 'N82', 'N83', 'N84', 'N86', 'N85', 'N87', 'N88', 'N89', 'N90', 'N91', 'N92', 'N93', 'N94', 'N95']\n",
      "assertion error for 206\n",
      "Starting 206\n",
      "['N0', 'N1', 'N2', 'N3', 'N4', 'N6', 'N5', 'N7', 'N8', 'N10', 'N9', 'N11', 'N12', 'N13', 'N14', 'N15', 'N16', 'N17', 'N18', 'N19', 'N20', 'N22', 'N21', 'N23', 'N24', 'N26', 'N25', 'N27', 'N28', 'N29', 'N30', 'N31', 'N32', 'N33', 'N34', 'N35', 'N36', 'N42', 'N41', 'N39', 'N40', 'N38', 'N37', 'N43', 'N44', 'N45', 'N46', 'N47', 'N48', 'N49', 'N50', 'N51', 'N52', 'N58', 'N57', 'N55', 'N56', 'N54', 'N53', 'N59', 'N60', 'N61', 'N62', 'N63', 'N64', 'N65', 'N66', 'N67', 'N68', 'N70', 'N73', 'N71', 'N72', 'N74', 'N69', 'N75', 'N76', 'N77', 'N78', 'N79', 'N80', 'N81', 'N82', 'N83', 'N84', 'N85', 'N89', 'N87', 'N88', 'N86', 'N90', 'N91', 'N92', 'N93', 'N94', 'N95']\n",
      "assertion error for 206\n",
      "Starting 206\n",
      "['N0', 'N1', 'N2', 'N3', 'N4', 'N10', 'N5', 'N7', 'N8', 'N6', 'N9', 'N11', 'N12', 'N13', 'N14', 'N15', 'N16', 'N17', 'N18', 'N19', 'N20', 'N25', 'N21', 'N23', 'N24', 'N22', 'N26', 'N27', 'N28', 'N29', 'N30', 'N31', 'N32', 'N33', 'N34', 'N35', 'N36', 'N38', 'N42', 'N39', 'N40', 'N37', 'N41', 'N43', 'N44', 'N45', 'N46', 'N47', 'N48', 'N49', 'N50', 'N51', 'N52', 'N57', 'N54', 'N55', 'N56', 'N53', 'N58', 'N59', 'N60', 'N61', 'N62', 'N63', 'N64', 'N65', 'N66', 'N67', 'N68', 'N70', 'N74', 'N71', 'N72', 'N69', 'N73', 'N75', 'N76', 'N77', 'N78', 'N79', 'N80', 'N81', 'N82', 'N83', 'N84', 'N90', 'N89', 'N87', 'N88', 'N86', 'N85', 'N91', 'N92', 'N93', 'N94', 'N95']\n",
      "assertion error for 206\n",
      "Starting 206\n",
      "['N0', 'N1', 'N2', 'N3', 'N4', 'N9', 'N10', 'N7', 'N8', 'N5', 'N6', 'N11', 'N12', 'N13', 'N14', 'N15', 'N16', 'N17', 'N18', 'N19', 'N20', 'N21', 'N22', 'N23', 'N24', 'N26', 'N25', 'N27', 'N28', 'N29', 'N30', 'N31', 'N32', 'N33', 'N34', 'N35', 'N36', 'N38', 'N42', 'N39', 'N40', 'N37', 'N41', 'N43', 'N44', 'N45', 'N46', 'N47', 'N48', 'N49', 'N50', 'N51', 'N52', 'N57', 'N58', 'N55', 'N56', 'N53', 'N54', 'N59', 'N60', 'N61', 'N62', 'N63', 'N64', 'N65', 'N66', 'N67', 'N68', 'N70', 'N73', 'N71', 'N72', 'N74', 'N69', 'N75', 'N76', 'N77', 'N78', 'N79', 'N80', 'N81', 'N82', 'N83', 'N84', 'N85', 'N89', 'N87', 'N88', 'N86', 'N90', 'N91', 'N92', 'N93', 'N94', 'N95']\n",
      "assertion error for 206\n",
      "Starting 206\n",
      "['N0', 'N1', 'N2', 'N3', 'N4', 'N6', 'N5', 'N7', 'N8', 'N9', 'N10', 'N11', 'N12', 'N13', 'N14', 'N15', 'N16', 'N17', 'N18', 'N19', 'N20', 'N22', 'N21', 'N23', 'N24', 'N26', 'N25', 'N27', 'N28', 'N29', 'N30', 'N31', 'N32', 'N33', 'N34', 'N35', 'N36', 'N37', 'N38', 'N39', 'N40', 'N41', 'N42', 'N43', 'N44', 'N45', 'N46', 'N47', 'N48', 'N49', 'N50', 'N51', 'N52', 'N57', 'N53', 'N55', 'N56', 'N54', 'N58', 'N59', 'N60', 'N61', 'N62', 'N63', 'N64', 'N65', 'N66', 'N67', 'N68', 'N74', 'N70', 'N71', 'N72', 'N69', 'N73', 'N75', 'N76', 'N77', 'N78', 'N79', 'N80', 'N81', 'N82', 'N83', 'N84', 'N86', 'N85', 'N87', 'N88', 'N89', 'N90', 'N91', 'N92', 'N93', 'N94', 'N95']\n",
      "assertion error for 206\n",
      "Starting 206\n",
      "['N0', 'N1', 'N2', 'N3', 'N4', 'N6', 'N10', 'N7', 'N8', 'N5', 'N9', 'N11', 'N12', 'N13', 'N14', 'N15', 'N16', 'N17', 'N18', 'N19', 'N20', 'N22', 'N21', 'N23', 'N24', 'N26', 'N25', 'N27', 'N28', 'N29', 'N30', 'N31', 'N32', 'N33', 'N34', 'N35', 'N36', 'N38', 'N37', 'N39', 'N40', 'N42', 'N41', 'N43', 'N44', 'N45', 'N46', 'N47', 'N48', 'N49', 'N50', 'N51', 'N52', 'N53', 'N54', 'N55', 'N56', 'N58', 'N57', 'N59', 'N60', 'N61', 'N62', 'N63', 'N64', 'N65', 'N66', 'N67', 'N68', 'N73', 'N69', 'N71', 'N72', 'N70', 'N74', 'N75', 'N76', 'N77', 'N78', 'N79', 'N80', 'N81', 'N82', 'N83', 'N84', 'N89', 'N85', 'N87', 'N88', 'N86', 'N90', 'N91', 'N92', 'N93', 'N94', 'N95']\n",
      "assertion error for 206\n",
      "Starting 206\n",
      "['N0', 'N1', 'N2', 'N3', 'N4', 'N9', 'N6', 'N7', 'N8', 'N10', 'N5', 'N11', 'N12', 'N13', 'N14', 'N15', 'N16', 'N17', 'N18', 'N19', 'N20', 'N22', 'N25', 'N23', 'N24', 'N26', 'N21', 'N27', 'N28', 'N29', 'N30', 'N31', 'N32', 'N33', 'N34', 'N35', 'N36', 'N42', 'N37', 'N39', 'N40', 'N38', 'N41', 'N43', 'N44', 'N45', 'N46', 'N47', 'N48', 'N49', 'N50', 'N51', 'N52', 'N58', 'N54', 'N55', 'N56', 'N57', 'N53', 'N59', 'N60', 'N61', 'N62', 'N63', 'N64', 'N65', 'N66', 'N67', 'N68', 'N73', 'N74', 'N71', 'N72', 'N70', 'N69', 'N75', 'N76', 'N77', 'N78', 'N79', 'N80', 'N81', 'N82', 'N83', 'N84', 'N89', 'N85', 'N87', 'N88', 'N86', 'N90', 'N91', 'N92', 'N93', 'N94', 'N95']\n",
      "assertion error for 206\n",
      "Starting 206\n",
      "['N0', 'N1', 'N2', 'N3', 'N4', 'N5', 'N6', 'N7', 'N8', 'N10', 'N9', 'N11', 'N12', 'N13', 'N14', 'N15', 'N16', 'N17', 'N18', 'N19', 'N20', 'N22', 'N25', 'N23', 'N24', 'N21', 'N26', 'N27', 'N28', 'N29', 'N30', 'N31', 'N32', 'N33', 'N34', 'N35', 'N36', 'N41', 'N38', 'N39', 'N40', 'N42', 'N37', 'N43', 'N44', 'N45', 'N46', 'N47', 'N48', 'N49', 'N50', 'N51', 'N52', 'N58', 'N57', 'N55', 'N56', 'N53', 'N54', 'N59', 'N60', 'N61', 'N62', 'N63', 'N64', 'N65', 'N66', 'N67', 'N68', 'N69', 'N74', 'N71', 'N72', 'N70', 'N73', 'N75', 'N76', 'N77', 'N78', 'N79', 'N80', 'N81', 'N82', 'N83', 'N84', 'N89', 'N86', 'N87', 'N88', 'N90', 'N85', 'N91', 'N92', 'N93', 'N94', 'N95']\n",
      "assertion error for 206\n",
      "Starting 206\n",
      "['N0', 'N1', 'N2', 'N3', 'N4', 'N10', 'N5', 'N7', 'N8', 'N6', 'N9', 'N11', 'N12', 'N13', 'N14', 'N15', 'N16', 'N17', 'N18', 'N19', 'N20', 'N26', 'N25', 'N23', 'N24', 'N21', 'N22', 'N27', 'N28', 'N29', 'N30', 'N31', 'N32', 'N33', 'N34', 'N35', 'N36', 'N42', 'N37', 'N39', 'N40', 'N38', 'N41', 'N43', 'N44', 'N45', 'N46', 'N47', 'N48', 'N49', 'N50', 'N51', 'N52', 'N58', 'N54', 'N55', 'N56', 'N57', 'N53', 'N59', 'N60', 'N61', 'N62', 'N63', 'N64', 'N65', 'N66', 'N67', 'N68', 'N73', 'N74', 'N71', 'N72', 'N70', 'N69', 'N75', 'N76', 'N77', 'N78', 'N79', 'N80', 'N81', 'N82', 'N83', 'N84', 'N85', 'N86', 'N87', 'N88', 'N90', 'N89', 'N91', 'N92', 'N93', 'N94', 'N95']\n",
      "assertion error for 206\n",
      "Starting 206\n",
      "['N0', 'N1', 'N2', 'N3', 'N4', 'N10', 'N5', 'N7', 'N8', 'N6', 'N9', 'N11', 'N12', 'N13', 'N14', 'N15', 'N16', 'N17', 'N18', 'N19', 'N20', 'N22', 'N25', 'N23', 'N24', 'N26', 'N21', 'N27', 'N28', 'N29', 'N30', 'N31', 'N32', 'N33', 'N34', 'N35', 'N36', 'N42', 'N38', 'N39', 'N40', 'N41', 'N37', 'N43', 'N44', 'N45', 'N46', 'N47', 'N48', 'N49', 'N50', 'N51', 'N52', 'N57', 'N53', 'N55', 'N56', 'N54', 'N58', 'N59', 'N60', 'N61', 'N62', 'N63', 'N64', 'N65', 'N66', 'N67', 'N68', 'N74', 'N73', 'N71', 'N72', 'N70', 'N69', 'N75', 'N76', 'N77', 'N78', 'N79', 'N80', 'N81', 'N82', 'N83', 'N84', 'N90', 'N85', 'N87', 'N88', 'N86', 'N89', 'N91', 'N92', 'N93', 'N94', 'N95']\n",
      "assertion error for 206\n",
      "Starting 206\n",
      "['N0', 'N1', 'N2', 'N3', 'N4', 'N10', 'N9', 'N7', 'N8', 'N6', 'N5', 'N11', 'N12', 'N13', 'N14', 'N15', 'N16', 'N17', 'N18', 'N19', 'N20', 'N25', 'N21', 'N23', 'N24', 'N22', 'N26', 'N27', 'N28', 'N29', 'N30', 'N31', 'N32', 'N33', 'N34', 'N35', 'N36', 'N37', 'N38', 'N39', 'N40', 'N41', 'N42', 'N43', 'N44', 'N45', 'N46', 'N47', 'N48', 'N49', 'N50', 'N51', 'N52', 'N54', 'N58', 'N55', 'N56', 'N53', 'N57', 'N59', 'N60', 'N61', 'N62', 'N63', 'N64', 'N65', 'N66', 'N67', 'N68', 'N69', 'N70', 'N71', 'N72', 'N74', 'N73', 'N75', 'N76', 'N77', 'N78', 'N79', 'N80', 'N81', 'N82', 'N83', 'N84', 'N89', 'N90', 'N87', 'N88', 'N85', 'N86', 'N91', 'N92', 'N93', 'N94', 'N95']\n",
      "assertion error for 206\n",
      "Starting 206\n",
      "['N0', 'N1', 'N2', 'N3', 'N4', 'N10', 'N9', 'N7', 'N8', 'N5', 'N6', 'N11', 'N12', 'N13', 'N14', 'N15', 'N16', 'N17', 'N18', 'N19', 'N20', 'N22', 'N21', 'N23', 'N24', 'N26', 'N25', 'N27', 'N28', 'N29', 'N30', 'N31', 'N32', 'N33', 'N34', 'N35', 'N36', 'N38', 'N37', 'N39', 'N40', 'N42', 'N41', 'N43', 'N44', 'N45', 'N46', 'N47', 'N48', 'N49', 'N50', 'N51', 'N52', 'N57', 'N58', 'N55', 'N56', 'N53', 'N54', 'N59', 'N60', 'N61', 'N62', 'N63', 'N64', 'N65', 'N66', 'N67', 'N68', 'N73', 'N69', 'N71', 'N72', 'N70', 'N74', 'N75', 'N76', 'N77', 'N78', 'N79', 'N80', 'N81', 'N82', 'N83', 'N84', 'N89', 'N85', 'N87', 'N88', 'N90', 'N86', 'N91', 'N92', 'N93', 'N94', 'N95']\n",
      "assertion error for 206\n",
      "Starting 206\n",
      "['N0', 'N1', 'N2', 'N3', 'N4', 'N10', 'N6', 'N7', 'N8', 'N9', 'N5', 'N11', 'N12', 'N13', 'N14', 'N15', 'N16', 'N17', 'N18', 'N19', 'N20', 'N21', 'N25', 'N23', 'N24', 'N26', 'N22', 'N27', 'N28', 'N29', 'N30', 'N31', 'N32', 'N33', 'N34', 'N35', 'N36', 'N42', 'N37', 'N39', 'N40', 'N41', 'N38', 'N43', 'N44', 'N45', 'N46', 'N47', 'N48', 'N49', 'N50', 'N51', 'N52', 'N53', 'N57', 'N55', 'N56', 'N58', 'N54', 'N59', 'N60', 'N61', 'N62', 'N63', 'N64', 'N65', 'N66', 'N67', 'N68', 'N70', 'N74', 'N71', 'N72', 'N69', 'N73', 'N75', 'N76', 'N77', 'N78', 'N79', 'N80', 'N81', 'N82', 'N83', 'N84', 'N85', 'N89', 'N87', 'N88', 'N90', 'N86', 'N91', 'N92', 'N93', 'N94', 'N95']\n",
      "assertion error for 206\n",
      "Starting 206\n",
      "['N0', 'N1', 'N2', 'N3', 'N4', 'N10', 'N5', 'N7', 'N8', 'N6', 'N9', 'N11', 'N12', 'N13', 'N14', 'N15', 'N16', 'N17', 'N18', 'N19', 'N20', 'N26', 'N22', 'N23', 'N24', 'N21', 'N25', 'N27', 'N28', 'N29', 'N30', 'N31', 'N32', 'N33', 'N34', 'N35', 'N36', 'N42', 'N41', 'N39', 'N40', 'N38', 'N37', 'N43', 'N44', 'N45', 'N46', 'N47', 'N48', 'N49', 'N50', 'N51', 'N52', 'N54', 'N58', 'N55', 'N56', 'N57', 'N53', 'N59', 'N60', 'N61', 'N62', 'N63', 'N64', 'N65', 'N66', 'N67', 'N68', 'N69', 'N73', 'N71', 'N72', 'N74', 'N70', 'N75', 'N76', 'N77', 'N78', 'N79', 'N80', 'N81', 'N82', 'N83', 'N84', 'N90', 'N85', 'N87', 'N88', 'N86', 'N89', 'N91', 'N92', 'N93', 'N94', 'N95']\n",
      "assertion error for 206\n",
      "Starting 206\n",
      "['N0', 'N1', 'N2', 'N3', 'N4', 'N5', 'N6', 'N7', 'N8', 'N9', 'N10', 'N11', 'N12', 'N13', 'N14', 'N15', 'N16', 'N17', 'N18', 'N19', 'N20', 'N21', 'N22', 'N23', 'N24', 'N25', 'N26', 'N27', 'N28', 'N29', 'N30', 'N31', 'N32', 'N33', 'N34', 'N35', 'N36', 'N37', 'N38', 'N39', 'N40', 'N41', 'N42', 'N43', 'N44', 'N45', 'N46', 'N47', 'N48', 'N49', 'N50', 'N51', 'N52', 'N53', 'N54', 'N55', 'N56', 'N57', 'N58', 'N59', 'N60', 'N61', 'N62', 'N63', 'N64', 'N65', 'N66', 'N67', 'N68', 'N69', 'N70', 'N71', 'N72', 'N73', 'N74', 'N75', 'N76', 'N77', 'N78', 'N79', 'N80', 'N81', 'N82', 'N83', 'N84', 'N85', 'N86', 'N87', 'N88', 'N89', 'N90', 'N91', 'N92', 'N93', 'N94', 'N95']\n",
      "SOLVED with {}\n"
     ]
    }
   ],
   "source": [
    "# Connect to the SQLite database\n",
    "conn = sqlite3.connect(database_file)\n",
    "cursor = conn.cursor()\n",
    "\n",
    "for id in range(206, 207):\n",
    "    row = puzzles.loc[id]\n",
    "    if row['puzzle_type'][:4] == 'cube' and row['solution_state'][0] == 'N':\n",
    "        dim = int(row['puzzle_type'].split('/')[-1])\n",
    "        moves = get_moves(puzzle_info.loc[row['puzzle_type'], 'allowed_moves'])\n",
    "        M = move_translation(dim)\n",
    "        \n",
    "        # flip_moves = swap_faces(M)\n",
    "        # for i in range(random.randint(0, 9)):\n",
    "        #     if i % 2:\n",
    "        #         flip_moves = f'{flip_moves}.r0.r1.r2.r3'\n",
    "        #     elif i % 3:\n",
    "        #         flip_moves = f'{flip_moves}.d0.d1.d2.d3'\n",
    "        #     else:\n",
    "        #         flip_moves = f'{flip_moves}.f0.f1.f2.f3'\n",
    "        #     flip_moves = f'{flip_moves}.{flip_moves}'\n",
    "        # state = apply_moves(row['initial_state'], moves, flip_moves)\n",
    "        select_query = \"SELECT moves, count FROM solutions WHERE id = ?\"\n",
    "    \n",
    "        # Execute the query\n",
    "        cursor.execute(select_query, (id,))\n",
    "        response = cursor.fetchone()\n",
    "        best_moves = response[0]\n",
    "        best_moves_length = response[1]\n",
    "        \n",
    "        # use known solution to guide N-type solutions\n",
    "        best_moves_list = best_moves.split('.')\n",
    "        for i in range(1, len(best_moves_list)):\n",
    "            if i % 10 != 0:\n",
    "                continue\n",
    "            known_moves = '.'.join(best_moves_list[:i])\n",
    "            # known_moves = f'{known_moves}.r3.f2.-r3.f2.r3.f2.-r3.f2'\n",
    "            state = apply_moves(row['initial_state'], moves, known_moves)\n",
    "            # break\n",
    "            \n",
    "        \n",
    "            init_moves, solver_moves = solve(state, row['solution_state'], row['num_wildcards'], moves, verbose=False) \n",
    "            # init_moves = solve(row['initial_state'], row['solution_state'], row['num_wildcards'], moves, verbose=False) \n",
    "            init_moves = f'{known_moves}.{init_moves}'\n",
    "            # validation\n",
    "            state = row['initial_state'].split(\";\")\n",
    "            # mmoves = f'{new_moves_str}.{mmoves}'\n",
    "            for move_name in init_moves.split('.'):\n",
    "                state = [state[i] for i in moves[move_name]]\n",
    "            \n",
    "            \n",
    "            # while True:\n",
    "            # state = apply_moves(row['initial_state'], moves, mmoves)\n",
    "            print(state)\n",
    "            try:\n",
    "                assert row['solution_state'].split(\";\") == state\n",
    "                print('SOLVED with {}')\n",
    "                # mmoves_length = len(mmoves.split('.'))\n",
    "                \n",
    "                select_query = \"SELECT count FROM solutions WHERE id = ?\"\n",
    "    \n",
    "                # Execute the query\n",
    "                cursor.execute(select_query, (id,))\n",
    "                response = cursor.fetchone()\n",
    "                best_moves_length = response[0]\n",
    "                \n",
    "                # if mmoves_length < best_moves_length:\n",
    "                #     # Insert the moves into the database\n",
    "                #     insert_query = (\"INSERT OR REPLACE INTO solutions (id, moves, count, solution_method) VALUES (?, ?, ?, ?)\")\n",
    "                #     cursor.execute(insert_query, (id, mmoves, mmoves_length, solution_method))\n",
    "                #     conn.commit()\n",
    "                break\n",
    "            except AssertionError:\n",
    "                print(f\"assertion error for {id}\")\n",
    "                # print(state)\n",
    "                # break\n",
    "                # flip_moves = flip_diag_faces(M)\n",
    "                # for _ in range(random.randint(0, 5)):\n",
    "                #     flip_moves = f'{flip_moves}.{flip_moves}'\n",
    "                #     \n",
    "                # init_moves = f'{init_moves}.{flip_moves}'\n",
    "                # state = apply_moves(';'.join(state), moves, flip_moves)\n",
    "                # # for idx, move in enumerate(flip_moves.split('.')):\n",
    "                # #     state = list(np.asarray(state)[np.array(moves[move])])\n",
    "                # \n",
    "                # mmoves, solver_moves = solve(state, row['solution_state'], row['num_wildcards'], moves, verbose=False)\n",
    "                # init_moves = f'{init_moves}.{mmoves}'\n",
    "                # # validation\n",
    "                # state = row['initial_state'].split(\";\")\n",
    "                # # mmoves = f'{new_moves_str}.{mmoves}'\n",
    "                # for move_name in init_moves.split('.'):\n",
    "                #     state = [state[i] for i in moves[move_name]]\n",
    "                # \n",
    "        \n",
    "                \n",
    "\n",
    "# Commit the changes and close the connection\n",
    "conn.commit()\n",
    "conn.close()\n"
   ],
   "metadata": {
    "collapsed": false,
    "ExecuteTime": {
     "end_time": "2023-12-31T17:05:00.582445Z",
     "start_time": "2023-12-31T17:03:46.970500Z"
    }
   },
   "id": "eb38dc28d0e5b28c",
   "execution_count": 10
  },
  {
   "cell_type": "markdown",
   "source": [
    "Run in reverse?\n",
    "Relabel so initial state is solution state...\n",
    "Color is meaningless for N-type problem.\n",
    "label initial state so it looks like a traditional solution...Some freedom to choose color positioning might be helpful\n",
    "use map to color solution state... "
   ],
   "metadata": {
    "collapsed": false
   },
   "id": "e707d05251ebbc15"
  },
  {
   "cell_type": "code",
   "outputs": [],
   "source": [],
   "metadata": {
    "collapsed": false
   },
   "id": "40fc18dff3645787"
  },
  {
   "cell_type": "code",
   "outputs": [
    {
     "data": {
      "text/plain": "457"
     },
     "execution_count": 17,
     "metadata": {},
     "output_type": "execute_result"
    }
   ],
   "source": [
    "i\n",
    "len(init_moves.split('.'))\n",
    "# known_moves\n",
    "# '.'.join(best_moves_list[514:518])"
   ],
   "metadata": {
    "collapsed": false,
    "ExecuteTime": {
     "end_time": "2023-12-31T17:05:22.829287Z",
     "start_time": "2023-12-31T17:05:22.812787Z"
    }
   },
   "id": "6d6177272727a04a",
   "execution_count": 17
  },
  {
   "cell_type": "code",
   "outputs": [
    {
     "data": {
      "text/plain": "'r0.r1.-d3.-d3.r0.r1.r2.r3.r0.r1.-d3.-d3.r0.r1.-d3.-d3.-r0.-r1.-d3.-d3.-r2.-r3.-d3.-d3.-r0.-r1.-d3.-d3.r0.r1.-d3.-d3.-r0.-r1.-d3.-d3.-r0.-r1'"
     },
     "execution_count": 12,
     "metadata": {},
     "output_type": "execute_result"
    }
   ],
   "source": [
    "M['x'] = 'r0.r1.r2.r3'\n",
    "M[\"x'\"] = '-r0.-r1.-r2.-r3'\n",
    "\n",
    "# edge flip\n",
    "sol2 = \"Rw U2 x Rw U2 Rw U2 Rw' U2 Lw U2 Rw' U2 Rw U2 Rw' U2 Rw'\"\n",
    "\n",
    "mm = '.'.join([M[m] for m in sol2.split(' ')])\n",
    "\n",
    "\n",
    "mm"
   ],
   "metadata": {
    "collapsed": false,
    "ExecuteTime": {
     "end_time": "2023-12-31T17:05:00.592932Z",
     "start_time": "2023-12-31T17:05:00.588210Z"
    }
   },
   "id": "47780ac74c79b883",
   "execution_count": 12
  },
  {
   "cell_type": "code",
   "outputs": [
    {
     "name": "stdout",
     "output_type": "stream",
     "text": [
      "['N83', 'N94', 'N82', 'N51', 'N77', 'N89', 'N54', 'N55', 'N24', 'N10', 'N74', 'N29', 'N76', 'N34', 'N1', 'N47']\n",
      "['N0', 'N1', 'N2', 'N3', 'N4', 'N5', 'N6', 'N7', 'N8', 'N9', 'N10', 'N11', 'N12', 'N13', 'N14', 'N15']\n"
     ]
    }
   ],
   "source": [
    "temp = row['initial_state'].split(';')\n",
    "print(temp[0:16])\n",
    "for idx, move in enumerate(init_moves.split('.')):\n",
    "    temp = list(np.asarray(temp)[np.array(moves[move])])\n",
    "print(temp[0:16])"
   ],
   "metadata": {
    "collapsed": false,
    "ExecuteTime": {
     "end_time": "2023-12-31T17:05:00.623327Z",
     "start_time": "2023-12-31T17:05:00.593223Z"
    }
   },
   "id": "6d3afc3c5d5729be",
   "execution_count": 13
  },
  {
   "cell_type": "code",
   "outputs": [
    {
     "data": {
      "text/plain": "'-d3.-f2.-r3.r1.-d3.-d2.r1.-f3.r3.f0.-r2.-r2.r1.r1.-f3.r3.r3.f2.f0.-d1.-f3.r3.d0.-d1.-f3.r3.d0.f0.-d1.-f2.-r3.-d3.-d2.r1.-f3.r3.f0.-r2.-d2.r1.-f3.-d3.-d2.r1.-f3.r3.f0.-r2.-d2.r1.-f3.r3.f2.-d0.-r3.f3.f0.-d1.-f3.r3.d0.-r1.f0.r2.-f1.r2.-r1.-f0.-r2.r1.r1.-f3.r3.r3.f2.-r0.f0.-d2.r1.-f3.r3.f2.r1.r1.-f3.r3.r3.f2.-d1.-f3.r3.d0.-r3.-f3.r3.d0.-d1.-f3.r3.d0.-d3.-f2.-r3.r1.-d3.-d2.r1.-f3.r3.f0.-r2.-d0.-r3.f3.d1.r2.-f1.r3.f2.d3.f3.r2.d3.-f2.r2.-d0.-r3.f3.d1.-f0.-f0.-r2.-f3.-d3.-f2.-r3.-r3.f3.-r1.-r1.r2.f0.r1.-r2.f1.-r2.-f0.r1.-r2.-f3.-d3.-f2.-r3.-f2.-r3.-d3.-d2.r1.-f3.r3.f0.-r2.-d2.r1.-f3.r3.f2.-d3.-f2.-r3.r1.f1.-r2.-f0.r1.-d3.-d2.r1.-f3.r3.f0.-r2.-d2.r1.-f3.r3.f2.d3.-f2.r1.r1.-f3.r3.r3.f2.r2.f0.r1.-r2.-d3.-d2.r1.-f3.r3.f0.-r2.-d2.r1.-f3.r3.f0.-r2.-f0.r2.-r0.f0.r1.-f3.r3.-f0.-r2.-f3.-d3.-f2.-r3.r1.f0.-r0.f0.r1.-f3.r3.f0.r1.-r2.r1.-f1.-r0.f0.-r0.f0.-r3.r1.-f3.r3.-f3.-d3.-d0.-r3.f3.-d1.-f3.r3.d0.-d2.r1.-f3.r3.r2.-r0.f0.r1.-f3.r3.-f2.-r3.-f0.r1.r1.-f3.r3.r3.f2.-d2.r1.-f3.r3.f2.-r0.f0.-d2.r1.-f3.r3.f2.d3.-f2.r2.r2.f0.r1.-r2.f1.-r2.-f0.-r1.-r2.-f3.r3.r3.f2.r2.-r0.f0.r1.-f3.r3.-r2.f2.-d3.r1.r1.-f3.r3.r3.f2.-d1.-f3.r3.d0.-f2.-r3.-r3.f3.-r1.-r1.r2.f0.r1.-r2.f1.-r2.-f0.r1.-d0.-r3.f3.d1.-f0.-f0.-r2.-f3.-d3.-r1.r3.f2.d3.f3.r2.d3.-f2.r2.d3.-f2.r2.-r3.f3.-r1.-f0.r0.-r2.d1.-f0.-d0.-r3.f3.d1.-d0.-r3.f3.d1.-f0.-d0.-r3.f3.d1.r2.-f1.-f2.-r3.-d3.-d2.r1.-f3.r3.f0.-r2.-d2.r1.-f3.r3.f2.-d0.-r3.f3.f1.-r2.-f0.r1.-f1.r2.-r0.f0.r1.-f3.r3.-r2.f2.-d3.f0.-d1.-f3.r3.d0.-r1.f0.r2.-f1.r2.-r1.-f0.-r2.r1.r1.-f3.r3.r3.f2.-r0.f0.-d2.r1.-f3.r3.f2.-f0.-r2.-f3.-d3.-r1.-d3.-f2.-r3.r1.-d3.-d2.r1.-f3.r3.f0.r2.r3.-r2.-r'"
     },
     "execution_count": 14,
     "metadata": {},
     "output_type": "execute_result"
    }
   ],
   "source": [
    "init_moves[:-12]"
   ],
   "metadata": {
    "collapsed": false,
    "ExecuteTime": {
     "end_time": "2023-12-31T17:05:00.624998Z",
     "start_time": "2023-12-31T17:05:00.621184Z"
    }
   },
   "id": "2852f9662336f0de",
   "execution_count": 14
  },
  {
   "cell_type": "code",
   "outputs": [
    {
     "name": "stdout",
     "output_type": "stream",
     "text": [
      "['N5', 'N6']\n",
      "['N9', 'N10']\n",
      "['N10', 'N9']\n",
      "['N6', 'N5']\n"
     ]
    }
   ],
   "source": [
    "temp = state.copy()\n",
    "dim_2 = 4**2\n",
    "face = 0\n",
    "print(state[dim_2 * face + 5:dim_2 * face + 7])\n",
    "print(state[dim_2 * face + 9:dim_2 * face + 11])\n",
    "for idx, move in enumerate(mm.split('.')):\n",
    "    temp = list(np.asarray(temp)[np.array(moves[move])])\n",
    "print(temp[dim_2 * face + 5:dim_2 * face + 7])\n",
    "print(temp[dim_2 * face + 9:dim_2 * face + 11])"
   ],
   "metadata": {
    "collapsed": false,
    "ExecuteTime": {
     "end_time": "2023-12-31T17:05:00.631988Z",
     "start_time": "2023-12-31T17:05:00.628525Z"
    }
   },
   "id": "5f1896d452ede735",
   "execution_count": 15
  },
  {
   "cell_type": "code",
   "outputs": [
    {
     "name": "stdout",
     "output_type": "stream",
     "text": [
      "['N0', 'N1', 'N2', 'N3', 'N11', 'N10', 'N9', 'N8', 'N7', 'N6', 'N5', 'N4', 'N19', 'N18', 'N17', 'N16', 'N15', 'N14', 'N13', 'N12', 'N20', 'N21', 'N22', 'N23', 'N24', 'N25', 'N26', 'N27', 'N28', 'N29', 'N30', 'N31', 'N67', 'N65', 'N66', 'N35', 'N36', 'N41', 'N37', 'N39', 'N40', 'N42', 'N38', 'N43', 'N44', 'N45', 'N46', 'N47', 'N48', 'N49', 'N50', 'N51', 'N52', 'N53', 'N54', 'N55', 'N56', 'N57', 'N58', 'N59', 'N60', 'N61', 'N62', 'N63', 'N64', 'N33', 'N34', 'N32', 'N68', 'N69', 'N70', 'N71', 'N72', 'N73', 'N74', 'N75', 'N76', 'N77', 'N78', 'N79', 'N80', 'N81', 'N82', 'N83', 'N84', 'N85', 'N86', 'N87', 'N88', 'N89', 'N90', 'N91', 'N92', 'N93', 'N94', 'N95']\n"
     ]
    }
   ],
   "source": [
    "print(temp)"
   ],
   "metadata": {
    "collapsed": false,
    "ExecuteTime": {
     "end_time": "2023-12-31T17:05:00.637207Z",
     "start_time": "2023-12-31T17:05:00.631713Z"
    }
   },
   "id": "78f751708e4ff124",
   "execution_count": 16
  },
  {
   "cell_type": "code",
   "outputs": [],
   "source": [],
   "metadata": {
    "collapsed": false,
    "ExecuteTime": {
     "end_time": "2023-12-31T17:05:00.637658Z",
     "start_time": "2023-12-31T17:05:00.634645Z"
    }
   },
   "id": "1c5295abc570156c",
   "execution_count": 16
  }
 ],
 "metadata": {
  "kernelspec": {
   "display_name": "Python 3",
   "language": "python",
   "name": "python3"
  },
  "language_info": {
   "codemirror_mode": {
    "name": "ipython",
    "version": 2
   },
   "file_extension": ".py",
   "mimetype": "text/x-python",
   "name": "python",
   "nbconvert_exporter": "python",
   "pygments_lexer": "ipython2",
   "version": "2.7.6"
  }
 },
 "nbformat": 4,
 "nbformat_minor": 5
}
