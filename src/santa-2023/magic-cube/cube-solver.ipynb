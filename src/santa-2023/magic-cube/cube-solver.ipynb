{
 "cells": [
  {
   "cell_type": "markdown",
   "source": [
    "# <div style=\"font-family: Cambria; font-weight:bold; letter-spacing: 0px; color:white; font-size:200%; text-align:center;padding:3.0px; background: #6A1B9A; border-bottom: 8px solid #9C27B0\">Santa 2023 - https://github.com/tcbegley/cube-solver</div>\n",
    "#### <div style= \"font-family: Cambria; font-weight:bold; letter-spacing: 0px; color:white; font-size:150%; text-align:left;padding:3.0px; background: #6A1B9A; border-bottom: 8px solid #9C27B0\" >TABLE OF CONTENTS<br><div>\n",
    "* [IMPORTS](#1)\n",
    "* [LOAD DATA](#2)\n",
    "* [FUNCTIONS](#3)\n",
    "* [VISUALIZE](#4)\n",
    "* [SOLVE](#5)\n",
    "\n",
    "Code modified from: https://www.kaggle.com/code/paulorzp/magic-cube-utilities/notebook"
   ],
   "metadata": {
    "collapsed": false
   },
   "id": "3f9b3d33a851f8c2"
  },
  {
   "cell_type": "markdown",
   "source": [
    "<a id=\"1\"></a>\n",
    "# <div style= \"font-family: Cambria; font-weight:bold; letter-spacing: 0px; color:white; font-size:120%; text-align:left;padding:3.0px; background: #6A1B9A; border-bottom: 8px solid #9C27B0\" > IMPORTS<br><div> "
   ],
   "metadata": {
    "collapsed": false
   },
   "id": "927a75c9caab4626"
  },
  {
   "cell_type": "markdown",
   "source": [],
   "metadata": {
    "collapsed": false
   },
   "id": "c933e3efbd8d891c"
  },
  {
   "cell_type": "code",
   "outputs": [],
   "source": [
    "import os\n",
    "import time\n",
    "\n",
    "\n",
    "import random\n",
    "from typing import Dict, List\n",
    "import zipfile\n",
    "import sqlite3\n",
    "\n",
    "import magiccube\n",
    "\n",
    "import numpy as np\n",
    "import pandas as pd\n",
    "from enum import Enum\n",
    "from math import sqrt\n",
    "from ast import literal_eval\n",
    "from termcolor import colored\n",
    "from sympy.combinatorics import Permutation\n",
    "\n",
    "from twophase import solve"
   ],
   "metadata": {
    "collapsed": false,
    "ExecuteTime": {
     "end_time": "2023-12-25T03:08:23.583633Z",
     "start_time": "2023-12-25T03:08:22.767369Z"
    }
   },
   "id": "b4a1d9fc3e7d4f99",
   "execution_count": 2
  },
  {
   "cell_type": "code",
   "outputs": [],
   "source": [
    "database_file = '../solutions.db'\n",
    "solution_method = 'cube-solver'\n"
   ],
   "metadata": {
    "collapsed": false,
    "ExecuteTime": {
     "end_time": "2023-12-25T02:35:46.555737Z",
     "start_time": "2023-12-25T02:35:46.546400Z"
    }
   },
   "id": "3389968265ae759",
   "execution_count": 2
  },
  {
   "cell_type": "markdown",
   "source": [
    "<a id=\"2\"></a>\n",
    "# <div style= \"font-family: Cambria; font-weight:bold; letter-spacing: 0px; color:white; font-size:120%; text-align:left;padding:3.0px; background: #6A1B9A; border-bottom: 8px solid #9C27B0\" >LOAD DATA<br><div> "
   ],
   "metadata": {
    "collapsed": false
   },
   "id": "4be3d027b56234bb"
  },
  {
   "cell_type": "code",
   "outputs": [],
   "source": [
    "with zipfile.ZipFile('../../../res/data/santa-2023.zip', 'r') as z:\n",
    "    \n",
    "    with z.open('puzzle_info.csv') as f:\n",
    "        puzzle_info = pd.read_csv(f, index_col = 'puzzle_type')        \n",
    "                \n",
    "    with z.open('puzzles.csv') as f:\n",
    "        puzzles = pd.read_csv(f, index_col = 'id')\n",
    "    \n",
    "    with z.open('sample_submission.csv') as f:\n",
    "        submission = pd.read_csv(f)"
   ],
   "metadata": {
    "collapsed": false,
    "ExecuteTime": {
     "end_time": "2023-12-25T03:09:20.655632Z",
     "start_time": "2023-12-25T03:09:20.548410Z"
    }
   },
   "id": "42e6380d8e779c22",
   "execution_count": 11
  },
  {
   "cell_type": "markdown",
   "source": [
    "<a id=\"3\"></a>\n",
    "# <div style= \"font-family: Cambria; font-weight:bold; letter-spacing: 0px; color:white; font-size:120%; text-align:left;padding:3.0px; background: #6A1B9A; border-bottom: 8px solid #9C27B0\" >FUNCTIONS<br><div> "
   ],
   "metadata": {
    "collapsed": false
   },
   "id": "9784e86482d58ff4"
  },
  {
   "cell_type": "code",
   "outputs": [],
   "source": [
    "tb = [['A','y','u'],\n",
    "      ['B','g','f'],\n",
    "      ['C','o','r'],\n",
    "      ['D','b','b'],\n",
    "      ['E','r','l'],\n",
    "      ['F','w','d']]\n",
    "\n",
    "# tb = [['A','y','u'],\n",
    "#       ['B','g','r'],\n",
    "#       ['C','o','f'],\n",
    "#       ['D','b','d'],\n",
    "#       ['E','r','l'],\n",
    "#       ['F','w','b']]\n",
    "\n",
    "def a2color(state):\n",
    "    for c in tb:\n",
    "        state = state.replace(c[0],c[1])\n",
    "    return state.upper().replace(\";\",\"\")\n",
    "\n",
    "def a2face(state):\n",
    "    for c in tb:\n",
    "        state = state.replace(c[0],c[2])\n",
    "    return state.upper().replace(\";\",\"\")\n",
    "\n",
    "def color2a(state):\n",
    "    for c in tb:\n",
    "        state = state.replace(c[1],c[0])\n",
    "    return state.upper().replace(\";\",\"\")\n",
    "\n",
    "def face2a(state):\n",
    "    for c in tb:\n",
    "        state = state.replace(c[2],c[0])\n",
    "    return state.upper().replace(\";\",\"\")"
   ],
   "metadata": {
    "collapsed": false,
    "ExecuteTime": {
     "end_time": "2023-12-25T05:24:28.214440Z",
     "start_time": "2023-12-25T05:24:28.167419Z"
    }
   },
   "id": "87cc688dfa4b7b1d",
   "execution_count": 69
  },
  {
   "cell_type": "code",
   "outputs": [],
   "source": [
    "def swap(state):\n",
    "    state = state.replace(\";\",\"\")\n",
    "    s = int(sqrt((len(state) / 6)))\n",
    "    init_state = []\n",
    "    init_state.extend(list(state))\n",
    "    foo = []\n",
    "    foo.extend(init_state[0 : s*s])\n",
    "    foo.extend(init_state[(s*s * 4) : (s*s * 5)])\n",
    "    foo.extend(init_state[(s*s * 1) : (s*s * 2)])\n",
    "    foo.extend(init_state[(s*s * 2) : (s*s * 3)])\n",
    "    foo.extend(init_state[(s*s * 3) : (s*s * 4)])\n",
    "    foo.extend(init_state[(s*s * 5) : (s*s * 6)])\n",
    "    state =\";\".join(foo)\n",
    "    return state"
   ],
   "metadata": {
    "collapsed": false,
    "ExecuteTime": {
     "end_time": "2023-12-25T05:24:29.328792Z",
     "start_time": "2023-12-25T05:24:29.296061Z"
    }
   },
   "id": "1f8d0eca780d0ebf",
   "execution_count": 70
  },
  {
   "cell_type": "code",
   "outputs": [],
   "source": [
    "def reversed_moves(sol, schar):\n",
    "    return f\"{schar}\".join(str(c) for c in reversed(sol.split(schar)))\n",
    "\n",
    "def convert_moves(sol,s,reverse=False):\n",
    "    moves = []\n",
    "    for n in range(1,s-1):\n",
    "        moves.extend([[f\"{n+1}L \",f\"-r{n}.\"],[f\"{n+1}L' \",f\"r{n}.\"],\n",
    "                      [f\"{n+1}F' \",f\"-f{n}.\"],[f\"{n+1}F \",f\"f{n}.\"],\n",
    "                      [f\"{n+1}U \",f\"-d{n}.\"],[f\"{n+1}U' \",f\"d{n}.\"]])\n",
    "    moves.extend([\n",
    "         [\"F' \",\"-f0.\"],[\"F \",\"f0.\"],\n",
    "         [\"B \",f\"-f{s-1}.\"],[\"B' \",f\"f{s-1}.\"],\n",
    "         [\"R' \",\"-r0.\"],[\"R \",\"r0.\"],\n",
    "         [\"L \",f\"-r{s-1}.\"],[\"L' \",f\"r{s-1}.\"],\n",
    "         [\"D' \",\"-d0.\"],[\"D \",\"d0.\"],\n",
    "         [\"U \",f\"-d{s-1}.\"],[\"U' \",f\"d{s-1}.\"],\n",
    "         [\"F2 \",\"f0.f0.\"],[\"B2 \",f\"f{s-1}.f{s-1}.\"],[\"R2 \",\"r0.r0.\"],\n",
    "         [\"L2 \",f\"r{s-1}.r{s-1}.\"],[\"D2 \",\"d0.d0.\"],[\"U2 \",f\"d{s-1}.d{s-1}.\"]\n",
    "        ])\n",
    "    \n",
    "    if (sum(1 for c in sol if c.isupper())) > 1:\n",
    "        schar = \".\"\n",
    "        sol += \" \"\n",
    "        for m in moves:\n",
    "            sol = sol.replace(m[0],m[1])\n",
    "        sol = sol.replace(\"..\",\".\")\n",
    "        sol = sol[:-1]\n",
    "    else:\n",
    "        schar = \" \"\n",
    "        sol += \".\"\n",
    "        for m in moves:\n",
    "            sol = sol.replace(m[1],m[0])\n",
    "    sol = sol.replace(\"  \",\" \")\n",
    "    sol = sol.strip()\n",
    "    if reverse:\n",
    "        sol = reversed_moves(sol, schar)\n",
    "    return sol"
   ],
   "metadata": {
    "collapsed": false,
    "ExecuteTime": {
     "end_time": "2023-12-25T05:24:29.770345Z",
     "start_time": "2023-12-25T05:24:29.705064Z"
    }
   },
   "id": "8fdfd9edf224124f",
   "execution_count": 71
  },
  {
   "cell_type": "code",
   "outputs": [],
   "source": [
    "def move(state, allmoves, mv):\n",
    "    power = 1\n",
    "    if mv[0] == \"-\":\n",
    "        mv = mv[1:]\n",
    "        power = -1\n",
    "    p = allmoves[mv]\n",
    "    state = (p ** power)(state)\n",
    "    return state\n",
    "\n",
    "def run_moves(state, allmoves, moves):\n",
    "    state = state.split(\";\")\n",
    "    for m in moves.split(\".\"):\n",
    "        state = move(state, allmoves, m)\n",
    "    state = \";\".join(state)\n",
    "    return state"
   ],
   "metadata": {
    "collapsed": false,
    "ExecuteTime": {
     "end_time": "2023-12-25T05:24:29.848081Z",
     "start_time": "2023-12-25T05:24:29.827106Z"
    }
   },
   "id": "edca3add08710139",
   "execution_count": 72
  },
  {
   "cell_type": "code",
   "outputs": [],
   "source": [
    "colors = {' Y ': colored(' Y ',color='black', on_color='on_yellow'),\n",
    "          ' W ': colored(' W ',color='black', on_color='on_white'),\n",
    "          ' G ': colored(' G ',color='black', on_color='on_green'),\n",
    "          ' B ': colored(' B ',color='black', on_color='on_light_blue'),\n",
    "          ' R ': colored(' R ',color='black', on_color='on_light_red'),\n",
    "          ' O ': colored(' O ',color='black', on_color='on_red')}\n",
    "\n",
    "def set_colors(face):\n",
    "    for key, value in colors.items():\n",
    "        face = face.replace(key, value)\n",
    "    return face\n",
    "\n",
    "def cube2_2d(c):\n",
    "    print(set_colors(f'       {c[0]}  {c[1]} '))\n",
    "    print(set_colors(f'       {c[2]}  {c[3]} '))\n",
    "    print(set_colors(f' {c[16]}  {c[17]}  {c[ 4]}  {c[ 5]}  {c[ 8]}  {c[ 9]}  {c[12]}  {c[13]} '))\n",
    "    print(set_colors(f' {c[18]}  {c[19]}  {c[ 6]}  {c[ 7]}  {c[10]}  {c[11]}  {c[14]}  {c[15]} '))\n",
    "    print(set_colors(f'       {c[20]}  {c[21]} '))\n",
    "    print(set_colors(f'       {c[22]}  {c[23]} '))\n",
    "    \n",
    "def cube3_2d(c):\n",
    "    print(set_colors(f'          {c[0]}  {c[1]}  {c[2]} '))\n",
    "    print(set_colors(f'          {c[3]}  {c[4]}  {c[5]} '))\n",
    "    print(set_colors(f'          {c[6]}  {c[7]}  {c[8]} '))\n",
    "    print(set_colors(f' {c[36]}  {c[37]}  {c[38]}  {c[ 9]}  {c[10]}  {c[11]}  {c[18]}  {c[19]}  {c[20]}  {c[27]}  {c[28]}  {c[29]} '))\n",
    "    print(set_colors(f' {c[39]}  {c[40]}  {c[41]}  {c[12]}  {c[13]}  {c[14]}  {c[21]}  {c[22]}  {c[23]}  {c[30]}  {c[31]}  {c[32]} '))\n",
    "    print(set_colors(f' {c[42]}  {c[43]}  {c[44]}  {c[15]}  {c[16]}  {c[17]}  {c[24]}  {c[25]}  {c[26]}  {c[32]}  {c[34]}  {c[35]} '))\n",
    "    print(set_colors(f'          {c[45]}  {c[46]}  {c[47]} '))\n",
    "    print(set_colors(f'          {c[48]}  {c[49]}  {c[50]} '))\n",
    "    print(set_colors(f'          {c[51]}  {c[52]}  {c[53]} '))\n",
    "    \n",
    "def print_cube(cube):\n",
    "    print(set_colors(cube.__str__()))"
   ],
   "metadata": {
    "collapsed": false,
    "ExecuteTime": {
     "end_time": "2023-12-25T05:24:30.393244Z",
     "start_time": "2023-12-25T05:24:29.989886Z"
    }
   },
   "id": "133a79f38195e0d7",
   "execution_count": 73
  },
  {
   "cell_type": "markdown",
   "source": [
    "<a id=\"4\"></a>\n",
    "# <div style= \"font-family: Cambria; font-weight:bold; letter-spacing: 0px; color:white; font-size:120%; \n",
    "text-align:left;padding:3.0px; background: #6A1B9A; border-bottom: 8px solid #9C27B0\" >Visualize<br><div> "
   ],
   "metadata": {
    "collapsed": false
   },
   "id": "71408c3a0ad81877"
  },
  {
   "cell_type": "markdown",
   "source": [
    "<a id=\"5\"></a>\n",
    "# <div style= \"font-family: Cambria; font-weight:bold; letter-spacing: 0px; color:white; font-size:120%; text-align:left;padding:3.0px; background: #6A1B9A; border-bottom: 8px solid #9C27B0\" >SOLVE<br><div> "
   ],
   "metadata": {
    "collapsed": false
   },
   "id": "580cda3cf75e39aa"
  },
  {
   "cell_type": "code",
   "outputs": [
    {
     "data": {
      "text/plain": "('cube_2/2/2',\n {'f0': Permutation(23)(2, 19, 21, 8)(3, 17, 20, 10)(4, 6, 7, 5),\n  'f1': Permutation(0, 18, 23, 9)(1, 16, 22, 11)(12, 13, 15, 14),\n  'r0': Permutation(1, 5, 21, 14)(3, 7, 23, 12)(8, 10, 11, 9),\n  'r1': Permutation(23)(0, 4, 20, 15)(2, 6, 22, 13)(16, 17, 19, 18),\n  'd0': Permutation(6, 18, 14, 10)(7, 19, 15, 11)(20, 22, 23, 21),\n  'd1': Permutation(23)(0, 1, 3, 2)(4, 16, 12, 8)(5, 17, 13, 9)})"
     },
     "execution_count": 74,
     "metadata": {},
     "output_type": "execute_result"
    }
   ],
   "source": [
    "N = 2\n",
    "puzzle_id = 0\n",
    "sol = puzzles.loc[puzzle_id]\n",
    "state = sol['initial_state']\n",
    "solut = sol['solution_state']\n",
    "sub = submission.loc[puzzle_id]\n",
    "allowed_moves = literal_eval(puzzle_info.loc[sol.puzzle_type, 'allowed_moves'])\n",
    "allowed_moves = {k: Permutation(v) for k, v in allowed_moves.items()}\n",
    "sol.puzzle_type,allowed_moves"
   ],
   "metadata": {
    "collapsed": false,
    "ExecuteTime": {
     "end_time": "2023-12-25T05:24:31.993224Z",
     "start_time": "2023-12-25T05:24:31.976358Z"
    }
   },
   "id": "47adab8e6cb0b820",
   "execution_count": 74
  },
  {
   "cell_type": "code",
   "outputs": [
    {
     "name": "stdout",
     "output_type": "stream",
     "text": [
      "D;E;D;A;E;B;A;B;C;A;C;A;D;C;D;F;F;F;E;E;B;F;B;C\n",
      "      \u001B[104m\u001B[30m B \u001B[0m\u001B[101m\u001B[30m R \u001B[0m\n",
      "      \u001B[104m\u001B[30m B \u001B[0m\u001B[43m\u001B[30m Y \u001B[0m\n",
      "\u001B[107m\u001B[30m W \u001B[0m\u001B[107m\u001B[30m W \u001B[0m\u001B[101m\u001B[30m R \u001B[0m\u001B[42m\u001B[30m G \u001B[0m\u001B[41m\u001B[30m O \u001B[0m\u001B[43m\u001B[30m Y \u001B[0m\u001B[104m\u001B[30m B \u001B[0m\u001B[41m\u001B[30m O \u001B[0m\n",
      "\u001B[101m\u001B[30m R \u001B[0m\u001B[101m\u001B[30m R \u001B[0m\u001B[43m\u001B[30m Y \u001B[0m\u001B[42m\u001B[30m G \u001B[0m\u001B[41m\u001B[30m O \u001B[0m\u001B[43m\u001B[30m Y \u001B[0m\u001B[104m\u001B[30m B \u001B[0m\u001B[107m\u001B[30m W \u001B[0m\n",
      "      \u001B[42m\u001B[30m G \u001B[0m\u001B[107m\u001B[30m W \u001B[0m\n",
      "      \u001B[42m\u001B[30m G \u001B[0m\u001B[41m\u001B[30m O \u001B[0m\n",
      " \n",
      "      \u001B[43m\u001B[30m Y \u001B[0m\u001B[43m\u001B[30m Y \u001B[0m\n",
      "      \u001B[43m\u001B[30m Y \u001B[0m\u001B[43m\u001B[30m Y \u001B[0m\n",
      "\u001B[101m\u001B[30m R \u001B[0m\u001B[101m\u001B[30m R \u001B[0m\u001B[42m\u001B[30m G \u001B[0m\u001B[42m\u001B[30m G \u001B[0m\u001B[41m\u001B[30m O \u001B[0m\u001B[41m\u001B[30m O \u001B[0m\u001B[104m\u001B[30m B \u001B[0m\u001B[104m\u001B[30m B \u001B[0m\n",
      "\u001B[101m\u001B[30m R \u001B[0m\u001B[101m\u001B[30m R \u001B[0m\u001B[42m\u001B[30m G \u001B[0m\u001B[42m\u001B[30m G \u001B[0m\u001B[41m\u001B[30m O \u001B[0m\u001B[41m\u001B[30m O \u001B[0m\u001B[104m\u001B[30m B \u001B[0m\u001B[104m\u001B[30m B \u001B[0m\n",
      "      \u001B[107m\u001B[30m W \u001B[0m\u001B[107m\u001B[30m W \u001B[0m\n",
      "      \u001B[107m\u001B[30m W \u001B[0m\u001B[107m\u001B[30m W \u001B[0m\n"
     ]
    }
   ],
   "source": [
    "print(state)\n",
    "assert solut == run_moves(state, allowed_moves, sub.moves)\n",
    "cube2_2d(a2color(state))\n",
    "print(\" \")\n",
    "cube2_2d(a2color(run_moves(state, allowed_moves, sub.moves)))"
   ],
   "metadata": {
    "collapsed": false,
    "ExecuteTime": {
     "end_time": "2023-12-25T05:24:32.259665Z",
     "start_time": "2023-12-25T05:24:32.237881Z"
    }
   },
   "id": "7caa7024e58df815",
   "execution_count": 75
  },
  {
   "cell_type": "code",
   "outputs": [
    {
     "name": "stdout",
     "output_type": "stream",
     "text": [
      "      \u001B[104m\u001B[30m B \u001B[0m\u001B[101m\u001B[30m R \u001B[0m            \n",
      "      \u001B[104m\u001B[30m B \u001B[0m\u001B[43m\u001B[30m Y \u001B[0m            \n",
      "\u001B[107m\u001B[30m W \u001B[0m\u001B[107m\u001B[30m W \u001B[0m\u001B[101m\u001B[30m R \u001B[0m\u001B[42m\u001B[30m G \u001B[0m\u001B[41m\u001B[30m O \u001B[0m\u001B[43m\u001B[30m Y \u001B[0m\u001B[104m\u001B[30m B \u001B[0m\u001B[41m\u001B[30m O \u001B[0m\n",
      "\u001B[101m\u001B[30m R \u001B[0m\u001B[101m\u001B[30m R \u001B[0m\u001B[43m\u001B[30m Y \u001B[0m\u001B[42m\u001B[30m G \u001B[0m\u001B[41m\u001B[30m O \u001B[0m\u001B[43m\u001B[30m Y \u001B[0m\u001B[104m\u001B[30m B \u001B[0m\u001B[107m\u001B[30m W \u001B[0m\n",
      "      \u001B[42m\u001B[30m G \u001B[0m\u001B[107m\u001B[30m W \u001B[0m            \n",
      "      \u001B[42m\u001B[30m G \u001B[0m\u001B[41m\u001B[30m O \u001B[0m            \n",
      "\n",
      "      \u001B[43m\u001B[30m Y \u001B[0m\u001B[43m\u001B[30m Y \u001B[0m            \n",
      "      \u001B[43m\u001B[30m Y \u001B[0m\u001B[43m\u001B[30m Y \u001B[0m            \n",
      "\u001B[101m\u001B[30m R \u001B[0m\u001B[101m\u001B[30m R \u001B[0m\u001B[42m\u001B[30m G \u001B[0m\u001B[42m\u001B[30m G \u001B[0m\u001B[41m\u001B[30m O \u001B[0m\u001B[41m\u001B[30m O \u001B[0m\u001B[104m\u001B[30m B \u001B[0m\u001B[104m\u001B[30m B \u001B[0m\n",
      "\u001B[101m\u001B[30m R \u001B[0m\u001B[101m\u001B[30m R \u001B[0m\u001B[42m\u001B[30m G \u001B[0m\u001B[42m\u001B[30m G \u001B[0m\u001B[41m\u001B[30m O \u001B[0m\u001B[41m\u001B[30m O \u001B[0m\u001B[104m\u001B[30m B \u001B[0m\u001B[104m\u001B[30m B \u001B[0m\n",
      "      \u001B[107m\u001B[30m W \u001B[0m\u001B[107m\u001B[30m W \u001B[0m            \n",
      "      \u001B[107m\u001B[30m W \u001B[0m\u001B[107m\u001B[30m W \u001B[0m            \n"
     ]
    }
   ],
   "source": [
    "cube = magiccube.Cube(N, a2color(swap(state)))\n",
    "print_cube(cube)\n",
    "cube.rotate(convert_moves(sub.moves,N))\n",
    "print_cube(cube)"
   ],
   "metadata": {
    "collapsed": false,
    "ExecuteTime": {
     "end_time": "2023-12-25T05:24:32.499718Z",
     "start_time": "2023-12-25T05:24:32.487089Z"
    }
   },
   "id": "40aa58ae84eaca9d",
   "execution_count": 76
  },
  {
   "cell_type": "code",
   "outputs": [],
   "source": [
    "N = 3\n",
    "puzzle_id = 32\n",
    "sol = puzzles.loc[puzzle_id]\n",
    "state = sol['initial_state']\n",
    "solut = sol['solution_state']\n",
    "sub = submission.loc[puzzle_id]\n",
    "allowed_moves = literal_eval(puzzle_info.loc[sol.puzzle_type, 'allowed_moves'])\n",
    "allowed_moves = {k: Permutation(v) for k, v in allowed_moves.items()}\n",
    "# sol.puzzle_type,allowed_moves\n",
    "\n",
    "layout = solut.split(';')\n",
    "stickers = 54\n",
    "dim = 3\n",
    "face_size = dim**2\n",
    "state_list = (\n",
    "        layout[stickers-dim:stickers] + layout[stickers-2*dim:stickers-dim] + layout[stickers-3*dim:stickers-2*dim] +\n",
    "layout[face_size+2*dim:face_size+3*dim] + layout[face_size + dim:face_size + 2*dim] + layout[face_size:face_size + dim]  +\n",
    "layout[2*face_size+2*dim:2*face_size+3*dim] + layout[2*face_size + dim:2*face_size + 2*dim] + layout[2*face_size:2*face_size + dim] +\n",
    "layout[3*face_size+2*dim:3*face_size+3*dim] + layout[3*face_size + dim:3*face_size + 2*dim] + layout[3*face_size:3*face_size + dim] +\n",
    "layout[4*face_size+2*dim:4*face_size+3*dim] + layout[4*face_size + dim:4*face_size + 2*dim] + layout[4*face_size:4*face_size + dim] +\n",
    "layout[2*dim:3*dim] + layout[dim:2*dim] + layout[:dim] )\n",
    "\n",
    "translated_state = state_list[0:9] + state_list[18:27] + state_list[9:18] + state_list[45:54]  + state_list[36:45] + state_list[27:36]\n",
    "\n",
    "sm = solve(a2face(';'.join(translated_state)))\n",
    "\n",
    "# print(state_list)\n",
    "# print(a2face(';'.join(layout)))"
   ],
   "metadata": {
    "collapsed": false,
    "ExecuteTime": {
     "end_time": "2023-12-25T06:59:55.150709Z",
     "start_time": "2023-12-25T06:59:55.105122Z"
    }
   },
   "id": "f93b54e4a85d3bd9",
   "execution_count": 113
  },
  {
   "cell_type": "code",
   "outputs": [
    {
     "data": {
      "text/plain": "['r0',\n 'r0',\n 'f0',\n 'f0',\n 'r0',\n 'r0',\n 'f0',\n 'f0',\n 'f1',\n 'f1',\n 'r0',\n 'r0',\n 'f0',\n 'f0',\n 'r1',\n 'r1']"
     },
     "execution_count": 117,
     "metadata": {},
     "output_type": "execute_result"
    }
   ],
   "source": [
    "sm.replace('R2', 'r0 r0').replace('F2', 'f0 f0').replace('B2', 'f1 f1').replace('L2', 'r1 r1').split(' ')"
   ],
   "metadata": {
    "collapsed": false,
    "ExecuteTime": {
     "end_time": "2023-12-25T07:14:07.595002Z",
     "start_time": "2023-12-25T07:14:07.443250Z"
    }
   },
   "id": "e5b1292ecd47992e",
   "execution_count": 117
  },
  {
   "cell_type": "code",
   "outputs": [
    {
     "name": "stdout",
     "output_type": "stream",
     "text": [
      "F;B;B;E;E;D;B;E;E;F;A;D;C;D;A;B;E;A;F;C;A;C;F;F;D;A;B;E;C;D;E;B;D;C;F;A;C;B;E;A;A;F;E;F;C;A;D;C;D;C;B;D;B;F\n",
      "F;B;B;E;E;D;B;E;E;C;B;E;A;A;F;E;F;C;F;A;D;C;D;A;B;E;A;F;C;A;C;F;F;D;A;B;E;C;D;E;B;D;C;F;A;A;D;C;D;C;B;D;B;F\n"
     ]
    }
   ],
   "source": [
    "print(state)\n",
    "print(swap(state))"
   ],
   "metadata": {
    "collapsed": false,
    "ExecuteTime": {
     "end_time": "2023-12-25T05:24:10.638984Z",
     "start_time": "2023-12-25T05:24:10.598195Z"
    }
   },
   "id": "6c4a665af5f0078e",
   "execution_count": 67
  },
  {
   "cell_type": "code",
   "outputs": [
    {
     "data": {
      "text/plain": "[51,\n 52,\n 53,\n 48,\n 49,\n 50,\n 45,\n 46,\n 47,\n 48,\n 49,\n 50,\n 15,\n 16,\n 17,\n 12,\n 13,\n 14,\n 9,\n 10,\n 11,\n 24,\n 25,\n 26,\n 21,\n 22,\n 23,\n 18,\n 19,\n 20,\n 33,\n 34,\n 35,\n 30,\n 31,\n 32,\n 27,\n 28,\n 29,\n 42,\n 43,\n 44,\n 39,\n 40,\n 41,\n 36,\n 37,\n 38,\n 6,\n 7,\n 8,\n 3,\n 4,\n 5,\n 0,\n 1,\n 2]"
     },
     "execution_count": 105,
     "metadata": {},
     "output_type": "execute_result"
    }
   ],
   "source": [
    "stickers = 54\n",
    "dim = 3\n",
    "face_size = dim**2\n",
    "layout = list(range(stickers))\n",
    "(layout[stickers-dim:stickers] + layout[stickers-2*dim:stickers-dim] + layout[stickers-3*dim:stickers-dim] +\n",
    "layout[face_size+2*dim:face_size+3*dim] + layout[face_size + dim:face_size + 2*dim] + layout[face_size:face_size + dim]  +\n",
    "layout[2*face_size+2*dim:2*face_size+3*dim] + layout[2*face_size + dim:2*face_size + 2*dim] + layout[2*face_size:2*face_size + dim] +\n",
    "layout[3*face_size+2*dim:3*face_size+3*dim] + layout[3*face_size + dim:3*face_size + 2*dim] + layout[3*face_size:3*face_size + dim] +\n",
    "layout[4*face_size+2*dim:4*face_size+3*dim] + layout[4*face_size + dim:4*face_size + 2*dim] + layout[4*face_size:4*face_size + dim] +\n",
    "layout[2*dim:3*dim] + layout[dim:2*dim] + layout[:dim] )\n"
   ],
   "metadata": {
    "collapsed": false,
    "ExecuteTime": {
     "end_time": "2023-12-25T06:51:01.826253Z",
     "start_time": "2023-12-25T06:51:01.796886Z"
    }
   },
   "id": "a79710d1eaefbf88",
   "execution_count": 105
  },
  {
   "cell_type": "code",
   "outputs": [
    {
     "data": {
      "text/plain": "'F;B;B;E;E;D;B;E;E;F;A;D;C;D;A;B;E;A;F;C;A;C;F;F;D;A;B;E;C;D;E;B;D;C;F;A;C;B;E;A;A;F;E;F;C;A;D;C;D;C;B;D;B;F'"
     },
     "execution_count": 68,
     "metadata": {},
     "output_type": "execute_result"
    }
   ],
   "source": [
    "';'.join(state_list)"
   ],
   "metadata": {
    "collapsed": false,
    "ExecuteTime": {
     "end_time": "2023-12-25T05:24:12.146628Z",
     "start_time": "2023-12-25T05:24:12.121288Z"
    }
   },
   "id": "4a355ca1ce70db61",
   "execution_count": 68
  },
  {
   "cell_type": "code",
   "outputs": [],
   "source": [],
   "metadata": {
    "collapsed": false
   },
   "id": "cb53b44b01b6ec78"
  }
 ],
 "metadata": {
  "kernelspec": {
   "display_name": "Python 3",
   "language": "python",
   "name": "python3"
  },
  "language_info": {
   "codemirror_mode": {
    "name": "ipython",
    "version": 2
   },
   "file_extension": ".py",
   "mimetype": "text/x-python",
   "name": "python",
   "nbconvert_exporter": "python",
   "pygments_lexer": "ipython2",
   "version": "2.7.6"
  }
 },
 "nbformat": 4,
 "nbformat_minor": 5
}
