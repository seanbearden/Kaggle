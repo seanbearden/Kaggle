{
 "cells": [
  {
   "cell_type": "code",
   "outputs": [
    {
     "name": "stdout",
     "output_type": "stream",
     "text": [
      "Current Working Directory:  /Users/seanbearden/PycharmProjects/Kaggle/src/santa-2023/magic-cube/rubiks-cube-NxNxN-solver\n"
     ]
    }
   ],
   "source": [
    "import zipfile\n",
    "import sqlite3\n",
    "\n",
    "import pandas as pd\n",
    "import numpy as np\n",
    "import sys\n",
    "import importlib.util\n",
    "\n",
    "import os\n",
    "\n",
    "os.chdir('rubiks-cube-NxNxN-solver')\n",
    "# Print the current working directory\n",
    "print(\"Current Working Directory: \", os.getcwd())\n",
    "\n",
    "database_file = '../../solutions.db'\n",
    "solution_method = \"dwalton76 NxNxN algo\""
   ],
   "metadata": {
    "collapsed": false,
    "ExecuteTime": {
     "end_time": "2023-12-28T23:55:01.766367Z",
     "start_time": "2023-12-28T23:55:01.164254Z"
    }
   },
   "id": "9f4f9b29f3fbe6d1",
   "execution_count": 2
  },
  {
   "cell_type": "code",
   "outputs": [],
   "source": [
    "with zipfile.ZipFile('../../../../res/data/santa-2023.zip', 'r') as z:\n",
    "    \n",
    "    with z.open('puzzle_info.csv') as f:\n",
    "        puzzle_info = pd.read_csv(f, index_col = 'puzzle_type')        \n",
    "                \n",
    "    with z.open('puzzles.csv') as f:\n",
    "        puzzles = pd.read_csv(f, index_col='id')\n",
    "    \n",
    "    with z.open('sample_submission.csv') as f:\n",
    "        submission = pd.read_csv(f)"
   ],
   "metadata": {
    "collapsed": false,
    "ExecuteTime": {
     "end_time": "2023-12-28T23:55:02.828248Z",
     "start_time": "2023-12-28T23:55:02.713803Z"
    }
   },
   "id": "cba80e81c4a78136",
   "execution_count": 3
  },
  {
   "cell_type": "code",
   "execution_count": 3,
   "id": "initial_id",
   "metadata": {
    "collapsed": true,
    "ExecuteTime": {
     "end_time": "2023-12-27T07:49:43.497254Z",
     "start_time": "2023-12-27T07:49:43.493035Z"
    }
   },
   "outputs": [],
   "source": [
    "U = ['U', 'F', 'R', 'B', 'L', 'D']\n",
    "U_dict = {\n",
    "    'A': 'U',\n",
    "    'B': 'F',\n",
    "    'C': 'R',\n",
    "    'D': 'B',\n",
    "    'E': 'L',\n",
    "    'F': 'D',\n",
    "}\n",
    "\n",
    "def state2ubl(state):\n",
    "    state_split = state.split(';')\n",
    "    dim = int(np.sqrt(len(state_split) // 6))\n",
    "    dim_2 = dim**2\n",
    "    \n",
    "    s = ''.join([U_dict[f] for f in state_split])\n",
    "    \n",
    "    return s[:dim_2] + s[2*dim_2:3*dim_2] + s[dim_2:2*dim_2] + s[5*dim_2:] + s[4*dim_2:5*dim_2] + s[3*dim_2:4*dim_2]\n"
   ]
  },
  {
   "cell_type": "code",
   "outputs": [
    {
     "name": "stdout",
     "output_type": "stream",
     "text": [
      "[5, 21, 37, 53, 69, 85, 6, 22, 38, 54, 70, 86, 9, 25, 41, 57, 73, 89, 10, 26, 42, 58, 74, 90]\n"
     ]
    },
    {
     "data": {
      "text/plain": "'A;B;A;B;A;A;A;B;A;A;A;B;A;B;A;B;B;C;B;C;B;B;B;C;B;B;B;C;B;C;B;C;C;D;C;D;C;C;C;D;C;C;C;D;C;D;C;D;D;E;D;E;D;D;D;E;D;D;D;E;D;E;D;E;E;F;E;F;E;E;E;F;E;E;E;F;E;F;E;F;F;A;F;A;F;F;F;A;F;F;F;A;F;A;F;A'"
     },
     "execution_count": 56,
     "metadata": {},
     "output_type": "execute_result"
    }
   ],
   "source": [
    "def relabel_NxNxN(state, checkered=False):        \n",
    "    # Split the string into individual elements.\n",
    "    state_list = state.split(';')\n",
    "    dim = int(np.sqrt(len(state_list) // 6))\n",
    "    \n",
    "    dim_2 = dim**2\n",
    "    faces = []\n",
    "    for i in range((dim-2)**2):\n",
    "        faces += list(range((i//(dim-2) + 1) * dim + i % 2 + 1, 6*dim_2, dim_2))\n",
    "    \n",
    "    edges = []\n",
    "    for i in range(dim-2): #each cube on edge\n",
    "        edges.append((0 * dim_2 + i + 1,                        3 * dim_2 + (dim - 1) - (i + 1)))\n",
    "        edges.append((0 * dim_2 + (dim - 1) * dim +  i + 1,     1 * dim_2 + (i + 1)))        \n",
    "        edges.append((0 * dim_2 + dim * (i + 1),                4 * dim_2 + (i + 1)))        \n",
    "        edges.append((0 * dim_2 + dim * (i + 1) + dim - 1,      2 * dim_2 + (dim - 1) - (i + 1)))\n",
    "        \n",
    "        edges.append((5 * dim_2 + i + 1,                        1 * dim_2 + (dim - 1) * dim + (i + 1)))\n",
    "        edges.append((5 * dim_2 + (dim - 1) * dim +  i + 1,     4 * dim_2 - i - 2))        \n",
    "        edges.append((5 * dim_2 + dim * (i + 1),                5 * dim_2 - i - 2))        \n",
    "        edges.append((5 * dim_2 + dim * (i + 1) + dim - 1,      2 * dim_2 + (dim - 1) * dim + (i + 1)))\n",
    "        \n",
    "        edges.append((3 * dim_2 + dim * (i + 1) + dim - 1,      4 * dim_2 + dim * (i + 1)))\n",
    "        edges.append((2 * dim_2 + dim * (i + 1) + dim - 1,      3 * dim_2 + dim * (i + 1)))        \n",
    "        edges.append((1 * dim_2 + dim * (i + 1),                4 * dim_2 + dim * (i + 1) + dim - 1))   # backwards? \n",
    "        \n",
    "        edges.append((0 * dim_2 + dim * (i + 1) + dim - 1,      2 * dim_2 + dim * (i + 1)))\n",
    "        \n",
    "                \n",
    "    corners = [\n",
    "        (dim_2 - 1, dim_2 + dim - 1, 2 * dim_2), \n",
    "        (dim - 1, 2 * dim_2 + dim -1, 3 * dim_2),\n",
    "        (0, 3 * dim_2 + dim - 1, 4 * dim_2),\n",
    "        ((dim - 1) * dim, dim_2 , 4 * dim_2 + dim - 1),         \n",
    "        (dim_2 + (dim - 1) * dim, 5 * dim_2 - 1, 5 * dim_2),        \n",
    "        (2*dim_2 - 1, 3 * dim_2 - dim, 5 * dim_2 + dim -1), \n",
    "        (3*dim_2 - 1, 4*dim_2 - dim, 6*dim_2 - 1), \n",
    "        (4*dim_2-1, 5*dim_2-dim, 6*dim_2 - dim)\n",
    "    ]\n",
    "    \n",
    "\n",
    "    \n",
    "    if state[0] == 'N':\n",
    "        for i, val in enumerate(state_list):\n",
    "            # Extract the number part from the string like 'N33' -> 33.\n",
    "            num = int(val[1:])\n",
    "            # print(i, num)\n",
    "            # Replace based on the given criteria.\n",
    "            if 0 <= num < dim_2:\n",
    "                state_list[i] = 'A'\n",
    "            elif dim_2 <= num < 2*dim_2:\n",
    "                state_list[i] = 'B'\n",
    "            elif 2*dim_2 <= num < 3*dim_2:\n",
    "                state_list[i] = 'C'\n",
    "            elif 3*dim_2 <= num < 4*dim_2:\n",
    "                state_list[i] = 'D'\n",
    "            elif 4*dim_2 <= num < 5*dim_2:\n",
    "                state_list[i] = 'E'\n",
    "            elif 5*dim_2 <= num < 6*dim_2:\n",
    "                state_list[i] = 'F'\n",
    "    elif checkered:\n",
    "        face2color = {\n",
    "            0: 'A',\n",
    "            1: 'B',\n",
    "            2: 'C',\n",
    "            3: 'D',\n",
    "            4: 'E',\n",
    "            5: 'F',\n",
    "        }\n",
    "        print(faces)\n",
    "        for idx in faces:\n",
    "            # a face labeled B could be B or A\n",
    "            state_list[idx] = face2color[idx // dim_2]\n",
    "            \n",
    "    return ';'.join(state_list)  \n",
    "\n",
    "state = 'A;B;A;B;A;B;A;B;A;B;A;B;A;B;A;B;B;C;B;C;B;C;B;C;B;C;B;C;B;C;B;C;C;D;C;D;C;D;C;D;C;D;C;D;C;D;C;D;D;E;D;E;D;E;D;E;D;E;D;E;D;E;D;E;E;F;E;F;E;F;E;F;E;F;E;F;E;F;E;F;F;A;F;A;F;A;F;A;F;A;F;A;F;A;F;A'\n",
    "relabel_NxNxN(state, checkered=True)\n"
   ],
   "metadata": {
    "collapsed": false,
    "ExecuteTime": {
     "end_time": "2023-12-27T16:21:59.932182Z",
     "start_time": "2023-12-27T16:21:59.908645Z"
    }
   },
   "id": "f63cd4b46ce08e25",
   "execution_count": 56
  },
  {
   "cell_type": "code",
   "outputs": [
    {
     "data": {
      "text/plain": "10"
     },
     "execution_count": 55,
     "metadata": {},
     "output_type": "execute_result"
    }
   ],
   "source": [
    "dim = 4\n",
    "dim_2 = dim**2\n",
    "i = 3\n",
    "list(range(dim * (dim - 1 - i//(dim-2) - 1) + i + 1, 6*dim_2, dim_2))\n",
    "\n",
    "0 * dim_2 + dim * (i//(dim-2)) + dim + i + 1\n",
    "\n",
    "(i//(dim-2) + 1) * dim + i % 2 + 1"
   ],
   "metadata": {
    "collapsed": false,
    "ExecuteTime": {
     "end_time": "2023-12-27T16:21:30.403809Z",
     "start_time": "2023-12-27T16:21:30.373767Z"
    }
   },
   "id": "d222af896b6617e",
   "execution_count": 55
  },
  {
   "cell_type": "code",
   "outputs": [],
   "source": [
    "# import subprocess\n",
    "# \n",
    "# # Define the list of commands or arguments you want to run in Bash.\n",
    "# commands = [\n",
    "#     './rubiks-cube-NxNxN-solver/rubiks-cube-solver.py --state '\n",
    "#     'FUUURFRDURUBDBLURDLRUULRFLLFRUBLBRUFDUFRUFDRRBUDDLRBDFLFLBDDLLBFDDBLLDBRDBRLUDFFBBFLFBUBLDRFURFB',\n",
    "#     # Add more commands as needed.\n",
    "# ]\n",
    "# \n",
    "# # Loop through the commands, run each in Bash, and collect the output.\n",
    "# for command in commands:\n",
    "#     process = subprocess.run(command, shell=True, text=True, stdout=subprocess.PIPE, stderr=subprocess.PIPE)\n",
    "#     # stdout will have the standard output of the command, and stderr will have the standard error.\n",
    "#     output = process.stdout\n",
    "#     error = process.stderr\n",
    "#     \n",
    "#     # Do something with the output and error.\n",
    "#     print(\"Output:\", output)\n",
    "#     if error:\n",
    "#         print(\"Error:\", error)\n"
   ],
   "metadata": {
    "collapsed": false,
    "ExecuteTime": {
     "end_time": "2023-12-27T07:49:43.509529Z",
     "start_time": "2023-12-27T07:49:43.505601Z"
    }
   },
   "id": "e2abaa0111e171d0",
   "execution_count": 5
  },
  {
   "cell_type": "code",
   "outputs": [
    {
     "name": "stdout",
     "output_type": "stream",
     "text": [
      "200\n",
      "Starting 200\n",
      "B;F;A;A;C;F;F;A;D;D;C;D;F;E;D;C;B;E;D;C;A;E;A;C;E;C;B;F;D;F;C;B;A;B;E;E;C;C;A;B;B;E;B;B;F;B;C;B;E;D;A;D;F;D;F;C;F;F;A;C;C;D;D;F;D;A;B;F;C;C;E;E;B;B;D;F;E;E;E;A;D;F;A;A;E;B;E;A;F;A;D;B;E;D;A;C\n",
      "assertion error for 200\n",
      "A;B;A;B;A;B;A;B;A;B;A;B;A;B;A;B;B;C;B;C;B;C;B;C;B;C;B;C;B;C;B;C;C;D;C;D;C;D;C;D;C;D;C;D;C;D;C;D;D;E;D;E;D;E;D;E;D;E;D;E;D;E;D;E;E;F;E;F;E;F;E;F;E;F;E;F;E;F;E;F;F;A;F;A;F;A;F;A;F;A;F;A;F;A;F;A\n",
      "['B', 'E', 'A', 'C', 'D', 'F', 'F', 'D', 'C', 'D', 'B', 'C', 'D', 'A', 'B', 'B', 'D', 'D', 'F', 'D', 'A', 'A', 'C', 'B', 'D', 'A', 'B', 'C', 'A', 'B', 'F', 'F', 'D', 'A', 'B', 'A', 'D', 'D', 'B', 'A', 'B', 'F', 'D', 'F', 'E', 'C', 'A', 'A', 'C', 'E', 'E', 'F', 'E', 'B', 'A', 'A', 'B', 'C', 'C', 'E', 'B', 'F', 'F', 'C', 'F', 'D', 'C', 'A', 'B', 'A', 'D', 'C', 'E', 'E', 'E', 'D', 'C', 'A', 'F', 'E', 'E', 'C', 'F', 'E', 'E', 'E', 'C', 'C', 'F', 'F', 'E', 'D', 'B', 'B', 'E', 'F']\n"
     ]
    }
   ],
   "source": [
    "# Connect to the SQLite database\n",
    "conn = sqlite3.connect(database_file)\n",
    "cursor = conn.cursor()\n",
    "\n",
    "\n",
    "outputs = {}\n",
    "for id, row in puzzles.iterrows():\n",
    "    if row['puzzle_type'][:4] == 'cube':\n",
    "        \n",
    "        dim = int(row['puzzle_type'].split('/')[-1])\n",
    "        if id not in range(200, 201):\n",
    "            continue\n",
    "        print(id) \n",
    "        moves = eval(puzzle_info.loc[row['puzzle_type'], 'allowed_moves'])\n",
    "        for move in list(moves):\n",
    "            moves['-'+move] = np.argsort(moves[move]).tolist()\n",
    "        \n",
    "        M = {}\n",
    "        M[\"U\"] = f'-d{dim-1}'\n",
    "        M[\"R\"] = \"r0\"\n",
    "        M[\"B\"] = f\"-f{dim-1}\"\n",
    "        M[\"F\"] = \"f0\"\n",
    "        M[\"L\"] = f\"-r{dim-1}\"\n",
    "        M[\"D\"] = \"d0\"\n",
    "        \n",
    "        if dim > 3:\n",
    "            M[\"Uw\"] = f'-d{dim-2}.-d{dim-1}'\n",
    "            M[\"Rw\"] = f\"r0.r1\"\n",
    "            M[\"Bw\"] = f'-f{dim-2}.-f{dim-1}'\n",
    "            M[\"Fw\"] = f\"f0.f1\"\n",
    "            M[\"Lw\"] = f'-r{dim-2}.-r{dim-1}'\n",
    "            M[\"Dw\"] = f\"d0.d1\"\n",
    "        if dim >= 6:\n",
    "            M[\"2Uw\"] = f'-d{dim-2}.-d{dim-1}'\n",
    "            M[\"2Rw\"] = f\"r0.r1\"\n",
    "            M[\"2Bw\"] = f'-f{dim-2}.-f{dim-1}'\n",
    "            M[\"2Fw\"] = f\"f0.f1\"\n",
    "            M[\"2Lw\"] = f'-r{dim-2}.-r{dim-1}'\n",
    "            M[\"2Dw\"] = f\"d0.d1\"\n",
    "            \n",
    "            width_max = dim // 2\n",
    "            for i in range(3, width_max + 1):\n",
    "                M[f\"{i}Uw\"] = f'-d{dim-i}.' + M[f\"{i-1}Uw\"]\n",
    "                M[f\"{i}Rw\"] = M[f\"{i-1}Rw\"] + f'.r{i-1}'\n",
    "                M[f\"{i}Bw\"] = f'-f{dim-i}.' + M[f\"{i-1}Bw\"]\n",
    "                M[f\"{i}Fw\"] = M[f\"{i-1}Fw\"] + f'.f{i-1}'\n",
    "                M[f\"{i}Lw\"] = f'-r{dim-i}.' + M[f\"{i-1}Lw\"]\n",
    "                M[f\"{i}Dw\"] = M[f\"{i-1}Dw\"] + f'.d{i-1}'\n",
    "    \n",
    "            \n",
    "        # print(M)\n",
    "        for m in list(M):\n",
    "            M[m+\"2\"] = M[m] + '.' + M[m]\n",
    "            if \"-\" in M[m]:\n",
    "                M[m+\"'\"] = M[m].replace(\"-\",\"\")\n",
    "            else:\n",
    "                M[m+\"'\"] = '.'.join([\"-\"+i for i in M[m].split('.')])\n",
    "        # id += 1\n",
    "        # print(dim)\n",
    "        init_state = row['initial_state']\n",
    "        sol_state = row['solution_state']\n",
    "        init_state = relabel_NxNxN(init_state)\n",
    "        sol_state = relabel_NxNxN(sol_state)\n",
    "        init_state = sol_state\n",
    "        state = state2ubl(init_state)\n",
    "\n",
    "        \n",
    "        if sol_state[:2*dim**2-1] == ';'.join(['A']*dim**2) or True:\n",
    "            print(f'Starting {id}')\n",
    "            output = !./rubiks-cube-solver.py --state $state\n",
    "            outputs[id] = output\n",
    "            if output[-1][:9] == 'Solution:':\n",
    "                print(output[-1])\n",
    "                sol = output[-1].split(': ')[1]\n",
    "            else:\n",
    "                for n in range(1, 21):\n",
    "                    if 'Solution:' in output[-n]:\n",
    "                        sol = output[-n].split('Solution: ')[1].split('2023-')[0]\n",
    "                        break\n",
    "                \n",
    "            # print(sol)\n",
    "            mmoves = '.'.join([M[m] for m in sol.split(' ')])\n",
    "            \n",
    "            new_state = init_state\n",
    "            for move in mmoves.split('.'):\n",
    "                new_state = ';'.join(list(np.asarray(new_state.split(';'))[np.array(moves[move])]))\n",
    "            print(new_state)\n",
    "            \n",
    "            # I = ['r0.r1.r2','d0.d1.d2','f0.f1.f2']\n",
    "            I = ['.'.join([f'{j}{i}' for i in range(dim)]) for j in ['r', 'd', 'f']]\n",
    "            \n",
    "            for init_moves in [''] + I + [i1 + '.' + i2 for i1 in I for i2 in I]+ [i1 + '.' + i2+ '.' + i3 for i1 in I for i2 in I for i3 in I]+ [i1 + '.' + i2+ '.' + i3 + '.' + i4 for i1 in I for i2 in I for i3 in I for i4 in I]:\n",
    "                temp_state = new_state\n",
    "                if len(init_moves) > 0:\n",
    "                    for move in init_moves.split('.'):\n",
    "                        temp_state = ';'.join(list(np.asarray(temp_state.split(';'))[np.array(moves[move])]))\n",
    "                if temp_state == sol_state:\n",
    "                    print(f'solved id: {id}')\n",
    "                    if len(init_moves) > 0:\n",
    "                        mmoves += '.' + init_moves\n",
    "                    break\n",
    "                    \n",
    "            # validation\n",
    "            state = row['initial_state'].split(\";\")\n",
    "            for move_name in mmoves.split('.'):\n",
    "                state = [state[i] for i in moves[move_name]]\n",
    "            # print(puzzle[\"solution_state\"])\n",
    "            # print(state)\n",
    "            # print(mmoves)\n",
    "            try:\n",
    "                assert row['solution_state'].split(\";\") == state\n",
    "                \n",
    "                mmoves_length = len(mmoves.split('.'))\n",
    "                \n",
    "                select_query = \"SELECT count FROM solutions WHERE id = ?\"\n",
    "    \n",
    "                # Execute the query\n",
    "                cursor.execute(select_query, (id,))\n",
    "                response = cursor.fetchone()\n",
    "                best_moves_length = response[0]\n",
    "                \n",
    "                if mmoves_length < best_moves_length:\n",
    "                    # Insert the moves into the database\n",
    "                    insert_query = (\"INSERT OR REPLACE INTO solutions (id, moves, count, solution_method) VALUES (?, ?, ?, ?)\")\n",
    "                    cursor.execute(insert_query, (id, mmoves, mmoves_length, solution_method))\n",
    "                    conn.commit()\n",
    "            except AssertionError:\n",
    "                print(f\"assertion error for {id}\")\n",
    "                print(row['solution_state'])\n",
    "                print(';'.join(state))\n",
    "\n",
    "                break\n",
    "\n",
    "# Commit the changes and close the connection\n",
    "conn.commit()\n",
    "conn.close()\n"
   ],
   "metadata": {
    "collapsed": false,
    "ExecuteTime": {
     "end_time": "2023-12-27T16:51:45.212769Z",
     "start_time": "2023-12-27T16:51:44.928870Z"
    }
   },
   "id": "eb38dc28d0e5b28c",
   "execution_count": 63
  },
  {
   "cell_type": "code",
   "outputs": [
    {
     "data": {
      "text/plain": "['2023-12-27 08:51:45,046     rubiks-cube-solver.py:26     INFO: rubiks-cube-solver.py begin',\n '2023-12-27 08:51:45,064               __init__.py:1468     INFO: ',\n '',\n 'Initial Cube',\n '============',\n '         \\x1b[97mU\\x1b[0m \\x1b[92mF\\x1b[0m \\x1b[97mU\\x1b[0m \\x1b[92mF\\x1b[0m ',\n '         \\x1b[97mU\\x1b[0m \\x1b[92mF\\x1b[0m \\x1b[97mU\\x1b[0m \\x1b[92mF\\x1b[0m ',\n '         \\x1b[97mU\\x1b[0m \\x1b[92mF\\x1b[0m \\x1b[97mU\\x1b[0m \\x1b[92mF\\x1b[0m ',\n '         \\x1b[97mU\\x1b[0m \\x1b[92mF\\x1b[0m \\x1b[97mU\\x1b[0m \\x1b[92mF\\x1b[0m ',\n '',\n '\\x1b[90mL\\x1b[0m \\x1b[93mD\\x1b[0m \\x1b[90mL\\x1b[0m \\x1b[93mD\\x1b[0m  \\x1b[92mF\\x1b[0m \\x1b[91mR\\x1b[0m \\x1b[92mF\\x1b[0m \\x1b[91mR\\x1b[0m  \\x1b[91mR\\x1b[0m \\x1b[94mB\\x1b[0m \\x1b[91mR\\x1b[0m \\x1b[94mB\\x1b[0m  \\x1b[94mB\\x1b[0m \\x1b[90mL\\x1b[0m \\x1b[94mB\\x1b[0m \\x1b[90mL\\x1b[0m ',\n '\\x1b[90mL\\x1b[0m \\x1b[93mD\\x1b[0m \\x1b[90mL\\x1b[0m \\x1b[93mD\\x1b[0m  \\x1b[92mF\\x1b[0m \\x1b[91mR\\x1b[0m \\x1b[92mF\\x1b[0m \\x1b[91mR\\x1b[0m  \\x1b[91mR\\x1b[0m \\x1b[94mB\\x1b[0m \\x1b[91mR\\x1b[0m \\x1b[94mB\\x1b[0m  \\x1b[94mB\\x1b[0m \\x1b[90mL\\x1b[0m \\x1b[94mB\\x1b[0m \\x1b[90mL\\x1b[0m ',\n '\\x1b[90mL\\x1b[0m \\x1b[93mD\\x1b[0m \\x1b[90mL\\x1b[0m \\x1b[93mD\\x1b[0m  \\x1b[92mF\\x1b[0m \\x1b[91mR\\x1b[0m \\x1b[92mF\\x1b[0m \\x1b[91mR\\x1b[0m  \\x1b[91mR\\x1b[0m \\x1b[94mB\\x1b[0m \\x1b[91mR\\x1b[0m \\x1b[94mB\\x1b[0m  \\x1b[94mB\\x1b[0m \\x1b[90mL\\x1b[0m \\x1b[94mB\\x1b[0m \\x1b[90mL\\x1b[0m ',\n '\\x1b[90mL\\x1b[0m \\x1b[93mD\\x1b[0m \\x1b[90mL\\x1b[0m \\x1b[93mD\\x1b[0m  \\x1b[92mF\\x1b[0m \\x1b[91mR\\x1b[0m \\x1b[92mF\\x1b[0m \\x1b[91mR\\x1b[0m  \\x1b[91mR\\x1b[0m \\x1b[94mB\\x1b[0m \\x1b[91mR\\x1b[0m \\x1b[94mB\\x1b[0m  \\x1b[94mB\\x1b[0m \\x1b[90mL\\x1b[0m \\x1b[94mB\\x1b[0m \\x1b[90mL\\x1b[0m ',\n '',\n '         \\x1b[93mD\\x1b[0m \\x1b[97mU\\x1b[0m \\x1b[93mD\\x1b[0m \\x1b[97mU\\x1b[0m ',\n '         \\x1b[93mD\\x1b[0m \\x1b[97mU\\x1b[0m \\x1b[93mD\\x1b[0m \\x1b[97mU\\x1b[0m ',\n '         \\x1b[93mD\\x1b[0m \\x1b[97mU\\x1b[0m \\x1b[93mD\\x1b[0m \\x1b[97mU\\x1b[0m ',\n '         \\x1b[93mD\\x1b[0m \\x1b[97mU\\x1b[0m \\x1b[93mD\\x1b[0m \\x1b[97mU\\x1b[0m ',\n '',\n '2023-12-27 08:51:45,065               __init__.py:4581     INFO: lt_init begin',\n '2023-12-27 08:51:45,066               __init__.py:4583     INFO: lt_init end',\n '2023-12-27 08:51:45,066               __init__.py:4589     INFO: reduce_333 begin',\n '2023-12-27 08:51:45,067 LookupTableIDAViaGraph.py:409     INFO: LookupTableIDA444LRCentersStage: solving via C ida_search',\n './ida_search_via_graph --prune-table-0-filename lookup-tables/lookup-table-4x4x4-step12-LR-centers-stage.bin --prune-table-0-state 673688 --legal-moves \"U,U\\',U2,Uw,Uw\\',Uw2,L,L\\',L2,Lw,Lw\\',Lw2,F,F\\',F2,Fw,Fw\\',Fw2,R,R\\',R2,Rw,Rw\\',Rw2,B,B\\',B2,Bw,Bw\\',Bw2,D,D\\',D2,Dw,Dw\\',Dw2\"',\n '',\n '2023-12-27 08:51:45,094 LookupTableIDAViaGraph.py:413     INFO: ',\n '[2023-12-27T16:51:45.072] main() begin',\n '[2023-12-27T16:51:45.073] lookup-tables/lookup-table-4x4x4-step12-LR-centers-stage.bin fread begin',\n '[2023-12-27T16:51:45.091] lookup-tables/lookup-table-4x4x4-step12-LR-centers-stage.bin fread end',\n '[2023-12-27T16:51:45.091] cost_to_goal 5, pt0_state 673688, pt1_state 0, pt2_state 0, pt3_state 0, pt4_state 0',\n '[2023-12-27T16:51:45.091] IDA count 156, f_cost 5 vs threshold 5 (cost_to_here 5, cost_to_goal 0)',\n \"SOLUTION (5 steps): B' R' F' L' Dw' \",\n '[2023-12-27T16:51:45.091] IDA threshold 5, explored 156 nodes, took 0.000s, 31,200,000 nodes-per-sec',\n '[2023-12-27T16:51:45.091] IDA found solution, explored 156 total nodes, took 0.000s, 31,200,000 nodes-per-sec',\n '',\n '',\n '',\n '       PT0  CTG  TRU  IDX',\n '       ===  ===  ===  ===',\n ' INIT    5    5    5    0',\n \"   B'    4    4    4    1\",\n \"   R'    3    3    3    2\",\n \"   F'    2    2    2    3\",\n \"   L'    1    1    1    4\",\n \"  Dw'    0    0    0    5\",\n '',\n '[2023-12-27T16:51:45.091] main() end',\n '',\n '',\n '2023-12-27 08:51:45,095               __init__.py:1468     INFO: ',\n '',\n '4x4x4: LR centers staged, 5 steps, 5 total steps',\n '================================================',\n '         \\x1b[90mL\\x1b[0m \\x1b[90mL\\x1b[0m \\x1b[90mL\\x1b[0m \\x1b[94mB\\x1b[0m ',\n '         \\x1b[92mF\\x1b[0m \\x1b[92mF\\x1b[0m \\x1b[97mU\\x1b[0m \\x1b[90mL\\x1b[0m ',\n '         \\x1b[91mR\\x1b[0m \\x1b[92mF\\x1b[0m \\x1b[97mU\\x1b[0m \\x1b[94mB\\x1b[0m ',\n '         \\x1b[92mF\\x1b[0m \\x1b[91mR\\x1b[0m \\x1b[94mB\\x1b[0m \\x1b[91mR\\x1b[0m ',\n '',\n '\\x1b[90mL\\x1b[0m \\x1b[97mU\\x1b[0m \\x1b[92mF\\x1b[0m \\x1b[97mU\\x1b[0m  \\x1b[93mD\\x1b[0m \\x1b[92mF\\x1b[0m \\x1b[92mF\\x1b[0m \\x1b[92mF\\x1b[0m  \\x1b[91mR\\x1b[0m \\x1b[92mF\\x1b[0m \\x1b[97mU\\x1b[0m \\x1b[92mF\\x1b[0m  \\x1b[94mB\\x1b[0m \\x1b[90mL\\x1b[0m \\x1b[90mL\\x1b[0m \\x1b[97mU\\x1b[0m ',\n '\\x1b[90mL\\x1b[0m \\x1b[90mL\\x1b[0m \\x1b[90mL\\x1b[0m \\x1b[90mL\\x1b[0m  \\x1b[93mD\\x1b[0m \\x1b[92mF\\x1b[0m \\x1b[92mF\\x1b[0m \\x1b[92mF\\x1b[0m  \\x1b[93mD\\x1b[0m \\x1b[91mR\\x1b[0m \\x1b[91mR\\x1b[0m \\x1b[91mR\\x1b[0m  \\x1b[97mU\\x1b[0m \\x1b[94mB\\x1b[0m \\x1b[94mB\\x1b[0m \\x1b[97mU\\x1b[0m ',\n '\\x1b[93mD\\x1b[0m \\x1b[91mR\\x1b[0m \\x1b[91mR\\x1b[0m \\x1b[91mR\\x1b[0m  \\x1b[97mU\\x1b[0m \\x1b[94mB\\x1b[0m \\x1b[94mB\\x1b[0m \\x1b[94mB\\x1b[0m  \\x1b[97mU\\x1b[0m \\x1b[90mL\\x1b[0m \\x1b[90mL\\x1b[0m \\x1b[97mU\\x1b[0m  \\x1b[93mD\\x1b[0m \\x1b[93mD\\x1b[0m \\x1b[93mD\\x1b[0m \\x1b[93mD\\x1b[0m ',\n '\\x1b[94mB\\x1b[0m \\x1b[92mF\\x1b[0m \\x1b[92mF\\x1b[0m \\x1b[92mF\\x1b[0m  \\x1b[93mD\\x1b[0m \\x1b[91mR\\x1b[0m \\x1b[91mR\\x1b[0m \\x1b[91mR\\x1b[0m  \\x1b[97mU\\x1b[0m \\x1b[94mB\\x1b[0m \\x1b[94mB\\x1b[0m \\x1b[90mL\\x1b[0m  \\x1b[93mD\\x1b[0m \\x1b[97mU\\x1b[0m \\x1b[93mD\\x1b[0m \\x1b[97mU\\x1b[0m ',\n '',\n '         \\x1b[93mD\\x1b[0m \\x1b[91mR\\x1b[0m \\x1b[91mR\\x1b[0m \\x1b[91mR\\x1b[0m ',\n '         \\x1b[93mD\\x1b[0m \\x1b[93mD\\x1b[0m \\x1b[93mD\\x1b[0m \\x1b[94mB\\x1b[0m ',\n '         \\x1b[93mD\\x1b[0m \\x1b[97mU\\x1b[0m \\x1b[97mU\\x1b[0m \\x1b[94mB\\x1b[0m ',\n '         \\x1b[94mB\\x1b[0m \\x1b[90mL\\x1b[0m \\x1b[94mB\\x1b[0m \\x1b[90mL\\x1b[0m ',\n '',\n 'Traceback (most recent call last):',\n '  File \"/Users/seanbearden/PycharmProjects/Kaggle/src/santa-2023/magic-cube/rubiks-cube-NxNxN-solver/./rubiks-cube-solver.py\", line 124, in <module>',\n '    cube.solve(solution333)',\n '  File \"/Users/seanbearden/PycharmProjects/Kaggle/src/santa-2023/magic-cube/rubiks-cube-NxNxN-solver/rubikscubennnsolver/__init__.py\", line 4591, in solve',\n '    self.reduce_333()',\n '  File \"/Users/seanbearden/PycharmProjects/Kaggle/src/santa-2023/magic-cube/rubiks-cube-NxNxN-solver/rubikscubennnsolver/RubiksCube444.py\", line 1282, in reduce_333',\n '    self.phase2()',\n '  File \"/Users/seanbearden/PycharmProjects/Kaggle/src/santa-2023/magic-cube/rubiks-cube-NxNxN-solver/rubikscubennnsolver/RubiksCube444.py\", line 1003, in phase2',\n '    states_to_find.append(pt.state())',\n '  File \"/Users/seanbearden/PycharmProjects/Kaggle/src/santa-2023/magic-cube/rubiks-cube-NxNxN-solver/rubikscubennnsolver/RubiksCube444.py\", line 346, in state',\n '    return self.parent.highlow_edges_state(self.parent.edge_mapping)',\n '  File \"/Users/seanbearden/PycharmProjects/Kaggle/src/santa-2023/magic-cube/rubiks-cube-NxNxN-solver/rubikscubennnsolver/RubiksCube444.py\", line 913, in highlow_edges_state',\n '    high_low = highlow_edge_values_444[(x, y, state_x, state_y)]',\n \"KeyError: (2, 67, 'L', 'L')\"]"
     },
     "execution_count": 64,
     "metadata": {},
     "output_type": "execute_result"
    }
   ],
   "source": [
    "output\n",
    "# init_state"
   ],
   "metadata": {
    "collapsed": false,
    "ExecuteTime": {
     "end_time": "2023-12-27T16:53:00.979176Z",
     "start_time": "2023-12-27T16:53:00.952667Z"
    }
   },
   "id": "6b6cc13c8d74f2fa",
   "execution_count": 64
  },
  {
   "cell_type": "code",
   "outputs": [
    {
     "name": "stdout",
     "output_type": "stream",
     "text": [
      "A N0 False\n",
      "A N1 False\n",
      "A N2 False\n",
      "A N3 False\n",
      "A N4 False\n",
      "D N5 False\n",
      "D N8 False\n",
      "D N13 False\n",
      "D N6 False\n",
      "D N9 False\n",
      "G N10 False\n",
      "G N17 False\n",
      "G N12 False\n",
      "G N11 False\n",
      "G N14 False\n",
      "J N15 False\n",
      "J N16 False\n",
      "J N7 False\n",
      "J N18 False\n",
      "J N19 False\n",
      "M N20 False\n",
      "M N21 False\n",
      "M N22 False\n",
      "M N23 False\n",
      "M N24 False\n",
      "P N25 False\n",
      "P N26 False\n",
      "P N27 False\n",
      "P N28 False\n",
      "P N29 False\n",
      "S N30 False\n",
      "S N41 False\n",
      "S N38 False\n",
      "S N31 False\n",
      "S N34 False\n",
      "V N35 False\n",
      "V N42 False\n",
      "V N37 False\n",
      "V N36 False\n",
      "V N39 False\n",
      "Y N40 False\n",
      "Y N43 False\n",
      "Y N32 False\n",
      "Y N33 False\n",
      "Y N44 False\n",
      "b N45 False\n",
      "b N46 False\n",
      "b N47 False\n",
      "b N48 False\n",
      "b N49 False\n",
      "A N50 False\n",
      "A N51 False\n",
      "A N52 False\n",
      "A N53 False\n",
      "A N54 False\n",
      "D N55 False\n",
      "D N68 False\n",
      "D N63 False\n",
      "D N58 False\n",
      "D N59 False\n",
      "G N60 False\n",
      "G N61 False\n",
      "G N62 False\n",
      "G N57 False\n",
      "G N64 False\n",
      "J N65 False\n",
      "J N66 False\n",
      "J N67 False\n",
      "J N56 False\n",
      "J N69 False\n",
      "M N70 False\n",
      "M N71 False\n",
      "M N72 False\n",
      "M N73 False\n",
      "M N74 False\n",
      "P N75 False\n",
      "P N76 False\n",
      "P N77 False\n",
      "P N78 False\n",
      "P N79 False\n",
      "S N80 False\n",
      "S N81 False\n",
      "S N82 False\n",
      "S N91 False\n",
      "S N84 False\n",
      "V N85 False\n",
      "V N92 False\n",
      "V N87 False\n",
      "V N88 False\n",
      "V N89 False\n",
      "Y N90 False\n",
      "Y N93 False\n",
      "Y N86 False\n",
      "Y N83 False\n",
      "Y N94 False\n",
      "b N95 False\n",
      "b N96 False\n",
      "b N97 False\n",
      "b N98 False\n",
      "b N99 False\n",
      "A N100 False\n",
      "A N101 False\n",
      "A N102 False\n",
      "A N103 False\n",
      "A N104 False\n",
      "D N105 False\n",
      "D N118 False\n",
      "D N107 False\n",
      "D N108 False\n",
      "D N109 False\n",
      "G N110 False\n",
      "G N117 False\n",
      "G N112 False\n",
      "G N113 False\n",
      "G N114 False\n",
      "J N115 False\n",
      "J N116 False\n",
      "J N111 False\n",
      "J N106 False\n",
      "J N119 False\n",
      "M N120 False\n",
      "M N121 False\n",
      "M N122 False\n",
      "M N123 False\n",
      "M N124 False\n",
      "P N125 False\n",
      "P N126 False\n",
      "P N127 False\n",
      "P N128 False\n",
      "P N129 False\n",
      "S N130 False\n",
      "S N133 False\n",
      "S N142 False\n",
      "S N141 False\n",
      "S N134 False\n",
      "V N135 False\n",
      "V N136 False\n",
      "V N137 False\n",
      "V N138 False\n",
      "V N139 False\n",
      "Y N140 False\n",
      "Y N131 False\n",
      "Y N132 False\n",
      "Y N143 False\n",
      "Y N144 False\n",
      "b N145 False\n",
      "b N146 False\n",
      "b N147 False\n",
      "b N148 False\n",
      "b N149 False\n",
      "150\n"
     ]
    }
   ],
   "source": [
    " total_incorrect = 0\n",
    "for i, j in zip(row['solution_state'].split(\";\"), state):\n",
    "    print(i, j, i==j)\n",
    "    if i!=j:\n",
    "        total_incorrect += 1\n",
    "print(total_incorrect)"
   ],
   "metadata": {
    "collapsed": false,
    "ExecuteTime": {
     "end_time": "2023-12-27T07:50:09.694428Z",
     "start_time": "2023-12-27T07:50:09.678915Z"
    }
   },
   "id": "d17de628d574ce47",
   "execution_count": 11
  },
  {
   "cell_type": "code",
   "outputs": [],
   "source": [
    "# import importlib\n",
    "# import brute_force\n",
    "# importlib.reload(brute_force)\n",
    "# \n",
    "# puzzle = puzzles.loc[id]\n",
    "# sol = brute_force.solve(puzzle, puzzle_info, ';'.join(state))\n",
    "# sol"
   ],
   "metadata": {
    "collapsed": false,
    "ExecuteTime": {
     "end_time": "2023-12-27T07:49:54.921692Z",
     "start_time": "2023-12-27T07:49:54.918708Z"
    }
   },
   "id": "6d6177272727a04a",
   "execution_count": 9
  },
  {
   "cell_type": "code",
   "outputs": [
    {
     "data": {
      "text/plain": "\"Rw2 Uw B Bw2 Rw' L Dw L2 Lw2 Fw' Fw2 Dw B' R Bw2 Dw B2 Uw' Rw2 U L Fw2 R' U' U2 F Uw2 Lw2 D2 Bw2 Fw2 R2 F2 Dw2 B2 R Uw2 L Bw2 F' Rw2 D2 B Rw2 B' R2 F' Uw2 B2 L2 Lw2 Uw2 B Lw2 D2 B D' R' B L' D2 R' U' B2 D F2 R2 L2 B' L2 F2 R2 D2 L2\""
     },
     "execution_count": 10,
     "metadata": {},
     "output_type": "execute_result"
    }
   ],
   "source": [
    "sol"
   ],
   "metadata": {
    "collapsed": false,
    "ExecuteTime": {
     "end_time": "2023-12-27T07:49:54.942584Z",
     "start_time": "2023-12-27T07:49:54.924190Z"
    }
   },
   "id": "87aa37e7a5ca5b34",
   "execution_count": 10
  },
  {
   "cell_type": "code",
   "outputs": [],
   "source": [],
   "metadata": {
    "collapsed": false,
    "ExecuteTime": {
     "end_time": "2023-12-27T07:49:54.942866Z",
     "start_time": "2023-12-27T07:49:54.927351Z"
    }
   },
   "id": "56b12d728de576e7",
   "execution_count": 10
  },
  {
   "cell_type": "code",
   "outputs": [],
   "source": [],
   "metadata": {
    "collapsed": false,
    "ExecuteTime": {
     "end_time": "2023-12-27T07:49:54.943194Z",
     "start_time": "2023-12-27T07:49:54.930186Z"
    }
   },
   "id": "efa01a54a9b1e6bf",
   "execution_count": 10
  },
  {
   "cell_type": "code",
   "outputs": [
    {
     "data": {
      "text/plain": "id                                                     126\nmoves    f1.d1.f1.d2.f0.f2.-r2.-r2.d2.f0.f2.-r2.r1.-f2....\nName: 126, dtype: object"
     },
     "execution_count": 4,
     "metadata": {},
     "output_type": "execute_result"
    }
   ],
   "source": [
    "submission.loc[126]"
   ],
   "metadata": {
    "collapsed": false,
    "ExecuteTime": {
     "end_time": "2023-12-28T23:55:07.861983Z",
     "start_time": "2023-12-28T23:55:07.858299Z"
    }
   },
   "id": "719c54c3d787ba86",
   "execution_count": 4
  },
  {
   "cell_type": "code",
   "outputs": [],
   "source": [],
   "metadata": {
    "collapsed": false
   },
   "id": "7ee6869ddf29915b"
  }
 ],
 "metadata": {
  "kernelspec": {
   "display_name": "Python 3",
   "language": "python",
   "name": "python3"
  },
  "language_info": {
   "codemirror_mode": {
    "name": "ipython",
    "version": 2
   },
   "file_extension": ".py",
   "mimetype": "text/x-python",
   "name": "python",
   "nbconvert_exporter": "python",
   "pygments_lexer": "ipython2",
   "version": "2.7.6"
  }
 },
 "nbformat": 4,
 "nbformat_minor": 5
}
