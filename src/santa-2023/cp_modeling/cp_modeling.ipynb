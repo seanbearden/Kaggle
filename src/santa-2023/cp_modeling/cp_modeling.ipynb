{
 "cells": [
  {
   "cell_type": "markdown",
   "source": [
    "# <div style=\"font-family: Cambria; font-weight:bold; letter-spacing: 0px; color:white; font-size:200%; text-align:center;padding:3.0px; background: #6A1B9A; border-bottom: 8px solid #9C27B0\">Santa 2023 - CP modeling of wreath_N/N</div>\n",
    "#### <div style= \"font-family: Cambria; font-weight:bold; letter-spacing: 0px; color:white; font-size:150%; text-align:left;padding:3.0px; background: #6A1B9A; border-bottom: 8px solid #9C27B0\" >TABLE OF CONTENTS<br><div>\n",
    "* [IMPORTS](#1)\n",
    "* [LOAD DATA](#2)\n",
    "* [FUNCTIONS](#3)\n",
    "* [SOLVE](#4)\n",
    "\n",
    "Code modified from: https://www.kaggle.com/code/siukeitin/santa-2023-cp-modeling-of-wreath-n-n-for-n-6-7"
   ],
   "metadata": {
    "collapsed": false
   },
   "id": "3f9b3d33a851f8c2"
  },
  {
   "cell_type": "markdown",
   "source": [
    "<a id=\"1\"></a>\n",
    "# <div style= \"font-family: Cambria; font-weight:bold; letter-spacing: 0px; color:white; font-size:120%; text-align:left;padding:3.0px; background: #6A1B9A; border-bottom: 8px solid #9C27B0\" > IMPORTS<br><div> "
   ],
   "metadata": {
    "collapsed": false
   },
   "id": "927a75c9caab4626"
  },
  {
   "cell_type": "code",
   "outputs": [],
   "source": [
    "from scipy.sparse import identity, csr_matrix\n",
    "import math\n",
    "from ortools.sat.python import cp_model\n",
    "import time, datetime\n",
    "from ast import literal_eval \n",
    "import numpy as np\n",
    "import pandas as pd\n",
    "from tqdm import tqdm\n",
    "import zipfile\n",
    "import sqlite3"
   ],
   "metadata": {
    "collapsed": false,
    "ExecuteTime": {
     "end_time": "2023-12-26T16:33:58.213179Z",
     "start_time": "2023-12-26T16:33:57.751546Z"
    }
   },
   "id": "b4a1d9fc3e7d4f99",
   "execution_count": 1
  },
  {
   "cell_type": "markdown",
   "source": [
    "<a id=\"2\"></a>\n",
    "# <div style= \"font-family: Cambria; font-weight:bold; letter-spacing: 0px; color:white; font-size:120%; text-align:left;padding:3.0px; background: #6A1B9A; border-bottom: 8px solid #9C27B0\" >LOAD DATA<br><div> "
   ],
   "metadata": {
    "collapsed": false
   },
   "id": "4be3d027b56234bb"
  },
  {
   "cell_type": "code",
   "outputs": [],
   "source": [
    "with zipfile.ZipFile('../../../res/data/santa-2023.zip', 'r') as z:\n",
    "    \n",
    "    with z.open('puzzle_info.csv') as f:\n",
    "        puzzle_info = pd.read_csv(f, index_col = 'puzzle_type')        \n",
    "                \n",
    "    with z.open('puzzles.csv') as f:\n",
    "        puzzles = pd.read_csv(f, index_col = 'id')\n",
    "    \n",
    "    with z.open('sample_submission.csv') as f:\n",
    "        submission = pd.read_csv(f)"
   ],
   "metadata": {
    "collapsed": false,
    "ExecuteTime": {
     "end_time": "2023-12-26T16:34:01.324727Z",
     "start_time": "2023-12-26T16:34:01.216866Z"
    }
   },
   "id": "42e6380d8e779c22",
   "execution_count": 2
  },
  {
   "cell_type": "markdown",
   "source": [
    "<a id=\"3\"></a>\n",
    "# <div style= \"font-family: Cambria; font-weight:bold; letter-spacing: 0px; color:white; font-size:120%; text-align:left;padding:3.0px; background: #6A1B9A; border-bottom: 8px solid #9C27B0\" >FUNCTIONS<br><div> "
   ],
   "metadata": {
    "collapsed": false
   },
   "id": "9784e86482d58ff4"
  },
  {
   "cell_type": "code",
   "outputs": [],
   "source": [
    "def build_automaton(allowed_moves,initial_state,solution_state,wildcards,sparse_matrix=False,progress=False):\n",
    "    P = []\n",
    "    for m in allowed_moves:\n",
    "        x = allowed_moves[m]\n",
    "        if sparse_matrix:\n",
    "            P.append(csr_matrix(identity(len(x)))[x])\n",
    "        else:\n",
    "            P.append(np.eye(len(x),dtype='int')[x])\n",
    "    \n",
    "    if progress:\n",
    "        N = (len(initial_state)+2)//2\n",
    "        pbar = tqdm(total=math.factorial(len(initial_state))//math.factorial(N-2)**2//2)\n",
    "    \n",
    "    states = [list(initial_state)]\n",
    "    if progress:\n",
    "        pbar.update()\n",
    "    final_states = []\n",
    "    arcs = []\n",
    "    i = 0\n",
    "    while i < len(states):\n",
    "        s0 = states[i]\n",
    "        if np.sum(np.array(s0)!=solution_state)<=wildcards:\n",
    "            arcs.append((i,0,i)) # self loop\n",
    "            final_states.append(i)\n",
    "        else:\n",
    "            for j,p in enumerate(P):\n",
    "                # forward\n",
    "                s1 = list(p@np.array(s0))\n",
    "                if s1 in states:\n",
    "                    i1 = states.index(s1)\n",
    "                else:\n",
    "                    states.append(s1)\n",
    "                    i1 = len(states)-1\n",
    "                    if progress:\n",
    "                        pbar.update()\n",
    "                arcs.append((i,j+1,i1))\n",
    "                # backwards\n",
    "                s1 = list(p.T@np.array(s0))\n",
    "                if s1 in states:\n",
    "                    i1 = states.index(s1)\n",
    "                else:\n",
    "                    states.append(s1)\n",
    "                    i1 = len(states)-1\n",
    "                    if progress:\n",
    "                        pbar.update()\n",
    "                arcs.append((i,-j-1,i1))            \n",
    "        i += 1\n",
    "        \n",
    "    if progress:\n",
    "        pbar.close()\n",
    "        \n",
    "    return states, arcs, final_states"
   ],
   "metadata": {
    "collapsed": false,
    "ExecuteTime": {
     "end_time": "2023-12-26T16:34:02.207122Z",
     "start_time": "2023-12-26T16:34:02.201270Z"
    }
   },
   "id": "87cc688dfa4b7b1d",
   "execution_count": 3
  },
  {
   "cell_type": "code",
   "outputs": [],
   "source": [
    "def solve_wreath_puzzle(puzzle, allowed_moves, verbose=False):\n",
    "\n",
    "    t0 = time.time()\n",
    "    initial_state = np.array(puzzle.initial_state.split(';'))\n",
    "    initial_state = np.vectorize({'A':0,'B':1,'C':2}.get)(initial_state)\n",
    "    solution_state = np.array(puzzle.solution_state.split(';'))\n",
    "    solution_state = np.vectorize({'A':0,'B':1,'C':2}.get)(solution_state)\n",
    "    wildcards = puzzle.num_wildcards\n",
    "\n",
    "    if verbose:\n",
    "        print('Building automaton...')\n",
    "    states, arcs, final_states = build_automaton(allowed_moves,initial_state,solution_state,\n",
    "                                                 wildcards=wildcards,sparse_matrix=False,progress=verbose)\n",
    "\n",
    "    max_steps = 10\n",
    "    done = False\n",
    "    M = 100\n",
    "    \n",
    "    if verbose:\n",
    "        print('Solving automaton...')\n",
    "    while not done and max_steps <= M: # prevent infinite loop\n",
    "        \n",
    "        model = cp_model.CpModel()\n",
    "\n",
    "        t = [model.NewIntVar(-2,2,F't_{i}') for i in range(max_steps)]\n",
    "        z = [model.NewBoolVar(F'z_{i}') for i in range(max_steps)]\n",
    "\n",
    "        starting_state = 0\n",
    "        model.AddAutomaton(t, starting_state, final_states, arcs)\n",
    "        for i in range(max_steps):\n",
    "            model.Add(t[i] == 0).OnlyEnforceIf(z[i].Not())\n",
    "\n",
    "        model.Minimize(cp_model.LinearExpr.Sum(z))\n",
    "\n",
    "        solver = cp_model.CpSolver()\n",
    "        status = solver.Solve(model)\n",
    "\n",
    "        if status == cp_model.OPTIMAL or status == cp_model.FEASIBLE:\n",
    "            moves = np.array([solver.Value(t[i]) for i in range(max_steps)])\n",
    "            moves = moves[moves!=0]\n",
    "            solution = np.vectorize({-2:'-r',-1:'-l',1:'l',2:'r'}.get)(moves)\n",
    "            solution = '.'.join(solution)\n",
    "            done = True\n",
    "            if verbose:\n",
    "                print('Solution found: {0} in {1} moves. Elapsed time {2}'.format(\n",
    "                    \"Optimal\" if status == cp_model.OPTIMAL else \"Feasible\", len(moves), \n",
    "                    str(datetime.timedelta(seconds=time.time()-t0))))\n",
    "        else:\n",
    "            max_steps += 5\n",
    "            \n",
    "    if done:\n",
    "        return solution\n",
    "    else:\n",
    "        if verbose:\n",
    "            print(F'No solution found in {M} moves. Elapsed time {str(datetime.timedelta(seconds=time.time()-t0))}')\n",
    "        return None"
   ],
   "metadata": {
    "collapsed": false,
    "ExecuteTime": {
     "end_time": "2023-12-26T16:34:02.723747Z",
     "start_time": "2023-12-26T16:34:02.719482Z"
    }
   },
   "id": "2a0bb01f499cf496",
   "execution_count": 4
  },
  {
   "cell_type": "markdown",
   "source": [
    "<a id=\"4\"></a>\n",
    "# <div style= \"font-family: Cambria; font-weight:bold; letter-spacing: 0px; color:white; font-size:120%; text-align:left;padding:3.0px; background: #6A1B9A; border-bottom: 8px solid #9C27B0\" >SOLVE<br><div> "
   ],
   "metadata": {
    "collapsed": false
   },
   "id": "580cda3cf75e39aa"
  },
  {
   "cell_type": "code",
   "outputs": [
    {
     "name": "stdout",
     "output_type": "stream",
     "text": [
      "Building automaton...\n"
     ]
    },
    {
     "name": "stderr",
     "output_type": "stream",
     "text": [
      "  0%|          | 103152/938303560162606353408 [20:07<7581303878664303:30:08, 34.38it/s] \n",
      "KeyboardInterrupt\n",
      "\n"
     ]
    }
   ],
   "source": [
    "puzzle_id = 334\n",
    "puzzle = puzzles.iloc[puzzle_id]\n",
    "allowed_moves = literal_eval(puzzle_info.loc[puzzle.puzzle_type].allowed_moves)\n",
    "solution = solve_wreath_puzzle(puzzle, allowed_moves, verbose=True)\n",
    "solution"
   ],
   "metadata": {
    "collapsed": false,
    "ExecuteTime": {
     "end_time": "2023-12-26T16:55:06.815795Z",
     "start_time": "2023-12-26T16:34:59.333562Z"
    }
   },
   "id": "706bbe1abc6ae921",
   "execution_count": 6
  },
  {
   "cell_type": "code",
   "outputs": [
    {
     "name": "stdout",
     "output_type": "stream",
     "text": [
      "puzzle_type                                            wreath_21/21\n",
      "solution_state    C;A;A;A;A;A;C;A;A;A;A;A;A;A;A;A;A;A;A;A;A;B;B;...\n",
      "initial_state     B;A;A;B;B;B;B;A;B;A;B;B;B;B;A;B;B;A;A;A;A;A;B;...\n",
      "num_wildcards                                                     0\n",
      "Name: 333, dtype: object\n",
      "Sample score: 3290\n",
      "Number of moves: 4\n",
      "K: 15\n",
      "Number of shortest_path: 7470398\n"
     ]
    },
    {
     "name": "stderr",
     "output_type": "stream",
     "text": [
      "Score: 3044 (-246):  51%|█████     | 1672/3275 [2:41:10<1:16:21,  2.86s/it]"
     ]
    }
   ],
   "source": [
    "database_file = '../solutions.db'\n",
    "solution_method = 'iterative replacement of K successive moves'\n",
    "\n",
    "\n",
    "conn = sqlite3.connect(database_file)\n",
    "cursor = conn.cursor()\n",
    "\n",
    "for game_id in range(333, 398):# range(187, 281):\n",
    "    # game_id = 1\n",
    "    puzzle = puzzles.loc[game_id]\n",
    "    time_limit = 72 * 60 * 60\n",
    "    \n",
    "    select_query = \"SELECT moves, solution_method FROM solutions WHERE id = ?\"\n",
    "            \n",
    "    # Execute the query\n",
    "    cursor.execute(select_query, (game_id,))\n",
    "    response = cursor.fetchone()\n",
    "    \n",
    "    sample_moves = response[0].split(\".\")\n",
    "    best_solution_method = response[1]\n",
    "    \n",
    "    # sample_submission = pd.read_csv(\"data/sample_submission.csv\").set_index(\"id\").loc[game_id]\n",
    "    # sample_moves = sample_submission[\"moves\"].split(\".\")\n",
    "    print(puzzle)\n",
    "    print(f\"Sample score: {len(sample_moves)}\")\n",
    "    \n",
    "    moves = get_moves(puzzle[\"puzzle_type\"])\n",
    "    print(f\"Number of moves: {len(moves)}\")\n",
    "    \n",
    "    K = 2\n",
    "    while True:\n",
    "        try:\n",
    "            shortest_path = get_shortest_path(moves, K, None if K == 2 else 10000000)\n",
    "        except ExceedMaxSizeError:\n",
    "            break\n",
    "        K += 1\n",
    "    print(f\"K: {K}\")\n",
    "    print(f\"Number of shortest_path: {len(shortest_path)}\")\n",
    "    \n",
    "    current_state = puzzle[\"initial_state\"].split(\";\")\n",
    "    current_solution = list(sample_moves)\n",
    "    initial_score = len(current_solution)\n",
    "    start_time = time.time()\n",
    "    \n",
    "    with tqdm(total=len(current_solution) - K, desc=f\"Score: {len(current_solution)} (-0)\") as pbar:\n",
    "        step = 0\n",
    "        while step + K < len(current_solution) and time.time() - start_time < time_limit:\n",
    "            replaced_moves = current_solution[step : step + K + 1]\n",
    "            state_before = current_state\n",
    "            state_after = current_state\n",
    "            for move_name in replaced_moves:\n",
    "                state_after = [state_after[i] for i in moves[move_name]]\n",
    "    \n",
    "            found_moves = None\n",
    "            for perm, move_names in shortest_path.items():\n",
    "                for i, j in enumerate(perm):\n",
    "                    if state_after[i] != state_before[j]:\n",
    "                        break\n",
    "                else:\n",
    "                    found_moves = move_names\n",
    "                    break\n",
    "    \n",
    "            if found_moves is not None:\n",
    "                length_before = len(current_solution)\n",
    "                current_solution = current_solution[:step] + list(found_moves) + current_solution[step + K + 1 :]\n",
    "                pbar.update(length_before - len(current_solution))\n",
    "                pbar.set_description(f\"Score: {len(current_solution)} ({len(current_solution) - initial_score})\")\n",
    "                for _ in range(K):\n",
    "                    if step == 0:\n",
    "                        break\n",
    "                    step -= 1\n",
    "                    pbar.update(-1)\n",
    "                    move_name = current_solution[step]\n",
    "                    move_name = move_name[1:] if move_name.startswith(\"-\") else f\"-{move_name}\"\n",
    "                    current_state = [current_state[i] for i in moves[move_name]]\n",
    "            else:\n",
    "                current_state = [current_state[i] for i in moves[current_solution[step]]]\n",
    "                step += 1\n",
    "                pbar.update(1)\n",
    "    \n",
    "    # validation\n",
    "    state = puzzle[\"initial_state\"].split(\";\")\n",
    "    for move_name in current_solution:\n",
    "        state = [state[i] for i in moves[move_name]]\n",
    "    # print(puzzle[\"solution_state\"])\n",
    "    # print(state)\n",
    "    assert puzzle[\"solution_state\"].split(\";\") == state\n",
    "    current_solution_length = len(current_solution)\n",
    "    if current_solution_length < len(sample_moves):\n",
    "        # print('.'.join(current_solution))\n",
    "        print(f'Improvement to {game_id}')\n",
    "        # Insert the moves into the database\n",
    "        insert_query = \"INSERT OR REPLACE INTO solutions (id, moves, count, solution_method) VALUES (?, ?, ?, ?)\"\n",
    "        cursor.execute(insert_query, (game_id, '.'.join(current_solution), current_solution_length, f'{solution_method}: {best_solution_method}'))\n",
    "        conn.commit()\n",
    "# Commit the changes and close the connection\n",
    "conn.commit()\n",
    "conn.close()"
   ],
   "metadata": {
    "collapsed": false,
    "ExecuteTime": {
     "start_time": "2023-12-26T13:45:10.322264Z"
    }
   },
   "id": "b3edd31a93989ca5",
   "execution_count": null
  },
  {
   "cell_type": "code",
   "outputs": [],
   "source": [
    "current_solution"
   ],
   "metadata": {
    "collapsed": false,
    "ExecuteTime": {
     "end_time": "2023-12-26T13:40:44.833566Z",
     "start_time": "2023-12-26T13:40:44.833072Z"
    }
   },
   "id": "b794a200b4d8a89b",
   "execution_count": null
  },
  {
   "cell_type": "markdown",
   "source": [],
   "metadata": {
    "collapsed": false
   },
   "id": "a91481293e87f763"
  },
  {
   "cell_type": "code",
   "outputs": [],
   "source": [],
   "metadata": {
    "collapsed": false,
    "ExecuteTime": {
     "start_time": "2023-12-26T13:40:44.835186Z"
    }
   },
   "id": "7aa9b7d7563df1e7",
   "execution_count": null
  },
  {
   "cell_type": "code",
   "outputs": [],
   "source": [],
   "metadata": {
    "collapsed": false,
    "ExecuteTime": {
     "start_time": "2023-12-26T13:40:44.837285Z"
    }
   },
   "id": "792eeed4bc92aa7",
   "execution_count": null
  },
  {
   "cell_type": "code",
   "outputs": [],
   "source": [],
   "metadata": {
    "collapsed": false,
    "ExecuteTime": {
     "start_time": "2023-12-26T13:40:44.838610Z"
    }
   },
   "id": "bdea8852ff1e0828",
   "execution_count": null
  }
 ],
 "metadata": {
  "kernelspec": {
   "display_name": "Python 3",
   "language": "python",
   "name": "python3"
  },
  "language_info": {
   "codemirror_mode": {
    "name": "ipython",
    "version": 2
   },
   "file_extension": ".py",
   "mimetype": "text/x-python",
   "name": "python",
   "nbconvert_exporter": "python",
   "pygments_lexer": "ipython2",
   "version": "2.7.6"
  }
 },
 "nbformat": 4,
 "nbformat_minor": 5
}
