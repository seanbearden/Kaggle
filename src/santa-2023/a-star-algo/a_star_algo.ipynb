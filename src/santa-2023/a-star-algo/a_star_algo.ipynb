{
 "cells": [
  {
   "cell_type": "markdown",
   "source": [
    "# <div style=\"font-family: Cambria; font-weight:bold; letter-spacing: 0px; color:white; font-size:200%; text-align:center;padding:3.0px; background: #6A1B9A; border-bottom: 8px solid #9C27B0\">Santa 2023 - A-Star Algorithm</div>\n",
    "#### <div style= \"font-family: Cambria; font-weight:bold; letter-spacing: 0px; color:white; font-size:150%; text-align:left;padding:3.0px; background: #6A1B9A; border-bottom: 8px solid #9C27B0\" >TABLE OF CONTENTS<br><div>\n",
    "* [IMPORTS](#1)\n",
    "* [LOAD DATA](#2)\n",
    "* [FUNCTIONS](#3)\n",
    "* [SOLVE](#4)\n",
    "\n",
    "Code modified from: https://www.kaggle.com/code/whats2000/a-star-algorithm-polytope-permutation"
   ],
   "metadata": {
    "collapsed": false
   },
   "id": "3f9b3d33a851f8c2"
  },
  {
   "cell_type": "markdown",
   "source": [
    "<a id=\"1\"></a>\n",
    "# <div style= \"font-family: Cambria; font-weight:bold; letter-spacing: 0px; color:white; font-size:120%; text-align:left;padding:3.0px; background: #6A1B9A; border-bottom: 8px solid #9C27B0\" > IMPORTS<br><div> "
   ],
   "metadata": {
    "collapsed": false
   },
   "id": "927a75c9caab4626"
  },
  {
   "cell_type": "code",
   "outputs": [],
   "source": [
    "import os\n",
    "import time\n",
    "import json\n",
    "import heapq\n",
    "import pandas as pd\n",
    "from ast import literal_eval\n",
    "from dataclasses import dataclass\n",
    "import random\n",
    "from sympy.combinatorics import Permutation\n",
    "from typing import Dict, List\n",
    "import zipfile\n",
    "import numpy as np\n",
    "import sqlite3\n",
    "from tqdm import tqdm\n"
   ],
   "metadata": {
    "collapsed": false,
    "ExecuteTime": {
     "end_time": "2023-12-24T22:07:05.664191Z",
     "start_time": "2023-12-24T22:07:05.636911Z"
    }
   },
   "id": "b4a1d9fc3e7d4f99",
   "execution_count": 2
  },
  {
   "cell_type": "code",
   "outputs": [],
   "source": [
    "database_file = '../solutions.db'"
   ],
   "metadata": {
    "collapsed": false,
    "ExecuteTime": {
     "end_time": "2023-12-24T22:07:05.677540Z",
     "start_time": "2023-12-24T22:07:05.667978Z"
    }
   },
   "id": "3389968265ae759",
   "execution_count": 3
  },
  {
   "cell_type": "markdown",
   "source": [
    "<a id=\"2\"></a>\n",
    "# <div style= \"font-family: Cambria; font-weight:bold; letter-spacing: 0px; color:white; font-size:120%; text-align:left;padding:3.0px; background: #6A1B9A; border-bottom: 8px solid #9C27B0\" >LOAD DATA<br><div> "
   ],
   "metadata": {
    "collapsed": false
   },
   "id": "4be3d027b56234bb"
  },
  {
   "cell_type": "code",
   "outputs": [],
   "source": [
    "with zipfile.ZipFile('../../../res/data/santa-2023.zip', 'r') as z:\n",
    "    \n",
    "    with z.open('puzzle_info.csv') as f:\n",
    "        puzzle_info = pd.read_csv(f, index_col = 'puzzle_type')        \n",
    "                \n",
    "    with z.open('puzzles.csv') as f:\n",
    "        puzzles = pd.read_csv(f, index_col = 'id')\n",
    "    \n",
    "    with z.open('sample_submission.csv') as f:\n",
    "        submission = pd.read_csv(f)"
   ],
   "metadata": {
    "collapsed": false,
    "ExecuteTime": {
     "end_time": "2023-12-24T22:10:17.047093Z",
     "start_time": "2023-12-24T22:10:16.946565Z"
    }
   },
   "id": "42e6380d8e779c22",
   "execution_count": 12
  },
  {
   "cell_type": "code",
   "outputs": [],
   "source": [
    "# Parsing the initial_state and solution_state columns\n",
    "# Converting the semicolon-separated string values into lists of colors\n",
    "puzzles['parsed_initial_state'] = puzzles['initial_state'].apply(lambda x: x.split(';'))\n",
    "puzzles['parsed_solution_state'] = puzzles['solution_state'].apply(lambda x: x.split(';'))\n",
    "\n",
    "# Converting the string representation of allowed_moves to dictionary\n",
    "puzzle_info['allowed_moves'] = puzzle_info['allowed_moves'].apply(lambda x: json.loads(x.replace(\"'\", '\"')))\n",
    "\n",
    "# Selecting an example puzzle type and displaying its allowed moves\n",
    "example_puzzle_type = 'cube_2/2/2'\n",
    "example_allowed_moves = puzzle_info.loc[example_puzzle_type, 'allowed_moves']\n"
   ],
   "metadata": {
    "collapsed": false,
    "ExecuteTime": {
     "end_time": "2023-12-24T22:10:17.227929Z",
     "start_time": "2023-12-24T22:10:17.152339Z"
    }
   },
   "id": "4869787ff1926ab8",
   "execution_count": 13
  },
  {
   "cell_type": "markdown",
   "source": [
    "<a id=\"3\"></a>\n",
    "# <div style= \"font-family: Cambria; font-weight:bold; letter-spacing: 0px; color:white; font-size:120%; text-align:left;padding:3.0px; background: #6A1B9A; border-bottom: 8px solid #9C27B0\" >FUNCTIONS<br><div> "
   ],
   "metadata": {
    "collapsed": false
   },
   "id": "9784e86482d58ff4"
  },
  {
   "cell_type": "code",
   "outputs": [],
   "source": [
    "def apply_move(state, move, inverse=False):\n",
    "    \"\"\"\n",
    "    Apply a move or its inverse to the puzzle state.\n",
    "\n",
    "    :param state: List of colors representing the current state of the puzzle.\n",
    "    :param move: List representing the move as a permutation.\n",
    "    :param inverse: Boolean indicating whether to apply the inverse of the move.\n",
    "    :return: New state of the puzzle after applying the move.\n",
    "    \"\"\"\n",
    "    if inverse:\n",
    "        # Creating a dictionary to map the original positions to the new positions\n",
    "        inverse_move = {v: k for k, v in enumerate(move)}\n",
    "        return [state[inverse_move[i]] for i in range(len(state))]\n",
    "    else:\n",
    "        return [state[i] for i in move]\n",
    "\n"
   ],
   "metadata": {
    "collapsed": false,
    "ExecuteTime": {
     "end_time": "2023-12-24T22:10:19.381228Z",
     "start_time": "2023-12-24T22:10:19.378692Z"
    }
   },
   "id": "87cc688dfa4b7b1d",
   "execution_count": 14
  },
  {
   "cell_type": "code",
   "outputs": [],
   "source": [
    "# Testing the function with an example move from the 'cube_2/2/2' puzzle\n",
    "test_state = puzzles['parsed_initial_state'].iloc[0]\n",
    "test_move = example_allowed_moves['f1']\n",
    "\n",
    "# Applying the move and its inverse to the test state\n",
    "applied_state = apply_move(test_state, test_move)\n",
    "reverted_state = apply_move(applied_state, test_move, inverse=True)"
   ],
   "metadata": {
    "collapsed": false,
    "ExecuteTime": {
     "end_time": "2023-12-24T22:10:20.742693Z",
     "start_time": "2023-12-24T22:10:20.739659Z"
    }
   },
   "id": "1f8d0eca780d0ebf",
   "execution_count": 15
  },
  {
   "cell_type": "code",
   "outputs": [
    {
     "data": {
      "text/plain": "[('r1', False), ('f1', True)]"
     },
     "execution_count": 16,
     "metadata": {},
     "output_type": "execute_result"
    }
   ],
   "source": [
    "\n",
    "def heuristic(state, goal_state):\n",
    "    \"\"\"\n",
    "    Heuristic function estimating the cost from the current state to the goal state.\n",
    "    Here, we use the number of mismatched colors between the current state and the goal state.\n",
    "    \"\"\"\n",
    "    return sum(s != g for s, g in zip(state, goal_state))\n",
    "\n",
    "import time\n",
    "\n",
    "def a_star_search_with_timeout(initial_state, goal_state, allowed_moves, timeout=300):\n",
    "    \"\"\"\n",
    "    A* search algorithm with a timeout feature.\n",
    "\n",
    "    :param initial_state: The starting state of the puzzle.\n",
    "    :param goal_state: The target state to reach.\n",
    "    :param allowed_moves: A dictionary of moves that can be applied to the state.\n",
    "    :param timeout: The maximum time (in seconds) allowed for the search.\n",
    "    :return: The shortest sequence of moves to solve the puzzle, or None if unsolved within timeout.\n",
    "    \"\"\"\n",
    "    start_time = time.time()\n",
    "    open_set = []  # Priority queue for states to explore\n",
    "    heapq.heappush(open_set, (0, initial_state, []))  # Each entry: (priority, state, path taken)\n",
    "\n",
    "    closed_set = set()  # Set to keep track of already explored states\n",
    "\n",
    "    while open_set:\n",
    "        if time.time() - start_time > timeout:\n",
    "            return None  # Timeout check\n",
    "\n",
    "        _, current_state, path = heapq.heappop(open_set)\n",
    "\n",
    "        if current_state == goal_state:\n",
    "            return path  # Goal state reached\n",
    "\n",
    "        state_tuple = tuple(current_state)\n",
    "        if state_tuple in closed_set:\n",
    "            continue  # Skip already explored states\n",
    "\n",
    "        closed_set.add(state_tuple)\n",
    "\n",
    "        for move_name, move in allowed_moves.items():\n",
    "            for inverse in [False, True]:  # Consider both move and its inverse\n",
    "                new_state = apply_move(current_state, move, inverse)\n",
    "                new_state_tuple = tuple(new_state)\n",
    "                if new_state_tuple not in closed_set:\n",
    "                    priority = len(path) + 1 + heuristic(new_state, goal_state)\n",
    "                    heapq.heappush(open_set, (priority, new_state, path + [(move_name, inverse)]))\n",
    "\n",
    "# Testing the A* search algorithm with an example\n",
    "test_initial_state = puzzles['parsed_initial_state'].iloc[0]\n",
    "test_goal_state = puzzles['parsed_solution_state'].iloc[0]\n",
    "test_allowed_moves = example_allowed_moves\n",
    "\n",
    "# Running the A* search to find a solution\n",
    "a_star_solution = a_star_search_with_timeout(test_initial_state, test_goal_state, test_allowed_moves)\n",
    "a_star_solution  # Display the solution moves (if found)"
   ],
   "metadata": {
    "collapsed": false,
    "ExecuteTime": {
     "end_time": "2023-12-24T22:10:22.192358Z",
     "start_time": "2023-12-24T22:10:22.189644Z"
    }
   },
   "id": "87be93374ecc7c9c",
   "execution_count": 16
  },
  {
   "cell_type": "code",
   "outputs": [],
   "source": [
    "# Modifying the A* search algorithm to improve efficiency\n",
    "def improved_heuristic_with_wildcards(state, goal_state, num_wildcards):\n",
    "    \"\"\"\n",
    "    Improved heuristic function considering wildcards.\n",
    "    \"\"\"\n",
    "    mismatches = sum(s != g for s, g in zip(state, goal_state))\n",
    "    return max(0, mismatches - num_wildcards)\n",
    "\n",
    "def improved_a_star_search_with_wildcards(initial_state, goal_state, allowed_moves, num_wildcards, max_depth=30, timeout=100):\n",
    "    \"\"\"\n",
    "    Improved A* search algorithm with wildcards, depth limit, and timeout.\n",
    "\n",
    "    :param initial_state: List representing the initial state of the puzzle.\n",
    "    :param goal_state: List representing the goal state of the puzzle.\n",
    "    :param allowed_moves: Dictionary of allowed moves and their corresponding permutations.\n",
    "    :param num_wildcards: Number of wildcards allowed for the puzzle.\n",
    "    :param max_depth: Maximum depth to search to limit the search space.\n",
    "    :param timeout: Time limit in seconds for the search.\n",
    "    :return: Shortest sequence of moves to solve the puzzle, or None if no solution is found.\n",
    "    \"\"\"\n",
    "    start_time = time.time()\n",
    "    open_set = []\n",
    "    heapq.heappush(open_set, (0, initial_state, [], num_wildcards))  # (priority, state, path, remaining wildcards)\n",
    "    closed_set = set()\n",
    "\n",
    "    while open_set:\n",
    "        if time.time() - start_time > timeout:\n",
    "            return None  # Timeout\n",
    "\n",
    "        _, current_state, path, remaining_wildcards = heapq.heappop(open_set)\n",
    "\n",
    "        if len(path) > max_depth:  # Depth limit\n",
    "            continue\n",
    "\n",
    "        if current_state == goal_state or improved_heuristic_with_wildcards(current_state, goal_state, remaining_wildcards) == 0:\n",
    "            return path\n",
    "\n",
    "        closed_set.add((tuple(current_state), remaining_wildcards))\n",
    "\n",
    "        for move_name, move in allowed_moves.items():\n",
    "            for inverse in [False, True]:\n",
    "                new_state = apply_move(current_state, move, inverse)\n",
    "                if (tuple(new_state), remaining_wildcards) not in closed_set:\n",
    "                    priority = len(path) + 1 + improved_heuristic_with_wildcards(new_state, goal_state, remaining_wildcards)\n",
    "                    heapq.heappush(open_set, (priority, new_state, path + [(move_name, inverse)], remaining_wildcards))\n",
    "\n",
    "    return None  # No solution found\n",
    "\n",
    "# Running the improved A* search to find a solution\n",
    "test_num_wildcards = puzzles['num_wildcards'].iloc[0]\n",
    "improved_a_star_solution = improved_a_star_search_with_wildcards(test_initial_state, test_goal_state, test_allowed_moves, test_num_wildcards)"
   ],
   "metadata": {
    "collapsed": false,
    "ExecuteTime": {
     "end_time": "2023-12-24T22:10:23.768619Z",
     "start_time": "2023-12-24T22:10:23.766909Z"
    }
   },
   "id": "f5cb9159a0339bba",
   "execution_count": 17
  },
  {
   "cell_type": "code",
   "outputs": [
    {
     "data": {
      "text/plain": "{'id': 0, 'moves': 'r1.-f1'}"
     },
     "execution_count": 19,
     "metadata": {},
     "output_type": "execute_result"
    }
   ],
   "source": [
    "def format_solution_for_submission(puzzle_id, solution_moves):\n",
    "    \"\"\"\n",
    "    Format the solution to a puzzle for submission.\n",
    "\n",
    "    :param puzzle_id: The unique identifier of the puzzle.\n",
    "    :param solution_moves: List of tuples representing the solution moves.\n",
    "    :return: Formatted string suitable for submission.\n",
    "    \"\"\"\n",
    "    formatted_moves = []\n",
    "    for move, inverse in solution_moves:\n",
    "        move_str = '-' + move if inverse else move\n",
    "        formatted_moves.append(move_str)\n",
    "\n",
    "    # Joining the moves into a single string separated by periods\n",
    "    return {'id': puzzle_id, 'moves': '.'.join(formatted_moves)}\n",
    "\n",
    "# Example: Formatting the solution for the first puzzle in the dataframe for submission\n",
    "puzzle_id_example = puzzles.index[0]\n",
    "formatted_solution = format_solution_for_submission(puzzle_id_example, a_star_solution)\n",
    "formatted_solution"
   ],
   "metadata": {
    "collapsed": false,
    "ExecuteTime": {
     "end_time": "2023-12-24T22:10:54.388180Z",
     "start_time": "2023-12-24T22:10:54.381229Z"
    }
   },
   "id": "9d3c45318f1df33",
   "execution_count": 19
  },
  {
   "cell_type": "code",
   "outputs": [
    {
     "name": "stderr",
     "output_type": "stream",
     "text": [
      "Solving Puzzles: 100%|██████████| 3/3 [00:05<00:00,  1.79s/it]\n"
     ]
    },
    {
     "data": {
      "text/plain": "   id                                     moves\n0   0                                    r1.-f1\n1   1            f0.r1.f1.-d0.-d0.-f0.-r0.f0.d0\n2   2  -d1.-r0.f0.-r1.f1.d1.-r1.-f0.d1.f0.d1.d1",
      "text/html": "<div>\n<style scoped>\n    .dataframe tbody tr th:only-of-type {\n        vertical-align: middle;\n    }\n\n    .dataframe tbody tr th {\n        vertical-align: top;\n    }\n\n    .dataframe thead th {\n        text-align: right;\n    }\n</style>\n<table border=\"1\" class=\"dataframe\">\n  <thead>\n    <tr style=\"text-align: right;\">\n      <th></th>\n      <th>id</th>\n      <th>moves</th>\n    </tr>\n  </thead>\n  <tbody>\n    <tr>\n      <th>0</th>\n      <td>0</td>\n      <td>r1.-f1</td>\n    </tr>\n    <tr>\n      <th>1</th>\n      <td>1</td>\n      <td>f0.r1.f1.-d0.-d0.-f0.-r0.f0.d0</td>\n    </tr>\n    <tr>\n      <th>2</th>\n      <td>2</td>\n      <td>-d1.-r0.f0.-r1.f1.d1.-r1.-f0.d1.f0.d1.d1</td>\n    </tr>\n  </tbody>\n</table>\n</div>"
     },
     "execution_count": 33,
     "metadata": {},
     "output_type": "execute_result"
    }
   ],
   "source": [
    "def solve_puzzles(database_file, puzzles, puzzle_info, submission, num_puzzles=None, limit_index=30, solution_method='a-star algo'):\n",
    "    \"\"\"\n",
    "    Solve a set of puzzles using the A* search algorithm.\n",
    "\n",
    "    :param database_file: path to solution database\n",
    "    :param puzzles: DataFrame containing puzzles.\n",
    "    :param puzzle_info: DataFrame containing allowed moves for each puzzle type.\n",
    "    :param submission: DataFrame containing sample submission format.\n",
    "    :param num_puzzles: Number of puzzles to solve (if None, solve all).\n",
    "    :return: DataFrame with the solutions formatted for submission.\n",
    "    \"\"\"\n",
    "    solutions = []\n",
    "    \n",
    "    # Connect to the SQLite database\n",
    "    conn = sqlite3.connect(database_file)\n",
    "    cursor = conn.cursor()\n",
    "\n",
    "    # Limit the number of puzzles if specified\n",
    "    puzzles_to_solve = puzzles if num_puzzles is None else puzzles.head(num_puzzles)\n",
    "\n",
    "    for index, row in tqdm(puzzles_to_solve.iterrows(), total=puzzles_to_solve.shape[0], desc=\"Solving Puzzles\"):\n",
    "        puzzle_id = index\n",
    "        initial_state = row['parsed_initial_state']\n",
    "        goal_state = row['parsed_solution_state']\n",
    "        puzzle_type = row['puzzle_type']\n",
    "        num_wildcards = row['num_wildcards']\n",
    "        allowed_moves = puzzle_info.loc[puzzle_type, 'allowed_moves']\n",
    "        \n",
    "        solution_moves = None\n",
    "        \n",
    "        # Attempt to find a solution\n",
    "        if index < limit_index:\n",
    "            solution_moves = improved_a_star_search_with_wildcards(initial_state, goal_state, allowed_moves, num_wildcards)\n",
    "\n",
    "        # If no solution found, use the sample submission's result\n",
    "        if solution_moves is None:\n",
    "            solution_moves = submission.loc[puzzle_id, 'moves'].split('.')\n",
    "            solution_moves = [(move.replace('-', ''), move.startswith('-')) for move in solution_moves]\n",
    "        else:\n",
    "            game_id = int(puzzle_id)\n",
    "            moves = format_solution_for_submission(puzzle_id, solution_moves)['moves']            \n",
    "            move_count = len(moves.split('.'))\n",
    "    \n",
    "            select_query = \"SELECT count FROM solutions WHERE id = ?\"\n",
    "    \n",
    "            # Execute the query\n",
    "            cursor.execute(select_query, (game_id,))\n",
    "            best_move_count = cursor.fetchone()\n",
    "            # print(f'Solved {game_id}')\n",
    "            if best_move_count[0] > move_count:\n",
    "                print(f'Improvement to {game_id}')\n",
    "                # Insert the moves into the database\n",
    "                insert_query = \"INSERT OR REPLACE INTO solutions (id, moves, count, solution_method) VALUES (?, ?, ?, ?)\"\n",
    "                cursor.execute(insert_query, (game_id, moves, move_count, solution_method))\n",
    "                conn.commit()\n",
    "\n",
    "        formatted_solution = format_solution_for_submission(puzzle_id, solution_moves)\n",
    "        solutions.append(formatted_solution)\n",
    "    \n",
    "    # Commit the changes and close the connection\n",
    "    conn.commit()\n",
    "    conn.close()\n",
    "\n",
    "    return pd.DataFrame(solutions)\n",
    "\n",
    "\n",
    "\n",
    "# Solving the first 3 puzzles in the dataset for testing\n",
    "solved_puzzles = solve_puzzles(database_file, puzzles, puzzle_info, submission, num_puzzles=3)\n",
    "solved_puzzles"
   ],
   "metadata": {
    "collapsed": false,
    "ExecuteTime": {
     "end_time": "2023-12-24T22:29:07.566647Z",
     "start_time": "2023-12-24T22:29:02.184834Z"
    }
   },
   "id": "c521794da7e799c7",
   "execution_count": 33
  },
  {
   "cell_type": "markdown",
   "source": [
    "<a id=\"4\"></a>\n",
    "# <div style= \"font-family: Cambria; font-weight:bold; letter-spacing: 0px; color:white; font-size:120%; text-align:left;padding:3.0px; background: #6A1B9A; border-bottom: 8px solid #9C27B0\" >SOLVE<br><div> "
   ],
   "metadata": {
    "collapsed": false
   },
   "id": "580cda3cf75e39aa"
  },
  {
   "cell_type": "code",
   "outputs": [
    {
     "name": "stderr",
     "output_type": "stream",
     "text": [
      "Solving Puzzles: 100%|██████████| 398/398 [9:29:16<00:00, 85.82s/it]   \n"
     ]
    },
    {
     "data": {
      "text/plain": "      id                                              moves\n0      0                                             r1.-f1\n1      1                     f0.r1.f1.-d0.-d0.-f0.-r0.f0.d0\n2      2           -d1.-r0.f0.-r1.f1.d1.-r1.-f0.d1.f0.d1.d1\n3      3               -f0.d0.-r0.f0.-d0.-r0.d0.-f0.-r0.-f0\n4      4          -r1.-f0.d0.r0.-d1.-d1.r1.d1.f0.r1.-d1.-r1\n..   ...                                                ...\n393  393  f19.f21.-f39.f20.f2.-f5.f7.-r3.f55.-f12.f65.-f...\n394  394  -f31.-f22.f16.-f17.-f13.-f24.-f14.f2.f21.f44.f...\n395  395  -r0.-f42.-f8.f16.-f49.f14.-f1.f56.f26.f35.f62....\n396  396  f25.-f29.f46.f49.-f8.f27.f26.-f20.f2.-f20.f6.f...\n397  397  -r1.f23.-f24.-r2.f30.f30.f38.-f19.f24.f19.f18....\n\n[398 rows x 2 columns]",
      "text/html": "<div>\n<style scoped>\n    .dataframe tbody tr th:only-of-type {\n        vertical-align: middle;\n    }\n\n    .dataframe tbody tr th {\n        vertical-align: top;\n    }\n\n    .dataframe thead th {\n        text-align: right;\n    }\n</style>\n<table border=\"1\" class=\"dataframe\">\n  <thead>\n    <tr style=\"text-align: right;\">\n      <th></th>\n      <th>id</th>\n      <th>moves</th>\n    </tr>\n  </thead>\n  <tbody>\n    <tr>\n      <th>0</th>\n      <td>0</td>\n      <td>r1.-f1</td>\n    </tr>\n    <tr>\n      <th>1</th>\n      <td>1</td>\n      <td>f0.r1.f1.-d0.-d0.-f0.-r0.f0.d0</td>\n    </tr>\n    <tr>\n      <th>2</th>\n      <td>2</td>\n      <td>-d1.-r0.f0.-r1.f1.d1.-r1.-f0.d1.f0.d1.d1</td>\n    </tr>\n    <tr>\n      <th>3</th>\n      <td>3</td>\n      <td>-f0.d0.-r0.f0.-d0.-r0.d0.-f0.-r0.-f0</td>\n    </tr>\n    <tr>\n      <th>4</th>\n      <td>4</td>\n      <td>-r1.-f0.d0.r0.-d1.-d1.r1.d1.f0.r1.-d1.-r1</td>\n    </tr>\n    <tr>\n      <th>...</th>\n      <td>...</td>\n      <td>...</td>\n    </tr>\n    <tr>\n      <th>393</th>\n      <td>393</td>\n      <td>f19.f21.-f39.f20.f2.-f5.f7.-r3.f55.-f12.f65.-f...</td>\n    </tr>\n    <tr>\n      <th>394</th>\n      <td>394</td>\n      <td>-f31.-f22.f16.-f17.-f13.-f24.-f14.f2.f21.f44.f...</td>\n    </tr>\n    <tr>\n      <th>395</th>\n      <td>395</td>\n      <td>-r0.-f42.-f8.f16.-f49.f14.-f1.f56.f26.f35.f62....</td>\n    </tr>\n    <tr>\n      <th>396</th>\n      <td>396</td>\n      <td>f25.-f29.f46.f49.-f8.f27.f26.-f20.f2.-f20.f6.f...</td>\n    </tr>\n    <tr>\n      <th>397</th>\n      <td>397</td>\n      <td>-r1.f23.-f24.-r2.f30.f30.f38.-f19.f24.f19.f18....</td>\n    </tr>\n  </tbody>\n</table>\n<p>398 rows × 2 columns</p>\n</div>"
     },
     "execution_count": 35,
     "metadata": {},
     "output_type": "execute_result"
    }
   ],
   "source": [
    "# Solving the first 30 puzzles in the dataset\n",
    "solved_puzzles = solve_puzzles(database_file, puzzles, puzzle_info, submission, num_puzzles=None, limit_index=398)\n",
    "solved_puzzles"
   ],
   "metadata": {
    "collapsed": false,
    "ExecuteTime": {
     "end_time": "2023-12-25T07:58:47.027433Z",
     "start_time": "2023-12-24T22:29:28.990849Z"
    }
   },
   "id": "18ecd2749b764ad8",
   "execution_count": 35
  },
  {
   "cell_type": "code",
   "outputs": [],
   "source": [],
   "metadata": {
    "collapsed": false,
    "ExecuteTime": {
     "start_time": "2023-12-24T22:07:06.791039Z"
    }
   },
   "id": "8a6f124f5ab428a8"
  }
 ],
 "metadata": {
  "kernelspec": {
   "display_name": "Python 3",
   "language": "python",
   "name": "python3"
  },
  "language_info": {
   "codemirror_mode": {
    "name": "ipython",
    "version": 2
   },
   "file_extension": ".py",
   "mimetype": "text/x-python",
   "name": "python",
   "nbconvert_exporter": "python",
   "pygments_lexer": "ipython2",
   "version": "2.7.6"
  }
 },
 "nbformat": 4,
 "nbformat_minor": 5
}
