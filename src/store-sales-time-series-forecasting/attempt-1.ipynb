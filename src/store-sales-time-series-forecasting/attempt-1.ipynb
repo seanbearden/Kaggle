{
 "cells": [
  {
   "cell_type": "markdown",
   "source": [
    "# Store Sales - Time Series Forecasting\n",
    "## Practice Competition"
   ],
   "metadata": {
    "collapsed": false
   },
   "id": "223780bc3c81c1c7"
  },
  {
   "cell_type": "code",
   "execution_count": 1,
   "outputs": [],
   "source": [
    "from learntools.time_series.style import *  # plot style settings\n",
    "from learntools.time_series.utils import plot_periodogram, seasonal_plot\n",
    "\n",
    "# Setup notebook\n",
    "from pathlib import Path\n",
    "\n",
    "import pandas as pd\n",
    "import matplotlib.pyplot as plt\n",
    "import numpy as np\n",
    "import seaborn as sns\n",
    "from sklearn.linear_model import LinearRegression, MultiTaskLassoCV, RidgeCV\n",
    "from sklearn.metrics import make_scorer, mean_squared_log_error\n",
    "from sklearn.model_selection import TimeSeriesSplit\n",
    "from sklearn.preprocessing import LabelEncoder\n",
    "from statsmodels.tsa.deterministic import CalendarFourier, DeterministicProcess\n",
    "from xgboost import XGBRegressor\n",
    "import zipfile"
   ],
   "metadata": {
    "collapsed": false,
    "ExecuteTime": {
     "end_time": "2023-12-02T22:19:16.880476Z",
     "start_time": "2023-12-02T22:19:16.643717Z"
    }
   },
   "id": "fedfbe084718873e"
  },
  {
   "cell_type": "markdown",
   "source": [
    "## Paramters"
   ],
   "metadata": {
    "collapsed": false
   },
   "id": "dd914cc671514737"
  },
  {
   "cell_type": "code",
   "execution_count": 2,
   "outputs": [],
   "source": [
    "random_state = 42\n",
    "\n",
    "min_date_str = '2016'\n",
    "max_date_str = '2017-08-15'\n",
    "\n",
    "index_levels = ['store_nbr', 'family', 'date']\n",
    "\n",
    "train_test_dtype = {\n",
    "        'store_nbr': 'category',\n",
    "        'family': 'category',\n",
    "        'onpromotion': 'uint32'\n",
    "    }\n",
    "\n",
    "holiday_dtype = {\n",
    "        'type': 'category',\n",
    "        'locale': 'category',\n",
    "        'locale_name': 'category',\n",
    "        'description': 'category',\n",
    "        'transferred': 'bool',\n",
    "    }\n",
    "\n",
    "stores_dtype = {\n",
    "        'store_nbr': 'category',\n",
    "        'city': 'category',\n",
    "        'state': 'category',\n",
    "        'type': 'category',\n",
    "        'cluster': 'category',\n",
    "    }\n",
    "\n",
    "target_dtype = {'sales': 'float32'}\n",
    "\n",
    "date_cols = ['date']\n",
    "\n",
    "\n",
    "# Feature parameters\n",
    "test_days = 16\n",
    "lag_days = 16\n",
    "xgb_n_estimators = 1000"
   ],
   "metadata": {
    "collapsed": false,
    "ExecuteTime": {
     "end_time": "2023-12-02T22:19:18.210278Z",
     "start_time": "2023-12-02T22:19:18.205691Z"
    }
   },
   "id": "28c9ee59a81f435d"
  },
  {
   "cell_type": "markdown",
   "source": [
    "## Load Data"
   ],
   "metadata": {
    "collapsed": false
   },
   "id": "1ac6c6b5b8580aa5"
  },
  {
   "cell_type": "code",
   "execution_count": 3,
   "outputs": [],
   "source": [
    "with zipfile.ZipFile('../../res/data/store-sales-time-series-forecasting.zip', 'r') as z:\n",
    "    \n",
    "    # The training data, comprising time series of features store_nbr, family, and onpromotion as well as the target sales.\n",
    "    with z.open('train.csv') as f:\n",
    "        train = pd.read_csv(\n",
    "            f,\n",
    "            usecols=['store_nbr', 'family', 'date', 'sales', 'onpromotion'],\n",
    "            dtype=train_test_dtype | target_dtype, \n",
    "            parse_dates=date_cols\n",
    "        )\n",
    "        train[date_cols[0]] = train.date.dt.to_period('D')\n",
    "        train = train.set_index(index_levels).sort_index()\n",
    "        \n",
    "    # The test data, having the same features as the training data. You will predict the target sales for the dates in this file.\n",
    "    with z.open('test.csv') as f:\n",
    "        test = pd.read_csv(f, dtype=train_test_dtype, parse_dates=date_cols)\n",
    "        test[date_cols[0]] = test.date.dt.to_period('D')\n",
    "        test = test.set_index(index_levels).sort_index()\n",
    "    \n",
    "    # Holidays and Events, with metadata\n",
    "    with z.open('holidays_events.csv') as f:\n",
    "        holidays_events = pd.read_csv(f, dtype=holiday_dtype, parse_dates=date_cols)\n",
    "        holidays_events = holidays_events.set_index(date_cols[0]).to_period('D')\n",
    "        \n",
    "    # Store metadata, including city, state, type, and cluster.\n",
    "    with z.open('stores.csv') as f:\n",
    "        stores = pd.read_csv(f, dtype=stores_dtype)\n",
    "        \n",
    "    # Daily oil price. Includes values during both the train and test data timeframes.\n",
    "    with z.open('oil.csv') as f:\n",
    "        oil = pd.read_csv(f, dtype=stores_dtype)"
   ],
   "metadata": {
    "collapsed": false,
    "ExecuteTime": {
     "end_time": "2023-12-02T22:19:21.666799Z",
     "start_time": "2023-12-02T22:19:19.236764Z"
    }
   },
   "id": "initial_id"
  },
  {
   "cell_type": "markdown",
   "source": [
    "## Data Summaries"
   ],
   "metadata": {
    "collapsed": false
   },
   "id": "f02919a056db8734"
  },
  {
   "cell_type": "code",
   "execution_count": 4,
   "outputs": [],
   "source": [
    "average_sales = (\n",
    "    train\n",
    "    .groupby(date_cols[0]).mean()\n",
    "    .squeeze()\n",
    "    .loc[min_date_str:max_date_str]\n",
    ")"
   ],
   "metadata": {
    "collapsed": false,
    "ExecuteTime": {
     "end_time": "2023-12-02T22:19:21.724397Z",
     "start_time": "2023-12-02T22:19:21.668118Z"
    }
   },
   "id": "2930b402b40a1f64"
  },
  {
   "cell_type": "markdown",
   "source": [
    "## Function Definitions"
   ],
   "metadata": {
    "collapsed": false
   },
   "id": "dc820fcb2e76cc9"
  },
  {
   "cell_type": "code",
   "execution_count": 5,
   "outputs": [],
   "source": [
    "\n",
    "def rmsle(y_true, y_pred):\n",
    "    \"\"\"Define root mean squared logarithmic error scoring function\"\"\"\n",
    "    return np.sqrt(mean_squared_log_error(y_true, y_pred))\n",
    "\n",
    "rmsle_scorer = make_scorer(rmsle, greater_is_better=False)\n",
    "\n",
    "def make_lags(ts, lags):\n",
    "    df = pd.concat(\n",
    "            {\n",
    "                f'lag_{i}': ts.shift(i)\n",
    "                for i in range(1, lags + 1)\n",
    "            },\n",
    "            axis=1)\n",
    "    df = df.stack().stack()\n",
    "    df.columns = ['_'.join(col[::-1]).strip() for col in df.columns.values]\n",
    "\n",
    "    return df"
   ],
   "metadata": {
    "collapsed": false,
    "ExecuteTime": {
     "end_time": "2023-12-02T22:19:21.729736Z",
     "start_time": "2023-12-02T22:19:21.726107Z"
    }
   },
   "id": "898db22dd68aa6fe"
  },
  {
   "cell_type": "markdown",
   "source": [
    "## Boosted Hybrid"
   ],
   "metadata": {
    "collapsed": false
   },
   "id": "45f884a46b48e2f6"
  },
  {
   "cell_type": "code",
   "execution_count": 6,
   "outputs": [],
   "source": [
    "class BoostedHybrid:\n",
    "    def __init__(self, model_1, model_2):\n",
    "        self.model_1 = model_1\n",
    "        self.model_2 = model_2\n",
    "        self.y_columns = None  # store column names from fit method\n",
    "        \n",
    "    def fit(self, X_1, X_2, y):\n",
    "        # Save column names for predict method\n",
    "        self.y_columns = y.columns\n",
    "        \n",
    "        self.model_1.fit(X_1, y)\n",
    "        \n",
    "        y_fit = pd.DataFrame(\n",
    "            self.model_1.predict(X_1),\n",
    "            index=X_1.index, columns=self.y_columns,\n",
    "        )\n",
    "        \n",
    "        # clip model_1 so model_2 does not have to correct...\n",
    "        y_resid = y - y_fit.clip(0.0)\n",
    "        y_resid = y_resid.stack().stack().squeeze() # wide to long\n",
    "        self.model_2.fit(X_2, y_resid)\n",
    "\n",
    "        \n",
    "        # Save data for question checking\n",
    "        self.y_fit = y_fit\n",
    "        self.y_resid = y_resid\n",
    "    \n",
    "    def predict(self, X_1, X_2):\n",
    "        y_pred = pd.DataFrame(\n",
    "            self.model_1.predict(X_1),\n",
    "            index=X_1.index, columns=self.y_columns,\n",
    "        )\n",
    "        y_pred = y_pred.stack().stack().squeeze()  # wide to long\n",
    "\n",
    "        y_pred += self.model_2.predict(X_2)\n",
    "\n",
    "        return y_pred.unstack().unstack()  # long to wide\n",
    "    \n",
    "    def predict_w_lag(self, X_1, X_2, test_days, le_store_nbr, le_family):\n",
    "        count = 0\n",
    "        y_pred_dfs = []\n",
    "        for idx, row in X_1.iterrows():\n",
    "            y_pred_1 = pd.DataFrame(\n",
    "                self.model_1.predict(row.values.reshape(1, -1)),\n",
    "                index=[idx], columns=self.y_columns,\n",
    "            )\n",
    "            \n",
    "            # y_pred_1 = y_pred_1.stack().stack().squeeze()  # wide to long\n",
    "            y_pred_2 = self.model_2.predict(X_2.loc[idx])\n",
    "            \n",
    "            y_pred = y_pred_1 + y_pred_2\n",
    "            y_pred_dfs.append(y_pred)\n",
    "                        \n",
    "            y_temp = y_pred.stack(['store_nbr', 'family']).reset_index('store_nbr')\n",
    "            y_temp['store_nbr'] = le_store_nbr.transform(y_temp['store_nbr'])\n",
    "            y_temp = y_temp.reset_index('family')\n",
    "            y_temp['family'] = le_family.transform(y_temp['family'])\n",
    "\n",
    "            # start = 2\n",
    "            for offset in range(1, test_days - count):\n",
    "                # If 'date' is an index, reset it to make it a column\n",
    "                df1 = y_temp.loc[idx].reset_index()\n",
    "                df2 = X_2.loc[idx+offset].reset_index()\n",
    "\n",
    "                # Renaming column 0 to 'sales_lag_1_temp' in df1_subset\n",
    "                df1_subset = df1[['family', 'store_nbr', 'sales']].rename(columns={'sales': 'sales_lag_temp'})\n",
    "\n",
    "                # Merging df2 with df1_subset\n",
    "                df2 = pd.merge(df2, df1_subset, on=['family', 'store_nbr'], how='left')\n",
    "\n",
    "                # Updating 'sales_lag_1' in df2 with the values from 'sales_lag_1_temp'\n",
    "                df2[f'sales_lag_{offset}'] = df2['sales_lag_temp']\n",
    "\n",
    "                # Dropping the 'sales_lag_1_temp' column from df2\n",
    "                df2.drop(columns=['sales_lag_temp'], inplace=True)\n",
    "                \n",
    "            count += 1\n",
    "        y_pred_df = pd.concat(y_pred_dfs)\n",
    "        return y_pred_df.xs('sales', level=0, axis=1, drop_level=True)"
   ],
   "metadata": {
    "collapsed": false,
    "ExecuteTime": {
     "end_time": "2023-12-02T22:19:21.963228Z",
     "start_time": "2023-12-02T22:19:21.945283Z"
    }
   },
   "id": "b2e09a3a4080c8f1"
  },
  {
   "cell_type": "markdown",
   "source": [
    "## Training Data with features"
   ],
   "metadata": {
    "collapsed": false
   },
   "id": "20dfff670224dbc6"
  },
  {
   "cell_type": "code",
   "execution_count": 7,
   "outputs": [],
   "source": [
    "# Target series\n",
    "\n",
    "y = train.unstack(['store_nbr', 'family']).loc[min_date_str:max_date_str, ['sales']]\n",
    "\n",
    "# X_1: Features for Regression\n",
    "fourier = CalendarFourier(freq='M', order=4)\n",
    "dp = DeterministicProcess(\n",
    "    index=y.index,\n",
    "    constant=True,\n",
    "    order=1,\n",
    "    seasonal=True,\n",
    "    additional_terms=[fourier],\n",
    "    drop=True,\n",
    ")\n",
    "X_1 = dp.in_sample()\n",
    "\n",
    "# National holidays in the training set\n",
    "holidays = (\n",
    "    holidays_events\n",
    "    .query(\"locale in ['National']\")\n",
    "    .loc[:, ['description']]\n",
    "    .assign(description=lambda x: x.description.cat.remove_unused_categories())\n",
    ")\n",
    "\n",
    "X_holidays = pd.get_dummies(holidays)\n",
    "X_holidays = X_holidays.groupby(X_holidays.index).sum()\n",
    "\n",
    "X_1 = X_1.join(X_holidays, on='date', how='left').fillna(0.0)\n",
    "\n",
    "# TODO: add regional and local holidays\n",
    "\n",
    "# X_2: Features for XGBoost\n",
    "X_2 = train.unstack(['store_nbr', 'family']).loc[min_date_str:max_date_str].drop('sales', axis=1).stack().stack()  # \n",
    "# onpromotion feature\n",
    "\n",
    "X_new = make_lags(y, lag_days)#.stack().stack()\n",
    "\n",
    "X_2 = X_2.join(X_new)\n",
    "\n",
    "# Label encoding for 'store_nbr'\n",
    "le_store_nbr = LabelEncoder()  # from sklearn.preprocessing\n",
    "X_2 = X_2.reset_index('store_nbr')\n",
    "X_2['store_nbr'] = le_store_nbr.fit_transform(X_2['store_nbr'])\n",
    "\n",
    "# Label encoding for 'family'\n",
    "le_family = LabelEncoder()  # from sklearn.preprocessing\n",
    "X_2 = X_2.reset_index('family')\n",
    "X_2['family'] = le_family.fit_transform(X_2['family'])\n",
    "\n",
    "\n",
    "# Label encoding for seasonality\n",
    "X_2[\"day\"] = X_2.index.day  # values are day of the month\n",
    "\n",
    "# # add target lags\n",
    "# make_lags(y, 'sales', 2)\n",
    "X_2 = X_2.fillna(0.0)\n"
   ],
   "metadata": {
    "collapsed": false,
    "ExecuteTime": {
     "end_time": "2023-12-02T22:19:38.398323Z",
     "start_time": "2023-12-02T22:19:35.917481Z"
    }
   },
   "id": "492dc38871bdbaf"
  },
  {
   "cell_type": "code",
   "execution_count": 8,
   "outputs": [
    {
     "data": {
      "text/plain": "0.6207060610398926"
     },
     "execution_count": 8,
     "metadata": {},
     "output_type": "execute_result"
    }
   ],
   "source": [
    "model = BoostedHybrid(LinearRegression(), XGBRegressor(n_estimators=xgb_n_estimators, random_state=random_state))\n",
    "model.fit(X_1, X_2, y)\n",
    "y_fit = model.predict(X_1, X_2)\n",
    "y_fit = y_fit.clip(0.0)\n",
    "rmsle(y, y_fit)"
   ],
   "metadata": {
    "collapsed": false,
    "ExecuteTime": {
     "end_time": "2023-12-02T22:19:57.284096Z",
     "start_time": "2023-12-02T22:19:38.397011Z"
    }
   },
   "id": "adcd4bc5555b9108"
  },
  {
   "cell_type": "code",
   "execution_count": null,
   "outputs": [],
   "source": [
    "# tscv = TimeSeriesSplit(n_splits=5)  # Or another appropriate number of splits\n",
    "# \n",
    "# model_1 = RidgeCV(cv=tscv)\n",
    "# model_lasso = BoostedHybrid(model_1, XGBRegressor(n_estimators=xgb_n_estimators))\n",
    "# model_lasso.fit(X_1, X_2, y)\n",
    "# y_fit = model_lasso.predict(X_1, X_2)\n",
    "# y_fit = y_fit.clip(0.0)\n",
    "# rmsle(y, y_fit)"
   ],
   "metadata": {
    "collapsed": false,
    "ExecuteTime": {
     "end_time": "2023-12-02T22:19:10.409763Z",
     "start_time": "2023-12-02T22:19:10.407285Z"
    }
   },
   "id": "66a4ccec28e85818"
  },
  {
   "cell_type": "markdown",
   "source": [
    "## Test features"
   ],
   "metadata": {
    "collapsed": false
   },
   "id": "a28de9a9f7bf3967"
  },
  {
   "cell_type": "code",
   "execution_count": 16,
   "outputs": [
    {
     "data": {
      "text/plain": "store_nbr             1                                                      \\\nfamily       AUTOMOTIVE    BABY CARE       BEAUTY    BEVERAGES        BOOKS   \n2017-08-16     4.302948     0.426790     9.147702  2539.772289     0.310337   \n2017-08-17   842.516622  1885.329834   830.742726  1902.098514  1518.562863   \n2017-08-18  1376.931060  2487.330322  1288.065713  2687.362010  2191.541260   \n2017-08-19  2150.910016  2706.613037  1887.736245  2786.882748  2237.955392   \n2017-08-20  4504.539845  4067.530029  4133.118176  2895.340991  3719.306808   \n2017-08-21    52.749475   -42.745182  -185.534842  2071.521838  -178.324696   \n2017-08-22  -261.572437  -224.443970  -127.505862  3411.727822  -537.260900   \n2017-08-23  -183.977006   -69.290421   142.543327  3234.740396  -528.580048   \n2017-08-24  2552.423358  2771.093506  2545.310844  3396.600573  2218.817199   \n2017-08-25  2038.546048  2204.357666  2035.411699  2628.331435  1748.356598   \n2017-08-26  -378.776242  -135.351959   -19.891662  3247.121213  -386.249906   \n2017-08-27  1291.596892  1251.790283  1420.231366  5604.691941  1081.923449   \n2017-08-28  1235.200460  1230.968018  1569.663907  5786.910146  1287.847936   \n2017-08-29  2739.120250  2138.602295  2415.138199  4895.346499  2302.121827   \n2017-08-30  3723.416006  3200.592041  3753.177438  4926.101179  3380.322568   \n2017-08-31  3949.117883  3955.884033  3432.220680  5289.587730  4097.888804   \n\nstore_nbr                                                                    \\\nfamily     BREAD/BAKERY  CELEBRATION     CLEANING        DAIRY         DELI   \n2017-08-16   458.487207    16.912994   881.071031   981.633349   154.624369   \n2017-08-17   691.639040   495.902416   101.355576   262.640669   126.033845   \n2017-08-18   961.053419  1095.461477  1531.036556  1731.741473  -435.665413   \n2017-08-19  3035.033055  1705.053936  1236.856124  1339.411184   936.369315   \n2017-08-20  4797.364797  4196.599217  4346.619603  5276.034176  3146.261144   \n2017-08-21  1290.849851   -29.123458  2477.548753  1459.370051   147.266304   \n2017-08-22   360.962218  -518.507229  1819.594980  1352.441570  -379.647538   \n2017-08-23   607.817768  -628.083068  1680.636330  1984.822620   313.564856   \n2017-08-24  2035.330356  2064.103359  2693.730637  2430.177246  1998.583776   \n2017-08-25  1505.375169  1558.272194  1859.460445  2215.887559  2152.092640   \n2017-08-26   474.740926  -437.673936  1537.988836  2546.451211   251.648142   \n2017-08-27  1736.086819  1288.881554  2839.818716  3279.187687  2213.612642   \n2017-08-28  2657.410640  1406.505743  4161.834945  4640.244988  2630.694797   \n2017-08-29  4017.549378  2823.731748  4893.563084  5041.218516  4716.991717   \n2017-08-30  4897.027607  3838.677490  5323.136496  4522.646008  3426.132761   \n2017-08-31  4827.083486  4253.094478  3796.278992  5365.513052  4245.979387   \n\nstore_nbr   ...            9                                          \\\nfamily      ...    MAGAZINES        MEATS PERSONAL CARE PET SUPPLIES   \n2017-08-16  ...     3.170115   321.437996    414.561797     7.490346   \n2017-08-17  ...    35.005270  -750.104611   -563.019526   293.075471   \n2017-08-18  ...  1358.152890  1412.588517   1298.679111  1671.283995   \n2017-08-19  ...   882.853548  2152.084201   2455.454874  1128.555118   \n2017-08-20  ...  2244.309362  3366.517286   4587.325857  2523.695486   \n2017-08-21  ...  -344.635029   -44.877016    383.966313  -239.616809   \n2017-08-22  ...   491.905171   658.139324    796.148654   609.307946   \n2017-08-23  ...   451.191394   -60.605685     51.294384   437.857980   \n2017-08-24  ...  2809.338738  2859.311297   1545.515823  2765.257312   \n2017-08-25  ...   237.577843   331.025821    602.978062   220.434512   \n2017-08-26  ... -1048.535135  -389.679588   1340.139816 -1046.741576   \n2017-08-27  ...    91.300278  1094.064434   1759.354797   109.184799   \n2017-08-28  ...  1313.127336  2061.365630   2469.672095  1320.748876   \n2017-08-29  ...  2730.279701  3447.097181   2996.653033  2771.469867   \n2017-08-30  ...  2681.116773  3611.890049   2708.673709  2786.954603   \n2017-08-31  ...  2532.013830  3832.052673   3279.080388  2591.490215   \n\nstore_nbr                                                                    \\\nfamily     PLAYERS AND ELECTRONICS      POULTRY PREPARED FOODS      PRODUCE   \n2017-08-16               10.933513   349.354396     131.814558  3015.549201   \n2017-08-17              306.850268   720.924128     227.938995   619.688765   \n2017-08-18             1674.230592  2993.504263    1034.089976   473.454786   \n2017-08-19             1132.644218  2528.991735    1240.898666  1217.300376   \n2017-08-20             2529.910221  4599.446516    2493.932213  3101.444679   \n2017-08-21             -235.021532   552.063113    -234.577279  2117.502798   \n2017-08-22              638.893044   707.690133     142.626876  5353.560099   \n2017-08-23              440.987532  -243.946611      -5.002529  2278.656376   \n2017-08-24             2801.225766  2260.882823    2361.117291  4038.444370   \n2017-08-25              219.265661   749.240592      96.166796  2073.700961   \n2017-08-26            -1063.886185  -796.632807    -303.323336  1813.865745   \n2017-08-27               97.894411   530.491084     890.232775  2804.773487   \n2017-08-28             1312.688904  1605.110565    2057.760742  4299.308415   \n2017-08-29             2763.100360  3310.231054    2810.994603  8720.174141   \n2017-08-30             2959.573164  3800.254269    2918.898101  2594.399698   \n2017-08-31             2595.226755  2592.544325    2418.676848  2798.147746   \n\nstore_nbr                                           \nfamily     SCHOOL AND OFFICE SUPPLIES      SEAFOOD  \n2017-08-16                 153.791134     9.493702  \n2017-08-17               -1085.909564   311.898152  \n2017-08-18                 427.935065  1674.391007  \n2017-08-19                1529.545008  1517.653092  \n2017-08-20                2748.828741  2629.190414  \n2017-08-21                 237.713749   -15.139608  \n2017-08-22                  17.988888   696.261121  \n2017-08-23                  15.938909   385.129412  \n2017-08-24                1755.025268  2579.347022  \n2017-08-25                 347.049042   196.391102  \n2017-08-26                 445.887447  -373.741202  \n2017-08-27                1291.781874   611.362870  \n2017-08-28                3170.565116  1890.610805  \n2017-08-29                3424.064746  2448.060622  \n2017-08-30                2044.223993  2425.956068  \n2017-08-31                2845.082201  2325.653244  \n\n[16 rows x 1782 columns]",
      "text/html": "<div>\n<style scoped>\n    .dataframe tbody tr th:only-of-type {\n        vertical-align: middle;\n    }\n\n    .dataframe tbody tr th {\n        vertical-align: top;\n    }\n\n    .dataframe thead tr th {\n        text-align: left;\n    }\n</style>\n<table border=\"1\" class=\"dataframe\">\n  <thead>\n    <tr>\n      <th>store_nbr</th>\n      <th colspan=\"10\" halign=\"left\">1</th>\n      <th>...</th>\n      <th colspan=\"10\" halign=\"left\">9</th>\n    </tr>\n    <tr>\n      <th>family</th>\n      <th>AUTOMOTIVE</th>\n      <th>BABY CARE</th>\n      <th>BEAUTY</th>\n      <th>BEVERAGES</th>\n      <th>BOOKS</th>\n      <th>BREAD/BAKERY</th>\n      <th>CELEBRATION</th>\n      <th>CLEANING</th>\n      <th>DAIRY</th>\n      <th>DELI</th>\n      <th>...</th>\n      <th>MAGAZINES</th>\n      <th>MEATS</th>\n      <th>PERSONAL CARE</th>\n      <th>PET SUPPLIES</th>\n      <th>PLAYERS AND ELECTRONICS</th>\n      <th>POULTRY</th>\n      <th>PREPARED FOODS</th>\n      <th>PRODUCE</th>\n      <th>SCHOOL AND OFFICE SUPPLIES</th>\n      <th>SEAFOOD</th>\n    </tr>\n  </thead>\n  <tbody>\n    <tr>\n      <th>2017-08-16</th>\n      <td>4.302948</td>\n      <td>0.426790</td>\n      <td>9.147702</td>\n      <td>2539.772289</td>\n      <td>0.310337</td>\n      <td>458.487207</td>\n      <td>16.912994</td>\n      <td>881.071031</td>\n      <td>981.633349</td>\n      <td>154.624369</td>\n      <td>...</td>\n      <td>3.170115</td>\n      <td>321.437996</td>\n      <td>414.561797</td>\n      <td>7.490346</td>\n      <td>10.933513</td>\n      <td>349.354396</td>\n      <td>131.814558</td>\n      <td>3015.549201</td>\n      <td>153.791134</td>\n      <td>9.493702</td>\n    </tr>\n    <tr>\n      <th>2017-08-17</th>\n      <td>842.516622</td>\n      <td>1885.329834</td>\n      <td>830.742726</td>\n      <td>1902.098514</td>\n      <td>1518.562863</td>\n      <td>691.639040</td>\n      <td>495.902416</td>\n      <td>101.355576</td>\n      <td>262.640669</td>\n      <td>126.033845</td>\n      <td>...</td>\n      <td>35.005270</td>\n      <td>-750.104611</td>\n      <td>-563.019526</td>\n      <td>293.075471</td>\n      <td>306.850268</td>\n      <td>720.924128</td>\n      <td>227.938995</td>\n      <td>619.688765</td>\n      <td>-1085.909564</td>\n      <td>311.898152</td>\n    </tr>\n    <tr>\n      <th>2017-08-18</th>\n      <td>1376.931060</td>\n      <td>2487.330322</td>\n      <td>1288.065713</td>\n      <td>2687.362010</td>\n      <td>2191.541260</td>\n      <td>961.053419</td>\n      <td>1095.461477</td>\n      <td>1531.036556</td>\n      <td>1731.741473</td>\n      <td>-435.665413</td>\n      <td>...</td>\n      <td>1358.152890</td>\n      <td>1412.588517</td>\n      <td>1298.679111</td>\n      <td>1671.283995</td>\n      <td>1674.230592</td>\n      <td>2993.504263</td>\n      <td>1034.089976</td>\n      <td>473.454786</td>\n      <td>427.935065</td>\n      <td>1674.391007</td>\n    </tr>\n    <tr>\n      <th>2017-08-19</th>\n      <td>2150.910016</td>\n      <td>2706.613037</td>\n      <td>1887.736245</td>\n      <td>2786.882748</td>\n      <td>2237.955392</td>\n      <td>3035.033055</td>\n      <td>1705.053936</td>\n      <td>1236.856124</td>\n      <td>1339.411184</td>\n      <td>936.369315</td>\n      <td>...</td>\n      <td>882.853548</td>\n      <td>2152.084201</td>\n      <td>2455.454874</td>\n      <td>1128.555118</td>\n      <td>1132.644218</td>\n      <td>2528.991735</td>\n      <td>1240.898666</td>\n      <td>1217.300376</td>\n      <td>1529.545008</td>\n      <td>1517.653092</td>\n    </tr>\n    <tr>\n      <th>2017-08-20</th>\n      <td>4504.539845</td>\n      <td>4067.530029</td>\n      <td>4133.118176</td>\n      <td>2895.340991</td>\n      <td>3719.306808</td>\n      <td>4797.364797</td>\n      <td>4196.599217</td>\n      <td>4346.619603</td>\n      <td>5276.034176</td>\n      <td>3146.261144</td>\n      <td>...</td>\n      <td>2244.309362</td>\n      <td>3366.517286</td>\n      <td>4587.325857</td>\n      <td>2523.695486</td>\n      <td>2529.910221</td>\n      <td>4599.446516</td>\n      <td>2493.932213</td>\n      <td>3101.444679</td>\n      <td>2748.828741</td>\n      <td>2629.190414</td>\n    </tr>\n    <tr>\n      <th>2017-08-21</th>\n      <td>52.749475</td>\n      <td>-42.745182</td>\n      <td>-185.534842</td>\n      <td>2071.521838</td>\n      <td>-178.324696</td>\n      <td>1290.849851</td>\n      <td>-29.123458</td>\n      <td>2477.548753</td>\n      <td>1459.370051</td>\n      <td>147.266304</td>\n      <td>...</td>\n      <td>-344.635029</td>\n      <td>-44.877016</td>\n      <td>383.966313</td>\n      <td>-239.616809</td>\n      <td>-235.021532</td>\n      <td>552.063113</td>\n      <td>-234.577279</td>\n      <td>2117.502798</td>\n      <td>237.713749</td>\n      <td>-15.139608</td>\n    </tr>\n    <tr>\n      <th>2017-08-22</th>\n      <td>-261.572437</td>\n      <td>-224.443970</td>\n      <td>-127.505862</td>\n      <td>3411.727822</td>\n      <td>-537.260900</td>\n      <td>360.962218</td>\n      <td>-518.507229</td>\n      <td>1819.594980</td>\n      <td>1352.441570</td>\n      <td>-379.647538</td>\n      <td>...</td>\n      <td>491.905171</td>\n      <td>658.139324</td>\n      <td>796.148654</td>\n      <td>609.307946</td>\n      <td>638.893044</td>\n      <td>707.690133</td>\n      <td>142.626876</td>\n      <td>5353.560099</td>\n      <td>17.988888</td>\n      <td>696.261121</td>\n    </tr>\n    <tr>\n      <th>2017-08-23</th>\n      <td>-183.977006</td>\n      <td>-69.290421</td>\n      <td>142.543327</td>\n      <td>3234.740396</td>\n      <td>-528.580048</td>\n      <td>607.817768</td>\n      <td>-628.083068</td>\n      <td>1680.636330</td>\n      <td>1984.822620</td>\n      <td>313.564856</td>\n      <td>...</td>\n      <td>451.191394</td>\n      <td>-60.605685</td>\n      <td>51.294384</td>\n      <td>437.857980</td>\n      <td>440.987532</td>\n      <td>-243.946611</td>\n      <td>-5.002529</td>\n      <td>2278.656376</td>\n      <td>15.938909</td>\n      <td>385.129412</td>\n    </tr>\n    <tr>\n      <th>2017-08-24</th>\n      <td>2552.423358</td>\n      <td>2771.093506</td>\n      <td>2545.310844</td>\n      <td>3396.600573</td>\n      <td>2218.817199</td>\n      <td>2035.330356</td>\n      <td>2064.103359</td>\n      <td>2693.730637</td>\n      <td>2430.177246</td>\n      <td>1998.583776</td>\n      <td>...</td>\n      <td>2809.338738</td>\n      <td>2859.311297</td>\n      <td>1545.515823</td>\n      <td>2765.257312</td>\n      <td>2801.225766</td>\n      <td>2260.882823</td>\n      <td>2361.117291</td>\n      <td>4038.444370</td>\n      <td>1755.025268</td>\n      <td>2579.347022</td>\n    </tr>\n    <tr>\n      <th>2017-08-25</th>\n      <td>2038.546048</td>\n      <td>2204.357666</td>\n      <td>2035.411699</td>\n      <td>2628.331435</td>\n      <td>1748.356598</td>\n      <td>1505.375169</td>\n      <td>1558.272194</td>\n      <td>1859.460445</td>\n      <td>2215.887559</td>\n      <td>2152.092640</td>\n      <td>...</td>\n      <td>237.577843</td>\n      <td>331.025821</td>\n      <td>602.978062</td>\n      <td>220.434512</td>\n      <td>219.265661</td>\n      <td>749.240592</td>\n      <td>96.166796</td>\n      <td>2073.700961</td>\n      <td>347.049042</td>\n      <td>196.391102</td>\n    </tr>\n    <tr>\n      <th>2017-08-26</th>\n      <td>-378.776242</td>\n      <td>-135.351959</td>\n      <td>-19.891662</td>\n      <td>3247.121213</td>\n      <td>-386.249906</td>\n      <td>474.740926</td>\n      <td>-437.673936</td>\n      <td>1537.988836</td>\n      <td>2546.451211</td>\n      <td>251.648142</td>\n      <td>...</td>\n      <td>-1048.535135</td>\n      <td>-389.679588</td>\n      <td>1340.139816</td>\n      <td>-1046.741576</td>\n      <td>-1063.886185</td>\n      <td>-796.632807</td>\n      <td>-303.323336</td>\n      <td>1813.865745</td>\n      <td>445.887447</td>\n      <td>-373.741202</td>\n    </tr>\n    <tr>\n      <th>2017-08-27</th>\n      <td>1291.596892</td>\n      <td>1251.790283</td>\n      <td>1420.231366</td>\n      <td>5604.691941</td>\n      <td>1081.923449</td>\n      <td>1736.086819</td>\n      <td>1288.881554</td>\n      <td>2839.818716</td>\n      <td>3279.187687</td>\n      <td>2213.612642</td>\n      <td>...</td>\n      <td>91.300278</td>\n      <td>1094.064434</td>\n      <td>1759.354797</td>\n      <td>109.184799</td>\n      <td>97.894411</td>\n      <td>530.491084</td>\n      <td>890.232775</td>\n      <td>2804.773487</td>\n      <td>1291.781874</td>\n      <td>611.362870</td>\n    </tr>\n    <tr>\n      <th>2017-08-28</th>\n      <td>1235.200460</td>\n      <td>1230.968018</td>\n      <td>1569.663907</td>\n      <td>5786.910146</td>\n      <td>1287.847936</td>\n      <td>2657.410640</td>\n      <td>1406.505743</td>\n      <td>4161.834945</td>\n      <td>4640.244988</td>\n      <td>2630.694797</td>\n      <td>...</td>\n      <td>1313.127336</td>\n      <td>2061.365630</td>\n      <td>2469.672095</td>\n      <td>1320.748876</td>\n      <td>1312.688904</td>\n      <td>1605.110565</td>\n      <td>2057.760742</td>\n      <td>4299.308415</td>\n      <td>3170.565116</td>\n      <td>1890.610805</td>\n    </tr>\n    <tr>\n      <th>2017-08-29</th>\n      <td>2739.120250</td>\n      <td>2138.602295</td>\n      <td>2415.138199</td>\n      <td>4895.346499</td>\n      <td>2302.121827</td>\n      <td>4017.549378</td>\n      <td>2823.731748</td>\n      <td>4893.563084</td>\n      <td>5041.218516</td>\n      <td>4716.991717</td>\n      <td>...</td>\n      <td>2730.279701</td>\n      <td>3447.097181</td>\n      <td>2996.653033</td>\n      <td>2771.469867</td>\n      <td>2763.100360</td>\n      <td>3310.231054</td>\n      <td>2810.994603</td>\n      <td>8720.174141</td>\n      <td>3424.064746</td>\n      <td>2448.060622</td>\n    </tr>\n    <tr>\n      <th>2017-08-30</th>\n      <td>3723.416006</td>\n      <td>3200.592041</td>\n      <td>3753.177438</td>\n      <td>4926.101179</td>\n      <td>3380.322568</td>\n      <td>4897.027607</td>\n      <td>3838.677490</td>\n      <td>5323.136496</td>\n      <td>4522.646008</td>\n      <td>3426.132761</td>\n      <td>...</td>\n      <td>2681.116773</td>\n      <td>3611.890049</td>\n      <td>2708.673709</td>\n      <td>2786.954603</td>\n      <td>2959.573164</td>\n      <td>3800.254269</td>\n      <td>2918.898101</td>\n      <td>2594.399698</td>\n      <td>2044.223993</td>\n      <td>2425.956068</td>\n    </tr>\n    <tr>\n      <th>2017-08-31</th>\n      <td>3949.117883</td>\n      <td>3955.884033</td>\n      <td>3432.220680</td>\n      <td>5289.587730</td>\n      <td>4097.888804</td>\n      <td>4827.083486</td>\n      <td>4253.094478</td>\n      <td>3796.278992</td>\n      <td>5365.513052</td>\n      <td>4245.979387</td>\n      <td>...</td>\n      <td>2532.013830</td>\n      <td>3832.052673</td>\n      <td>3279.080388</td>\n      <td>2591.490215</td>\n      <td>2595.226755</td>\n      <td>2592.544325</td>\n      <td>2418.676848</td>\n      <td>2798.147746</td>\n      <td>2845.082201</td>\n      <td>2325.653244</td>\n    </tr>\n  </tbody>\n</table>\n<p>16 rows × 1782 columns</p>\n</div>"
     },
     "execution_count": 16,
     "metadata": {},
     "output_type": "execute_result"
    }
   ],
   "source": [
    "\n",
    "# Create features for test set\n",
    "X_test_1 = dp.out_of_sample(steps=test_days)\n",
    "X_test_1.index.name = 'date'\n",
    "\n",
    "X_test_1 = X_test_1.join(X_holidays, on='date', how='left').fillna(0.0)\n",
    "\n",
    "X_test_2 = test[['onpromotion']]\n",
    "\n",
    "new_index = pd.period_range(start=y.index[0], end=y.index[-1] + pd.Timedelta(days=lag_days), freq='D', name='date')\n",
    "\n",
    "X_new = make_lags(y.reindex(new_index), test_days)#.stack().stack()\n",
    "\n",
    "X_test_2 = X_test_2.join(X_new, how='left')\n",
    "X_test_2\n",
    "\n",
    "# Label encoding for 'store_nbr'\n",
    "le_store_nbr = LabelEncoder()  # from sklearn.preprocessing\n",
    "X_test_2 = X_test_2.reset_index('store_nbr')\n",
    "X_test_2['store_nbr'] = le_store_nbr.fit_transform(X_test_2['store_nbr'])\n",
    "\n",
    "# Label encoding for 'family'\n",
    "le_family = LabelEncoder()  # from sklearn.preprocessing\n",
    "X_test_2 = X_test_2.reset_index('family')\n",
    "X_test_2['family'] = le_family.fit_transform(X_test_2['family'])\n",
    "\n",
    "# Label encoding for seasonality\n",
    "X_test_2[\"day\"] = X_test_2.index.day  # values are day of the month\n",
    "X_test_2\n",
    "\n",
    "y_pred = model.predict_w_lag(X_test_1, X_test_2.copy(), test_days, le_store_nbr, le_family)\n",
    "# y_pred = y_pred.clip(0.0)\n",
    "y_pred\n",
    "# # y_submit = pd.DataFrame(y_submit, index=y_submit.index, columns=y_submit.columns)\n",
    "# y_submit = y_pred.stack(['store_nbr', 'family']).to_frame()\n",
    "# # y_submit = y_submit.stack()\n",
    "# y_submit.rename(columns={0: 'sales'}, inplace=True)\n",
    "# # y_submit = y_submit.reorder_levels(['store_nbr', 'family', 'date'])\n",
    "# y_submit = y_submit.join(test.id).reindex(columns=['id', 'sales'])\n",
    "# # y_submit.to_csv('submission.csv', index=False)\n",
    "# y_submit\n"
   ],
   "metadata": {
    "collapsed": false,
    "ExecuteTime": {
     "end_time": "2023-12-02T22:24:37.480619Z",
     "start_time": "2023-12-02T22:24:35.969200Z"
    }
   },
   "id": "490a1754f326f5d6"
  },
  {
   "cell_type": "code",
   "execution_count": 17,
   "outputs": [
    {
     "data": {
      "text/plain": "<Figure size 1100x300 with 2 Axes>",
      "image/png": "[encoded data removed]"
     },
     "metadata": {
      "image/png": {
       "width": 1090,
       "height": 289
      }
     },
     "output_type": "display_data"
    }
   ],
   "source": [
    "y_unstack = y.loc(axis=1)['sales']\n",
    "\n",
    "y_fit_unstack = y_fit #.loc(axis=1)['sales'].unstack(['store_nbr', 'family'])\n",
    "\n",
    "store_families = y_pred.columns[33:35:1]\n",
    "\n",
    "axs = y_unstack.loc(axis=1)[store_families].plot(\n",
    "    subplots=True, sharex=True, figsize=(11, 3), **plot_params, alpha=0.5,\n",
    ")\n",
    "_ = y_fit_unstack.loc(axis=1)[store_families].plot(subplots=True, sharex=True, color='C0', ax=axs)\n",
    "_ = y_pred.loc(axis=1)[store_families].plot(subplots=True, sharex=True, color='C3', ax=axs)\n",
    "for ax, family in zip(axs, store_families):\n",
    "    ax.legend([])\n",
    "    ax.set_ylabel(family)"
   ],
   "metadata": {
    "collapsed": false,
    "ExecuteTime": {
     "end_time": "2023-12-02T22:24:40.576682Z",
     "start_time": "2023-12-02T22:24:40.094216Z"
    }
   },
   "id": "2dd24b273a3aca24"
  },
  {
   "cell_type": "code",
   "execution_count": 13,
   "outputs": [
    {
     "data": {
      "text/plain": "date        family      store_nbr\n2016-01-01  AUTOMOTIVE  1            -0.669320\n                        10           -0.647115\n                        11            0.000000\n                        12            0.000000\n                        13            0.000000\n                                       ...    \n2017-08-15  SEAFOOD     54            0.201065\n                        6            11.698191\n                        7             3.308549\n                        8            -8.831378\n                        9             1.440042\nName: sales, Length: 1054944, dtype: float64"
     },
     "execution_count": 13,
     "metadata": {},
     "output_type": "execute_result"
    }
   ],
   "source": [
    "model_1 = LinearRegression()\n",
    "model_1.fit(X_1, y)\n",
    "\n",
    "y_pred = pd.DataFrame(\n",
    "            model_1.predict(X_1),\n",
    "            index=X_1.index, columns=y.columns,\n",
    "        )\n",
    "\n",
    "# y_pred.clip(0.0)\n",
    "\n",
    "model_2 = XGBRegressor(n_estimators=100)\n",
    "# clip model_1 so model_2 does not have to correct...\n",
    "y_resid = y - y_pred.clip(0.0)\n",
    "y_resid = y_resid.stack().stack().squeeze() # wide to long\n",
    "# model_2.fit(X_2, y_resid)\n",
    "y_resid"
   ],
   "metadata": {
    "collapsed": false,
    "ExecuteTime": {
     "end_time": "2023-12-02T22:23:13.554466Z",
     "start_time": "2023-12-02T22:23:13.426193Z"
    }
   },
   "id": "7836374da49134ee"
  },
  {
   "cell_type": "code",
   "execution_count": 14,
   "outputs": [
    {
     "data": {
      "text/plain": "            family  store_nbr  onpromotion  sales_lag_1  sales_lag_2  \\\ndate                                                                   \n2016-01-01       0          0            0     0.000000     0.000000   \n2016-01-01       0          1            0     0.000000     0.000000   \n2016-01-01       0          2            0     0.000000     0.000000   \n2016-01-01       0          3            0     0.000000     0.000000   \n2016-01-01       0          4            0     0.000000     0.000000   \n...            ...        ...          ...          ...          ...   \n2017-08-15      32         49            0     0.000000     2.000000   \n2017-08-15      32         50            0    37.879002    58.470001   \n2017-08-15      32         51            0    47.977001    33.647999   \n2017-08-15      32         52            0    33.252998    35.257999   \n2017-08-15      32         53            0    17.000000    20.000000   \n\n            sales_lag_3  sales_lag_4  sales_lag_5  sales_lag_6  sales_lag_7  \\\ndate                                                                          \n2016-01-01     0.000000     0.000000     0.000000     0.000000     0.000000   \n2016-01-01     0.000000     0.000000     0.000000     0.000000     0.000000   \n2016-01-01     0.000000     0.000000     0.000000     0.000000     0.000000   \n2016-01-01     0.000000     0.000000     0.000000     0.000000     0.000000   \n2016-01-01     0.000000     0.000000     0.000000     0.000000     0.000000   \n...                 ...          ...          ...          ...          ...   \n2017-08-15     1.000000     0.000000     2.000000     4.000000    12.000000   \n2017-08-15    35.029999    52.797001    18.448999    30.630001    30.243999   \n2017-08-15    42.545002    40.477001    32.756001    48.764999    54.424000   \n2017-08-15    25.243999    48.734001    29.789000    35.360001    28.035000   \n2017-08-15    16.859001    23.830999    14.350000    17.601999    15.677999   \n\n            sales_lag_8  sales_lag_9  sales_lag_10  sales_lag_11  \\\ndate                                                               \n2016-01-01     0.000000     0.000000      0.000000         0.000   \n2016-01-01     0.000000     0.000000      0.000000         0.000   \n2016-01-01     0.000000     0.000000      0.000000         0.000   \n2016-01-01     0.000000     0.000000      0.000000         0.000   \n2016-01-01     0.000000     0.000000      0.000000         0.000   \n...                 ...          ...           ...           ...   \n2017-08-15     0.000000     0.000000      3.000000         0.000   \n2017-08-15    36.591999    50.847000     49.216999        48.541   \n2017-08-15    39.996002    28.841999     41.153000        65.166   \n2017-08-15    47.340000    26.063000     50.327999        70.834   \n2017-08-15    23.632999    25.008999     16.598000        13.000   \n\n            sales_lag_12  sales_lag_13  sales_lag_14  sales_lag_15  \\\ndate                                                                 \n2016-01-01      0.000000      0.000000      0.000000      0.000000   \n2016-01-01      0.000000      0.000000      0.000000      0.000000   \n2016-01-01      0.000000      0.000000      0.000000      0.000000   \n2016-01-01      0.000000      0.000000      0.000000      0.000000   \n2016-01-01      0.000000      0.000000      0.000000      0.000000   \n...                  ...           ...           ...           ...   \n2017-08-15      5.000000      3.000000      3.000000      4.000000   \n2017-08-15     20.579000     47.934002     32.584000     37.934002   \n2017-08-15     27.581001     49.229000     40.718998     45.745998   \n2017-08-15     30.152000     53.205002     30.982000     52.939999   \n2017-08-15     21.778000     24.688999     19.316000     12.000000   \n\n            sales_lag_16  day  \ndate                           \n2016-01-01      0.000000    1  \n2016-01-01      0.000000    1  \n2016-01-01      0.000000    1  \n2016-01-01      0.000000    1  \n2016-01-01      0.000000    1  \n...                  ...  ...  \n2017-08-15      4.000000   15  \n2017-08-15     47.982998   15  \n2017-08-15     42.139999   15  \n2017-08-15     47.380001   15  \n2017-08-15     19.909000   15  \n\n[1054944 rows x 20 columns]",
      "text/html": "<div>\n<style scoped>\n    .dataframe tbody tr th:only-of-type {\n        vertical-align: middle;\n    }\n\n    .dataframe tbody tr th {\n        vertical-align: top;\n    }\n\n    .dataframe thead th {\n        text-align: right;\n    }\n</style>\n<table border=\"1\" class=\"dataframe\">\n  <thead>\n    <tr style=\"text-align: right;\">\n      <th></th>\n      <th>family</th>\n      <th>store_nbr</th>\n      <th>onpromotion</th>\n      <th>sales_lag_1</th>\n      <th>sales_lag_2</th>\n      <th>sales_lag_3</th>\n      <th>sales_lag_4</th>\n      <th>sales_lag_5</th>\n      <th>sales_lag_6</th>\n      <th>sales_lag_7</th>\n      <th>sales_lag_8</th>\n      <th>sales_lag_9</th>\n      <th>sales_lag_10</th>\n      <th>sales_lag_11</th>\n      <th>sales_lag_12</th>\n      <th>sales_lag_13</th>\n      <th>sales_lag_14</th>\n      <th>sales_lag_15</th>\n      <th>sales_lag_16</th>\n      <th>day</th>\n    </tr>\n    <tr>\n      <th>date</th>\n      <th></th>\n      <th></th>\n      <th></th>\n      <th></th>\n      <th></th>\n      <th></th>\n      <th></th>\n      <th></th>\n      <th></th>\n      <th></th>\n      <th></th>\n      <th></th>\n      <th></th>\n      <th></th>\n      <th></th>\n      <th></th>\n      <th></th>\n      <th></th>\n      <th></th>\n      <th></th>\n    </tr>\n  </thead>\n  <tbody>\n    <tr>\n      <th>2016-01-01</th>\n      <td>0</td>\n      <td>0</td>\n      <td>0</td>\n      <td>0.000000</td>\n      <td>0.000000</td>\n      <td>0.000000</td>\n      <td>0.000000</td>\n      <td>0.000000</td>\n      <td>0.000000</td>\n      <td>0.000000</td>\n      <td>0.000000</td>\n      <td>0.000000</td>\n      <td>0.000000</td>\n      <td>0.000</td>\n      <td>0.000000</td>\n      <td>0.000000</td>\n      <td>0.000000</td>\n      <td>0.000000</td>\n      <td>0.000000</td>\n      <td>1</td>\n    </tr>\n    <tr>\n      <th>2016-01-01</th>\n      <td>0</td>\n      <td>1</td>\n      <td>0</td>\n      <td>0.000000</td>\n      <td>0.000000</td>\n      <td>0.000000</td>\n      <td>0.000000</td>\n      <td>0.000000</td>\n      <td>0.000000</td>\n      <td>0.000000</td>\n      <td>0.000000</td>\n      <td>0.000000</td>\n      <td>0.000000</td>\n      <td>0.000</td>\n      <td>0.000000</td>\n      <td>0.000000</td>\n      <td>0.000000</td>\n      <td>0.000000</td>\n      <td>0.000000</td>\n      <td>1</td>\n    </tr>\n    <tr>\n      <th>2016-01-01</th>\n      <td>0</td>\n      <td>2</td>\n      <td>0</td>\n      <td>0.000000</td>\n      <td>0.000000</td>\n      <td>0.000000</td>\n      <td>0.000000</td>\n      <td>0.000000</td>\n      <td>0.000000</td>\n      <td>0.000000</td>\n      <td>0.000000</td>\n      <td>0.000000</td>\n      <td>0.000000</td>\n      <td>0.000</td>\n      <td>0.000000</td>\n      <td>0.000000</td>\n      <td>0.000000</td>\n      <td>0.000000</td>\n      <td>0.000000</td>\n      <td>1</td>\n    </tr>\n    <tr>\n      <th>2016-01-01</th>\n      <td>0</td>\n      <td>3</td>\n      <td>0</td>\n      <td>0.000000</td>\n      <td>0.000000</td>\n      <td>0.000000</td>\n      <td>0.000000</td>\n      <td>0.000000</td>\n      <td>0.000000</td>\n      <td>0.000000</td>\n      <td>0.000000</td>\n      <td>0.000000</td>\n      <td>0.000000</td>\n      <td>0.000</td>\n      <td>0.000000</td>\n      <td>0.000000</td>\n      <td>0.000000</td>\n      <td>0.000000</td>\n      <td>0.000000</td>\n      <td>1</td>\n    </tr>\n    <tr>\n      <th>2016-01-01</th>\n      <td>0</td>\n      <td>4</td>\n      <td>0</td>\n      <td>0.000000</td>\n      <td>0.000000</td>\n      <td>0.000000</td>\n      <td>0.000000</td>\n      <td>0.000000</td>\n      <td>0.000000</td>\n      <td>0.000000</td>\n      <td>0.000000</td>\n      <td>0.000000</td>\n      <td>0.000000</td>\n      <td>0.000</td>\n      <td>0.000000</td>\n      <td>0.000000</td>\n      <td>0.000000</td>\n      <td>0.000000</td>\n      <td>0.000000</td>\n      <td>1</td>\n    </tr>\n    <tr>\n      <th>...</th>\n      <td>...</td>\n      <td>...</td>\n      <td>...</td>\n      <td>...</td>\n      <td>...</td>\n      <td>...</td>\n      <td>...</td>\n      <td>...</td>\n      <td>...</td>\n      <td>...</td>\n      <td>...</td>\n      <td>...</td>\n      <td>...</td>\n      <td>...</td>\n      <td>...</td>\n      <td>...</td>\n      <td>...</td>\n      <td>...</td>\n      <td>...</td>\n      <td>...</td>\n    </tr>\n    <tr>\n      <th>2017-08-15</th>\n      <td>32</td>\n      <td>49</td>\n      <td>0</td>\n      <td>0.000000</td>\n      <td>2.000000</td>\n      <td>1.000000</td>\n      <td>0.000000</td>\n      <td>2.000000</td>\n      <td>4.000000</td>\n      <td>12.000000</td>\n      <td>0.000000</td>\n      <td>0.000000</td>\n      <td>3.000000</td>\n      <td>0.000</td>\n      <td>5.000000</td>\n      <td>3.000000</td>\n      <td>3.000000</td>\n      <td>4.000000</td>\n      <td>4.000000</td>\n      <td>15</td>\n    </tr>\n    <tr>\n      <th>2017-08-15</th>\n      <td>32</td>\n      <td>50</td>\n      <td>0</td>\n      <td>37.879002</td>\n      <td>58.470001</td>\n      <td>35.029999</td>\n      <td>52.797001</td>\n      <td>18.448999</td>\n      <td>30.630001</td>\n      <td>30.243999</td>\n      <td>36.591999</td>\n      <td>50.847000</td>\n      <td>49.216999</td>\n      <td>48.541</td>\n      <td>20.579000</td>\n      <td>47.934002</td>\n      <td>32.584000</td>\n      <td>37.934002</td>\n      <td>47.982998</td>\n      <td>15</td>\n    </tr>\n    <tr>\n      <th>2017-08-15</th>\n      <td>32</td>\n      <td>51</td>\n      <td>0</td>\n      <td>47.977001</td>\n      <td>33.647999</td>\n      <td>42.545002</td>\n      <td>40.477001</td>\n      <td>32.756001</td>\n      <td>48.764999</td>\n      <td>54.424000</td>\n      <td>39.996002</td>\n      <td>28.841999</td>\n      <td>41.153000</td>\n      <td>65.166</td>\n      <td>27.581001</td>\n      <td>49.229000</td>\n      <td>40.718998</td>\n      <td>45.745998</td>\n      <td>42.139999</td>\n      <td>15</td>\n    </tr>\n    <tr>\n      <th>2017-08-15</th>\n      <td>32</td>\n      <td>52</td>\n      <td>0</td>\n      <td>33.252998</td>\n      <td>35.257999</td>\n      <td>25.243999</td>\n      <td>48.734001</td>\n      <td>29.789000</td>\n      <td>35.360001</td>\n      <td>28.035000</td>\n      <td>47.340000</td>\n      <td>26.063000</td>\n      <td>50.327999</td>\n      <td>70.834</td>\n      <td>30.152000</td>\n      <td>53.205002</td>\n      <td>30.982000</td>\n      <td>52.939999</td>\n      <td>47.380001</td>\n      <td>15</td>\n    </tr>\n    <tr>\n      <th>2017-08-15</th>\n      <td>32</td>\n      <td>53</td>\n      <td>0</td>\n      <td>17.000000</td>\n      <td>20.000000</td>\n      <td>16.859001</td>\n      <td>23.830999</td>\n      <td>14.350000</td>\n      <td>17.601999</td>\n      <td>15.677999</td>\n      <td>23.632999</td>\n      <td>25.008999</td>\n      <td>16.598000</td>\n      <td>13.000</td>\n      <td>21.778000</td>\n      <td>24.688999</td>\n      <td>19.316000</td>\n      <td>12.000000</td>\n      <td>19.909000</td>\n      <td>15</td>\n    </tr>\n  </tbody>\n</table>\n<p>1054944 rows × 20 columns</p>\n</div>"
     },
     "execution_count": 14,
     "metadata": {},
     "output_type": "execute_result"
    }
   ],
   "source": [
    "X_2"
   ],
   "metadata": {
    "collapsed": false,
    "ExecuteTime": {
     "end_time": "2023-12-02T22:23:27.569309Z",
     "start_time": "2023-12-02T22:23:27.544379Z"
    }
   },
   "id": "2e819104eae0d55"
  },
  {
   "cell_type": "code",
   "execution_count": null,
   "outputs": [],
   "source": [],
   "metadata": {
    "collapsed": false
   },
   "id": "f115f610c8c7eaa5"
  }
 ],
 "metadata": {
  "kernelspec": {
   "display_name": "Python 3",
   "language": "python",
   "name": "python3"
  },
  "language_info": {
   "codemirror_mode": {
    "name": "ipython",
    "version": 2
   },
   "file_extension": ".py",
   "mimetype": "text/x-python",
   "name": "python",
   "nbconvert_exporter": "python",
   "pygments_lexer": "ipython2",
   "version": "2.7.6"
  }
 },
 "nbformat": 4,
 "nbformat_minor": 5
}
